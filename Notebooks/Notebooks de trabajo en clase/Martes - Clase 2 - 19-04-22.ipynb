{
  "nbformat": 4,
  "nbformat_minor": 0,
  "metadata": {
    "colab": {
      "name": "Clase 2.ipynb",
      "provenance": []
    },
    "kernelspec": {
      "name": "python3",
      "display_name": "Python 3"
    },
    "language_info": {
      "name": "python"
    }
  },
  "cells": [
    {
      "cell_type": "markdown",
      "source": [
        "# Clase 2\n",
        "\n",
        "Hoy vamos a seguir con los tipos de datos que vimos la clase pasada y vamos a ver algunas estructuras mas complejas."
      ],
      "metadata": {
        "id": "41Gt61PwLpws"
      }
    },
    {
      "cell_type": "code",
      "source": [
        "\"hola\""
      ],
      "metadata": {
        "colab": {
          "base_uri": "https://localhost:8080/",
          "height": 35
        },
        "id": "bdnKljfiL0hB",
        "outputId": "8ad8e80d-9619-4f6f-abd1-f8dd46778ed7"
      },
      "execution_count": null,
      "outputs": [
        {
          "output_type": "execute_result",
          "data": {
            "text/plain": [
              "'hola'"
            ],
            "application/vnd.google.colaboratory.intrinsic+json": {
              "type": "string"
            }
          },
          "metadata": {},
          "execution_count": 1
        }
      ]
    },
    {
      "cell_type": "code",
      "source": [
        "3.5"
      ],
      "metadata": {
        "colab": {
          "base_uri": "https://localhost:8080/"
        },
        "id": "Ngmz0CpGL7pO",
        "outputId": "6681df2e-f1a1-4e80-c59c-d2a83803d318"
      },
      "execution_count": null,
      "outputs": [
        {
          "output_type": "execute_result",
          "data": {
            "text/plain": [
              "3.5"
            ]
          },
          "metadata": {},
          "execution_count": 4
        }
      ]
    },
    {
      "cell_type": "code",
      "source": [
        "type(\"Hola\")"
      ],
      "metadata": {
        "colab": {
          "base_uri": "https://localhost:8080/"
        },
        "id": "tuetDLxgMKoN",
        "outputId": "8383097d-82a4-4269-fa59-b0d500438f4d"
      },
      "execution_count": null,
      "outputs": [
        {
          "output_type": "execute_result",
          "data": {
            "text/plain": [
              "str"
            ]
          },
          "metadata": {},
          "execution_count": 5
        }
      ]
    },
    {
      "cell_type": "code",
      "source": [
        "type(3)"
      ],
      "metadata": {
        "colab": {
          "base_uri": "https://localhost:8080/"
        },
        "id": "KHkoI6mjMTZk",
        "outputId": "8a982828-9cfe-490d-e9ce-0391ddc28a7c"
      },
      "execution_count": null,
      "outputs": [
        {
          "output_type": "execute_result",
          "data": {
            "text/plain": [
              "int"
            ]
          },
          "metadata": {},
          "execution_count": 6
        }
      ]
    },
    {
      "cell_type": "code",
      "source": [
        "type(3.0)"
      ],
      "metadata": {
        "colab": {
          "base_uri": "https://localhost:8080/"
        },
        "id": "f09B_eD7MaSE",
        "outputId": "ace5ee5b-33ee-4888-a26b-1b64893fe9d5"
      },
      "execution_count": null,
      "outputs": [
        {
          "output_type": "execute_result",
          "data": {
            "text/plain": [
              "float"
            ]
          },
          "metadata": {},
          "execution_count": 7
        }
      ]
    },
    {
      "cell_type": "code",
      "source": [
        "mivariable = 3"
      ],
      "metadata": {
        "id": "G83tJ9QaMhe_"
      },
      "execution_count": null,
      "outputs": []
    },
    {
      "cell_type": "code",
      "source": [
        "mivariable == 3"
      ],
      "metadata": {
        "colab": {
          "base_uri": "https://localhost:8080/"
        },
        "id": "-Jaf-FwEMqRy",
        "outputId": "e7702d38-2cf7-4d55-eb45-285a748b13c8"
      },
      "execution_count": null,
      "outputs": [
        {
          "output_type": "execute_result",
          "data": {
            "text/plain": [
              "True"
            ]
          },
          "metadata": {},
          "execution_count": 11
        }
      ]
    },
    {
      "cell_type": "code",
      "source": [
        "3 == 3.0"
      ],
      "metadata": {
        "colab": {
          "base_uri": "https://localhost:8080/"
        },
        "id": "w0pw6-PxM99q",
        "outputId": "1ad378a2-a9fa-4c54-ec7c-c88f32aa2e0c"
      },
      "execution_count": null,
      "outputs": [
        {
          "output_type": "execute_result",
          "data": {
            "text/plain": [
              "True"
            ]
          },
          "metadata": {},
          "execution_count": 12
        }
      ]
    },
    {
      "cell_type": "code",
      "source": [
        "type (3 == 3)"
      ],
      "metadata": {
        "colab": {
          "base_uri": "https://localhost:8080/"
        },
        "id": "qZYAtts1NTYX",
        "outputId": "25e373cf-ebc7-46de-d453-641a64971d53"
      },
      "execution_count": null,
      "outputs": [
        {
          "output_type": "execute_result",
          "data": {
            "text/plain": [
              "bool"
            ]
          },
          "metadata": {},
          "execution_count": 15
        }
      ]
    },
    {
      "cell_type": "code",
      "source": [
        "3 is 3.0"
      ],
      "metadata": {
        "colab": {
          "base_uri": "https://localhost:8080/"
        },
        "id": "q1TJyhAyNH6G",
        "outputId": "fa1c572b-76e6-43a2-ce0d-cea831aae059"
      },
      "execution_count": null,
      "outputs": [
        {
          "output_type": "execute_result",
          "data": {
            "text/plain": [
              "False"
            ]
          },
          "metadata": {},
          "execution_count": 14
        }
      ]
    },
    {
      "cell_type": "code",
      "source": [
        "\"hola\"[3]"
      ],
      "metadata": {
        "colab": {
          "base_uri": "https://localhost:8080/",
          "height": 35
        },
        "id": "fYnz6OLGNbao",
        "outputId": "22f21ae5-cd80-49dc-a638-fc85921223af"
      },
      "execution_count": null,
      "outputs": [
        {
          "output_type": "execute_result",
          "data": {
            "text/plain": [
              "'a'"
            ],
            "application/vnd.google.colaboratory.intrinsic+json": {
              "type": "string"
            }
          },
          "metadata": {},
          "execution_count": 20
        }
      ]
    },
    {
      "cell_type": "code",
      "source": [
        "nombres= [\"Alexis\", \"María\", \"Sebastian\", 3]\n",
        "type(nombres)"
      ],
      "metadata": {
        "colab": {
          "base_uri": "https://localhost:8080/"
        },
        "id": "TSPyNgFmNzvq",
        "outputId": "f8bc6fb8-0dc8-4ed0-c1df-0e2de9209018"
      },
      "execution_count": null,
      "outputs": [
        {
          "output_type": "execute_result",
          "data": {
            "text/plain": [
              "list"
            ]
          },
          "metadata": {},
          "execution_count": 23
        }
      ]
    },
    {
      "cell_type": "code",
      "source": [
        "nombres[2]"
      ],
      "metadata": {
        "colab": {
          "base_uri": "https://localhost:8080/",
          "height": 35
        },
        "id": "4RE0LEkMOJRh",
        "outputId": "33775fcd-10a0-404d-d519-4937ea3f77ef"
      },
      "execution_count": null,
      "outputs": [
        {
          "output_type": "execute_result",
          "data": {
            "text/plain": [
              "'Sebastian'"
            ],
            "application/vnd.google.colaboratory.intrinsic+json": {
              "type": "string"
            }
          },
          "metadata": {},
          "execution_count": 24
        }
      ]
    },
    {
      "cell_type": "code",
      "source": [
        "nombres.clear()"
      ],
      "metadata": {
        "id": "QYttiUa-ORON"
      },
      "execution_count": null,
      "outputs": []
    },
    {
      "cell_type": "code",
      "source": [
        "nombres"
      ],
      "metadata": {
        "colab": {
          "base_uri": "https://localhost:8080/"
        },
        "id": "oc0hbdKsOeZx",
        "outputId": "a0a52a8d-29f8-4226-c9f3-e1c0eae284e1"
      },
      "execution_count": null,
      "outputs": [
        {
          "output_type": "execute_result",
          "data": {
            "text/plain": [
              "[]"
            ]
          },
          "metadata": {},
          "execution_count": 26
        }
      ]
    },
    {
      "cell_type": "code",
      "source": [
        "nombres= [\"Alexis\", \"María\", \"Sebastian\", 3]\n",
        "cosa_que_saque = nombres.pop()\n",
        "print (nombres)\n",
        "nombres[0] = \"Ioni\"\n",
        "print (nombres)"
      ],
      "metadata": {
        "colab": {
          "base_uri": "https://localhost:8080/"
        },
        "id": "6wbTu-TtOik8",
        "outputId": "46e3cbec-3bd7-4de6-a0f0-13383e88aa02"
      },
      "execution_count": null,
      "outputs": [
        {
          "output_type": "stream",
          "name": "stdout",
          "text": [
            "['Alexis', 'María', 'Sebastian']\n",
            "['Ioni', 'María', 'Sebastian']\n"
          ]
        }
      ]
    },
    {
      "cell_type": "code",
      "source": [
        "nombres_inmutables = (\"Alexis\", \"Maria\", \"Sebastian\", 3)\n",
        "nombres_inmutables[0] = \"Ioni\""
      ],
      "metadata": {
        "colab": {
          "base_uri": "https://localhost:8080/",
          "height": 186
        },
        "id": "5kbzVnHvPSha",
        "outputId": "300b7dc0-3e69-491a-e3f8-748f73659eee"
      },
      "execution_count": null,
      "outputs": [
        {
          "output_type": "error",
          "ename": "TypeError",
          "evalue": "ignored",
          "traceback": [
            "\u001b[0;31m---------------------------------------------------------------------------\u001b[0m",
            "\u001b[0;31mTypeError\u001b[0m                                 Traceback (most recent call last)",
            "\u001b[0;32m<ipython-input-38-4650a9ceb48c>\u001b[0m in \u001b[0;36m<module>\u001b[0;34m()\u001b[0m\n\u001b[1;32m      1\u001b[0m \u001b[0mnombres_inmutables\u001b[0m \u001b[0;34m=\u001b[0m \u001b[0;34m(\u001b[0m\u001b[0;34m\"Alexis\"\u001b[0m\u001b[0;34m,\u001b[0m \u001b[0;34m\"Maria\"\u001b[0m\u001b[0;34m,\u001b[0m \u001b[0;34m\"Sebastian\"\u001b[0m\u001b[0;34m,\u001b[0m \u001b[0;36m3\u001b[0m\u001b[0;34m)\u001b[0m\u001b[0;34m\u001b[0m\u001b[0;34m\u001b[0m\u001b[0m\n\u001b[0;32m----> 2\u001b[0;31m \u001b[0mnombres_inmutables\u001b[0m\u001b[0;34m[\u001b[0m\u001b[0;36m0\u001b[0m\u001b[0;34m]\u001b[0m \u001b[0;34m=\u001b[0m \u001b[0;34m\"Ioni\"\u001b[0m\u001b[0;34m\u001b[0m\u001b[0;34m\u001b[0m\u001b[0m\n\u001b[0m",
            "\u001b[0;31mTypeError\u001b[0m: 'tuple' object does not support item assignment"
          ]
        }
      ]
    },
    {
      "cell_type": "code",
      "source": [
        "persona = {\"Nombre\" : \"Alexis\", \n",
        "           \"Edad\": 18, \n",
        "           \"Cursos\": [\"Ciencia de datos\",\"Diseño web 1\"]}\n",
        "for value in persona.values():\n",
        "  if type(value) == list:\n",
        "    for x in value:\n",
        "      print (x)\n",
        "  else:\n",
        "    print (value)"
      ],
      "metadata": {
        "colab": {
          "base_uri": "https://localhost:8080/"
        },
        "id": "eLEc82SXP_0c",
        "outputId": "f14a710b-9fa2-46d8-c4a5-a9bd3efbfdb2"
      },
      "execution_count": null,
      "outputs": [
        {
          "output_type": "stream",
          "name": "stdout",
          "text": [
            "Alexis\n",
            "18\n",
            "Ciencia de datos\n",
            "Diseño web 1\n"
          ]
        }
      ]
    },
    {
      "cell_type": "code",
      "source": [
        "persona = {\"Nombre\" : \"Alexis\", \n",
        "           \"Edad\": 18, \n",
        "           \"Cursos\": [\"Ciencia de datos\",\"Diseño web 1\"]}\n",
        "for value in persona.values():\n",
        "  print (value)"
      ],
      "metadata": {
        "colab": {
          "base_uri": "https://localhost:8080/"
        },
        "id": "oUt8IsT6RYJ3",
        "outputId": "240f9788-b884-437e-806f-0df2b28beb02"
      },
      "execution_count": null,
      "outputs": [
        {
          "output_type": "stream",
          "name": "stdout",
          "text": [
            "Alexis\n",
            "18\n",
            "['Ciencia de datos', 'Diseño web 1']\n"
          ]
        }
      ]
    },
    {
      "cell_type": "code",
      "source": [
        "persona[\"Fecha de nacimiento\"] = \"9 de junio 2003\""
      ],
      "metadata": {
        "id": "Iu36VSNTRtns"
      },
      "execution_count": null,
      "outputs": []
    },
    {
      "cell_type": "code",
      "source": [
        "persona"
      ],
      "metadata": {
        "colab": {
          "base_uri": "https://localhost:8080/"
        },
        "id": "dvoyJ2HOR4aF",
        "outputId": "d6c1d52f-1fcf-43e4-83a7-1b9615f7e8f0"
      },
      "execution_count": null,
      "outputs": [
        {
          "output_type": "execute_result",
          "data": {
            "text/plain": [
              "{'Cursos': ['Ciencia de datos', 'Diseño web 1'],\n",
              " 'Edad': 18,\n",
              " 'Fecha de nacimiento': '9 de junio 2003',\n",
              " 'Nombre': 'Alexis'}"
            ]
          },
          "metadata": {},
          "execution_count": 54
        }
      ]
    },
    {
      "cell_type": "markdown",
      "source": [
        "# Tarea\n",
        "\n",
        "Hacer en una notebook nueva los siguientes ejercicios:\n",
        "\n",
        "1. Crea dos variables con valores enteros y luego imprime los resultados de su suma, resta, multiplicación y división.\n",
        "\n",
        "2. Crea dos listas con 3 nombres cada una llamadas *grupo1* y *grupo2*.\n",
        "\n",
        "3. Crea una tercera lista llamada *grupo3* con los últimos nombres de cada una de las listas *grupo1* y *grupo2* y elimina esos nombres de las listas originales.\n",
        "\n",
        "4. Crea una lista llamada *todos* con todos los nombres de las listas. \n",
        "\n",
        "5. Crea un diccionario que tenga 3 pares de clave valor con países y capitales.\n",
        "\n",
        "6. Hace un print de los nombres de lo países.\n",
        "\n",
        "7. Mostrá los nombres de las capitales\n",
        "\n",
        "8. Agrega una par de país-capital"
      ],
      "metadata": {
        "id": "QbBKUr-ETi3G"
      }
    },
    {
      "cell_type": "markdown",
      "source": [
        "# Optativos\n",
        "\n",
        "1. Armar una lista con 6 ciudades\n",
        "\n",
        "2. Seleccionar la segunda ciudad\n",
        "\n",
        "3. Eliminar la última ciudad\n",
        "\n",
        "4. Reemplazar la primer ciudad con otra\n",
        "\n",
        "5. Agregar una ciudad al final\n",
        "\n",
        "6. Armar un diccionario que tenga 3 duplas de Provincia y Ciudad (ej: \"Provincia de Buenos Aires: La Plata\"\n",
        "\n",
        "7. Eliminar el último registro (dupla Ciudad-Provincia)\n",
        "\n",
        "8. Ver todas las claves (*keys*)"
      ],
      "metadata": {
        "id": "8l-qT0-OT9mx"
      }
    }
  ]
}