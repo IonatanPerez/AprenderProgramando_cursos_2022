{
  "nbformat": 4,
  "nbformat_minor": 0,
  "metadata": {
    "colab": {
      "name": "Clase1.ipynb",
      "provenance": [],
      "collapsed_sections": []
    },
    "kernelspec": {
      "name": "python3",
      "display_name": "Python 3"
    },
    "language_info": {
      "name": "python"
    }
  },
  "cells": [
    {
      "cell_type": "markdown",
      "source": [
        "# Intro\n",
        "\n",
        "Esto es una **presentacion** a la clase. Lo primero que estamos viendo es que se puede agregar celda que sean de codigo o de texto. Esta es una celda de texto.\n",
        "\n",
        "En las celdas de texto (que en google colab se agregan con el boton + que hay arriba) se puede dar formato a al texto (algunas cosas basicas). En [este link](https://www.argentina.gob.ar/contenidosdigitales/markdown) tenemos como darle formato."
      ],
      "metadata": {
        "id": "UIY1KYFtES1E"
      }
    },
    {
      "cell_type": "markdown",
      "source": [
        "# Primer tarea\n",
        "\n",
        "La primer tarea es que creen cada une de ustedes una notebook como esta y hagan una celda de texto donde se preenten muy brevemente (pueden poner links, alguna foto de ustedes si quieren, etc). Y lo compartan en slack.\n",
        "\n",
        "# Ejemplo de una imagen\n",
        "\n",
        "![Ejemplo de foto de Ioni](https://upload.wikimedia.org/wikipedia/commons/e/e5/WaterPolo.JPG)\n",
        "\n",
        "# Mis pasatiempos\n",
        "\n",
        "- Jugar a la pelota\n",
        "- Jugar jueguitos de compu\n",
        "  - Salta a la soga\n",
        "  - Otras cosas"
      ],
      "metadata": {
        "id": "AH-I2UhuEeZm"
      }
    },
    {
      "cell_type": "markdown",
      "source": [
        "# Codigos\n",
        "\n",
        "Ahora vamos a aprender lo basico de codigos"
      ],
      "metadata": {
        "id": "_7JA04yqJ_0K"
      }
    },
    {
      "cell_type": "code",
      "source": [
        "resultado = 3 - 7\n",
        "print (resultado*2)"
      ],
      "metadata": {
        "colab": {
          "base_uri": "https://localhost:8080/"
        },
        "id": "QQyQz4vTJ6Hk",
        "outputId": "e95fe5ed-df7d-4528-97b6-9a73b60e3a36"
      },
      "execution_count": null,
      "outputs": [
        {
          "output_type": "stream",
          "name": "stdout",
          "text": [
            "-8\n"
          ]
        }
      ]
    },
    {
      "cell_type": "code",
      "source": [
        "\"Hola\" * 3\n",
        "\"Hola \" + \"que tal?\""
      ],
      "metadata": {
        "colab": {
          "base_uri": "https://localhost:8080/",
          "height": 35
        },
        "id": "7U269KYpNbqQ",
        "outputId": "baff9576-4939-4710-ff2e-60bbc296aebc"
      },
      "execution_count": null,
      "outputs": [
        {
          "output_type": "execute_result",
          "data": {
            "text/plain": [
              "'Hola que tal?'"
            ],
            "application/vnd.google.colaboratory.intrinsic+json": {
              "type": "string"
            }
          },
          "metadata": {},
          "execution_count": 10
        }
      ]
    },
    {
      "cell_type": "code",
      "source": [
        "\"Hola\" * 3.5"
      ],
      "metadata": {
        "colab": {
          "base_uri": "https://localhost:8080/",
          "height": 168
        },
        "id": "DAR3g5CcNzEQ",
        "outputId": "71daab2e-23d0-4512-9f57-1f3ea94c85a2"
      },
      "execution_count": null,
      "outputs": [
        {
          "output_type": "error",
          "ename": "TypeError",
          "evalue": "ignored",
          "traceback": [
            "\u001b[0;31m---------------------------------------------------------------------------\u001b[0m",
            "\u001b[0;31mTypeError\u001b[0m                                 Traceback (most recent call last)",
            "\u001b[0;32m<ipython-input-11-fc4c5f31aae7>\u001b[0m in \u001b[0;36m<module>\u001b[0;34m()\u001b[0m\n\u001b[0;32m----> 1\u001b[0;31m \u001b[0;34m\"Hola\"\u001b[0m \u001b[0;34m*\u001b[0m \u001b[0;36m3.5\u001b[0m\u001b[0;34m\u001b[0m\u001b[0;34m\u001b[0m\u001b[0m\n\u001b[0m",
            "\u001b[0;31mTypeError\u001b[0m: can't multiply sequence by non-int of type 'float'"
          ]
        }
      ]
    },
    {
      "cell_type": "code",
      "source": [
        "type(3.5)"
      ],
      "metadata": {
        "colab": {
          "base_uri": "https://localhost:8080/"
        },
        "id": "8s7P1L_uOSdS",
        "outputId": "33ce1a4c-9a79-4982-b8d1-98bdebd43f53"
      },
      "execution_count": null,
      "outputs": [
        {
          "output_type": "execute_result",
          "data": {
            "text/plain": [
              "float"
            ]
          },
          "metadata": {},
          "execution_count": 12
        }
      ]
    },
    {
      "cell_type": "code",
      "source": [
        "type(3)"
      ],
      "metadata": {
        "colab": {
          "base_uri": "https://localhost:8080/"
        },
        "id": "gYGEM75uOj49",
        "outputId": "51124e74-f11a-434f-d9f4-a2246747e171"
      },
      "execution_count": null,
      "outputs": [
        {
          "output_type": "execute_result",
          "data": {
            "text/plain": [
              "int"
            ]
          },
          "metadata": {},
          "execution_count": 13
        }
      ]
    },
    {
      "cell_type": "code",
      "source": [
        "type(\"Hola\")"
      ],
      "metadata": {
        "colab": {
          "base_uri": "https://localhost:8080/"
        },
        "id": "nqsEwSF-OnZO",
        "outputId": "65be707f-02f9-4397-8ae2-99ef7ded850b"
      },
      "execution_count": null,
      "outputs": [
        {
          "output_type": "execute_result",
          "data": {
            "text/plain": [
              "str"
            ]
          },
          "metadata": {},
          "execution_count": 14
        }
      ]
    },
    {
      "cell_type": "code",
      "source": [
        "resultado = int(\"2\")\n",
        "type(resultado)"
      ],
      "metadata": {
        "colab": {
          "base_uri": "https://localhost:8080/"
        },
        "id": "9TKSfdmCOyrR",
        "outputId": "0985f6f9-75ed-4140-f86b-317e03ba1778"
      },
      "execution_count": null,
      "outputs": [
        {
          "output_type": "execute_result",
          "data": {
            "text/plain": [
              "int"
            ]
          },
          "metadata": {},
          "execution_count": 18
        }
      ]
    },
    {
      "cell_type": "code",
      "source": [
        "int (\"2\")\n",
        "str(2.5)\n",
        "float (\"2.5\")"
      ],
      "metadata": {
        "colab": {
          "base_uri": "https://localhost:8080/"
        },
        "id": "JvXvr60GPkzo",
        "outputId": "806b2719-e32c-4f88-8127-811560a1993c"
      },
      "execution_count": null,
      "outputs": [
        {
          "output_type": "execute_result",
          "data": {
            "text/plain": [
              "2.5"
            ]
          },
          "metadata": {},
          "execution_count": 23
        }
      ]
    },
    {
      "cell_type": "code",
      "source": [
        "type(print)"
      ],
      "metadata": {
        "colab": {
          "base_uri": "https://localhost:8080/"
        },
        "id": "PJbKigT2QBlJ",
        "outputId": "cf10d839-a814-4b2c-91de-757a573b27e5"
      },
      "execution_count": null,
      "outputs": [
        {
          "output_type": "execute_result",
          "data": {
            "text/plain": [
              "builtin_function_or_method"
            ]
          },
          "metadata": {},
          "execution_count": 24
        }
      ]
    },
    {
      "cell_type": "code",
      "source": [
        "def saludo():\n",
        "  print (\"Hola, como andas?\")"
      ],
      "metadata": {
        "id": "cVt_n_jdQWL4"
      },
      "execution_count": null,
      "outputs": []
    },
    {
      "cell_type": "code",
      "source": [
        "print (\"Hola que tal?\")"
      ],
      "metadata": {
        "colab": {
          "base_uri": "https://localhost:8080/"
        },
        "id": "i93yBB_VRJWO",
        "outputId": "106a42ba-ee43-486b-98d3-23071318d7a6"
      },
      "execution_count": null,
      "outputs": [
        {
          "output_type": "stream",
          "name": "stdout",
          "text": [
            "Hola que tal?\n"
          ]
        }
      ]
    },
    {
      "cell_type": "code",
      "source": [
        "saludo()"
      ],
      "metadata": {
        "colab": {
          "base_uri": "https://localhost:8080/"
        },
        "id": "-sVXED_yQkvL",
        "outputId": "756f10e5-5288-4af4-a98d-6354a87e7c99"
      },
      "execution_count": null,
      "outputs": [
        {
          "output_type": "stream",
          "name": "stdout",
          "text": [
            "Hola, como andas?\n"
          ]
        }
      ]
    },
    {
      "cell_type": "code",
      "source": [
        "def saludopersonalizado(nombre):\n",
        "  print (\"Hola \" + nombre + \" como andas?\")"
      ],
      "metadata": {
        "id": "8V96JYOMRmuf"
      },
      "execution_count": null,
      "outputs": []
    },
    {
      "cell_type": "code",
      "source": [
        "saludopersonalizado(\"Pilar\")"
      ],
      "metadata": {
        "colab": {
          "base_uri": "https://localhost:8080/"
        },
        "id": "JJWqG6GLSCRN",
        "outputId": "586499ef-96ed-4ccb-82cb-be6f661a391f"
      },
      "execution_count": null,
      "outputs": [
        {
          "output_type": "stream",
          "name": "stdout",
          "text": [
            "Hola Pilar como andas?\n"
          ]
        }
      ]
    },
    {
      "cell_type": "markdown",
      "source": [
        ""
      ],
      "metadata": {
        "id": "w5kdjOoAJ_MY"
      }
    }
  ]
}