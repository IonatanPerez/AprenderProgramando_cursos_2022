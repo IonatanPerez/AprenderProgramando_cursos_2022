{
 "cells": [
  {
   "cell_type": "markdown",
   "id": "elder-remains",
   "metadata": {
    "id": "federal-actress"
   },
   "source": [
    "# Limpieza de datos\n",
    " \n",
    "La limpieza de datos es uno de los pasos más importantes en un proyecto de aprendizaje automático, pues, pues el modelo usará las propiedades de cada variable, y si se entrena con datos \"sucios\" probablemente la salida también esté \"sucia\".\n",
    " \n",
    "Para evaluar la validez de los datos de nuestro dataset, es importante analizar y corroborar si los datos cumplen o se ajustan a la reglas o restricciones propias del dato:\n",
    "* **De tipo de dato**: los valores en una columna en particular deben ser de un tipo de datos.\n",
    "* **De rango**: generalmente, los números o fechas deben estar dentro de un cierto rango.\n",
    "* **Obligatorias**: determinadas columnas no pueden estar vacías.\n",
    "* **Únicas**: un campo, debe ser único en un conjunto de datos.\n",
    "* **De pertenencia al conjunto**: los valores de una columna provienen de un conjunto de valores discretos. Por ejemplo, el sexo biológico de una persona en general se marca como masculino o femenino.\n",
    "* **Patrones de expresión regular**: campos de texto que deben seguir un patrón determinado. (Email)\n",
    "* **Validación de campo cruzado**: deben cumplirse determinadas condiciones que abarcan varios campos. Por ejemplo, la fecha de alta de un paciente del hospital no puede ser anterior a la fecha de admisión.\n",
    " \n",
    "\n",
    "El encuentro pasado hicimos una revisión de las columnas y descubrimos que había datos nulos (registros vacíos). No es posible realizar un modelo de aprendizaje automático con datos nulos por lo que veremos diferentes maneras de resolver esta cuestión.\n",
    "\n",
    "Hay tres posiblidades frente a datos nulos: **imputar**, **marcar** o **eliminar**. En esta Notebook veremos algunos métodos para realizarlo."
   ]
  },
  {
   "cell_type": "code",
   "execution_count": 2,
   "id": "smart-shopper",
   "metadata": {
    "id": "outstanding-burlington"
   },
   "outputs": [],
   "source": [
    "#importamos las librerias que utilizaremos\n",
    "\n",
    "import pandas as pd\n",
    "import matplotlib.pyplot as plt  \n",
    "import seaborn as sns"
   ]
  },
  {
   "cell_type": "markdown",
   "id": "through-graphics",
   "metadata": {
    "id": "banner-intake"
   },
   "source": [
    "#### Desde el Drive\n"
   ]
  },
  {
   "cell_type": "code",
   "execution_count": null,
   "id": "normal-certificate",
   "metadata": {
    "colab": {
     "base_uri": "https://localhost:8080/"
    },
    "executionInfo": {
     "elapsed": 16691,
     "status": "ok",
     "timestamp": 1646529873351,
     "user": {
      "displayName": "Valeria Bellino",
      "photoUrl": "https://lh3.googleusercontent.com/a/default-user=s64",
      "userId": "05918551666787590515"
     },
     "user_tz": 180
    },
    "id": "reliable-humor",
    "outputId": "66995211-aee9-45df-8bbe-9563c387e842"
   },
   "outputs": [
    {
     "name": "stdout",
     "output_type": "stream",
     "text": [
      "Mounted at /content/drive\n"
     ]
    }
   ],
   "source": [
    "from google.colab import drive\n",
    "drive.mount('/content/drive')\n"
   ]
  },
  {
   "cell_type": "code",
   "execution_count": null,
   "id": "earned-robert",
   "metadata": {
    "id": "neither-blame"
   },
   "outputs": [],
   "source": [
    "#Recordar utilizar dataset modificado de la clase pasada. \n",
    "\n",
    "data = pd.read_csv(\"/content/drive/MyDrive/Aprender Programando/2022/Guías y Recursos - Trayectos 2021/Recursos/Modulos 1 y 2. Presentación CABA/Ciencia de datos/2022/Módulo 2/Encuentro 2/data_clima.csv\")"
   ]
  },
  {
   "cell_type": "markdown",
   "id": "democratic-cheat",
   "metadata": {
    "id": "senior-wiring"
   },
   "source": [
    "#### Desde el archivo descargado en la computadora"
   ]
  },
  {
   "cell_type": "code",
   "execution_count": null,
   "id": "clinical-doctor",
   "metadata": {
    "id": "meaningful-smart"
   },
   "outputs": [],
   "source": [
    "from google.colab import files\n",
    "import io\n",
    "\n",
    "filesUploaded = files.upload()"
   ]
  },
  {
   "cell_type": "code",
   "execution_count": 3,
   "id": "standing-destination",
   "metadata": {
    "id": "smaller-democracy"
   },
   "outputs": [],
   "source": [
    "data = pd.read_csv(\".csv\")"
   ]
  },
  {
   "cell_type": "code",
   "execution_count": 4,
   "id": "compact-seeking",
   "metadata": {
    "colab": {
     "base_uri": "https://localhost:8080/",
     "height": 143
    },
    "executionInfo": {
     "elapsed": 349,
     "status": "ok",
     "timestamp": 1646446676049,
     "user": {
      "displayName": "Valeria Bellino",
      "photoUrl": "https://lh3.googleusercontent.com/a/default-user=s64",
      "userId": "05918551666787590515"
     },
     "user_tz": 180
    },
    "id": "outstanding-patch",
    "outputId": "95f0c6cb-7586-4c10-b27c-109a57d5a0d5"
   },
   "outputs": [
    {
     "data": {
      "text/html": [
       "<div>\n",
       "<style scoped>\n",
       "    .dataframe tbody tr th:only-of-type {\n",
       "        vertical-align: middle;\n",
       "    }\n",
       "\n",
       "    .dataframe tbody tr th {\n",
       "        vertical-align: top;\n",
       "    }\n",
       "\n",
       "    .dataframe thead th {\n",
       "        text-align: right;\n",
       "    }\n",
       "</style>\n",
       "<table border=\"1\" class=\"dataframe\">\n",
       "  <thead>\n",
       "    <tr style=\"text-align: right;\">\n",
       "      <th></th>\n",
       "      <th>humedad</th>\n",
       "      <th>velocidad_viento_kmh</th>\n",
       "      <th>rumbo_viento_grados</th>\n",
       "      <th>visibilidad_km</th>\n",
       "      <th>presion_mbar</th>\n",
       "      <th>lluvia</th>\n",
       "      <th>descripcion</th>\n",
       "      <th>temperatura</th>\n",
       "    </tr>\n",
       "  </thead>\n",
       "  <tbody>\n",
       "    <tr>\n",
       "      <th>0</th>\n",
       "      <td>0.92</td>\n",
       "      <td>11.27</td>\n",
       "      <td>130.0</td>\n",
       "      <td>8.05</td>\n",
       "      <td>1021.60</td>\n",
       "      <td>no</td>\n",
       "      <td>Cold</td>\n",
       "      <td>-0.56</td>\n",
       "    </tr>\n",
       "    <tr>\n",
       "      <th>1</th>\n",
       "      <td>0.73</td>\n",
       "      <td>20.93</td>\n",
       "      <td>330.0</td>\n",
       "      <td>16.10</td>\n",
       "      <td>1017.00</td>\n",
       "      <td>si</td>\n",
       "      <td>Warm</td>\n",
       "      <td>21.11</td>\n",
       "    </tr>\n",
       "    <tr>\n",
       "      <th>2</th>\n",
       "      <td>0.97</td>\n",
       "      <td>5.97</td>\n",
       "      <td>193.0</td>\n",
       "      <td>14.91</td>\n",
       "      <td>1013.99</td>\n",
       "      <td>si</td>\n",
       "      <td>Normal</td>\n",
       "      <td>16.60</td>\n",
       "    </tr>\n",
       "  </tbody>\n",
       "</table>\n",
       "</div>"
      ],
      "text/plain": [
       "   humedad  velocidad_viento_kmh  rumbo_viento_grados  visibilidad_km  \\\n",
       "0     0.92                 11.27                130.0            8.05   \n",
       "1     0.73                 20.93                330.0           16.10   \n",
       "2     0.97                  5.97                193.0           14.91   \n",
       "\n",
       "   presion_mbar lluvia descripcion  temperatura  \n",
       "0       1021.60     no        Cold        -0.56  \n",
       "1       1017.00     si        Warm        21.11  \n",
       "2       1013.99     si      Normal        16.60  "
      ]
     },
     "execution_count": 4,
     "metadata": {},
     "output_type": "execute_result"
    }
   ],
   "source": [
    "#vemos los primeros registros del dataset\n",
    "\n",
    "data.head(3)"
   ]
  },
  {
   "cell_type": "code",
   "execution_count": 5,
   "id": "indirect-passport",
   "metadata": {
    "colab": {
     "base_uri": "https://localhost:8080/"
    },
    "executionInfo": {
     "elapsed": 237,
     "status": "ok",
     "timestamp": 1646445775645,
     "user": {
      "displayName": "Valeria Bellino",
      "photoUrl": "https://lh3.googleusercontent.com/a/default-user=s64",
      "userId": "05918551666787590515"
     },
     "user_tz": 180
    },
    "id": "minor-round",
    "outputId": "4cc2cefc-a8ae-4d6d-f560-76a431d7a353"
   },
   "outputs": [
    {
     "data": {
      "text/plain": [
       "(10000, 8)"
      ]
     },
     "execution_count": 5,
     "metadata": {},
     "output_type": "execute_result"
    }
   ],
   "source": [
    "# Vemos el tamaño del dataset\n",
    "\n",
    "data.shape"
   ]
  },
  {
   "cell_type": "markdown",
   "id": "handed-seattle",
   "metadata": {
    "id": "entitled-house"
   },
   "source": [
    "#### Identificación de datos nulos\n",
    "\n",
    "Para observar si hay datos nulos se puede utilizar el método *isnull()* o *isna()* el cual devovlerá **True** en el caso que haya un dato nulo y **False** en el caso que no lo haya.\n",
    "Esto puede ser utilizado como una máscara para filtrar el dataset y ver los registros nulos.\n",
    "\n",
    "Para saber la cantidad de datos nulos es posible utilizar *sum()* luego de la identificación de los nulos sabiendo que **True** cuenta como 1 y **False** cuenta como 0, de esta manera sumara 1 por cada dato nulo. "
   ]
  },
  {
   "cell_type": "code",
   "execution_count": 6,
   "id": "rational-durham",
   "metadata": {
    "colab": {
     "base_uri": "https://localhost:8080/",
     "height": 423
    },
    "executionInfo": {
     "elapsed": 3,
     "status": "ok",
     "timestamp": 1646445777857,
     "user": {
      "displayName": "Valeria Bellino",
      "photoUrl": "https://lh3.googleusercontent.com/a/default-user=s64",
      "userId": "05918551666787590515"
     },
     "user_tz": 180
    },
    "id": "inclusive-binary",
    "outputId": "c54891ff-bd58-415b-f316-2d800529775d"
   },
   "outputs": [
    {
     "data": {
      "text/html": [
       "<div>\n",
       "<style scoped>\n",
       "    .dataframe tbody tr th:only-of-type {\n",
       "        vertical-align: middle;\n",
       "    }\n",
       "\n",
       "    .dataframe tbody tr th {\n",
       "        vertical-align: top;\n",
       "    }\n",
       "\n",
       "    .dataframe thead th {\n",
       "        text-align: right;\n",
       "    }\n",
       "</style>\n",
       "<table border=\"1\" class=\"dataframe\">\n",
       "  <thead>\n",
       "    <tr style=\"text-align: right;\">\n",
       "      <th></th>\n",
       "      <th>humedad</th>\n",
       "      <th>velocidad_viento_kmh</th>\n",
       "      <th>rumbo_viento_grados</th>\n",
       "      <th>visibilidad_km</th>\n",
       "      <th>presion_mbar</th>\n",
       "      <th>lluvia</th>\n",
       "      <th>descripcion</th>\n",
       "      <th>temperatura</th>\n",
       "    </tr>\n",
       "  </thead>\n",
       "  <tbody>\n",
       "    <tr>\n",
       "      <th>0</th>\n",
       "      <td>False</td>\n",
       "      <td>False</td>\n",
       "      <td>False</td>\n",
       "      <td>False</td>\n",
       "      <td>False</td>\n",
       "      <td>False</td>\n",
       "      <td>False</td>\n",
       "      <td>False</td>\n",
       "    </tr>\n",
       "    <tr>\n",
       "      <th>1</th>\n",
       "      <td>False</td>\n",
       "      <td>False</td>\n",
       "      <td>False</td>\n",
       "      <td>False</td>\n",
       "      <td>False</td>\n",
       "      <td>False</td>\n",
       "      <td>False</td>\n",
       "      <td>False</td>\n",
       "    </tr>\n",
       "    <tr>\n",
       "      <th>2</th>\n",
       "      <td>False</td>\n",
       "      <td>False</td>\n",
       "      <td>False</td>\n",
       "      <td>False</td>\n",
       "      <td>False</td>\n",
       "      <td>False</td>\n",
       "      <td>False</td>\n",
       "      <td>False</td>\n",
       "    </tr>\n",
       "    <tr>\n",
       "      <th>3</th>\n",
       "      <td>False</td>\n",
       "      <td>False</td>\n",
       "      <td>False</td>\n",
       "      <td>False</td>\n",
       "      <td>False</td>\n",
       "      <td>False</td>\n",
       "      <td>False</td>\n",
       "      <td>False</td>\n",
       "    </tr>\n",
       "    <tr>\n",
       "      <th>4</th>\n",
       "      <td>False</td>\n",
       "      <td>False</td>\n",
       "      <td>False</td>\n",
       "      <td>False</td>\n",
       "      <td>False</td>\n",
       "      <td>False</td>\n",
       "      <td>False</td>\n",
       "      <td>False</td>\n",
       "    </tr>\n",
       "    <tr>\n",
       "      <th>...</th>\n",
       "      <td>...</td>\n",
       "      <td>...</td>\n",
       "      <td>...</td>\n",
       "      <td>...</td>\n",
       "      <td>...</td>\n",
       "      <td>...</td>\n",
       "      <td>...</td>\n",
       "      <td>...</td>\n",
       "    </tr>\n",
       "    <tr>\n",
       "      <th>9995</th>\n",
       "      <td>False</td>\n",
       "      <td>False</td>\n",
       "      <td>False</td>\n",
       "      <td>False</td>\n",
       "      <td>False</td>\n",
       "      <td>False</td>\n",
       "      <td>False</td>\n",
       "      <td>False</td>\n",
       "    </tr>\n",
       "    <tr>\n",
       "      <th>9996</th>\n",
       "      <td>False</td>\n",
       "      <td>False</td>\n",
       "      <td>False</td>\n",
       "      <td>False</td>\n",
       "      <td>False</td>\n",
       "      <td>False</td>\n",
       "      <td>False</td>\n",
       "      <td>False</td>\n",
       "    </tr>\n",
       "    <tr>\n",
       "      <th>9997</th>\n",
       "      <td>False</td>\n",
       "      <td>False</td>\n",
       "      <td>False</td>\n",
       "      <td>False</td>\n",
       "      <td>False</td>\n",
       "      <td>False</td>\n",
       "      <td>False</td>\n",
       "      <td>False</td>\n",
       "    </tr>\n",
       "    <tr>\n",
       "      <th>9998</th>\n",
       "      <td>False</td>\n",
       "      <td>False</td>\n",
       "      <td>False</td>\n",
       "      <td>False</td>\n",
       "      <td>False</td>\n",
       "      <td>False</td>\n",
       "      <td>False</td>\n",
       "      <td>False</td>\n",
       "    </tr>\n",
       "    <tr>\n",
       "      <th>9999</th>\n",
       "      <td>False</td>\n",
       "      <td>False</td>\n",
       "      <td>False</td>\n",
       "      <td>False</td>\n",
       "      <td>False</td>\n",
       "      <td>False</td>\n",
       "      <td>False</td>\n",
       "      <td>False</td>\n",
       "    </tr>\n",
       "  </tbody>\n",
       "</table>\n",
       "<p>10000 rows × 8 columns</p>\n",
       "</div>"
      ],
      "text/plain": [
       "      humedad  velocidad_viento_kmh  rumbo_viento_grados  visibilidad_km  \\\n",
       "0       False                 False                False           False   \n",
       "1       False                 False                False           False   \n",
       "2       False                 False                False           False   \n",
       "3       False                 False                False           False   \n",
       "4       False                 False                False           False   \n",
       "...       ...                   ...                  ...             ...   \n",
       "9995    False                 False                False           False   \n",
       "9996    False                 False                False           False   \n",
       "9997    False                 False                False           False   \n",
       "9998    False                 False                False           False   \n",
       "9999    False                 False                False           False   \n",
       "\n",
       "      presion_mbar  lluvia  descripcion  temperatura  \n",
       "0            False   False        False        False  \n",
       "1            False   False        False        False  \n",
       "2            False   False        False        False  \n",
       "3            False   False        False        False  \n",
       "4            False   False        False        False  \n",
       "...            ...     ...          ...          ...  \n",
       "9995         False   False        False        False  \n",
       "9996         False   False        False        False  \n",
       "9997         False   False        False        False  \n",
       "9998         False   False        False        False  \n",
       "9999         False   False        False        False  \n",
       "\n",
       "[10000 rows x 8 columns]"
      ]
     },
     "execution_count": 6,
     "metadata": {},
     "output_type": "execute_result"
    }
   ],
   "source": [
    "data.isnull()"
   ]
  },
  {
   "cell_type": "code",
   "execution_count": 7,
   "id": "current-street",
   "metadata": {
    "colab": {
     "base_uri": "https://localhost:8080/",
     "height": 423
    },
    "executionInfo": {
     "elapsed": 4,
     "status": "ok",
     "timestamp": 1646445779994,
     "user": {
      "displayName": "Valeria Bellino",
      "photoUrl": "https://lh3.googleusercontent.com/a/default-user=s64",
      "userId": "05918551666787590515"
     },
     "user_tz": 180
    },
    "id": "voluntary-lover",
    "outputId": "65853689-ec14-4623-fd64-42034028cb61"
   },
   "outputs": [
    {
     "data": {
      "text/html": [
       "<div>\n",
       "<style scoped>\n",
       "    .dataframe tbody tr th:only-of-type {\n",
       "        vertical-align: middle;\n",
       "    }\n",
       "\n",
       "    .dataframe tbody tr th {\n",
       "        vertical-align: top;\n",
       "    }\n",
       "\n",
       "    .dataframe thead th {\n",
       "        text-align: right;\n",
       "    }\n",
       "</style>\n",
       "<table border=\"1\" class=\"dataframe\">\n",
       "  <thead>\n",
       "    <tr style=\"text-align: right;\">\n",
       "      <th></th>\n",
       "      <th>humedad</th>\n",
       "      <th>velocidad_viento_kmh</th>\n",
       "      <th>rumbo_viento_grados</th>\n",
       "      <th>visibilidad_km</th>\n",
       "      <th>presion_mbar</th>\n",
       "      <th>lluvia</th>\n",
       "      <th>descripcion</th>\n",
       "      <th>temperatura</th>\n",
       "    </tr>\n",
       "  </thead>\n",
       "  <tbody>\n",
       "    <tr>\n",
       "      <th>0</th>\n",
       "      <td>False</td>\n",
       "      <td>False</td>\n",
       "      <td>False</td>\n",
       "      <td>False</td>\n",
       "      <td>False</td>\n",
       "      <td>False</td>\n",
       "      <td>False</td>\n",
       "      <td>False</td>\n",
       "    </tr>\n",
       "    <tr>\n",
       "      <th>1</th>\n",
       "      <td>False</td>\n",
       "      <td>False</td>\n",
       "      <td>False</td>\n",
       "      <td>False</td>\n",
       "      <td>False</td>\n",
       "      <td>False</td>\n",
       "      <td>False</td>\n",
       "      <td>False</td>\n",
       "    </tr>\n",
       "    <tr>\n",
       "      <th>2</th>\n",
       "      <td>False</td>\n",
       "      <td>False</td>\n",
       "      <td>False</td>\n",
       "      <td>False</td>\n",
       "      <td>False</td>\n",
       "      <td>False</td>\n",
       "      <td>False</td>\n",
       "      <td>False</td>\n",
       "    </tr>\n",
       "    <tr>\n",
       "      <th>3</th>\n",
       "      <td>False</td>\n",
       "      <td>False</td>\n",
       "      <td>False</td>\n",
       "      <td>False</td>\n",
       "      <td>False</td>\n",
       "      <td>False</td>\n",
       "      <td>False</td>\n",
       "      <td>False</td>\n",
       "    </tr>\n",
       "    <tr>\n",
       "      <th>4</th>\n",
       "      <td>False</td>\n",
       "      <td>False</td>\n",
       "      <td>False</td>\n",
       "      <td>False</td>\n",
       "      <td>False</td>\n",
       "      <td>False</td>\n",
       "      <td>False</td>\n",
       "      <td>False</td>\n",
       "    </tr>\n",
       "    <tr>\n",
       "      <th>...</th>\n",
       "      <td>...</td>\n",
       "      <td>...</td>\n",
       "      <td>...</td>\n",
       "      <td>...</td>\n",
       "      <td>...</td>\n",
       "      <td>...</td>\n",
       "      <td>...</td>\n",
       "      <td>...</td>\n",
       "    </tr>\n",
       "    <tr>\n",
       "      <th>9995</th>\n",
       "      <td>False</td>\n",
       "      <td>False</td>\n",
       "      <td>False</td>\n",
       "      <td>False</td>\n",
       "      <td>False</td>\n",
       "      <td>False</td>\n",
       "      <td>False</td>\n",
       "      <td>False</td>\n",
       "    </tr>\n",
       "    <tr>\n",
       "      <th>9996</th>\n",
       "      <td>False</td>\n",
       "      <td>False</td>\n",
       "      <td>False</td>\n",
       "      <td>False</td>\n",
       "      <td>False</td>\n",
       "      <td>False</td>\n",
       "      <td>False</td>\n",
       "      <td>False</td>\n",
       "    </tr>\n",
       "    <tr>\n",
       "      <th>9997</th>\n",
       "      <td>False</td>\n",
       "      <td>False</td>\n",
       "      <td>False</td>\n",
       "      <td>False</td>\n",
       "      <td>False</td>\n",
       "      <td>False</td>\n",
       "      <td>False</td>\n",
       "      <td>False</td>\n",
       "    </tr>\n",
       "    <tr>\n",
       "      <th>9998</th>\n",
       "      <td>False</td>\n",
       "      <td>False</td>\n",
       "      <td>False</td>\n",
       "      <td>False</td>\n",
       "      <td>False</td>\n",
       "      <td>False</td>\n",
       "      <td>False</td>\n",
       "      <td>False</td>\n",
       "    </tr>\n",
       "    <tr>\n",
       "      <th>9999</th>\n",
       "      <td>False</td>\n",
       "      <td>False</td>\n",
       "      <td>False</td>\n",
       "      <td>False</td>\n",
       "      <td>False</td>\n",
       "      <td>False</td>\n",
       "      <td>False</td>\n",
       "      <td>False</td>\n",
       "    </tr>\n",
       "  </tbody>\n",
       "</table>\n",
       "<p>10000 rows × 8 columns</p>\n",
       "</div>"
      ],
      "text/plain": [
       "      humedad  velocidad_viento_kmh  rumbo_viento_grados  visibilidad_km  \\\n",
       "0       False                 False                False           False   \n",
       "1       False                 False                False           False   \n",
       "2       False                 False                False           False   \n",
       "3       False                 False                False           False   \n",
       "4       False                 False                False           False   \n",
       "...       ...                   ...                  ...             ...   \n",
       "9995    False                 False                False           False   \n",
       "9996    False                 False                False           False   \n",
       "9997    False                 False                False           False   \n",
       "9998    False                 False                False           False   \n",
       "9999    False                 False                False           False   \n",
       "\n",
       "      presion_mbar  lluvia  descripcion  temperatura  \n",
       "0            False   False        False        False  \n",
       "1            False   False        False        False  \n",
       "2            False   False        False        False  \n",
       "3            False   False        False        False  \n",
       "4            False   False        False        False  \n",
       "...            ...     ...          ...          ...  \n",
       "9995         False   False        False        False  \n",
       "9996         False   False        False        False  \n",
       "9997         False   False        False        False  \n",
       "9998         False   False        False        False  \n",
       "9999         False   False        False        False  \n",
       "\n",
       "[10000 rows x 8 columns]"
      ]
     },
     "execution_count": 7,
     "metadata": {},
     "output_type": "execute_result"
    }
   ],
   "source": [
    "data.isna()"
   ]
  },
  {
   "cell_type": "code",
   "execution_count": 8,
   "id": "usual-hardware",
   "metadata": {
    "colab": {
     "base_uri": "https://localhost:8080/"
    },
    "executionInfo": {
     "elapsed": 261,
     "status": "ok",
     "timestamp": 1646446681630,
     "user": {
      "displayName": "Valeria Bellino",
      "photoUrl": "https://lh3.googleusercontent.com/a/default-user=s64",
      "userId": "05918551666787590515"
     },
     "user_tz": 180
    },
    "id": "expensive-invitation",
    "outputId": "1cccd74c-32a6-494d-9b9f-8234e3b0b5bc"
   },
   "outputs": [
    {
     "data": {
      "text/plain": [
       "humedad                 5\n",
       "velocidad_viento_kmh    5\n",
       "rumbo_viento_grados     5\n",
       "visibilidad_km          5\n",
       "presion_mbar            9\n",
       "lluvia                  1\n",
       "descripcion             8\n",
       "temperatura             0\n",
       "dtype: int64"
      ]
     },
     "execution_count": 8,
     "metadata": {},
     "output_type": "execute_result"
    }
   ],
   "source": [
    "data.isnull().sum()"
   ]
  },
  {
   "cell_type": "markdown",
   "id": "logical-shooting",
   "metadata": {
    "id": "latter-hardwood"
   },
   "source": [
    "Podemos observar que *temperatura* que es nuestra variable a predecir no tiene ningún nulo y hay una pequeña cantidad en cada una de las otras columnas. Exploraremos cada caso para definir si **imputar**, **marcar** o **eliminar** los nulos y formas de realizarlo."
   ]
  },
  {
   "cell_type": "markdown",
   "id": "behavioral-contributor",
   "metadata": {
    "id": "referenced-addiction"
   },
   "source": [
    "#### Visiblidad\n",
    "\n",
    "Comenzaremos observando la columna *visibilidad*, cuáles son los datos nulos. Para esto realizaremos un filtro utilizando el método *isnull()* para crear una máscara y luego filtraremos con *.loc.* para observar los datos"
   ]
  },
  {
   "cell_type": "code",
   "execution_count": 9,
   "id": "common-frame",
   "metadata": {
    "colab": {
     "base_uri": "https://localhost:8080/"
    },
    "executionInfo": {
     "elapsed": 273,
     "status": "ok",
     "timestamp": 1646446722972,
     "user": {
      "displayName": "Valeria Bellino",
      "photoUrl": "https://lh3.googleusercontent.com/a/default-user=s64",
      "userId": "05918551666787590515"
     },
     "user_tz": 180
    },
    "id": "eligible-adapter",
    "outputId": "273e57ff-ac60-4219-f211-7a360f513280"
   },
   "outputs": [
    {
     "data": {
      "text/plain": [
       "0       False\n",
       "1       False\n",
       "2       False\n",
       "3       False\n",
       "4       False\n",
       "        ...  \n",
       "9995    False\n",
       "9996    False\n",
       "9997    False\n",
       "9998    False\n",
       "9999    False\n",
       "Name: visibilidad_km, Length: 10000, dtype: bool"
      ]
     },
     "execution_count": 9,
     "metadata": {},
     "output_type": "execute_result"
    }
   ],
   "source": [
    "nulo_visibilidad = data[\"visibilidad_km\"].isnull()\n",
    "nulo_visibilidad"
   ]
  },
  {
   "cell_type": "code",
   "execution_count": 10,
   "id": "assisted-irrigation",
   "metadata": {
    "colab": {
     "base_uri": "https://localhost:8080/",
     "height": 206
    },
    "executionInfo": {
     "elapsed": 261,
     "status": "ok",
     "timestamp": 1646446725556,
     "user": {
      "displayName": "Valeria Bellino",
      "photoUrl": "https://lh3.googleusercontent.com/a/default-user=s64",
      "userId": "05918551666787590515"
     },
     "user_tz": 180
    },
    "id": "noble-addiction",
    "outputId": "8f270e4d-efa5-4957-b42b-e775bebd231a"
   },
   "outputs": [
    {
     "data": {
      "text/html": [
       "<div>\n",
       "<style scoped>\n",
       "    .dataframe tbody tr th:only-of-type {\n",
       "        vertical-align: middle;\n",
       "    }\n",
       "\n",
       "    .dataframe tbody tr th {\n",
       "        vertical-align: top;\n",
       "    }\n",
       "\n",
       "    .dataframe thead th {\n",
       "        text-align: right;\n",
       "    }\n",
       "</style>\n",
       "<table border=\"1\" class=\"dataframe\">\n",
       "  <thead>\n",
       "    <tr style=\"text-align: right;\">\n",
       "      <th></th>\n",
       "      <th>humedad</th>\n",
       "      <th>velocidad_viento_kmh</th>\n",
       "      <th>rumbo_viento_grados</th>\n",
       "      <th>visibilidad_km</th>\n",
       "      <th>presion_mbar</th>\n",
       "      <th>lluvia</th>\n",
       "      <th>descripcion</th>\n",
       "      <th>temperatura</th>\n",
       "    </tr>\n",
       "  </thead>\n",
       "  <tbody>\n",
       "    <tr>\n",
       "      <th>568</th>\n",
       "      <td>NaN</td>\n",
       "      <td>NaN</td>\n",
       "      <td>NaN</td>\n",
       "      <td>NaN</td>\n",
       "      <td>NaN</td>\n",
       "      <td>si</td>\n",
       "      <td>Normal</td>\n",
       "      <td>16.07</td>\n",
       "    </tr>\n",
       "    <tr>\n",
       "      <th>2548</th>\n",
       "      <td>NaN</td>\n",
       "      <td>NaN</td>\n",
       "      <td>NaN</td>\n",
       "      <td>NaN</td>\n",
       "      <td>NaN</td>\n",
       "      <td>si</td>\n",
       "      <td>Warm</td>\n",
       "      <td>27.76</td>\n",
       "    </tr>\n",
       "    <tr>\n",
       "      <th>3545</th>\n",
       "      <td>NaN</td>\n",
       "      <td>NaN</td>\n",
       "      <td>NaN</td>\n",
       "      <td>NaN</td>\n",
       "      <td>NaN</td>\n",
       "      <td>si</td>\n",
       "      <td>Normal</td>\n",
       "      <td>17.74</td>\n",
       "    </tr>\n",
       "    <tr>\n",
       "      <th>6580</th>\n",
       "      <td>NaN</td>\n",
       "      <td>NaN</td>\n",
       "      <td>NaN</td>\n",
       "      <td>NaN</td>\n",
       "      <td>NaN</td>\n",
       "      <td>si</td>\n",
       "      <td>Warm</td>\n",
       "      <td>22.97</td>\n",
       "    </tr>\n",
       "    <tr>\n",
       "      <th>7815</th>\n",
       "      <td>NaN</td>\n",
       "      <td>NaN</td>\n",
       "      <td>NaN</td>\n",
       "      <td>NaN</td>\n",
       "      <td>NaN</td>\n",
       "      <td>si</td>\n",
       "      <td>NaN</td>\n",
       "      <td>0.98</td>\n",
       "    </tr>\n",
       "  </tbody>\n",
       "</table>\n",
       "</div>"
      ],
      "text/plain": [
       "      humedad  velocidad_viento_kmh  rumbo_viento_grados  visibilidad_km  \\\n",
       "568       NaN                   NaN                  NaN             NaN   \n",
       "2548      NaN                   NaN                  NaN             NaN   \n",
       "3545      NaN                   NaN                  NaN             NaN   \n",
       "6580      NaN                   NaN                  NaN             NaN   \n",
       "7815      NaN                   NaN                  NaN             NaN   \n",
       "\n",
       "      presion_mbar lluvia descripcion  temperatura  \n",
       "568            NaN     si      Normal        16.07  \n",
       "2548           NaN     si        Warm        27.76  \n",
       "3545           NaN     si      Normal        17.74  \n",
       "6580           NaN     si        Warm        22.97  \n",
       "7815           NaN     si         NaN         0.98  "
      ]
     },
     "execution_count": 10,
     "metadata": {},
     "output_type": "execute_result"
    }
   ],
   "source": [
    "data.loc[nulo_visibilidad]"
   ]
  },
  {
   "cell_type": "markdown",
   "id": "designed-canberra",
   "metadata": {
    "id": "effective-decision"
   },
   "source": [
    "En este caso observamos que las 5 filas tienen varios datos faltantes de muchas columnas, imputar en este caso tal vez sería un poco forzado ya que de esos registros faltan muchos datos.\n",
    "\n",
    "En este caso lo que realizaremos es **eliminar** las filas que tienen muchos datos nulos utilizando el método [dropna](https://pandas.pydata.org/docs/reference/api/pandas.DataFrame.dropna.html). Este método permite eliminar filas o columnas y se pueden definir distintos criterios. En este caso eliminaremos los 5 registos que tienen 5 datos nulos."
   ]
  },
  {
   "cell_type": "code",
   "execution_count": 11,
   "id": "brilliant-circumstances",
   "metadata": {
    "id": "outside-interest"
   },
   "outputs": [],
   "source": [
    "# qué datos toma la variable\n",
    "\n",
    "data.dropna(axis=0, thresh=5, inplace=True)"
   ]
  },
  {
   "cell_type": "code",
   "execution_count": 12,
   "id": "extensive-better",
   "metadata": {
    "colab": {
     "base_uri": "https://localhost:8080/",
     "height": 50
    },
    "executionInfo": {
     "elapsed": 254,
     "status": "ok",
     "timestamp": 1646446747948,
     "user": {
      "displayName": "Valeria Bellino",
      "photoUrl": "https://lh3.googleusercontent.com/a/default-user=s64",
      "userId": "05918551666787590515"
     },
     "user_tz": 180
    },
    "id": "concerned-medicare",
    "outputId": "82ebbd0f-85e0-4025-82d4-cf5ddc5c017f"
   },
   "outputs": [
    {
     "data": {
      "text/html": [
       "<div>\n",
       "<style scoped>\n",
       "    .dataframe tbody tr th:only-of-type {\n",
       "        vertical-align: middle;\n",
       "    }\n",
       "\n",
       "    .dataframe tbody tr th {\n",
       "        vertical-align: top;\n",
       "    }\n",
       "\n",
       "    .dataframe thead th {\n",
       "        text-align: right;\n",
       "    }\n",
       "</style>\n",
       "<table border=\"1\" class=\"dataframe\">\n",
       "  <thead>\n",
       "    <tr style=\"text-align: right;\">\n",
       "      <th></th>\n",
       "      <th>humedad</th>\n",
       "      <th>velocidad_viento_kmh</th>\n",
       "      <th>rumbo_viento_grados</th>\n",
       "      <th>visibilidad_km</th>\n",
       "      <th>presion_mbar</th>\n",
       "      <th>lluvia</th>\n",
       "      <th>descripcion</th>\n",
       "      <th>temperatura</th>\n",
       "    </tr>\n",
       "  </thead>\n",
       "  <tbody>\n",
       "  </tbody>\n",
       "</table>\n",
       "</div>"
      ],
      "text/plain": [
       "Empty DataFrame\n",
       "Columns: [humedad, velocidad_viento_kmh, rumbo_viento_grados, visibilidad_km, presion_mbar, lluvia, descripcion, temperatura]\n",
       "Index: []"
      ]
     },
     "execution_count": 12,
     "metadata": {},
     "output_type": "execute_result"
    }
   ],
   "source": [
    "# Revisamos la operación\n",
    "\n",
    "data.loc[nulo_visibilidad]"
   ]
  },
  {
   "cell_type": "code",
   "execution_count": 14,
   "id": "centered-exhaust",
   "metadata": {
    "colab": {
     "base_uri": "https://localhost:8080/"
    },
    "executionInfo": {
     "elapsed": 5,
     "status": "ok",
     "timestamp": 1646446750012,
     "user": {
      "displayName": "Valeria Bellino",
      "photoUrl": "https://lh3.googleusercontent.com/a/default-user=s64",
      "userId": "05918551666787590515"
     },
     "user_tz": 180
    },
    "id": "trying-australia",
    "outputId": "3206c2f0-33d1-4bd3-b540-9f619640af40"
   },
   "outputs": [
    {
     "name": "stdout",
     "output_type": "stream",
     "text": [
      "(9995, 8)\n"
     ]
    },
    {
     "data": {
      "text/plain": [
       "humedad                 0\n",
       "velocidad_viento_kmh    0\n",
       "rumbo_viento_grados     0\n",
       "visibilidad_km          0\n",
       "presion_mbar            4\n",
       "lluvia                  1\n",
       "descripcion             7\n",
       "temperatura             0\n",
       "dtype: int64"
      ]
     },
     "execution_count": 14,
     "metadata": {},
     "output_type": "execute_result"
    }
   ],
   "source": [
    "# Comprobamos el tamaño del dataset y la cantidad de nulos\n",
    "\n",
    "print(data.shape)\n",
    "data.isnull().sum()"
   ]
  },
  {
   "cell_type": "markdown",
   "id": "controlled-conclusion",
   "metadata": {
    "id": "alternate-swiss"
   },
   "source": [
    "#### Lluvia\n",
    "\n",
    "Revisaremos el caso de la columna *lluvia* observando cómo es el dato nulo. Nuevamente utilizaremos el método *isnull()* como una máscara y luego el método *.loc* para observar el dato"
   ]
  },
  {
   "cell_type": "code",
   "execution_count": 15,
   "id": "theoretical-custom",
   "metadata": {
    "colab": {
     "base_uri": "https://localhost:8080/"
    },
    "executionInfo": {
     "elapsed": 255,
     "status": "ok",
     "timestamp": 1646446814970,
     "user": {
      "displayName": "Valeria Bellino",
      "photoUrl": "https://lh3.googleusercontent.com/a/default-user=s64",
      "userId": "05918551666787590515"
     },
     "user_tz": 180
    },
    "id": "abstract-somewhere",
    "outputId": "3d3e490e-9e29-4ef5-dc0c-3a69912c06cf"
   },
   "outputs": [
    {
     "data": {
      "text/plain": [
       "0       False\n",
       "1       False\n",
       "2       False\n",
       "3       False\n",
       "4       False\n",
       "        ...  \n",
       "9995    False\n",
       "9996    False\n",
       "9997    False\n",
       "9998    False\n",
       "9999    False\n",
       "Name: lluvia, Length: 9995, dtype: bool"
      ]
     },
     "execution_count": 15,
     "metadata": {},
     "output_type": "execute_result"
    }
   ],
   "source": [
    "nulo_lluvia = data[\"lluvia\"].isnull()\n",
    "nulo_lluvia"
   ]
  },
  {
   "cell_type": "code",
   "execution_count": 16,
   "id": "hydraulic-memphis",
   "metadata": {
    "colab": {
     "base_uri": "https://localhost:8080/",
     "height": 81
    },
    "executionInfo": {
     "elapsed": 8,
     "status": "ok",
     "timestamp": 1646446816777,
     "user": {
      "displayName": "Valeria Bellino",
      "photoUrl": "https://lh3.googleusercontent.com/a/default-user=s64",
      "userId": "05918551666787590515"
     },
     "user_tz": 180
    },
    "id": "lyric-disposal",
    "outputId": "a7b65827-b4e2-4a20-b00e-645846d27ef9"
   },
   "outputs": [
    {
     "data": {
      "text/html": [
       "<div>\n",
       "<style scoped>\n",
       "    .dataframe tbody tr th:only-of-type {\n",
       "        vertical-align: middle;\n",
       "    }\n",
       "\n",
       "    .dataframe tbody tr th {\n",
       "        vertical-align: top;\n",
       "    }\n",
       "\n",
       "    .dataframe thead th {\n",
       "        text-align: right;\n",
       "    }\n",
       "</style>\n",
       "<table border=\"1\" class=\"dataframe\">\n",
       "  <thead>\n",
       "    <tr style=\"text-align: right;\">\n",
       "      <th></th>\n",
       "      <th>humedad</th>\n",
       "      <th>velocidad_viento_kmh</th>\n",
       "      <th>rumbo_viento_grados</th>\n",
       "      <th>visibilidad_km</th>\n",
       "      <th>presion_mbar</th>\n",
       "      <th>lluvia</th>\n",
       "      <th>descripcion</th>\n",
       "      <th>temperatura</th>\n",
       "    </tr>\n",
       "  </thead>\n",
       "  <tbody>\n",
       "    <tr>\n",
       "      <th>1862</th>\n",
       "      <td>0.97</td>\n",
       "      <td>9.58</td>\n",
       "      <td>299.0</td>\n",
       "      <td>11.27</td>\n",
       "      <td>1003.99</td>\n",
       "      <td>NaN</td>\n",
       "      <td>Normal</td>\n",
       "      <td>17.64</td>\n",
       "    </tr>\n",
       "  </tbody>\n",
       "</table>\n",
       "</div>"
      ],
      "text/plain": [
       "      humedad  velocidad_viento_kmh  rumbo_viento_grados  visibilidad_km  \\\n",
       "1862     0.97                  9.58                299.0           11.27   \n",
       "\n",
       "      presion_mbar lluvia descripcion  temperatura  \n",
       "1862       1003.99    NaN      Normal        17.64  "
      ]
     },
     "execution_count": 16,
     "metadata": {},
     "output_type": "execute_result"
    }
   ],
   "source": [
    "data.loc[nulo_lluvia]"
   ]
  },
  {
   "cell_type": "markdown",
   "id": "cloudy-democrat",
   "metadata": {
    "id": "acute-colleague"
   },
   "source": [
    "Podemos observar que es solamente un dato y no se observa ninguna otra particularidad ya que el resto de los valores parecen correctos.\n",
    "\n",
    "En este caso lo que realizaremos es **imputar** de manera aleatoria el dato faltante. Al ser una variable categórica utilizaremos la **moda**, es decir, el valor que más veces se repite. Para esto volveremos a observar como estás distribuidos los valores que puede tomar la columna y luego definiremos con *.loc* el dato faltante y lo completaremos.\n",
    "\n",
    "En este caso lo realizaremos de manera aleatoria utilizando como criterio la **moda**, también podría imputarse los datos faltantes en base a los otros datos de las columnas que si tenemos, por ejemplo, *humedad* o *descripcion*."
   ]
  },
  {
   "cell_type": "code",
   "execution_count": 17,
   "id": "together-hurricane",
   "metadata": {
    "colab": {
     "base_uri": "https://localhost:8080/"
    },
    "executionInfo": {
     "elapsed": 289,
     "status": "ok",
     "timestamp": 1646446841468,
     "user": {
      "displayName": "Valeria Bellino",
      "photoUrl": "https://lh3.googleusercontent.com/a/default-user=s64",
      "userId": "05918551666787590515"
     },
     "user_tz": 180
    },
    "id": "received-headline",
    "outputId": "81a9ae16-875c-4667-9410-d9886ef3ea26"
   },
   "outputs": [
    {
     "data": {
      "text/plain": [
       "si    8906\n",
       "no    1088\n",
       "Name: lluvia, dtype: int64"
      ]
     },
     "execution_count": 17,
     "metadata": {},
     "output_type": "execute_result"
    }
   ],
   "source": [
    "# qué datos toma la variable\n",
    "\n",
    "data[\"lluvia\"].value_counts()"
   ]
  },
  {
   "cell_type": "code",
   "execution_count": 19,
   "id": "generic-samba",
   "metadata": {
    "colab": {
     "base_uri": "https://localhost:8080/",
     "height": 208
    },
    "executionInfo": {
     "elapsed": 330,
     "status": "error",
     "timestamp": 1646621949172,
     "user": {
      "displayName": "Valeria Bellino",
      "photoUrl": "https://lh3.googleusercontent.com/a/default-user=s64",
      "userId": "05918551666787590515"
     },
     "user_tz": 180
    },
    "id": "ambient-acting",
    "outputId": "7499870f-7a34-4ca5-c43f-0f40ee1adebc"
   },
   "outputs": [
    {
     "data": {
      "text/plain": [
       "1862    NaN\n",
       "Name: lluvia, dtype: object"
      ]
     },
     "execution_count": 19,
     "metadata": {},
     "output_type": "execute_result"
    }
   ],
   "source": [
    "# Como la moda es \"si\" (el valor que más se repite) imputaremos con ese valor (que además corresponde con la humedad)\n",
    "\n",
    "# Seleccionaremos el dato que queremos imputar\n",
    "\n",
    "data.loc[nulo_lluvia, \"lluvia\"]"
   ]
  },
  {
   "cell_type": "code",
   "execution_count": 20,
   "id": "common-celtic",
   "metadata": {
    "id": "median-sweden"
   },
   "outputs": [],
   "source": [
    "# Imputaremos el dato con el valor que definamos, en este caso \"si\"\n",
    "\n",
    "data.loc[nulo_lluvia, \"lluvia\"] = \"si\""
   ]
  },
  {
   "cell_type": "code",
   "execution_count": 21,
   "id": "previous-filing",
   "metadata": {
    "colab": {
     "base_uri": "https://localhost:8080/",
     "height": 81
    },
    "executionInfo": {
     "elapsed": 275,
     "status": "ok",
     "timestamp": 1646446850129,
     "user": {
      "displayName": "Valeria Bellino",
      "photoUrl": "https://lh3.googleusercontent.com/a/default-user=s64",
      "userId": "05918551666787590515"
     },
     "user_tz": 180
    },
    "id": "liquid-ceramic",
    "outputId": "434b9bcd-dadd-4ef0-b900-94154eef6f76"
   },
   "outputs": [
    {
     "data": {
      "text/html": [
       "<div>\n",
       "<style scoped>\n",
       "    .dataframe tbody tr th:only-of-type {\n",
       "        vertical-align: middle;\n",
       "    }\n",
       "\n",
       "    .dataframe tbody tr th {\n",
       "        vertical-align: top;\n",
       "    }\n",
       "\n",
       "    .dataframe thead th {\n",
       "        text-align: right;\n",
       "    }\n",
       "</style>\n",
       "<table border=\"1\" class=\"dataframe\">\n",
       "  <thead>\n",
       "    <tr style=\"text-align: right;\">\n",
       "      <th></th>\n",
       "      <th>humedad</th>\n",
       "      <th>velocidad_viento_kmh</th>\n",
       "      <th>rumbo_viento_grados</th>\n",
       "      <th>visibilidad_km</th>\n",
       "      <th>presion_mbar</th>\n",
       "      <th>lluvia</th>\n",
       "      <th>descripcion</th>\n",
       "      <th>temperatura</th>\n",
       "    </tr>\n",
       "  </thead>\n",
       "  <tbody>\n",
       "    <tr>\n",
       "      <th>1862</th>\n",
       "      <td>0.97</td>\n",
       "      <td>9.58</td>\n",
       "      <td>299.0</td>\n",
       "      <td>11.27</td>\n",
       "      <td>1003.99</td>\n",
       "      <td>si</td>\n",
       "      <td>Normal</td>\n",
       "      <td>17.64</td>\n",
       "    </tr>\n",
       "  </tbody>\n",
       "</table>\n",
       "</div>"
      ],
      "text/plain": [
       "      humedad  velocidad_viento_kmh  rumbo_viento_grados  visibilidad_km  \\\n",
       "1862     0.97                  9.58                299.0           11.27   \n",
       "\n",
       "      presion_mbar lluvia descripcion  temperatura  \n",
       "1862       1003.99     si      Normal        17.64  "
      ]
     },
     "execution_count": 21,
     "metadata": {},
     "output_type": "execute_result"
    }
   ],
   "source": [
    "# Revisamos la operación\n",
    "\n",
    "data.loc[nulo_lluvia]"
   ]
  },
  {
   "cell_type": "code",
   "execution_count": 22,
   "id": "later-royalty",
   "metadata": {
    "colab": {
     "base_uri": "https://localhost:8080/"
    },
    "executionInfo": {
     "elapsed": 265,
     "status": "ok",
     "timestamp": 1646446852840,
     "user": {
      "displayName": "Valeria Bellino",
      "photoUrl": "https://lh3.googleusercontent.com/a/default-user=s64",
      "userId": "05918551666787590515"
     },
     "user_tz": 180
    },
    "id": "associate-universe",
    "outputId": "900cc6cb-8814-46a8-89c8-4bbc83a1fec5"
   },
   "outputs": [
    {
     "name": "stdout",
     "output_type": "stream",
     "text": [
      "si    8907\n",
      "no    1088\n",
      "Name: lluvia, dtype: int64\n"
     ]
    },
    {
     "data": {
      "text/plain": [
       "humedad                 0\n",
       "velocidad_viento_kmh    0\n",
       "rumbo_viento_grados     0\n",
       "visibilidad_km          0\n",
       "presion_mbar            4\n",
       "lluvia                  0\n",
       "descripcion             7\n",
       "temperatura             0\n",
       "dtype: int64"
      ]
     },
     "execution_count": 22,
     "metadata": {},
     "output_type": "execute_result"
    }
   ],
   "source": [
    "# Comprobamos que este correctamente imputado y que no haya más datos nulos en lluvia\n",
    "\n",
    "print(data[\"lluvia\"].value_counts())\n",
    "data.isnull().sum()"
   ]
  },
  {
   "cell_type": "markdown",
   "id": "sacred-herald",
   "metadata": {
    "id": "greek-jersey"
   },
   "source": [
    "#### Descripción\n",
    "\n",
    "Ahora realizaremos el mismo procedimiento en el caso de los datos nulos en la variable *decripción*, utilizaremos *isnull()* para crear una máscara y luego filtraremos con *.loc.* para observar los datos"
   ]
  },
  {
   "cell_type": "code",
   "execution_count": 23,
   "id": "elder-junction",
   "metadata": {
    "colab": {
     "base_uri": "https://localhost:8080/"
    },
    "executionInfo": {
     "elapsed": 2,
     "status": "ok",
     "timestamp": 1646446869379,
     "user": {
      "displayName": "Valeria Bellino",
      "photoUrl": "https://lh3.googleusercontent.com/a/default-user=s64",
      "userId": "05918551666787590515"
     },
     "user_tz": 180
    },
    "id": "liable-bennett",
    "outputId": "0c56fe7d-1268-4460-d83d-9c4bcee2039a"
   },
   "outputs": [
    {
     "data": {
      "text/plain": [
       "0       False\n",
       "1       False\n",
       "2       False\n",
       "3       False\n",
       "4       False\n",
       "        ...  \n",
       "9995    False\n",
       "9996    False\n",
       "9997    False\n",
       "9998    False\n",
       "9999    False\n",
       "Name: descripcion, Length: 9995, dtype: bool"
      ]
     },
     "execution_count": 23,
     "metadata": {},
     "output_type": "execute_result"
    }
   ],
   "source": [
    "nulo_descripcion = data[\"descripcion\"].isnull()\n",
    "nulo_descripcion"
   ]
  },
  {
   "cell_type": "code",
   "execution_count": 24,
   "id": "enormous-glass",
   "metadata": {
    "colab": {
     "base_uri": "https://localhost:8080/",
     "height": 268
    },
    "executionInfo": {
     "elapsed": 259,
     "status": "ok",
     "timestamp": 1646446870622,
     "user": {
      "displayName": "Valeria Bellino",
      "photoUrl": "https://lh3.googleusercontent.com/a/default-user=s64",
      "userId": "05918551666787590515"
     },
     "user_tz": 180
    },
    "id": "increasing-cannon",
    "outputId": "5dd59aae-814b-4ac6-8e9a-edbd7790435e"
   },
   "outputs": [
    {
     "data": {
      "text/html": [
       "<div>\n",
       "<style scoped>\n",
       "    .dataframe tbody tr th:only-of-type {\n",
       "        vertical-align: middle;\n",
       "    }\n",
       "\n",
       "    .dataframe tbody tr th {\n",
       "        vertical-align: top;\n",
       "    }\n",
       "\n",
       "    .dataframe thead th {\n",
       "        text-align: right;\n",
       "    }\n",
       "</style>\n",
       "<table border=\"1\" class=\"dataframe\">\n",
       "  <thead>\n",
       "    <tr style=\"text-align: right;\">\n",
       "      <th></th>\n",
       "      <th>humedad</th>\n",
       "      <th>velocidad_viento_kmh</th>\n",
       "      <th>rumbo_viento_grados</th>\n",
       "      <th>visibilidad_km</th>\n",
       "      <th>presion_mbar</th>\n",
       "      <th>lluvia</th>\n",
       "      <th>descripcion</th>\n",
       "      <th>temperatura</th>\n",
       "    </tr>\n",
       "  </thead>\n",
       "  <tbody>\n",
       "    <tr>\n",
       "      <th>549</th>\n",
       "      <td>0.55</td>\n",
       "      <td>20.46</td>\n",
       "      <td>160.0</td>\n",
       "      <td>10.21</td>\n",
       "      <td>1020.71</td>\n",
       "      <td>si</td>\n",
       "      <td>NaN</td>\n",
       "      <td>8.91</td>\n",
       "    </tr>\n",
       "    <tr>\n",
       "      <th>1485</th>\n",
       "      <td>0.56</td>\n",
       "      <td>16.04</td>\n",
       "      <td>33.0</td>\n",
       "      <td>10.35</td>\n",
       "      <td>1021.43</td>\n",
       "      <td>si</td>\n",
       "      <td>NaN</td>\n",
       "      <td>2.83</td>\n",
       "    </tr>\n",
       "    <tr>\n",
       "      <th>2224</th>\n",
       "      <td>0.48</td>\n",
       "      <td>11.27</td>\n",
       "      <td>120.0</td>\n",
       "      <td>9.98</td>\n",
       "      <td>1011.10</td>\n",
       "      <td>si</td>\n",
       "      <td>NaN</td>\n",
       "      <td>16.11</td>\n",
       "    </tr>\n",
       "    <tr>\n",
       "      <th>3485</th>\n",
       "      <td>0.45</td>\n",
       "      <td>13.78</td>\n",
       "      <td>341.0</td>\n",
       "      <td>16.10</td>\n",
       "      <td>1019.04</td>\n",
       "      <td>si</td>\n",
       "      <td>NaN</td>\n",
       "      <td>23.79</td>\n",
       "    </tr>\n",
       "    <tr>\n",
       "      <th>5382</th>\n",
       "      <td>0.92</td>\n",
       "      <td>4.73</td>\n",
       "      <td>170.0</td>\n",
       "      <td>3.53</td>\n",
       "      <td>1006.13</td>\n",
       "      <td>no</td>\n",
       "      <td>NaN</td>\n",
       "      <td>-5.16</td>\n",
       "    </tr>\n",
       "    <tr>\n",
       "      <th>6582</th>\n",
       "      <td>0.65</td>\n",
       "      <td>27.10</td>\n",
       "      <td>319.0</td>\n",
       "      <td>9.98</td>\n",
       "      <td>0.00</td>\n",
       "      <td>si</td>\n",
       "      <td>NaN</td>\n",
       "      <td>4.95</td>\n",
       "    </tr>\n",
       "    <tr>\n",
       "      <th>9614</th>\n",
       "      <td>0.82</td>\n",
       "      <td>11.27</td>\n",
       "      <td>10.0</td>\n",
       "      <td>16.10</td>\n",
       "      <td>1019.90</td>\n",
       "      <td>si</td>\n",
       "      <td>NaN</td>\n",
       "      <td>0.56</td>\n",
       "    </tr>\n",
       "  </tbody>\n",
       "</table>\n",
       "</div>"
      ],
      "text/plain": [
       "      humedad  velocidad_viento_kmh  rumbo_viento_grados  visibilidad_km  \\\n",
       "549      0.55                 20.46                160.0           10.21   \n",
       "1485     0.56                 16.04                 33.0           10.35   \n",
       "2224     0.48                 11.27                120.0            9.98   \n",
       "3485     0.45                 13.78                341.0           16.10   \n",
       "5382     0.92                  4.73                170.0            3.53   \n",
       "6582     0.65                 27.10                319.0            9.98   \n",
       "9614     0.82                 11.27                 10.0           16.10   \n",
       "\n",
       "      presion_mbar lluvia descripcion  temperatura  \n",
       "549        1020.71     si         NaN         8.91  \n",
       "1485       1021.43     si         NaN         2.83  \n",
       "2224       1011.10     si         NaN        16.11  \n",
       "3485       1019.04     si         NaN        23.79  \n",
       "5382       1006.13     no         NaN        -5.16  \n",
       "6582          0.00     si         NaN         4.95  \n",
       "9614       1019.90     si         NaN         0.56  "
      ]
     },
     "execution_count": 24,
     "metadata": {},
     "output_type": "execute_result"
    }
   ],
   "source": [
    "data.loc[nulo_descripcion]"
   ]
  },
  {
   "cell_type": "markdown",
   "id": "suburban-welding",
   "metadata": {
    "id": "italian-cooling"
   },
   "source": [
    "Podemos observar que son 7 datos que únicamente es nulo el dato \"descripcion\" y que el resto de los valores parece razonable. \n",
    "\n",
    "En este caso nuevamente lo que realizaremos es **imputar** de manera aleatoria el dato faltante. Para esto volveremos a observar los datos que puede tomar esta columna y luego definiremos con *.loc* el dato faltante y lo completaremos.Esta imputación será creando una lista aleatoria de valores para completar los datos faltantes. \n",
    "\n",
    "Para crear esta lista utilizaremos la libreria *random* cuyo método *choices* permite la generación de una lista aleatoria. Para ver más de esta librería y practicar puede consultaste [w3schools](https://www.w3schools.com/python/ref_random_choice.asp)\n",
    "\n",
    "Aquí también lo realizaremos de manera aleatoria, pero podría imputarse los datos faltantes en base a los otros datos de las columnas que si tenemos."
   ]
  },
  {
   "cell_type": "code",
   "execution_count": 25,
   "id": "global-longer",
   "metadata": {
    "colab": {
     "base_uri": "https://localhost:8080/"
    },
    "executionInfo": {
     "elapsed": 235,
     "status": "ok",
     "timestamp": 1646446887241,
     "user": {
      "displayName": "Valeria Bellino",
      "photoUrl": "https://lh3.googleusercontent.com/a/default-user=s64",
      "userId": "05918551666787590515"
     },
     "user_tz": 180
    },
    "id": "compliant-spyware",
    "outputId": "d04632a9-2258-4b46-8ed5-edb0206b3dd8"
   },
   "outputs": [
    {
     "data": {
      "text/plain": [
       "array(['Cold', 'Warm', 'Normal', nan], dtype=object)"
      ]
     },
     "execution_count": 25,
     "metadata": {},
     "output_type": "execute_result"
    }
   ],
   "source": [
    "# Primero confirmaremos los valores que puede tomar la columna \"descripcion\"\n",
    "\n",
    "data[\"descripcion\"].unique()"
   ]
  },
  {
   "cell_type": "code",
   "execution_count": 28,
   "id": "oriented-sterling",
   "metadata": {
    "colab": {
     "base_uri": "https://localhost:8080/"
    },
    "executionInfo": {
     "elapsed": 3,
     "status": "ok",
     "timestamp": 1646446889681,
     "user": {
      "displayName": "Valeria Bellino",
      "photoUrl": "https://lh3.googleusercontent.com/a/default-user=s64",
      "userId": "05918551666787590515"
     },
     "user_tz": 180
    },
    "id": "raising-member",
    "outputId": "edc926fe-3adb-459c-d9b9-5ae03c5ea28c"
   },
   "outputs": [
    {
     "data": {
      "text/plain": [
       "['Cold', 'Warm', 'Normal', 'Normal', 'Normal', 'Cold', 'Normal']"
      ]
     },
     "execution_count": 28,
     "metadata": {},
     "output_type": "execute_result"
    }
   ],
   "source": [
    "# Creamos la lista que tome los valores que indiquemos y k es la cantidad de valores que se generaran, en este caso 7\n",
    "\n",
    "import random\n",
    "\n",
    "lista_imputar = random.choices([\"Cold\", \"Warm\", \"Normal\"], k=7)  #correr varias veces para ver como se modifica\n",
    "lista_imputar"
   ]
  },
  {
   "cell_type": "code",
   "execution_count": 29,
   "id": "amended-amendment",
   "metadata": {
    "id": "cosmetic-robertson"
   },
   "outputs": [],
   "source": [
    "# Volvemos a seleccionar los campos que queremos imputar y definimos los campos con la lista creada en el paso anterior\n",
    "\n",
    "data.loc[nulo_descripcion, \"descripcion\"]=lista_imputar"
   ]
  },
  {
   "cell_type": "code",
   "execution_count": 30,
   "id": "norman-cambodia",
   "metadata": {
    "colab": {
     "base_uri": "https://localhost:8080/"
    },
    "executionInfo": {
     "elapsed": 252,
     "status": "ok",
     "timestamp": 1646446898158,
     "user": {
      "displayName": "Valeria Bellino",
      "photoUrl": "https://lh3.googleusercontent.com/a/default-user=s64",
      "userId": "05918551666787590515"
     },
     "user_tz": 180
    },
    "id": "exact-portsmouth",
    "outputId": "b2e1f795-3241-4588-faa7-20b1d3c4c9f2"
   },
   "outputs": [
    {
     "name": "stdout",
     "output_type": "stream",
     "text": [
      "Normal    4991\n",
      "Warm      2505\n",
      "Cold      2499\n",
      "Name: descripcion, dtype: int64\n"
     ]
    },
    {
     "data": {
      "text/plain": [
       "humedad                 0\n",
       "velocidad_viento_kmh    0\n",
       "rumbo_viento_grados     0\n",
       "visibilidad_km          0\n",
       "presion_mbar            4\n",
       "lluvia                  0\n",
       "descripcion             0\n",
       "temperatura             0\n",
       "dtype: int64"
      ]
     },
     "execution_count": 30,
     "metadata": {},
     "output_type": "execute_result"
    }
   ],
   "source": [
    "# Comprobamos que este correctamente imputado y que no haya más datos nulos en lluvia\n",
    "\n",
    "print(data[\"descripcion\"].value_counts())\n",
    "\n",
    "data.isnull().sum()"
   ]
  },
  {
   "cell_type": "markdown",
   "id": "corresponding-signal",
   "metadata": {
    "id": "actual-billion"
   },
   "source": [
    "#### Presion mbar\n",
    "\n",
    "Ahora realizaremos el mismo procedimiento en el caso de los datos nulos en la variable \"presion\", utilizaremos *isnull()* para crear una máscara y luego filtraremos con *.loc.* para observar los datos"
   ]
  },
  {
   "cell_type": "code",
   "execution_count": 31,
   "id": "hungarian-harrison",
   "metadata": {
    "colab": {
     "base_uri": "https://localhost:8080/",
     "height": 50
    },
    "executionInfo": {
     "elapsed": 273,
     "status": "ok",
     "timestamp": 1646530114896,
     "user": {
      "displayName": "Valeria Bellino",
      "photoUrl": "https://lh3.googleusercontent.com/a/default-user=s64",
      "userId": "05918551666787590515"
     },
     "user_tz": 180
    },
    "id": "described-nurse",
    "outputId": "a7d0f26f-486e-4d1b-943b-c3d027c17259"
   },
   "outputs": [
    {
     "data": {
      "text/html": [
       "<div>\n",
       "<style scoped>\n",
       "    .dataframe tbody tr th:only-of-type {\n",
       "        vertical-align: middle;\n",
       "    }\n",
       "\n",
       "    .dataframe tbody tr th {\n",
       "        vertical-align: top;\n",
       "    }\n",
       "\n",
       "    .dataframe thead th {\n",
       "        text-align: right;\n",
       "    }\n",
       "</style>\n",
       "<table border=\"1\" class=\"dataframe\">\n",
       "  <thead>\n",
       "    <tr style=\"text-align: right;\">\n",
       "      <th></th>\n",
       "      <th>humedad</th>\n",
       "      <th>velocidad_viento_kmh</th>\n",
       "      <th>rumbo_viento_grados</th>\n",
       "      <th>visibilidad_km</th>\n",
       "      <th>presion_mbar</th>\n",
       "      <th>lluvia</th>\n",
       "      <th>descripcion</th>\n",
       "      <th>temperatura</th>\n",
       "    </tr>\n",
       "  </thead>\n",
       "  <tbody>\n",
       "    <tr>\n",
       "      <th>1253</th>\n",
       "      <td>0.42</td>\n",
       "      <td>9.77</td>\n",
       "      <td>138.0</td>\n",
       "      <td>10.35</td>\n",
       "      <td>NaN</td>\n",
       "      <td>si</td>\n",
       "      <td>Normal</td>\n",
       "      <td>13.98</td>\n",
       "    </tr>\n",
       "    <tr>\n",
       "      <th>4135</th>\n",
       "      <td>0.48</td>\n",
       "      <td>25.89</td>\n",
       "      <td>302.0</td>\n",
       "      <td>10.58</td>\n",
       "      <td>NaN</td>\n",
       "      <td>si</td>\n",
       "      <td>Normal</td>\n",
       "      <td>17.00</td>\n",
       "    </tr>\n",
       "    <tr>\n",
       "      <th>5352</th>\n",
       "      <td>0.92</td>\n",
       "      <td>9.60</td>\n",
       "      <td>154.0</td>\n",
       "      <td>14.59</td>\n",
       "      <td>NaN</td>\n",
       "      <td>si</td>\n",
       "      <td>Cold</td>\n",
       "      <td>3.51</td>\n",
       "    </tr>\n",
       "    <tr>\n",
       "      <th>8128</th>\n",
       "      <td>0.35</td>\n",
       "      <td>4.80</td>\n",
       "      <td>50.0</td>\n",
       "      <td>9.98</td>\n",
       "      <td>NaN</td>\n",
       "      <td>si</td>\n",
       "      <td>Warm</td>\n",
       "      <td>27.20</td>\n",
       "    </tr>\n",
       "  </tbody>\n",
       "</table>\n",
       "</div>"
      ],
      "text/plain": [
       "      humedad  velocidad_viento_kmh  rumbo_viento_grados  visibilidad_km  \\\n",
       "1253     0.42                  9.77                138.0           10.35   \n",
       "4135     0.48                 25.89                302.0           10.58   \n",
       "5352     0.92                  9.60                154.0           14.59   \n",
       "8128     0.35                  4.80                 50.0            9.98   \n",
       "\n",
       "      presion_mbar lluvia descripcion  temperatura  \n",
       "1253           NaN     si      Normal        13.98  \n",
       "4135           NaN     si      Normal        17.00  \n",
       "5352           NaN     si        Cold         3.51  \n",
       "8128           NaN     si        Warm        27.20  "
      ]
     },
     "execution_count": 31,
     "metadata": {},
     "output_type": "execute_result"
    }
   ],
   "source": [
    "# En la misma linea\n",
    "\n",
    "data.loc[data[\"presion_mbar\"].isnull()]"
   ]
  },
  {
   "cell_type": "markdown",
   "id": "naked-liberty",
   "metadata": {
    "id": "assumed-suspect"
   },
   "source": [
    "Aquí se observan 4 datos nulos pero nuevamente no se observan particularidades en el resto de los datos. Debido a esto también vamos a **imputar** los datos faltantes , en este caso para imputarlo utilizaremos el método [fillna](https://pandas.pydata.org/docs/reference/api/pandas.DataFrame.fillna.html?highlight=fillna#pandas.DataFrame.fillna). Este método imputa valores nulos con el valor que se desee, en este caso imputaremos con la **media (promedio)** de la columna"
   ]
  },
  {
   "cell_type": "code",
   "execution_count": 32,
   "id": "sealed-vietnam",
   "metadata": {
    "colab": {
     "base_uri": "https://localhost:8080/"
    },
    "executionInfo": {
     "elapsed": 241,
     "status": "ok",
     "timestamp": 1646529941481,
     "user": {
      "displayName": "Valeria Bellino",
      "photoUrl": "https://lh3.googleusercontent.com/a/default-user=s64",
      "userId": "05918551666787590515"
     },
     "user_tz": 180
    },
    "id": "G5FRlWyk0xhI",
    "outputId": "764b742c-86fd-424a-f2fd-c41ae023b56c"
   },
   "outputs": [
    {
     "data": {
      "text/plain": [
       "1004.8844069662696"
      ]
     },
     "execution_count": 32,
     "metadata": {},
     "output_type": "execute_result"
    }
   ],
   "source": [
    "# calculamos la media (promedio)\n",
    "\n",
    "promedio_presion = data[\"presion_mbar\"].mean()\n",
    "\n",
    "promedio_presion"
   ]
  },
  {
   "cell_type": "code",
   "execution_count": 33,
   "id": "rough-heaven",
   "metadata": {
    "colab": {
     "base_uri": "https://localhost:8080/"
    },
    "executionInfo": {
     "elapsed": 413,
     "status": "ok",
     "timestamp": 1646530099184,
     "user": {
      "displayName": "Valeria Bellino",
      "photoUrl": "https://lh3.googleusercontent.com/a/default-user=s64",
      "userId": "05918551666787590515"
     },
     "user_tz": 180
    },
    "id": "W9hs62yi1J3r",
    "outputId": "f9fd51b4-4e2b-4b87-fec6-856eb6c9f0f5"
   },
   "outputs": [
    {
     "data": {
      "text/plain": [
       "1004.88"
      ]
     },
     "execution_count": 33,
     "metadata": {},
     "output_type": "execute_result"
    }
   ],
   "source": [
    "# se puede redondear el valor utilizando round\n",
    "\n",
    "promedio_presion_redondeado = round(promedio_presion,2)\n",
    "promedio_presion_redondeado"
   ]
  },
  {
   "cell_type": "code",
   "execution_count": 34,
   "id": "physical-antibody",
   "metadata": {
    "id": "provincial-broadway"
   },
   "outputs": [],
   "source": [
    "data[\"presion_mbar\"] = data[\"presion_mbar\"].fillna(promedio_presion_redondeado)"
   ]
  },
  {
   "cell_type": "code",
   "execution_count": 35,
   "id": "different-accent",
   "metadata": {
    "colab": {
     "base_uri": "https://localhost:8080/",
     "height": 50
    },
    "executionInfo": {
     "elapsed": 266,
     "status": "ok",
     "timestamp": 1646447001575,
     "user": {
      "displayName": "Valeria Bellino",
      "photoUrl": "https://lh3.googleusercontent.com/a/default-user=s64",
      "userId": "05918551666787590515"
     },
     "user_tz": 180
    },
    "id": "straight-gregory",
    "outputId": "b0e831f5-78e3-432b-b2db-1c20bdce41e9"
   },
   "outputs": [
    {
     "data": {
      "text/html": [
       "<div>\n",
       "<style scoped>\n",
       "    .dataframe tbody tr th:only-of-type {\n",
       "        vertical-align: middle;\n",
       "    }\n",
       "\n",
       "    .dataframe tbody tr th {\n",
       "        vertical-align: top;\n",
       "    }\n",
       "\n",
       "    .dataframe thead th {\n",
       "        text-align: right;\n",
       "    }\n",
       "</style>\n",
       "<table border=\"1\" class=\"dataframe\">\n",
       "  <thead>\n",
       "    <tr style=\"text-align: right;\">\n",
       "      <th></th>\n",
       "      <th>humedad</th>\n",
       "      <th>velocidad_viento_kmh</th>\n",
       "      <th>rumbo_viento_grados</th>\n",
       "      <th>visibilidad_km</th>\n",
       "      <th>presion_mbar</th>\n",
       "      <th>lluvia</th>\n",
       "      <th>descripcion</th>\n",
       "      <th>temperatura</th>\n",
       "    </tr>\n",
       "  </thead>\n",
       "  <tbody>\n",
       "  </tbody>\n",
       "</table>\n",
       "</div>"
      ],
      "text/plain": [
       "Empty DataFrame\n",
       "Columns: [humedad, velocidad_viento_kmh, rumbo_viento_grados, visibilidad_km, presion_mbar, lluvia, descripcion, temperatura]\n",
       "Index: []"
      ]
     },
     "execution_count": 35,
     "metadata": {},
     "output_type": "execute_result"
    }
   ],
   "source": [
    "# Revisamos la operación\n",
    "\n",
    "data.loc[data[\"presion_mbar\"].isnull()]"
   ]
  },
  {
   "cell_type": "code",
   "execution_count": 36,
   "id": "large-stable",
   "metadata": {
    "colab": {
     "base_uri": "https://localhost:8080/"
    },
    "executionInfo": {
     "elapsed": 224,
     "status": "ok",
     "timestamp": 1646447005861,
     "user": {
      "displayName": "Valeria Bellino",
      "photoUrl": "https://lh3.googleusercontent.com/a/default-user=s64",
      "userId": "05918551666787590515"
     },
     "user_tz": 180
    },
    "id": "needed-rover",
    "outputId": "37e4b3fa-10c5-4a1d-f2a4-73272bd13755"
   },
   "outputs": [
    {
     "data": {
      "text/plain": [
       "humedad                 0\n",
       "velocidad_viento_kmh    0\n",
       "rumbo_viento_grados     0\n",
       "visibilidad_km          0\n",
       "presion_mbar            0\n",
       "lluvia                  0\n",
       "descripcion             0\n",
       "temperatura             0\n",
       "dtype: int64"
      ]
     },
     "execution_count": 36,
     "metadata": {},
     "output_type": "execute_result"
    }
   ],
   "source": [
    "# Comprobamos la cantidad de nulos\n",
    "\n",
    "data.isnull().sum()"
   ]
  },
  {
   "cell_type": "markdown",
   "id": "perfect-continent",
   "metadata": {
    "id": "ZsKhfo7U4575"
   },
   "source": [
    "## Conclusión\n",
    "\n",
    "En esta notebook hemos revisado disntias formas de resolver los datos faltantes y se vieron diferentes métodos útiles para realizar estas operaciones. "
   ]
  },
  {
   "cell_type": "markdown",
   "id": "selective-commission",
   "metadata": {
    "id": "miniature-parade"
   },
   "source": [
    "Dado que hemos realizado cambios en el Dataset y el encuentro que viene retomaremos este mismo, vamos a utilizar el método *to_csv* que es el opuesto a *read_csv* y sirve para exportar un CSV de una Notebook"
   ]
  },
  {
   "cell_type": "code",
   "execution_count": null,
   "id": "commercial-convertible",
   "metadata": {
    "colab": {
     "base_uri": "https://localhost:8080/",
     "height": 227
    },
    "executionInfo": {
     "elapsed": 317,
     "status": "error",
     "timestamp": 1646519272442,
     "user": {
      "displayName": "Valeria Bellino",
      "photoUrl": "https://lh3.googleusercontent.com/a/default-user=s64",
      "userId": "05918551666787590515"
     },
     "user_tz": 180
    },
    "id": "7LSXiZu85GQG",
    "outputId": "2026f228-0fd4-41b9-8314-81971b92fcd9"
   },
   "outputs": [
    {
     "ename": "NameError",
     "evalue": "ignored",
     "output_type": "error",
     "traceback": [
      "\u001b[0;31m---------------------------------------------------------------------------\u001b[0m",
      "\u001b[0;31mNameError\u001b[0m                                 Traceback (most recent call last)",
      "\u001b[0;32m<ipython-input-1-718174708a3e>\u001b[0m in \u001b[0;36m<module>\u001b[0;34m()\u001b[0m\n\u001b[1;32m      1\u001b[0m \u001b[0;31m# Guardar en drive\u001b[0m\u001b[0;34m\u001b[0m\u001b[0;34m\u001b[0m\u001b[0;34m\u001b[0m\u001b[0m\n\u001b[1;32m      2\u001b[0m \u001b[0;34m\u001b[0m\u001b[0m\n\u001b[0;32m----> 3\u001b[0;31m \u001b[0mdata\u001b[0m\u001b[0;34m.\u001b[0m\u001b[0mto_csv\u001b[0m\u001b[0;34m(\u001b[0m\u001b[0;34m\"/content/drive/MyDrive/Aprender Programando/2022/Guías y Recursos - Trayectos 2021/Recursos/Modulos 1 y 2. Presentación CABA/Ciencia de datos/2022/Módulo 2/Encuentro 4/data_clima\"\u001b[0m\u001b[0;34m,\u001b[0m \u001b[0mindex\u001b[0m\u001b[0;34m=\u001b[0m\u001b[0;32mFalse\u001b[0m\u001b[0;34m)\u001b[0m\u001b[0;34m\u001b[0m\u001b[0;34m\u001b[0m\u001b[0m\n\u001b[0m",
      "\u001b[0;31mNameError\u001b[0m: name 'data' is not defined"
     ]
    }
   ],
   "source": [
    "# Guardar en drive\n",
    "\n",
    "data.to_csv(\"/content/drive/MyDrive/Aprender Programando/2022/Guías y Recursos - Trayectos 2021/Recursos/Modulos 1 y 2. Presentación CABA/Ciencia de datos/2022/Módulo 2/Encuentro 3/data_clima\", index=False)\n"
   ]
  },
  {
   "cell_type": "code",
   "execution_count": null,
   "id": "incoming-effort",
   "metadata": {
    "colab": {
     "base_uri": "https://localhost:8080/",
     "height": 16
    },
    "executionInfo": {
     "elapsed": 251,
     "status": "ok",
     "timestamp": 1646447264454,
     "user": {
      "displayName": "Valeria Bellino",
      "photoUrl": "https://lh3.googleusercontent.com/a/default-user=s64",
      "userId": "05918551666787590515"
     },
     "user_tz": 180
    },
    "id": "naked-hardware",
    "outputId": "5bb8bdd3-e929-4e0f-df38-706d486b772c"
   },
   "outputs": [
    {
     "data": {
      "application/javascript": [
       "\n",
       "    async function download(id, filename, size) {\n",
       "      if (!google.colab.kernel.accessAllowed) {\n",
       "        return;\n",
       "      }\n",
       "      const div = document.createElement('div');\n",
       "      const label = document.createElement('label');\n",
       "      label.textContent = `Downloading \"${filename}\": `;\n",
       "      div.appendChild(label);\n",
       "      const progress = document.createElement('progress');\n",
       "      progress.max = size;\n",
       "      div.appendChild(progress);\n",
       "      document.body.appendChild(div);\n",
       "\n",
       "      const buffers = [];\n",
       "      let downloaded = 0;\n",
       "\n",
       "      const channel = await google.colab.kernel.comms.open(id);\n",
       "      // Send a message to notify the kernel that we're ready.\n",
       "      channel.send({})\n",
       "\n",
       "      for await (const message of channel.messages) {\n",
       "        // Send a message to notify the kernel that we're ready.\n",
       "        channel.send({})\n",
       "        if (message.buffers) {\n",
       "          for (const buffer of message.buffers) {\n",
       "            buffers.push(buffer);\n",
       "            downloaded += buffer.byteLength;\n",
       "            progress.value = downloaded;\n",
       "          }\n",
       "        }\n",
       "      }\n",
       "      const blob = new Blob(buffers, {type: 'application/binary'});\n",
       "      const a = document.createElement('a');\n",
       "      a.href = window.URL.createObjectURL(blob);\n",
       "      a.download = filename;\n",
       "      div.appendChild(a);\n",
       "      a.click();\n",
       "      div.remove();\n",
       "    }\n",
       "  "
      ],
      "text/plain": [
       "<IPython.core.display.Javascript object>"
      ]
     },
     "metadata": {},
     "output_type": "display_data"
    },
    {
     "data": {
      "application/javascript": [
       "download(\"download_55c933da-6710-4aab-9df3-07ccc5266717\", \"data_clima3.csv\", 437201)"
      ],
      "text/plain": [
       "<IPython.core.display.Javascript object>"
      ]
     },
     "metadata": {},
     "output_type": "display_data"
    }
   ],
   "source": [
    "# Descargar en computadora\n",
    "\n",
    "from google.colab import files\n",
    "\n",
    "data.to_csv(\"data_clima3.csv\", index=False)\n",
    "files.download(\"data_clima3.csv\")"
   ]
  }
 ],
 "metadata": {
  "colab": {
   "name": "Limpieza_de_datos_datos_nulos.ipynb",
   "provenance": []
  },
  "kernelspec": {
   "display_name": "Python 3",
   "language": "python",
   "name": "python3"
  },
  "language_info": {
   "codemirror_mode": {
    "name": "ipython",
    "version": 3
   },
   "file_extension": ".py",
   "mimetype": "text/x-python",
   "name": "python",
   "nbconvert_exporter": "python",
   "pygments_lexer": "ipython3",
   "version": "3.7.10"
  }
 },
 "nbformat": 4,
 "nbformat_minor": 5
}
