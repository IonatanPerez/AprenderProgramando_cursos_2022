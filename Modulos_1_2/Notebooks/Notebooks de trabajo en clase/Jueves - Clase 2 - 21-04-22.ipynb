{
  "nbformat": 4,
  "nbformat_minor": 0,
  "metadata": {
    "colab": {
      "name": "Clase 1 Martes.ipynb",
      "provenance": []
    },
    "kernelspec": {
      "name": "python3",
      "display_name": "Python 3"
    },
    "language_info": {
      "name": "python"
    }
  },
  "cells": [
    {
      "cell_type": "markdown",
      "source": [
        "# Que vamos a hacer hoy\n",
        "\n",
        "- Repasamos google colab\n",
        "- Ver tipos de variables basicas\n",
        "- Tipos avanzados si llegamos"
      ],
      "metadata": {
        "id": "VK3AUVlkdyhN"
      }
    },
    {
      "cell_type": "code",
      "source": [
        "3 + 3"
      ],
      "metadata": {
        "colab": {
          "base_uri": "https://localhost:8080/"
        },
        "id": "Z6ym2ueveF8f",
        "outputId": "6dfae644-9d4f-4037-f62f-61f1ba6a8f0e"
      },
      "execution_count": null,
      "outputs": [
        {
          "output_type": "execute_result",
          "data": {
            "text/plain": [
              "6"
            ]
          },
          "metadata": {},
          "execution_count": 1
        }
      ]
    },
    {
      "cell_type": "code",
      "source": [
        "190/3"
      ],
      "metadata": {
        "colab": {
          "base_uri": "https://localhost:8080/"
        },
        "id": "0jlAX3h3eqIU",
        "outputId": "1c33154f-5bae-40a1-e830-3e2fa0c12566"
      },
      "execution_count": null,
      "outputs": [
        {
          "output_type": "execute_result",
          "data": {
            "text/plain": [
              "63.333333333333336"
            ]
          },
          "metadata": {},
          "execution_count": 2
        }
      ]
    },
    {
      "cell_type": "code",
      "source": [
        "190//3"
      ],
      "metadata": {
        "colab": {
          "base_uri": "https://localhost:8080/"
        },
        "id": "0OvHC-sAe5Zn",
        "outputId": "916f9acb-53d4-407c-dfb3-934e56b8e231"
      },
      "execution_count": null,
      "outputs": [
        {
          "output_type": "execute_result",
          "data": {
            "text/plain": [
              "63"
            ]
          },
          "metadata": {},
          "execution_count": 4
        }
      ]
    },
    {
      "cell_type": "code",
      "source": [
        "190%3"
      ],
      "metadata": {
        "colab": {
          "base_uri": "https://localhost:8080/"
        },
        "id": "1j5IpM03fXGQ",
        "outputId": "e7e9bf09-d531-47f9-be61-824c3cb31624"
      },
      "execution_count": null,
      "outputs": [
        {
          "output_type": "execute_result",
          "data": {
            "text/plain": [
              "1"
            ]
          },
          "metadata": {},
          "execution_count": 5
        }
      ]
    },
    {
      "cell_type": "code",
      "source": [
        "print (190/3)\n",
        "print (190//3)\n",
        "print (190%3)"
      ],
      "metadata": {
        "colab": {
          "base_uri": "https://localhost:8080/"
        },
        "id": "8xEDx0yJfhPs",
        "outputId": "10650e52-9fee-4bb0-966a-fd89b4bb9e9f"
      },
      "execution_count": null,
      "outputs": [
        {
          "output_type": "stream",
          "name": "stdout",
          "text": [
            "63.333333333333336\n",
            "63\n",
            "1\n"
          ]
        }
      ]
    },
    {
      "cell_type": "code",
      "source": [
        "print (\"Hola\")"
      ],
      "metadata": {
        "colab": {
          "base_uri": "https://localhost:8080/"
        },
        "id": "UM-zqMwNf9ng",
        "outputId": "544bf99f-d1e4-4918-b177-aa358d5b4713"
      },
      "execution_count": null,
      "outputs": [
        {
          "output_type": "stream",
          "name": "stdout",
          "text": [
            "Hola\n"
          ]
        }
      ]
    },
    {
      "cell_type": "code",
      "source": [
        "suma_de_edades = 18+17+15+17+17+16+36+30"
      ],
      "metadata": {
        "id": "iVBnOOCSgYm6"
      },
      "execution_count": null,
      "outputs": []
    },
    {
      "cell_type": "code",
      "source": [
        "suma_de_edades = 18+17+15+17+17+16+30\n",
        "print (\"La suma de todas las edades es: \", suma_de_edades)\n",
        "print (\"El promedio de edades es: \", suma_de_edades/7)"
      ],
      "metadata": {
        "colab": {
          "base_uri": "https://localhost:8080/"
        },
        "id": "SWxZu9Wng_ff",
        "outputId": "6f320536-8405-4102-8dd5-9cb662043998"
      },
      "execution_count": null,
      "outputs": [
        {
          "output_type": "stream",
          "name": "stdout",
          "text": [
            "La suma de todas las edades es:  130\n",
            "El promedio de edades es:  18.571428571428573\n"
          ]
        }
      ]
    },
    {
      "cell_type": "code",
      "source": [
        "lista_de_edades = [18,17,15,17,17,16,36,30]"
      ],
      "metadata": {
        "id": "zi4J2RtJh0DQ"
      },
      "execution_count": null,
      "outputs": []
    },
    {
      "cell_type": "code",
      "source": [
        "print (lista_de_edades)"
      ],
      "metadata": {
        "colab": {
          "base_uri": "https://localhost:8080/"
        },
        "id": "7gaF8FJriFsD",
        "outputId": "8ea42045-31bc-4639-cb4d-dae517339041"
      },
      "execution_count": null,
      "outputs": [
        {
          "output_type": "stream",
          "name": "stdout",
          "text": [
            "[18, 17, 15, 17, 17, 16, 36, 30]\n"
          ]
        }
      ]
    },
    {
      "cell_type": "code",
      "source": [
        "lista_de_edades[7]"
      ],
      "metadata": {
        "colab": {
          "base_uri": "https://localhost:8080/"
        },
        "id": "DA5W1qj_iWGE",
        "outputId": "8c8134db-4a64-48f6-e49e-3a967e5fbbb7"
      },
      "execution_count": null,
      "outputs": [
        {
          "output_type": "execute_result",
          "data": {
            "text/plain": [
              "30"
            ]
          },
          "metadata": {},
          "execution_count": 25
        }
      ]
    },
    {
      "cell_type": "code",
      "source": [
        "lista_de_edades = [18,17,15,17,17,16,30,36,40]\n",
        "suma_de_edades = sum(lista_de_edades)\n",
        "cantidad_de_personas = len(lista_de_edades)\n",
        "print (\"El promedio de edades de las personas que estan en el aula es \",suma_de_edades/cantidad_de_personas)"
      ],
      "metadata": {
        "colab": {
          "base_uri": "https://localhost:8080/"
        },
        "id": "Fb-bMmv7iw-w",
        "outputId": "3fe6b120-dc1b-4066-8466-e3eacd99a56d"
      },
      "execution_count": null,
      "outputs": [
        {
          "output_type": "stream",
          "name": "stdout",
          "text": [
            "El promedio de edades de las personas que estan en el aula es  22.88888888888889\n"
          ]
        }
      ]
    },
    {
      "cell_type": "code",
      "source": [
        "def que_entre_persona(lista,edad_nueva):\n",
        "  lista.append(edad_nueva)\n",
        "  return lista\n",
        "\n",
        "def promedio_edad(lista):\n",
        "  return sum(lista)/len(lista)"
      ],
      "metadata": {
        "id": "9mFiK_3Tj4DG"
      },
      "execution_count": null,
      "outputs": []
    },
    {
      "cell_type": "code",
      "source": [
        "mi_nueva_lista = []\n",
        "\n",
        "que_entre_persona(mi_nueva_lista,40)\n",
        "que_entre_persona(mi_nueva_lista,10)\n",
        "que_entre_persona(mi_nueva_lista,20)"
      ],
      "metadata": {
        "colab": {
          "base_uri": "https://localhost:8080/"
        },
        "id": "00jFc9clkhVf",
        "outputId": "01c9de0b-f369-46eb-b2b3-bc662366c0e7"
      },
      "execution_count": null,
      "outputs": [
        {
          "output_type": "execute_result",
          "data": {
            "text/plain": [
              "[40, 10, 20]"
            ]
          },
          "metadata": {},
          "execution_count": 35
        }
      ]
    }
  ]
}