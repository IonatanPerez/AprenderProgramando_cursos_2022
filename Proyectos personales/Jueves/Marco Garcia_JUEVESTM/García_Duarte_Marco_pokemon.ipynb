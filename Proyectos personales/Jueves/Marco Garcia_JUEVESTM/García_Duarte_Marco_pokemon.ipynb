{
  "nbformat": 4,
  "nbformat_minor": 0,
  "metadata": {
    "colab": {
      "name": "García Duarte Marco-pokemon.ipynb",
      "provenance": []
    },
    "kernelspec": {
      "name": "python3",
      "display_name": "Python 3"
    },
    "language_info": {
      "name": "python"
    }
  },
  "cells": [
    {
      "cell_type": "code",
      "execution_count": 179,
      "metadata": {
        "colab": {
          "base_uri": "https://localhost:8080/"
        },
        "id": "_gH8z7SU-14G",
        "outputId": "6210b422-0ba6-485a-e7b9-2ce2a92cc20f"
      },
      "outputs": [
        {
          "output_type": "stream",
          "name": "stdout",
          "text": [
            "Drive already mounted at /content/drive; to attempt to forcibly remount, call drive.mount(\"/content/drive\", force_remount=True).\n"
          ]
        }
      ],
      "source": [
        "import pandas as pd\n",
        "import  matplotlib.pyplot as plt\n",
        "import seaborn as sns\n",
        "from google.colab import drive\n",
        "data= pd.read_csv(\"pokemon.csv\")\n",
        "from google.colab import drive\n",
        "drive.mount(\"/content/drive\")\n",
        "\n",
        "#regresion lineal simple y multiple\n",
        "from sklearn.model_selection import train_test_split\n",
        "from sklearn.linear_model import LinearRegression\n",
        "import numpy as np\n",
        "from sklearn.metrics import r2_score\n",
        "from sklearn.metrics import mean_absolute_error\n",
        "from sklearn.metrics import mean_squared_error\n",
        "from sklearn.metrics import r2_score"
      ]
    },
    {
      "cell_type": "code",
      "source": [
        "# 1 LIMPIEZA\n",
        "data"
      ],
      "metadata": {
        "colab": {
          "base_uri": "https://localhost:8080/",
          "height": 487
        },
        "id": "fMjQTiHs_IyI",
        "outputId": "07d1ac0e-682f-42ea-8972-51ef3fda6d6d"
      },
      "execution_count": 180,
      "outputs": [
        {
          "output_type": "execute_result",
          "data": {
            "text/plain": [
              "         nombre  indice_guia  resistencia  ataque  defensa tipo_primario  \\\n",
              "0     Bulbasaur            1        128.0   118.0    111.0         Grass   \n",
              "1       Ivysaur            2        155.0   151.0    143.0         Grass   \n",
              "2      Venusaur            3        190.0   198.0    189.0         Grass   \n",
              "3    Charmander            4        118.0   116.0     93.0          Fire   \n",
              "4    Charmeleon            5        151.0   158.0    126.0          Fire   \n",
              "..          ...          ...          ...     ...      ...           ...   \n",
              "644    Landorus          645        205.0   261.0    182.0        Ground   \n",
              "645      Kyurem          646        245.0   246.0    170.0        Dragon   \n",
              "646      Keldeo          647        209.0   260.0    192.0         Water   \n",
              "647    Meloetta          648        225.0   250.0    225.0        Normal   \n",
              "648    Genesect          649        174.0   252.0    199.0           Bug   \n",
              "\n",
              "    tipo_secundario  max_salud  tasa_captura  tasa_escape  Weight  Height  \\\n",
              "0            Poison      113.0          0.20         0.10     6.9     0.7   \n",
              "1            Poison      134.0          0.10         0.07    13.0     1.0   \n",
              "2            Poison      162.0          0.05         0.05   100.0     2.0   \n",
              "3              None      105.0          0.20         0.10     8.5     0.6   \n",
              "4              None      131.0          0.10         0.07    19.0     1.1   \n",
              "..              ...        ...           ...          ...     ...     ...   \n",
              "644          Flying      173.0          0.02         0.01    68.0     1.5   \n",
              "645             Ice      205.0          0.02         0.01   325.0     3.0   \n",
              "646        Fighting      177.0          0.02         0.01    48.5     1.4   \n",
              "647         Psychic      189.0          0.02         0.01     6.5     0.6   \n",
              "648           Steel      149.0          0.02         0.01    82.5     1.5   \n",
              "\n",
              "    Legendario  generacion  fuerza_combate  \n",
              "0           No           1            1115  \n",
              "1           No           1            1699  \n",
              "2           No           1            2720  \n",
              "3           No           1             980  \n",
              "4           No           1            1653  \n",
              "..         ...         ...             ...  \n",
              "644         Sí           5            3588  \n",
              "645         Sí           5            3575  \n",
              "646         No           5            3698  \n",
              "647         No           5            3972  \n",
              "648         No           5            3353  \n",
              "\n",
              "[649 rows x 15 columns]"
            ],
            "text/html": [
              "\n",
              "  <div id=\"df-5c409d72-fd7e-4430-9589-3e5bf1a3eae2\">\n",
              "    <div class=\"colab-df-container\">\n",
              "      <div>\n",
              "<style scoped>\n",
              "    .dataframe tbody tr th:only-of-type {\n",
              "        vertical-align: middle;\n",
              "    }\n",
              "\n",
              "    .dataframe tbody tr th {\n",
              "        vertical-align: top;\n",
              "    }\n",
              "\n",
              "    .dataframe thead th {\n",
              "        text-align: right;\n",
              "    }\n",
              "</style>\n",
              "<table border=\"1\" class=\"dataframe\">\n",
              "  <thead>\n",
              "    <tr style=\"text-align: right;\">\n",
              "      <th></th>\n",
              "      <th>nombre</th>\n",
              "      <th>indice_guia</th>\n",
              "      <th>resistencia</th>\n",
              "      <th>ataque</th>\n",
              "      <th>defensa</th>\n",
              "      <th>tipo_primario</th>\n",
              "      <th>tipo_secundario</th>\n",
              "      <th>max_salud</th>\n",
              "      <th>tasa_captura</th>\n",
              "      <th>tasa_escape</th>\n",
              "      <th>Weight</th>\n",
              "      <th>Height</th>\n",
              "      <th>Legendario</th>\n",
              "      <th>generacion</th>\n",
              "      <th>fuerza_combate</th>\n",
              "    </tr>\n",
              "  </thead>\n",
              "  <tbody>\n",
              "    <tr>\n",
              "      <th>0</th>\n",
              "      <td>Bulbasaur</td>\n",
              "      <td>1</td>\n",
              "      <td>128.0</td>\n",
              "      <td>118.0</td>\n",
              "      <td>111.0</td>\n",
              "      <td>Grass</td>\n",
              "      <td>Poison</td>\n",
              "      <td>113.0</td>\n",
              "      <td>0.20</td>\n",
              "      <td>0.10</td>\n",
              "      <td>6.9</td>\n",
              "      <td>0.7</td>\n",
              "      <td>No</td>\n",
              "      <td>1</td>\n",
              "      <td>1115</td>\n",
              "    </tr>\n",
              "    <tr>\n",
              "      <th>1</th>\n",
              "      <td>Ivysaur</td>\n",
              "      <td>2</td>\n",
              "      <td>155.0</td>\n",
              "      <td>151.0</td>\n",
              "      <td>143.0</td>\n",
              "      <td>Grass</td>\n",
              "      <td>Poison</td>\n",
              "      <td>134.0</td>\n",
              "      <td>0.10</td>\n",
              "      <td>0.07</td>\n",
              "      <td>13.0</td>\n",
              "      <td>1.0</td>\n",
              "      <td>No</td>\n",
              "      <td>1</td>\n",
              "      <td>1699</td>\n",
              "    </tr>\n",
              "    <tr>\n",
              "      <th>2</th>\n",
              "      <td>Venusaur</td>\n",
              "      <td>3</td>\n",
              "      <td>190.0</td>\n",
              "      <td>198.0</td>\n",
              "      <td>189.0</td>\n",
              "      <td>Grass</td>\n",
              "      <td>Poison</td>\n",
              "      <td>162.0</td>\n",
              "      <td>0.05</td>\n",
              "      <td>0.05</td>\n",
              "      <td>100.0</td>\n",
              "      <td>2.0</td>\n",
              "      <td>No</td>\n",
              "      <td>1</td>\n",
              "      <td>2720</td>\n",
              "    </tr>\n",
              "    <tr>\n",
              "      <th>3</th>\n",
              "      <td>Charmander</td>\n",
              "      <td>4</td>\n",
              "      <td>118.0</td>\n",
              "      <td>116.0</td>\n",
              "      <td>93.0</td>\n",
              "      <td>Fire</td>\n",
              "      <td>None</td>\n",
              "      <td>105.0</td>\n",
              "      <td>0.20</td>\n",
              "      <td>0.10</td>\n",
              "      <td>8.5</td>\n",
              "      <td>0.6</td>\n",
              "      <td>No</td>\n",
              "      <td>1</td>\n",
              "      <td>980</td>\n",
              "    </tr>\n",
              "    <tr>\n",
              "      <th>4</th>\n",
              "      <td>Charmeleon</td>\n",
              "      <td>5</td>\n",
              "      <td>151.0</td>\n",
              "      <td>158.0</td>\n",
              "      <td>126.0</td>\n",
              "      <td>Fire</td>\n",
              "      <td>None</td>\n",
              "      <td>131.0</td>\n",
              "      <td>0.10</td>\n",
              "      <td>0.07</td>\n",
              "      <td>19.0</td>\n",
              "      <td>1.1</td>\n",
              "      <td>No</td>\n",
              "      <td>1</td>\n",
              "      <td>1653</td>\n",
              "    </tr>\n",
              "    <tr>\n",
              "      <th>...</th>\n",
              "      <td>...</td>\n",
              "      <td>...</td>\n",
              "      <td>...</td>\n",
              "      <td>...</td>\n",
              "      <td>...</td>\n",
              "      <td>...</td>\n",
              "      <td>...</td>\n",
              "      <td>...</td>\n",
              "      <td>...</td>\n",
              "      <td>...</td>\n",
              "      <td>...</td>\n",
              "      <td>...</td>\n",
              "      <td>...</td>\n",
              "      <td>...</td>\n",
              "      <td>...</td>\n",
              "    </tr>\n",
              "    <tr>\n",
              "      <th>644</th>\n",
              "      <td>Landorus</td>\n",
              "      <td>645</td>\n",
              "      <td>205.0</td>\n",
              "      <td>261.0</td>\n",
              "      <td>182.0</td>\n",
              "      <td>Ground</td>\n",
              "      <td>Flying</td>\n",
              "      <td>173.0</td>\n",
              "      <td>0.02</td>\n",
              "      <td>0.01</td>\n",
              "      <td>68.0</td>\n",
              "      <td>1.5</td>\n",
              "      <td>Sí</td>\n",
              "      <td>5</td>\n",
              "      <td>3588</td>\n",
              "    </tr>\n",
              "    <tr>\n",
              "      <th>645</th>\n",
              "      <td>Kyurem</td>\n",
              "      <td>646</td>\n",
              "      <td>245.0</td>\n",
              "      <td>246.0</td>\n",
              "      <td>170.0</td>\n",
              "      <td>Dragon</td>\n",
              "      <td>Ice</td>\n",
              "      <td>205.0</td>\n",
              "      <td>0.02</td>\n",
              "      <td>0.01</td>\n",
              "      <td>325.0</td>\n",
              "      <td>3.0</td>\n",
              "      <td>Sí</td>\n",
              "      <td>5</td>\n",
              "      <td>3575</td>\n",
              "    </tr>\n",
              "    <tr>\n",
              "      <th>646</th>\n",
              "      <td>Keldeo</td>\n",
              "      <td>647</td>\n",
              "      <td>209.0</td>\n",
              "      <td>260.0</td>\n",
              "      <td>192.0</td>\n",
              "      <td>Water</td>\n",
              "      <td>Fighting</td>\n",
              "      <td>177.0</td>\n",
              "      <td>0.02</td>\n",
              "      <td>0.01</td>\n",
              "      <td>48.5</td>\n",
              "      <td>1.4</td>\n",
              "      <td>No</td>\n",
              "      <td>5</td>\n",
              "      <td>3698</td>\n",
              "    </tr>\n",
              "    <tr>\n",
              "      <th>647</th>\n",
              "      <td>Meloetta</td>\n",
              "      <td>648</td>\n",
              "      <td>225.0</td>\n",
              "      <td>250.0</td>\n",
              "      <td>225.0</td>\n",
              "      <td>Normal</td>\n",
              "      <td>Psychic</td>\n",
              "      <td>189.0</td>\n",
              "      <td>0.02</td>\n",
              "      <td>0.01</td>\n",
              "      <td>6.5</td>\n",
              "      <td>0.6</td>\n",
              "      <td>No</td>\n",
              "      <td>5</td>\n",
              "      <td>3972</td>\n",
              "    </tr>\n",
              "    <tr>\n",
              "      <th>648</th>\n",
              "      <td>Genesect</td>\n",
              "      <td>649</td>\n",
              "      <td>174.0</td>\n",
              "      <td>252.0</td>\n",
              "      <td>199.0</td>\n",
              "      <td>Bug</td>\n",
              "      <td>Steel</td>\n",
              "      <td>149.0</td>\n",
              "      <td>0.02</td>\n",
              "      <td>0.01</td>\n",
              "      <td>82.5</td>\n",
              "      <td>1.5</td>\n",
              "      <td>No</td>\n",
              "      <td>5</td>\n",
              "      <td>3353</td>\n",
              "    </tr>\n",
              "  </tbody>\n",
              "</table>\n",
              "<p>649 rows × 15 columns</p>\n",
              "</div>\n",
              "      <button class=\"colab-df-convert\" onclick=\"convertToInteractive('df-5c409d72-fd7e-4430-9589-3e5bf1a3eae2')\"\n",
              "              title=\"Convert this dataframe to an interactive table.\"\n",
              "              style=\"display:none;\">\n",
              "        \n",
              "  <svg xmlns=\"http://www.w3.org/2000/svg\" height=\"24px\"viewBox=\"0 0 24 24\"\n",
              "       width=\"24px\">\n",
              "    <path d=\"M0 0h24v24H0V0z\" fill=\"none\"/>\n",
              "    <path d=\"M18.56 5.44l.94 2.06.94-2.06 2.06-.94-2.06-.94-.94-2.06-.94 2.06-2.06.94zm-11 1L8.5 8.5l.94-2.06 2.06-.94-2.06-.94L8.5 2.5l-.94 2.06-2.06.94zm10 10l.94 2.06.94-2.06 2.06-.94-2.06-.94-.94-2.06-.94 2.06-2.06.94z\"/><path d=\"M17.41 7.96l-1.37-1.37c-.4-.4-.92-.59-1.43-.59-.52 0-1.04.2-1.43.59L10.3 9.45l-7.72 7.72c-.78.78-.78 2.05 0 2.83L4 21.41c.39.39.9.59 1.41.59.51 0 1.02-.2 1.41-.59l7.78-7.78 2.81-2.81c.8-.78.8-2.07 0-2.86zM5.41 20L4 18.59l7.72-7.72 1.47 1.35L5.41 20z\"/>\n",
              "  </svg>\n",
              "      </button>\n",
              "      \n",
              "  <style>\n",
              "    .colab-df-container {\n",
              "      display:flex;\n",
              "      flex-wrap:wrap;\n",
              "      gap: 12px;\n",
              "    }\n",
              "\n",
              "    .colab-df-convert {\n",
              "      background-color: #E8F0FE;\n",
              "      border: none;\n",
              "      border-radius: 50%;\n",
              "      cursor: pointer;\n",
              "      display: none;\n",
              "      fill: #1967D2;\n",
              "      height: 32px;\n",
              "      padding: 0 0 0 0;\n",
              "      width: 32px;\n",
              "    }\n",
              "\n",
              "    .colab-df-convert:hover {\n",
              "      background-color: #E2EBFA;\n",
              "      box-shadow: 0px 1px 2px rgba(60, 64, 67, 0.3), 0px 1px 3px 1px rgba(60, 64, 67, 0.15);\n",
              "      fill: #174EA6;\n",
              "    }\n",
              "\n",
              "    [theme=dark] .colab-df-convert {\n",
              "      background-color: #3B4455;\n",
              "      fill: #D2E3FC;\n",
              "    }\n",
              "\n",
              "    [theme=dark] .colab-df-convert:hover {\n",
              "      background-color: #434B5C;\n",
              "      box-shadow: 0px 1px 3px 1px rgba(0, 0, 0, 0.15);\n",
              "      filter: drop-shadow(0px 1px 2px rgba(0, 0, 0, 0.3));\n",
              "      fill: #FFFFFF;\n",
              "    }\n",
              "  </style>\n",
              "\n",
              "      <script>\n",
              "        const buttonEl =\n",
              "          document.querySelector('#df-5c409d72-fd7e-4430-9589-3e5bf1a3eae2 button.colab-df-convert');\n",
              "        buttonEl.style.display =\n",
              "          google.colab.kernel.accessAllowed ? 'block' : 'none';\n",
              "\n",
              "        async function convertToInteractive(key) {\n",
              "          const element = document.querySelector('#df-5c409d72-fd7e-4430-9589-3e5bf1a3eae2');\n",
              "          const dataTable =\n",
              "            await google.colab.kernel.invokeFunction('convertToInteractive',\n",
              "                                                     [key], {});\n",
              "          if (!dataTable) return;\n",
              "\n",
              "          const docLinkHtml = 'Like what you see? Visit the ' +\n",
              "            '<a target=\"_blank\" href=https://colab.research.google.com/notebooks/data_table.ipynb>data table notebook</a>'\n",
              "            + ' to learn more about interactive tables.';\n",
              "          element.innerHTML = '';\n",
              "          dataTable['output_type'] = 'display_data';\n",
              "          await google.colab.output.renderOutput(dataTable, element);\n",
              "          const docLink = document.createElement('div');\n",
              "          docLink.innerHTML = docLinkHtml;\n",
              "          element.appendChild(docLink);\n",
              "        }\n",
              "      </script>\n",
              "    </div>\n",
              "  </div>\n",
              "  "
            ]
          },
          "metadata": {},
          "execution_count": 180
        }
      ]
    },
    {
      "cell_type": "code",
      "source": [
        "data.shape"
      ],
      "metadata": {
        "colab": {
          "base_uri": "https://localhost:8080/"
        },
        "id": "qdK_YGiv_ugG",
        "outputId": "c188c834-4a45-435b-9c03-7f061d281f4e"
      },
      "execution_count": 181,
      "outputs": [
        {
          "output_type": "execute_result",
          "data": {
            "text/plain": [
              "(649, 15)"
            ]
          },
          "metadata": {},
          "execution_count": 181
        }
      ]
    },
    {
      "cell_type": "code",
      "source": [
        "data.columns"
      ],
      "metadata": {
        "colab": {
          "base_uri": "https://localhost:8080/"
        },
        "id": "XfirXEc1_0h2",
        "outputId": "630441d4-36b7-400a-fc12-e9f31e431dc3"
      },
      "execution_count": 182,
      "outputs": [
        {
          "output_type": "execute_result",
          "data": {
            "text/plain": [
              "Index(['nombre', 'indice_guia', 'resistencia', 'ataque', 'defensa',\n",
              "       'tipo_primario', 'tipo_secundario', 'max_salud', 'tasa_captura',\n",
              "       'tasa_escape', 'Weight', 'Height', 'Legendario', 'generacion',\n",
              "       'fuerza_combate'],\n",
              "      dtype='object')"
            ]
          },
          "metadata": {},
          "execution_count": 182
        }
      ]
    },
    {
      "cell_type": "code",
      "source": [
        "# indice_guia esta de mas \n",
        "data = data.drop([\"indice_guia\"], axis=1)"
      ],
      "metadata": {
        "id": "zEzLBRJmEHu_"
      },
      "execution_count": 183,
      "outputs": []
    },
    {
      "cell_type": "code",
      "source": [
        "data"
      ],
      "metadata": {
        "colab": {
          "base_uri": "https://localhost:8080/",
          "height": 423
        },
        "id": "x6StHXGHEjk8",
        "outputId": "f8f66873-a336-4626-9c34-191b9578a34d"
      },
      "execution_count": 184,
      "outputs": [
        {
          "output_type": "execute_result",
          "data": {
            "text/plain": [
              "         nombre  resistencia  ataque  defensa tipo_primario tipo_secundario  \\\n",
              "0     Bulbasaur        128.0   118.0    111.0         Grass          Poison   \n",
              "1       Ivysaur        155.0   151.0    143.0         Grass          Poison   \n",
              "2      Venusaur        190.0   198.0    189.0         Grass          Poison   \n",
              "3    Charmander        118.0   116.0     93.0          Fire            None   \n",
              "4    Charmeleon        151.0   158.0    126.0          Fire            None   \n",
              "..          ...          ...     ...      ...           ...             ...   \n",
              "644    Landorus        205.0   261.0    182.0        Ground          Flying   \n",
              "645      Kyurem        245.0   246.0    170.0        Dragon             Ice   \n",
              "646      Keldeo        209.0   260.0    192.0         Water        Fighting   \n",
              "647    Meloetta        225.0   250.0    225.0        Normal         Psychic   \n",
              "648    Genesect        174.0   252.0    199.0           Bug           Steel   \n",
              "\n",
              "     max_salud  tasa_captura  tasa_escape  Weight  Height Legendario  \\\n",
              "0        113.0          0.20         0.10     6.9     0.7         No   \n",
              "1        134.0          0.10         0.07    13.0     1.0         No   \n",
              "2        162.0          0.05         0.05   100.0     2.0         No   \n",
              "3        105.0          0.20         0.10     8.5     0.6         No   \n",
              "4        131.0          0.10         0.07    19.0     1.1         No   \n",
              "..         ...           ...          ...     ...     ...        ...   \n",
              "644      173.0          0.02         0.01    68.0     1.5         Sí   \n",
              "645      205.0          0.02         0.01   325.0     3.0         Sí   \n",
              "646      177.0          0.02         0.01    48.5     1.4         No   \n",
              "647      189.0          0.02         0.01     6.5     0.6         No   \n",
              "648      149.0          0.02         0.01    82.5     1.5         No   \n",
              "\n",
              "     generacion  fuerza_combate  \n",
              "0             1            1115  \n",
              "1             1            1699  \n",
              "2             1            2720  \n",
              "3             1             980  \n",
              "4             1            1653  \n",
              "..          ...             ...  \n",
              "644           5            3588  \n",
              "645           5            3575  \n",
              "646           5            3698  \n",
              "647           5            3972  \n",
              "648           5            3353  \n",
              "\n",
              "[649 rows x 14 columns]"
            ],
            "text/html": [
              "\n",
              "  <div id=\"df-315c54ab-375b-4423-adfb-b98b3e9a60ee\">\n",
              "    <div class=\"colab-df-container\">\n",
              "      <div>\n",
              "<style scoped>\n",
              "    .dataframe tbody tr th:only-of-type {\n",
              "        vertical-align: middle;\n",
              "    }\n",
              "\n",
              "    .dataframe tbody tr th {\n",
              "        vertical-align: top;\n",
              "    }\n",
              "\n",
              "    .dataframe thead th {\n",
              "        text-align: right;\n",
              "    }\n",
              "</style>\n",
              "<table border=\"1\" class=\"dataframe\">\n",
              "  <thead>\n",
              "    <tr style=\"text-align: right;\">\n",
              "      <th></th>\n",
              "      <th>nombre</th>\n",
              "      <th>resistencia</th>\n",
              "      <th>ataque</th>\n",
              "      <th>defensa</th>\n",
              "      <th>tipo_primario</th>\n",
              "      <th>tipo_secundario</th>\n",
              "      <th>max_salud</th>\n",
              "      <th>tasa_captura</th>\n",
              "      <th>tasa_escape</th>\n",
              "      <th>Weight</th>\n",
              "      <th>Height</th>\n",
              "      <th>Legendario</th>\n",
              "      <th>generacion</th>\n",
              "      <th>fuerza_combate</th>\n",
              "    </tr>\n",
              "  </thead>\n",
              "  <tbody>\n",
              "    <tr>\n",
              "      <th>0</th>\n",
              "      <td>Bulbasaur</td>\n",
              "      <td>128.0</td>\n",
              "      <td>118.0</td>\n",
              "      <td>111.0</td>\n",
              "      <td>Grass</td>\n",
              "      <td>Poison</td>\n",
              "      <td>113.0</td>\n",
              "      <td>0.20</td>\n",
              "      <td>0.10</td>\n",
              "      <td>6.9</td>\n",
              "      <td>0.7</td>\n",
              "      <td>No</td>\n",
              "      <td>1</td>\n",
              "      <td>1115</td>\n",
              "    </tr>\n",
              "    <tr>\n",
              "      <th>1</th>\n",
              "      <td>Ivysaur</td>\n",
              "      <td>155.0</td>\n",
              "      <td>151.0</td>\n",
              "      <td>143.0</td>\n",
              "      <td>Grass</td>\n",
              "      <td>Poison</td>\n",
              "      <td>134.0</td>\n",
              "      <td>0.10</td>\n",
              "      <td>0.07</td>\n",
              "      <td>13.0</td>\n",
              "      <td>1.0</td>\n",
              "      <td>No</td>\n",
              "      <td>1</td>\n",
              "      <td>1699</td>\n",
              "    </tr>\n",
              "    <tr>\n",
              "      <th>2</th>\n",
              "      <td>Venusaur</td>\n",
              "      <td>190.0</td>\n",
              "      <td>198.0</td>\n",
              "      <td>189.0</td>\n",
              "      <td>Grass</td>\n",
              "      <td>Poison</td>\n",
              "      <td>162.0</td>\n",
              "      <td>0.05</td>\n",
              "      <td>0.05</td>\n",
              "      <td>100.0</td>\n",
              "      <td>2.0</td>\n",
              "      <td>No</td>\n",
              "      <td>1</td>\n",
              "      <td>2720</td>\n",
              "    </tr>\n",
              "    <tr>\n",
              "      <th>3</th>\n",
              "      <td>Charmander</td>\n",
              "      <td>118.0</td>\n",
              "      <td>116.0</td>\n",
              "      <td>93.0</td>\n",
              "      <td>Fire</td>\n",
              "      <td>None</td>\n",
              "      <td>105.0</td>\n",
              "      <td>0.20</td>\n",
              "      <td>0.10</td>\n",
              "      <td>8.5</td>\n",
              "      <td>0.6</td>\n",
              "      <td>No</td>\n",
              "      <td>1</td>\n",
              "      <td>980</td>\n",
              "    </tr>\n",
              "    <tr>\n",
              "      <th>4</th>\n",
              "      <td>Charmeleon</td>\n",
              "      <td>151.0</td>\n",
              "      <td>158.0</td>\n",
              "      <td>126.0</td>\n",
              "      <td>Fire</td>\n",
              "      <td>None</td>\n",
              "      <td>131.0</td>\n",
              "      <td>0.10</td>\n",
              "      <td>0.07</td>\n",
              "      <td>19.0</td>\n",
              "      <td>1.1</td>\n",
              "      <td>No</td>\n",
              "      <td>1</td>\n",
              "      <td>1653</td>\n",
              "    </tr>\n",
              "    <tr>\n",
              "      <th>...</th>\n",
              "      <td>...</td>\n",
              "      <td>...</td>\n",
              "      <td>...</td>\n",
              "      <td>...</td>\n",
              "      <td>...</td>\n",
              "      <td>...</td>\n",
              "      <td>...</td>\n",
              "      <td>...</td>\n",
              "      <td>...</td>\n",
              "      <td>...</td>\n",
              "      <td>...</td>\n",
              "      <td>...</td>\n",
              "      <td>...</td>\n",
              "      <td>...</td>\n",
              "    </tr>\n",
              "    <tr>\n",
              "      <th>644</th>\n",
              "      <td>Landorus</td>\n",
              "      <td>205.0</td>\n",
              "      <td>261.0</td>\n",
              "      <td>182.0</td>\n",
              "      <td>Ground</td>\n",
              "      <td>Flying</td>\n",
              "      <td>173.0</td>\n",
              "      <td>0.02</td>\n",
              "      <td>0.01</td>\n",
              "      <td>68.0</td>\n",
              "      <td>1.5</td>\n",
              "      <td>Sí</td>\n",
              "      <td>5</td>\n",
              "      <td>3588</td>\n",
              "    </tr>\n",
              "    <tr>\n",
              "      <th>645</th>\n",
              "      <td>Kyurem</td>\n",
              "      <td>245.0</td>\n",
              "      <td>246.0</td>\n",
              "      <td>170.0</td>\n",
              "      <td>Dragon</td>\n",
              "      <td>Ice</td>\n",
              "      <td>205.0</td>\n",
              "      <td>0.02</td>\n",
              "      <td>0.01</td>\n",
              "      <td>325.0</td>\n",
              "      <td>3.0</td>\n",
              "      <td>Sí</td>\n",
              "      <td>5</td>\n",
              "      <td>3575</td>\n",
              "    </tr>\n",
              "    <tr>\n",
              "      <th>646</th>\n",
              "      <td>Keldeo</td>\n",
              "      <td>209.0</td>\n",
              "      <td>260.0</td>\n",
              "      <td>192.0</td>\n",
              "      <td>Water</td>\n",
              "      <td>Fighting</td>\n",
              "      <td>177.0</td>\n",
              "      <td>0.02</td>\n",
              "      <td>0.01</td>\n",
              "      <td>48.5</td>\n",
              "      <td>1.4</td>\n",
              "      <td>No</td>\n",
              "      <td>5</td>\n",
              "      <td>3698</td>\n",
              "    </tr>\n",
              "    <tr>\n",
              "      <th>647</th>\n",
              "      <td>Meloetta</td>\n",
              "      <td>225.0</td>\n",
              "      <td>250.0</td>\n",
              "      <td>225.0</td>\n",
              "      <td>Normal</td>\n",
              "      <td>Psychic</td>\n",
              "      <td>189.0</td>\n",
              "      <td>0.02</td>\n",
              "      <td>0.01</td>\n",
              "      <td>6.5</td>\n",
              "      <td>0.6</td>\n",
              "      <td>No</td>\n",
              "      <td>5</td>\n",
              "      <td>3972</td>\n",
              "    </tr>\n",
              "    <tr>\n",
              "      <th>648</th>\n",
              "      <td>Genesect</td>\n",
              "      <td>174.0</td>\n",
              "      <td>252.0</td>\n",
              "      <td>199.0</td>\n",
              "      <td>Bug</td>\n",
              "      <td>Steel</td>\n",
              "      <td>149.0</td>\n",
              "      <td>0.02</td>\n",
              "      <td>0.01</td>\n",
              "      <td>82.5</td>\n",
              "      <td>1.5</td>\n",
              "      <td>No</td>\n",
              "      <td>5</td>\n",
              "      <td>3353</td>\n",
              "    </tr>\n",
              "  </tbody>\n",
              "</table>\n",
              "<p>649 rows × 14 columns</p>\n",
              "</div>\n",
              "      <button class=\"colab-df-convert\" onclick=\"convertToInteractive('df-315c54ab-375b-4423-adfb-b98b3e9a60ee')\"\n",
              "              title=\"Convert this dataframe to an interactive table.\"\n",
              "              style=\"display:none;\">\n",
              "        \n",
              "  <svg xmlns=\"http://www.w3.org/2000/svg\" height=\"24px\"viewBox=\"0 0 24 24\"\n",
              "       width=\"24px\">\n",
              "    <path d=\"M0 0h24v24H0V0z\" fill=\"none\"/>\n",
              "    <path d=\"M18.56 5.44l.94 2.06.94-2.06 2.06-.94-2.06-.94-.94-2.06-.94 2.06-2.06.94zm-11 1L8.5 8.5l.94-2.06 2.06-.94-2.06-.94L8.5 2.5l-.94 2.06-2.06.94zm10 10l.94 2.06.94-2.06 2.06-.94-2.06-.94-.94-2.06-.94 2.06-2.06.94z\"/><path d=\"M17.41 7.96l-1.37-1.37c-.4-.4-.92-.59-1.43-.59-.52 0-1.04.2-1.43.59L10.3 9.45l-7.72 7.72c-.78.78-.78 2.05 0 2.83L4 21.41c.39.39.9.59 1.41.59.51 0 1.02-.2 1.41-.59l7.78-7.78 2.81-2.81c.8-.78.8-2.07 0-2.86zM5.41 20L4 18.59l7.72-7.72 1.47 1.35L5.41 20z\"/>\n",
              "  </svg>\n",
              "      </button>\n",
              "      \n",
              "  <style>\n",
              "    .colab-df-container {\n",
              "      display:flex;\n",
              "      flex-wrap:wrap;\n",
              "      gap: 12px;\n",
              "    }\n",
              "\n",
              "    .colab-df-convert {\n",
              "      background-color: #E8F0FE;\n",
              "      border: none;\n",
              "      border-radius: 50%;\n",
              "      cursor: pointer;\n",
              "      display: none;\n",
              "      fill: #1967D2;\n",
              "      height: 32px;\n",
              "      padding: 0 0 0 0;\n",
              "      width: 32px;\n",
              "    }\n",
              "\n",
              "    .colab-df-convert:hover {\n",
              "      background-color: #E2EBFA;\n",
              "      box-shadow: 0px 1px 2px rgba(60, 64, 67, 0.3), 0px 1px 3px 1px rgba(60, 64, 67, 0.15);\n",
              "      fill: #174EA6;\n",
              "    }\n",
              "\n",
              "    [theme=dark] .colab-df-convert {\n",
              "      background-color: #3B4455;\n",
              "      fill: #D2E3FC;\n",
              "    }\n",
              "\n",
              "    [theme=dark] .colab-df-convert:hover {\n",
              "      background-color: #434B5C;\n",
              "      box-shadow: 0px 1px 3px 1px rgba(0, 0, 0, 0.15);\n",
              "      filter: drop-shadow(0px 1px 2px rgba(0, 0, 0, 0.3));\n",
              "      fill: #FFFFFF;\n",
              "    }\n",
              "  </style>\n",
              "\n",
              "      <script>\n",
              "        const buttonEl =\n",
              "          document.querySelector('#df-315c54ab-375b-4423-adfb-b98b3e9a60ee button.colab-df-convert');\n",
              "        buttonEl.style.display =\n",
              "          google.colab.kernel.accessAllowed ? 'block' : 'none';\n",
              "\n",
              "        async function convertToInteractive(key) {\n",
              "          const element = document.querySelector('#df-315c54ab-375b-4423-adfb-b98b3e9a60ee');\n",
              "          const dataTable =\n",
              "            await google.colab.kernel.invokeFunction('convertToInteractive',\n",
              "                                                     [key], {});\n",
              "          if (!dataTable) return;\n",
              "\n",
              "          const docLinkHtml = 'Like what you see? Visit the ' +\n",
              "            '<a target=\"_blank\" href=https://colab.research.google.com/notebooks/data_table.ipynb>data table notebook</a>'\n",
              "            + ' to learn more about interactive tables.';\n",
              "          element.innerHTML = '';\n",
              "          dataTable['output_type'] = 'display_data';\n",
              "          await google.colab.output.renderOutput(dataTable, element);\n",
              "          const docLink = document.createElement('div');\n",
              "          docLink.innerHTML = docLinkHtml;\n",
              "          element.appendChild(docLink);\n",
              "        }\n",
              "      </script>\n",
              "    </div>\n",
              "  </div>\n",
              "  "
            ]
          },
          "metadata": {},
          "execution_count": 184
        }
      ]
    },
    {
      "cell_type": "code",
      "source": [
        "# \"Weight\" en español es peso\n",
        "# \"Height\" en español es altura\n",
        "\n",
        "data.rename(columns= {\"max_salud\": \"salud_maxima\", \"Weight\": \"peso\", \"Height\": \"altura\", \"Legendario\": \"legendario\"}, inplace= True)"
      ],
      "metadata": {
        "id": "DIGR7Jp8_37N"
      },
      "execution_count": 185,
      "outputs": []
    },
    {
      "cell_type": "code",
      "source": [
        "data"
      ],
      "metadata": {
        "colab": {
          "base_uri": "https://localhost:8080/",
          "height": 423
        },
        "id": "BfZkbYZ59H80",
        "outputId": "713a93ce-42db-4791-d41c-7f390d76c320"
      },
      "execution_count": 277,
      "outputs": [
        {
          "output_type": "execute_result",
          "data": {
            "text/plain": [
              "         nombre  resistencia  ataque  defensa tipo_primario tipo_secundario  \\\n",
              "0     Bulbasaur        128.0   118.0    111.0         Grass          Poison   \n",
              "1       Ivysaur        155.0   151.0    143.0         Grass          Poison   \n",
              "2      Venusaur        190.0   198.0    189.0         Grass          Poison   \n",
              "3    Charmander        118.0   116.0     93.0          Fire            None   \n",
              "4    Charmeleon        151.0   158.0    126.0          Fire            None   \n",
              "..          ...          ...     ...      ...           ...             ...   \n",
              "644    Landorus        205.0   261.0    182.0        Ground          Flying   \n",
              "645      Kyurem        245.0   246.0    170.0        Dragon             Ice   \n",
              "646      Keldeo        209.0   260.0    192.0         Water        Fighting   \n",
              "647    Meloetta        225.0   250.0    225.0        Normal         Psychic   \n",
              "648    Genesect        174.0   252.0    199.0           Bug           Steel   \n",
              "\n",
              "     salud_maxima  tasa_captura  tasa_escape   peso  altura legendario  \\\n",
              "0           113.0          0.20         0.10    6.9     0.7         No   \n",
              "1           134.0          0.10         0.07   13.0     1.0         No   \n",
              "2           162.0          0.05         0.05  100.0     2.0         No   \n",
              "3           105.0          0.20         0.10    8.5     0.6         No   \n",
              "4           131.0          0.10         0.07   19.0     1.1         No   \n",
              "..            ...           ...          ...    ...     ...        ...   \n",
              "644         173.0          0.02         0.01   68.0     1.5         Sí   \n",
              "645         205.0          0.02         0.01  325.0     3.0         Sí   \n",
              "646         177.0          0.02         0.01   48.5     1.4         No   \n",
              "647         189.0          0.02         0.01    6.5     0.6         No   \n",
              "648         149.0          0.02         0.01   82.5     1.5         No   \n",
              "\n",
              "     generacion  fuerza_combate  \n",
              "0             1            1115  \n",
              "1             1            1699  \n",
              "2             1            2720  \n",
              "3             1             980  \n",
              "4             1            1653  \n",
              "..          ...             ...  \n",
              "644           5            3588  \n",
              "645           5            3575  \n",
              "646           5            3698  \n",
              "647           5            3972  \n",
              "648           5            3353  \n",
              "\n",
              "[644 rows x 14 columns]"
            ],
            "text/html": [
              "\n",
              "  <div id=\"df-aa575988-ffaa-4f46-8816-04cd45c7b45a\">\n",
              "    <div class=\"colab-df-container\">\n",
              "      <div>\n",
              "<style scoped>\n",
              "    .dataframe tbody tr th:only-of-type {\n",
              "        vertical-align: middle;\n",
              "    }\n",
              "\n",
              "    .dataframe tbody tr th {\n",
              "        vertical-align: top;\n",
              "    }\n",
              "\n",
              "    .dataframe thead th {\n",
              "        text-align: right;\n",
              "    }\n",
              "</style>\n",
              "<table border=\"1\" class=\"dataframe\">\n",
              "  <thead>\n",
              "    <tr style=\"text-align: right;\">\n",
              "      <th></th>\n",
              "      <th>nombre</th>\n",
              "      <th>resistencia</th>\n",
              "      <th>ataque</th>\n",
              "      <th>defensa</th>\n",
              "      <th>tipo_primario</th>\n",
              "      <th>tipo_secundario</th>\n",
              "      <th>salud_maxima</th>\n",
              "      <th>tasa_captura</th>\n",
              "      <th>tasa_escape</th>\n",
              "      <th>peso</th>\n",
              "      <th>altura</th>\n",
              "      <th>legendario</th>\n",
              "      <th>generacion</th>\n",
              "      <th>fuerza_combate</th>\n",
              "    </tr>\n",
              "  </thead>\n",
              "  <tbody>\n",
              "    <tr>\n",
              "      <th>0</th>\n",
              "      <td>Bulbasaur</td>\n",
              "      <td>128.0</td>\n",
              "      <td>118.0</td>\n",
              "      <td>111.0</td>\n",
              "      <td>Grass</td>\n",
              "      <td>Poison</td>\n",
              "      <td>113.0</td>\n",
              "      <td>0.20</td>\n",
              "      <td>0.10</td>\n",
              "      <td>6.9</td>\n",
              "      <td>0.7</td>\n",
              "      <td>No</td>\n",
              "      <td>1</td>\n",
              "      <td>1115</td>\n",
              "    </tr>\n",
              "    <tr>\n",
              "      <th>1</th>\n",
              "      <td>Ivysaur</td>\n",
              "      <td>155.0</td>\n",
              "      <td>151.0</td>\n",
              "      <td>143.0</td>\n",
              "      <td>Grass</td>\n",
              "      <td>Poison</td>\n",
              "      <td>134.0</td>\n",
              "      <td>0.10</td>\n",
              "      <td>0.07</td>\n",
              "      <td>13.0</td>\n",
              "      <td>1.0</td>\n",
              "      <td>No</td>\n",
              "      <td>1</td>\n",
              "      <td>1699</td>\n",
              "    </tr>\n",
              "    <tr>\n",
              "      <th>2</th>\n",
              "      <td>Venusaur</td>\n",
              "      <td>190.0</td>\n",
              "      <td>198.0</td>\n",
              "      <td>189.0</td>\n",
              "      <td>Grass</td>\n",
              "      <td>Poison</td>\n",
              "      <td>162.0</td>\n",
              "      <td>0.05</td>\n",
              "      <td>0.05</td>\n",
              "      <td>100.0</td>\n",
              "      <td>2.0</td>\n",
              "      <td>No</td>\n",
              "      <td>1</td>\n",
              "      <td>2720</td>\n",
              "    </tr>\n",
              "    <tr>\n",
              "      <th>3</th>\n",
              "      <td>Charmander</td>\n",
              "      <td>118.0</td>\n",
              "      <td>116.0</td>\n",
              "      <td>93.0</td>\n",
              "      <td>Fire</td>\n",
              "      <td>None</td>\n",
              "      <td>105.0</td>\n",
              "      <td>0.20</td>\n",
              "      <td>0.10</td>\n",
              "      <td>8.5</td>\n",
              "      <td>0.6</td>\n",
              "      <td>No</td>\n",
              "      <td>1</td>\n",
              "      <td>980</td>\n",
              "    </tr>\n",
              "    <tr>\n",
              "      <th>4</th>\n",
              "      <td>Charmeleon</td>\n",
              "      <td>151.0</td>\n",
              "      <td>158.0</td>\n",
              "      <td>126.0</td>\n",
              "      <td>Fire</td>\n",
              "      <td>None</td>\n",
              "      <td>131.0</td>\n",
              "      <td>0.10</td>\n",
              "      <td>0.07</td>\n",
              "      <td>19.0</td>\n",
              "      <td>1.1</td>\n",
              "      <td>No</td>\n",
              "      <td>1</td>\n",
              "      <td>1653</td>\n",
              "    </tr>\n",
              "    <tr>\n",
              "      <th>...</th>\n",
              "      <td>...</td>\n",
              "      <td>...</td>\n",
              "      <td>...</td>\n",
              "      <td>...</td>\n",
              "      <td>...</td>\n",
              "      <td>...</td>\n",
              "      <td>...</td>\n",
              "      <td>...</td>\n",
              "      <td>...</td>\n",
              "      <td>...</td>\n",
              "      <td>...</td>\n",
              "      <td>...</td>\n",
              "      <td>...</td>\n",
              "      <td>...</td>\n",
              "    </tr>\n",
              "    <tr>\n",
              "      <th>644</th>\n",
              "      <td>Landorus</td>\n",
              "      <td>205.0</td>\n",
              "      <td>261.0</td>\n",
              "      <td>182.0</td>\n",
              "      <td>Ground</td>\n",
              "      <td>Flying</td>\n",
              "      <td>173.0</td>\n",
              "      <td>0.02</td>\n",
              "      <td>0.01</td>\n",
              "      <td>68.0</td>\n",
              "      <td>1.5</td>\n",
              "      <td>Sí</td>\n",
              "      <td>5</td>\n",
              "      <td>3588</td>\n",
              "    </tr>\n",
              "    <tr>\n",
              "      <th>645</th>\n",
              "      <td>Kyurem</td>\n",
              "      <td>245.0</td>\n",
              "      <td>246.0</td>\n",
              "      <td>170.0</td>\n",
              "      <td>Dragon</td>\n",
              "      <td>Ice</td>\n",
              "      <td>205.0</td>\n",
              "      <td>0.02</td>\n",
              "      <td>0.01</td>\n",
              "      <td>325.0</td>\n",
              "      <td>3.0</td>\n",
              "      <td>Sí</td>\n",
              "      <td>5</td>\n",
              "      <td>3575</td>\n",
              "    </tr>\n",
              "    <tr>\n",
              "      <th>646</th>\n",
              "      <td>Keldeo</td>\n",
              "      <td>209.0</td>\n",
              "      <td>260.0</td>\n",
              "      <td>192.0</td>\n",
              "      <td>Water</td>\n",
              "      <td>Fighting</td>\n",
              "      <td>177.0</td>\n",
              "      <td>0.02</td>\n",
              "      <td>0.01</td>\n",
              "      <td>48.5</td>\n",
              "      <td>1.4</td>\n",
              "      <td>No</td>\n",
              "      <td>5</td>\n",
              "      <td>3698</td>\n",
              "    </tr>\n",
              "    <tr>\n",
              "      <th>647</th>\n",
              "      <td>Meloetta</td>\n",
              "      <td>225.0</td>\n",
              "      <td>250.0</td>\n",
              "      <td>225.0</td>\n",
              "      <td>Normal</td>\n",
              "      <td>Psychic</td>\n",
              "      <td>189.0</td>\n",
              "      <td>0.02</td>\n",
              "      <td>0.01</td>\n",
              "      <td>6.5</td>\n",
              "      <td>0.6</td>\n",
              "      <td>No</td>\n",
              "      <td>5</td>\n",
              "      <td>3972</td>\n",
              "    </tr>\n",
              "    <tr>\n",
              "      <th>648</th>\n",
              "      <td>Genesect</td>\n",
              "      <td>174.0</td>\n",
              "      <td>252.0</td>\n",
              "      <td>199.0</td>\n",
              "      <td>Bug</td>\n",
              "      <td>Steel</td>\n",
              "      <td>149.0</td>\n",
              "      <td>0.02</td>\n",
              "      <td>0.01</td>\n",
              "      <td>82.5</td>\n",
              "      <td>1.5</td>\n",
              "      <td>No</td>\n",
              "      <td>5</td>\n",
              "      <td>3353</td>\n",
              "    </tr>\n",
              "  </tbody>\n",
              "</table>\n",
              "<p>644 rows × 14 columns</p>\n",
              "</div>\n",
              "      <button class=\"colab-df-convert\" onclick=\"convertToInteractive('df-aa575988-ffaa-4f46-8816-04cd45c7b45a')\"\n",
              "              title=\"Convert this dataframe to an interactive table.\"\n",
              "              style=\"display:none;\">\n",
              "        \n",
              "  <svg xmlns=\"http://www.w3.org/2000/svg\" height=\"24px\"viewBox=\"0 0 24 24\"\n",
              "       width=\"24px\">\n",
              "    <path d=\"M0 0h24v24H0V0z\" fill=\"none\"/>\n",
              "    <path d=\"M18.56 5.44l.94 2.06.94-2.06 2.06-.94-2.06-.94-.94-2.06-.94 2.06-2.06.94zm-11 1L8.5 8.5l.94-2.06 2.06-.94-2.06-.94L8.5 2.5l-.94 2.06-2.06.94zm10 10l.94 2.06.94-2.06 2.06-.94-2.06-.94-.94-2.06-.94 2.06-2.06.94z\"/><path d=\"M17.41 7.96l-1.37-1.37c-.4-.4-.92-.59-1.43-.59-.52 0-1.04.2-1.43.59L10.3 9.45l-7.72 7.72c-.78.78-.78 2.05 0 2.83L4 21.41c.39.39.9.59 1.41.59.51 0 1.02-.2 1.41-.59l7.78-7.78 2.81-2.81c.8-.78.8-2.07 0-2.86zM5.41 20L4 18.59l7.72-7.72 1.47 1.35L5.41 20z\"/>\n",
              "  </svg>\n",
              "      </button>\n",
              "      \n",
              "  <style>\n",
              "    .colab-df-container {\n",
              "      display:flex;\n",
              "      flex-wrap:wrap;\n",
              "      gap: 12px;\n",
              "    }\n",
              "\n",
              "    .colab-df-convert {\n",
              "      background-color: #E8F0FE;\n",
              "      border: none;\n",
              "      border-radius: 50%;\n",
              "      cursor: pointer;\n",
              "      display: none;\n",
              "      fill: #1967D2;\n",
              "      height: 32px;\n",
              "      padding: 0 0 0 0;\n",
              "      width: 32px;\n",
              "    }\n",
              "\n",
              "    .colab-df-convert:hover {\n",
              "      background-color: #E2EBFA;\n",
              "      box-shadow: 0px 1px 2px rgba(60, 64, 67, 0.3), 0px 1px 3px 1px rgba(60, 64, 67, 0.15);\n",
              "      fill: #174EA6;\n",
              "    }\n",
              "\n",
              "    [theme=dark] .colab-df-convert {\n",
              "      background-color: #3B4455;\n",
              "      fill: #D2E3FC;\n",
              "    }\n",
              "\n",
              "    [theme=dark] .colab-df-convert:hover {\n",
              "      background-color: #434B5C;\n",
              "      box-shadow: 0px 1px 3px 1px rgba(0, 0, 0, 0.15);\n",
              "      filter: drop-shadow(0px 1px 2px rgba(0, 0, 0, 0.3));\n",
              "      fill: #FFFFFF;\n",
              "    }\n",
              "  </style>\n",
              "\n",
              "      <script>\n",
              "        const buttonEl =\n",
              "          document.querySelector('#df-aa575988-ffaa-4f46-8816-04cd45c7b45a button.colab-df-convert');\n",
              "        buttonEl.style.display =\n",
              "          google.colab.kernel.accessAllowed ? 'block' : 'none';\n",
              "\n",
              "        async function convertToInteractive(key) {\n",
              "          const element = document.querySelector('#df-aa575988-ffaa-4f46-8816-04cd45c7b45a');\n",
              "          const dataTable =\n",
              "            await google.colab.kernel.invokeFunction('convertToInteractive',\n",
              "                                                     [key], {});\n",
              "          if (!dataTable) return;\n",
              "\n",
              "          const docLinkHtml = 'Like what you see? Visit the ' +\n",
              "            '<a target=\"_blank\" href=https://colab.research.google.com/notebooks/data_table.ipynb>data table notebook</a>'\n",
              "            + ' to learn more about interactive tables.';\n",
              "          element.innerHTML = '';\n",
              "          dataTable['output_type'] = 'display_data';\n",
              "          await google.colab.output.renderOutput(dataTable, element);\n",
              "          const docLink = document.createElement('div');\n",
              "          docLink.innerHTML = docLinkHtml;\n",
              "          element.appendChild(docLink);\n",
              "        }\n",
              "      </script>\n",
              "    </div>\n",
              "  </div>\n",
              "  "
            ]
          },
          "metadata": {},
          "execution_count": 277
        }
      ]
    },
    {
      "cell_type": "code",
      "source": [
        "data.isna()"
      ],
      "metadata": {
        "colab": {
          "base_uri": "https://localhost:8080/",
          "height": 423
        },
        "id": "HvJFGwswvaWC",
        "outputId": "e0d26f1f-2194-4f00-a4fa-81e0cab64fef"
      },
      "execution_count": 186,
      "outputs": [
        {
          "output_type": "execute_result",
          "data": {
            "text/plain": [
              "     nombre  resistencia  ataque  defensa  tipo_primario  tipo_secundario  \\\n",
              "0     False        False   False    False          False            False   \n",
              "1     False        False   False    False          False            False   \n",
              "2     False        False   False    False          False            False   \n",
              "3     False        False   False    False          False            False   \n",
              "4     False        False   False    False          False            False   \n",
              "..      ...          ...     ...      ...            ...              ...   \n",
              "644   False        False   False    False          False            False   \n",
              "645   False        False   False    False          False            False   \n",
              "646   False        False   False    False          False            False   \n",
              "647   False        False   False    False          False            False   \n",
              "648   False        False   False    False          False            False   \n",
              "\n",
              "     salud_maxima  tasa_captura  tasa_escape   peso  altura  legendario  \\\n",
              "0           False         False        False  False   False       False   \n",
              "1           False         False        False  False   False       False   \n",
              "2           False         False        False  False   False       False   \n",
              "3           False         False        False  False   False       False   \n",
              "4           False         False        False  False   False       False   \n",
              "..            ...           ...          ...    ...     ...         ...   \n",
              "644         False         False        False  False   False       False   \n",
              "645         False         False        False  False   False       False   \n",
              "646         False         False        False  False   False       False   \n",
              "647         False         False        False  False   False       False   \n",
              "648         False         False        False  False   False       False   \n",
              "\n",
              "     generacion  fuerza_combate  \n",
              "0         False           False  \n",
              "1         False           False  \n",
              "2         False           False  \n",
              "3         False           False  \n",
              "4         False           False  \n",
              "..          ...             ...  \n",
              "644       False           False  \n",
              "645       False           False  \n",
              "646       False           False  \n",
              "647       False           False  \n",
              "648       False           False  \n",
              "\n",
              "[649 rows x 14 columns]"
            ],
            "text/html": [
              "\n",
              "  <div id=\"df-2a982aef-0816-475a-97b4-44b91cd96b63\">\n",
              "    <div class=\"colab-df-container\">\n",
              "      <div>\n",
              "<style scoped>\n",
              "    .dataframe tbody tr th:only-of-type {\n",
              "        vertical-align: middle;\n",
              "    }\n",
              "\n",
              "    .dataframe tbody tr th {\n",
              "        vertical-align: top;\n",
              "    }\n",
              "\n",
              "    .dataframe thead th {\n",
              "        text-align: right;\n",
              "    }\n",
              "</style>\n",
              "<table border=\"1\" class=\"dataframe\">\n",
              "  <thead>\n",
              "    <tr style=\"text-align: right;\">\n",
              "      <th></th>\n",
              "      <th>nombre</th>\n",
              "      <th>resistencia</th>\n",
              "      <th>ataque</th>\n",
              "      <th>defensa</th>\n",
              "      <th>tipo_primario</th>\n",
              "      <th>tipo_secundario</th>\n",
              "      <th>salud_maxima</th>\n",
              "      <th>tasa_captura</th>\n",
              "      <th>tasa_escape</th>\n",
              "      <th>peso</th>\n",
              "      <th>altura</th>\n",
              "      <th>legendario</th>\n",
              "      <th>generacion</th>\n",
              "      <th>fuerza_combate</th>\n",
              "    </tr>\n",
              "  </thead>\n",
              "  <tbody>\n",
              "    <tr>\n",
              "      <th>0</th>\n",
              "      <td>False</td>\n",
              "      <td>False</td>\n",
              "      <td>False</td>\n",
              "      <td>False</td>\n",
              "      <td>False</td>\n",
              "      <td>False</td>\n",
              "      <td>False</td>\n",
              "      <td>False</td>\n",
              "      <td>False</td>\n",
              "      <td>False</td>\n",
              "      <td>False</td>\n",
              "      <td>False</td>\n",
              "      <td>False</td>\n",
              "      <td>False</td>\n",
              "    </tr>\n",
              "    <tr>\n",
              "      <th>1</th>\n",
              "      <td>False</td>\n",
              "      <td>False</td>\n",
              "      <td>False</td>\n",
              "      <td>False</td>\n",
              "      <td>False</td>\n",
              "      <td>False</td>\n",
              "      <td>False</td>\n",
              "      <td>False</td>\n",
              "      <td>False</td>\n",
              "      <td>False</td>\n",
              "      <td>False</td>\n",
              "      <td>False</td>\n",
              "      <td>False</td>\n",
              "      <td>False</td>\n",
              "    </tr>\n",
              "    <tr>\n",
              "      <th>2</th>\n",
              "      <td>False</td>\n",
              "      <td>False</td>\n",
              "      <td>False</td>\n",
              "      <td>False</td>\n",
              "      <td>False</td>\n",
              "      <td>False</td>\n",
              "      <td>False</td>\n",
              "      <td>False</td>\n",
              "      <td>False</td>\n",
              "      <td>False</td>\n",
              "      <td>False</td>\n",
              "      <td>False</td>\n",
              "      <td>False</td>\n",
              "      <td>False</td>\n",
              "    </tr>\n",
              "    <tr>\n",
              "      <th>3</th>\n",
              "      <td>False</td>\n",
              "      <td>False</td>\n",
              "      <td>False</td>\n",
              "      <td>False</td>\n",
              "      <td>False</td>\n",
              "      <td>False</td>\n",
              "      <td>False</td>\n",
              "      <td>False</td>\n",
              "      <td>False</td>\n",
              "      <td>False</td>\n",
              "      <td>False</td>\n",
              "      <td>False</td>\n",
              "      <td>False</td>\n",
              "      <td>False</td>\n",
              "    </tr>\n",
              "    <tr>\n",
              "      <th>4</th>\n",
              "      <td>False</td>\n",
              "      <td>False</td>\n",
              "      <td>False</td>\n",
              "      <td>False</td>\n",
              "      <td>False</td>\n",
              "      <td>False</td>\n",
              "      <td>False</td>\n",
              "      <td>False</td>\n",
              "      <td>False</td>\n",
              "      <td>False</td>\n",
              "      <td>False</td>\n",
              "      <td>False</td>\n",
              "      <td>False</td>\n",
              "      <td>False</td>\n",
              "    </tr>\n",
              "    <tr>\n",
              "      <th>...</th>\n",
              "      <td>...</td>\n",
              "      <td>...</td>\n",
              "      <td>...</td>\n",
              "      <td>...</td>\n",
              "      <td>...</td>\n",
              "      <td>...</td>\n",
              "      <td>...</td>\n",
              "      <td>...</td>\n",
              "      <td>...</td>\n",
              "      <td>...</td>\n",
              "      <td>...</td>\n",
              "      <td>...</td>\n",
              "      <td>...</td>\n",
              "      <td>...</td>\n",
              "    </tr>\n",
              "    <tr>\n",
              "      <th>644</th>\n",
              "      <td>False</td>\n",
              "      <td>False</td>\n",
              "      <td>False</td>\n",
              "      <td>False</td>\n",
              "      <td>False</td>\n",
              "      <td>False</td>\n",
              "      <td>False</td>\n",
              "      <td>False</td>\n",
              "      <td>False</td>\n",
              "      <td>False</td>\n",
              "      <td>False</td>\n",
              "      <td>False</td>\n",
              "      <td>False</td>\n",
              "      <td>False</td>\n",
              "    </tr>\n",
              "    <tr>\n",
              "      <th>645</th>\n",
              "      <td>False</td>\n",
              "      <td>False</td>\n",
              "      <td>False</td>\n",
              "      <td>False</td>\n",
              "      <td>False</td>\n",
              "      <td>False</td>\n",
              "      <td>False</td>\n",
              "      <td>False</td>\n",
              "      <td>False</td>\n",
              "      <td>False</td>\n",
              "      <td>False</td>\n",
              "      <td>False</td>\n",
              "      <td>False</td>\n",
              "      <td>False</td>\n",
              "    </tr>\n",
              "    <tr>\n",
              "      <th>646</th>\n",
              "      <td>False</td>\n",
              "      <td>False</td>\n",
              "      <td>False</td>\n",
              "      <td>False</td>\n",
              "      <td>False</td>\n",
              "      <td>False</td>\n",
              "      <td>False</td>\n",
              "      <td>False</td>\n",
              "      <td>False</td>\n",
              "      <td>False</td>\n",
              "      <td>False</td>\n",
              "      <td>False</td>\n",
              "      <td>False</td>\n",
              "      <td>False</td>\n",
              "    </tr>\n",
              "    <tr>\n",
              "      <th>647</th>\n",
              "      <td>False</td>\n",
              "      <td>False</td>\n",
              "      <td>False</td>\n",
              "      <td>False</td>\n",
              "      <td>False</td>\n",
              "      <td>False</td>\n",
              "      <td>False</td>\n",
              "      <td>False</td>\n",
              "      <td>False</td>\n",
              "      <td>False</td>\n",
              "      <td>False</td>\n",
              "      <td>False</td>\n",
              "      <td>False</td>\n",
              "      <td>False</td>\n",
              "    </tr>\n",
              "    <tr>\n",
              "      <th>648</th>\n",
              "      <td>False</td>\n",
              "      <td>False</td>\n",
              "      <td>False</td>\n",
              "      <td>False</td>\n",
              "      <td>False</td>\n",
              "      <td>False</td>\n",
              "      <td>False</td>\n",
              "      <td>False</td>\n",
              "      <td>False</td>\n",
              "      <td>False</td>\n",
              "      <td>False</td>\n",
              "      <td>False</td>\n",
              "      <td>False</td>\n",
              "      <td>False</td>\n",
              "    </tr>\n",
              "  </tbody>\n",
              "</table>\n",
              "<p>649 rows × 14 columns</p>\n",
              "</div>\n",
              "      <button class=\"colab-df-convert\" onclick=\"convertToInteractive('df-2a982aef-0816-475a-97b4-44b91cd96b63')\"\n",
              "              title=\"Convert this dataframe to an interactive table.\"\n",
              "              style=\"display:none;\">\n",
              "        \n",
              "  <svg xmlns=\"http://www.w3.org/2000/svg\" height=\"24px\"viewBox=\"0 0 24 24\"\n",
              "       width=\"24px\">\n",
              "    <path d=\"M0 0h24v24H0V0z\" fill=\"none\"/>\n",
              "    <path d=\"M18.56 5.44l.94 2.06.94-2.06 2.06-.94-2.06-.94-.94-2.06-.94 2.06-2.06.94zm-11 1L8.5 8.5l.94-2.06 2.06-.94-2.06-.94L8.5 2.5l-.94 2.06-2.06.94zm10 10l.94 2.06.94-2.06 2.06-.94-2.06-.94-.94-2.06-.94 2.06-2.06.94z\"/><path d=\"M17.41 7.96l-1.37-1.37c-.4-.4-.92-.59-1.43-.59-.52 0-1.04.2-1.43.59L10.3 9.45l-7.72 7.72c-.78.78-.78 2.05 0 2.83L4 21.41c.39.39.9.59 1.41.59.51 0 1.02-.2 1.41-.59l7.78-7.78 2.81-2.81c.8-.78.8-2.07 0-2.86zM5.41 20L4 18.59l7.72-7.72 1.47 1.35L5.41 20z\"/>\n",
              "  </svg>\n",
              "      </button>\n",
              "      \n",
              "  <style>\n",
              "    .colab-df-container {\n",
              "      display:flex;\n",
              "      flex-wrap:wrap;\n",
              "      gap: 12px;\n",
              "    }\n",
              "\n",
              "    .colab-df-convert {\n",
              "      background-color: #E8F0FE;\n",
              "      border: none;\n",
              "      border-radius: 50%;\n",
              "      cursor: pointer;\n",
              "      display: none;\n",
              "      fill: #1967D2;\n",
              "      height: 32px;\n",
              "      padding: 0 0 0 0;\n",
              "      width: 32px;\n",
              "    }\n",
              "\n",
              "    .colab-df-convert:hover {\n",
              "      background-color: #E2EBFA;\n",
              "      box-shadow: 0px 1px 2px rgba(60, 64, 67, 0.3), 0px 1px 3px 1px rgba(60, 64, 67, 0.15);\n",
              "      fill: #174EA6;\n",
              "    }\n",
              "\n",
              "    [theme=dark] .colab-df-convert {\n",
              "      background-color: #3B4455;\n",
              "      fill: #D2E3FC;\n",
              "    }\n",
              "\n",
              "    [theme=dark] .colab-df-convert:hover {\n",
              "      background-color: #434B5C;\n",
              "      box-shadow: 0px 1px 3px 1px rgba(0, 0, 0, 0.15);\n",
              "      filter: drop-shadow(0px 1px 2px rgba(0, 0, 0, 0.3));\n",
              "      fill: #FFFFFF;\n",
              "    }\n",
              "  </style>\n",
              "\n",
              "      <script>\n",
              "        const buttonEl =\n",
              "          document.querySelector('#df-2a982aef-0816-475a-97b4-44b91cd96b63 button.colab-df-convert');\n",
              "        buttonEl.style.display =\n",
              "          google.colab.kernel.accessAllowed ? 'block' : 'none';\n",
              "\n",
              "        async function convertToInteractive(key) {\n",
              "          const element = document.querySelector('#df-2a982aef-0816-475a-97b4-44b91cd96b63');\n",
              "          const dataTable =\n",
              "            await google.colab.kernel.invokeFunction('convertToInteractive',\n",
              "                                                     [key], {});\n",
              "          if (!dataTable) return;\n",
              "\n",
              "          const docLinkHtml = 'Like what you see? Visit the ' +\n",
              "            '<a target=\"_blank\" href=https://colab.research.google.com/notebooks/data_table.ipynb>data table notebook</a>'\n",
              "            + ' to learn more about interactive tables.';\n",
              "          element.innerHTML = '';\n",
              "          dataTable['output_type'] = 'display_data';\n",
              "          await google.colab.output.renderOutput(dataTable, element);\n",
              "          const docLink = document.createElement('div');\n",
              "          docLink.innerHTML = docLinkHtml;\n",
              "          element.appendChild(docLink);\n",
              "        }\n",
              "      </script>\n",
              "    </div>\n",
              "  </div>\n",
              "  "
            ]
          },
          "metadata": {},
          "execution_count": 186
        }
      ]
    },
    {
      "cell_type": "code",
      "source": [
        "data.isna().sum()"
      ],
      "metadata": {
        "colab": {
          "base_uri": "https://localhost:8080/"
        },
        "id": "B6WWhTnPFHtp",
        "outputId": "7ef28da0-cd4b-42a3-f4dd-0bd3130f208e"
      },
      "execution_count": 187,
      "outputs": [
        {
          "output_type": "execute_result",
          "data": {
            "text/plain": [
              "nombre             0\n",
              "resistencia        5\n",
              "ataque             5\n",
              "defensa            5\n",
              "tipo_primario      5\n",
              "tipo_secundario    5\n",
              "salud_maxima       5\n",
              "tasa_captura       5\n",
              "tasa_escape        5\n",
              "peso               0\n",
              "altura             4\n",
              "legendario         1\n",
              "generacion         0\n",
              "fuerza_combate     0\n",
              "dtype: int64"
            ]
          },
          "metadata": {},
          "execution_count": 187
        }
      ]
    },
    {
      "cell_type": "code",
      "source": [
        "lista = [False, False, True, False, True]\n",
        "sum(lista)"
      ],
      "metadata": {
        "colab": {
          "base_uri": "https://localhost:8080/"
        },
        "id": "UxWj_0Kgufz_",
        "outputId": "13d8a726-7452-4e94-a27e-9eec2771c122"
      },
      "execution_count": 188,
      "outputs": [
        {
          "output_type": "execute_result",
          "data": {
            "text/plain": [
              "2"
            ]
          },
          "metadata": {},
          "execution_count": 188
        }
      ]
    },
    {
      "cell_type": "code",
      "source": [
        "data.dropna()"
      ],
      "metadata": {
        "colab": {
          "base_uri": "https://localhost:8080/",
          "height": 423
        },
        "id": "0UVLH5Q6vqYj",
        "outputId": "ae968ad3-74a6-4142-e12a-57abac98307b"
      },
      "execution_count": 189,
      "outputs": [
        {
          "output_type": "execute_result",
          "data": {
            "text/plain": [
              "         nombre  resistencia  ataque  defensa tipo_primario tipo_secundario  \\\n",
              "0     Bulbasaur        128.0   118.0    111.0         Grass          Poison   \n",
              "1       Ivysaur        155.0   151.0    143.0         Grass          Poison   \n",
              "2      Venusaur        190.0   198.0    189.0         Grass          Poison   \n",
              "3    Charmander        118.0   116.0     93.0          Fire            None   \n",
              "4    Charmeleon        151.0   158.0    126.0          Fire            None   \n",
              "..          ...          ...     ...      ...           ...             ...   \n",
              "644    Landorus        205.0   261.0    182.0        Ground          Flying   \n",
              "645      Kyurem        245.0   246.0    170.0        Dragon             Ice   \n",
              "646      Keldeo        209.0   260.0    192.0         Water        Fighting   \n",
              "647    Meloetta        225.0   250.0    225.0        Normal         Psychic   \n",
              "648    Genesect        174.0   252.0    199.0           Bug           Steel   \n",
              "\n",
              "     salud_maxima  tasa_captura  tasa_escape   peso  altura legendario  \\\n",
              "0           113.0          0.20         0.10    6.9     0.7         No   \n",
              "1           134.0          0.10         0.07   13.0     1.0         No   \n",
              "2           162.0          0.05         0.05  100.0     2.0         No   \n",
              "3           105.0          0.20         0.10    8.5     0.6         No   \n",
              "4           131.0          0.10         0.07   19.0     1.1         No   \n",
              "..            ...           ...          ...    ...     ...        ...   \n",
              "644         173.0          0.02         0.01   68.0     1.5         Sí   \n",
              "645         205.0          0.02         0.01  325.0     3.0         Sí   \n",
              "646         177.0          0.02         0.01   48.5     1.4         No   \n",
              "647         189.0          0.02         0.01    6.5     0.6         No   \n",
              "648         149.0          0.02         0.01   82.5     1.5         No   \n",
              "\n",
              "     generacion  fuerza_combate  \n",
              "0             1            1115  \n",
              "1             1            1699  \n",
              "2             1            2720  \n",
              "3             1             980  \n",
              "4             1            1653  \n",
              "..          ...             ...  \n",
              "644           5            3588  \n",
              "645           5            3575  \n",
              "646           5            3698  \n",
              "647           5            3972  \n",
              "648           5            3353  \n",
              "\n",
              "[639 rows x 14 columns]"
            ],
            "text/html": [
              "\n",
              "  <div id=\"df-9b1b01b4-eff9-4ae0-bd62-a1f8b65c4c06\">\n",
              "    <div class=\"colab-df-container\">\n",
              "      <div>\n",
              "<style scoped>\n",
              "    .dataframe tbody tr th:only-of-type {\n",
              "        vertical-align: middle;\n",
              "    }\n",
              "\n",
              "    .dataframe tbody tr th {\n",
              "        vertical-align: top;\n",
              "    }\n",
              "\n",
              "    .dataframe thead th {\n",
              "        text-align: right;\n",
              "    }\n",
              "</style>\n",
              "<table border=\"1\" class=\"dataframe\">\n",
              "  <thead>\n",
              "    <tr style=\"text-align: right;\">\n",
              "      <th></th>\n",
              "      <th>nombre</th>\n",
              "      <th>resistencia</th>\n",
              "      <th>ataque</th>\n",
              "      <th>defensa</th>\n",
              "      <th>tipo_primario</th>\n",
              "      <th>tipo_secundario</th>\n",
              "      <th>salud_maxima</th>\n",
              "      <th>tasa_captura</th>\n",
              "      <th>tasa_escape</th>\n",
              "      <th>peso</th>\n",
              "      <th>altura</th>\n",
              "      <th>legendario</th>\n",
              "      <th>generacion</th>\n",
              "      <th>fuerza_combate</th>\n",
              "    </tr>\n",
              "  </thead>\n",
              "  <tbody>\n",
              "    <tr>\n",
              "      <th>0</th>\n",
              "      <td>Bulbasaur</td>\n",
              "      <td>128.0</td>\n",
              "      <td>118.0</td>\n",
              "      <td>111.0</td>\n",
              "      <td>Grass</td>\n",
              "      <td>Poison</td>\n",
              "      <td>113.0</td>\n",
              "      <td>0.20</td>\n",
              "      <td>0.10</td>\n",
              "      <td>6.9</td>\n",
              "      <td>0.7</td>\n",
              "      <td>No</td>\n",
              "      <td>1</td>\n",
              "      <td>1115</td>\n",
              "    </tr>\n",
              "    <tr>\n",
              "      <th>1</th>\n",
              "      <td>Ivysaur</td>\n",
              "      <td>155.0</td>\n",
              "      <td>151.0</td>\n",
              "      <td>143.0</td>\n",
              "      <td>Grass</td>\n",
              "      <td>Poison</td>\n",
              "      <td>134.0</td>\n",
              "      <td>0.10</td>\n",
              "      <td>0.07</td>\n",
              "      <td>13.0</td>\n",
              "      <td>1.0</td>\n",
              "      <td>No</td>\n",
              "      <td>1</td>\n",
              "      <td>1699</td>\n",
              "    </tr>\n",
              "    <tr>\n",
              "      <th>2</th>\n",
              "      <td>Venusaur</td>\n",
              "      <td>190.0</td>\n",
              "      <td>198.0</td>\n",
              "      <td>189.0</td>\n",
              "      <td>Grass</td>\n",
              "      <td>Poison</td>\n",
              "      <td>162.0</td>\n",
              "      <td>0.05</td>\n",
              "      <td>0.05</td>\n",
              "      <td>100.0</td>\n",
              "      <td>2.0</td>\n",
              "      <td>No</td>\n",
              "      <td>1</td>\n",
              "      <td>2720</td>\n",
              "    </tr>\n",
              "    <tr>\n",
              "      <th>3</th>\n",
              "      <td>Charmander</td>\n",
              "      <td>118.0</td>\n",
              "      <td>116.0</td>\n",
              "      <td>93.0</td>\n",
              "      <td>Fire</td>\n",
              "      <td>None</td>\n",
              "      <td>105.0</td>\n",
              "      <td>0.20</td>\n",
              "      <td>0.10</td>\n",
              "      <td>8.5</td>\n",
              "      <td>0.6</td>\n",
              "      <td>No</td>\n",
              "      <td>1</td>\n",
              "      <td>980</td>\n",
              "    </tr>\n",
              "    <tr>\n",
              "      <th>4</th>\n",
              "      <td>Charmeleon</td>\n",
              "      <td>151.0</td>\n",
              "      <td>158.0</td>\n",
              "      <td>126.0</td>\n",
              "      <td>Fire</td>\n",
              "      <td>None</td>\n",
              "      <td>131.0</td>\n",
              "      <td>0.10</td>\n",
              "      <td>0.07</td>\n",
              "      <td>19.0</td>\n",
              "      <td>1.1</td>\n",
              "      <td>No</td>\n",
              "      <td>1</td>\n",
              "      <td>1653</td>\n",
              "    </tr>\n",
              "    <tr>\n",
              "      <th>...</th>\n",
              "      <td>...</td>\n",
              "      <td>...</td>\n",
              "      <td>...</td>\n",
              "      <td>...</td>\n",
              "      <td>...</td>\n",
              "      <td>...</td>\n",
              "      <td>...</td>\n",
              "      <td>...</td>\n",
              "      <td>...</td>\n",
              "      <td>...</td>\n",
              "      <td>...</td>\n",
              "      <td>...</td>\n",
              "      <td>...</td>\n",
              "      <td>...</td>\n",
              "    </tr>\n",
              "    <tr>\n",
              "      <th>644</th>\n",
              "      <td>Landorus</td>\n",
              "      <td>205.0</td>\n",
              "      <td>261.0</td>\n",
              "      <td>182.0</td>\n",
              "      <td>Ground</td>\n",
              "      <td>Flying</td>\n",
              "      <td>173.0</td>\n",
              "      <td>0.02</td>\n",
              "      <td>0.01</td>\n",
              "      <td>68.0</td>\n",
              "      <td>1.5</td>\n",
              "      <td>Sí</td>\n",
              "      <td>5</td>\n",
              "      <td>3588</td>\n",
              "    </tr>\n",
              "    <tr>\n",
              "      <th>645</th>\n",
              "      <td>Kyurem</td>\n",
              "      <td>245.0</td>\n",
              "      <td>246.0</td>\n",
              "      <td>170.0</td>\n",
              "      <td>Dragon</td>\n",
              "      <td>Ice</td>\n",
              "      <td>205.0</td>\n",
              "      <td>0.02</td>\n",
              "      <td>0.01</td>\n",
              "      <td>325.0</td>\n",
              "      <td>3.0</td>\n",
              "      <td>Sí</td>\n",
              "      <td>5</td>\n",
              "      <td>3575</td>\n",
              "    </tr>\n",
              "    <tr>\n",
              "      <th>646</th>\n",
              "      <td>Keldeo</td>\n",
              "      <td>209.0</td>\n",
              "      <td>260.0</td>\n",
              "      <td>192.0</td>\n",
              "      <td>Water</td>\n",
              "      <td>Fighting</td>\n",
              "      <td>177.0</td>\n",
              "      <td>0.02</td>\n",
              "      <td>0.01</td>\n",
              "      <td>48.5</td>\n",
              "      <td>1.4</td>\n",
              "      <td>No</td>\n",
              "      <td>5</td>\n",
              "      <td>3698</td>\n",
              "    </tr>\n",
              "    <tr>\n",
              "      <th>647</th>\n",
              "      <td>Meloetta</td>\n",
              "      <td>225.0</td>\n",
              "      <td>250.0</td>\n",
              "      <td>225.0</td>\n",
              "      <td>Normal</td>\n",
              "      <td>Psychic</td>\n",
              "      <td>189.0</td>\n",
              "      <td>0.02</td>\n",
              "      <td>0.01</td>\n",
              "      <td>6.5</td>\n",
              "      <td>0.6</td>\n",
              "      <td>No</td>\n",
              "      <td>5</td>\n",
              "      <td>3972</td>\n",
              "    </tr>\n",
              "    <tr>\n",
              "      <th>648</th>\n",
              "      <td>Genesect</td>\n",
              "      <td>174.0</td>\n",
              "      <td>252.0</td>\n",
              "      <td>199.0</td>\n",
              "      <td>Bug</td>\n",
              "      <td>Steel</td>\n",
              "      <td>149.0</td>\n",
              "      <td>0.02</td>\n",
              "      <td>0.01</td>\n",
              "      <td>82.5</td>\n",
              "      <td>1.5</td>\n",
              "      <td>No</td>\n",
              "      <td>5</td>\n",
              "      <td>3353</td>\n",
              "    </tr>\n",
              "  </tbody>\n",
              "</table>\n",
              "<p>639 rows × 14 columns</p>\n",
              "</div>\n",
              "      <button class=\"colab-df-convert\" onclick=\"convertToInteractive('df-9b1b01b4-eff9-4ae0-bd62-a1f8b65c4c06')\"\n",
              "              title=\"Convert this dataframe to an interactive table.\"\n",
              "              style=\"display:none;\">\n",
              "        \n",
              "  <svg xmlns=\"http://www.w3.org/2000/svg\" height=\"24px\"viewBox=\"0 0 24 24\"\n",
              "       width=\"24px\">\n",
              "    <path d=\"M0 0h24v24H0V0z\" fill=\"none\"/>\n",
              "    <path d=\"M18.56 5.44l.94 2.06.94-2.06 2.06-.94-2.06-.94-.94-2.06-.94 2.06-2.06.94zm-11 1L8.5 8.5l.94-2.06 2.06-.94-2.06-.94L8.5 2.5l-.94 2.06-2.06.94zm10 10l.94 2.06.94-2.06 2.06-.94-2.06-.94-.94-2.06-.94 2.06-2.06.94z\"/><path d=\"M17.41 7.96l-1.37-1.37c-.4-.4-.92-.59-1.43-.59-.52 0-1.04.2-1.43.59L10.3 9.45l-7.72 7.72c-.78.78-.78 2.05 0 2.83L4 21.41c.39.39.9.59 1.41.59.51 0 1.02-.2 1.41-.59l7.78-7.78 2.81-2.81c.8-.78.8-2.07 0-2.86zM5.41 20L4 18.59l7.72-7.72 1.47 1.35L5.41 20z\"/>\n",
              "  </svg>\n",
              "      </button>\n",
              "      \n",
              "  <style>\n",
              "    .colab-df-container {\n",
              "      display:flex;\n",
              "      flex-wrap:wrap;\n",
              "      gap: 12px;\n",
              "    }\n",
              "\n",
              "    .colab-df-convert {\n",
              "      background-color: #E8F0FE;\n",
              "      border: none;\n",
              "      border-radius: 50%;\n",
              "      cursor: pointer;\n",
              "      display: none;\n",
              "      fill: #1967D2;\n",
              "      height: 32px;\n",
              "      padding: 0 0 0 0;\n",
              "      width: 32px;\n",
              "    }\n",
              "\n",
              "    .colab-df-convert:hover {\n",
              "      background-color: #E2EBFA;\n",
              "      box-shadow: 0px 1px 2px rgba(60, 64, 67, 0.3), 0px 1px 3px 1px rgba(60, 64, 67, 0.15);\n",
              "      fill: #174EA6;\n",
              "    }\n",
              "\n",
              "    [theme=dark] .colab-df-convert {\n",
              "      background-color: #3B4455;\n",
              "      fill: #D2E3FC;\n",
              "    }\n",
              "\n",
              "    [theme=dark] .colab-df-convert:hover {\n",
              "      background-color: #434B5C;\n",
              "      box-shadow: 0px 1px 3px 1px rgba(0, 0, 0, 0.15);\n",
              "      filter: drop-shadow(0px 1px 2px rgba(0, 0, 0, 0.3));\n",
              "      fill: #FFFFFF;\n",
              "    }\n",
              "  </style>\n",
              "\n",
              "      <script>\n",
              "        const buttonEl =\n",
              "          document.querySelector('#df-9b1b01b4-eff9-4ae0-bd62-a1f8b65c4c06 button.colab-df-convert');\n",
              "        buttonEl.style.display =\n",
              "          google.colab.kernel.accessAllowed ? 'block' : 'none';\n",
              "\n",
              "        async function convertToInteractive(key) {\n",
              "          const element = document.querySelector('#df-9b1b01b4-eff9-4ae0-bd62-a1f8b65c4c06');\n",
              "          const dataTable =\n",
              "            await google.colab.kernel.invokeFunction('convertToInteractive',\n",
              "                                                     [key], {});\n",
              "          if (!dataTable) return;\n",
              "\n",
              "          const docLinkHtml = 'Like what you see? Visit the ' +\n",
              "            '<a target=\"_blank\" href=https://colab.research.google.com/notebooks/data_table.ipynb>data table notebook</a>'\n",
              "            + ' to learn more about interactive tables.';\n",
              "          element.innerHTML = '';\n",
              "          dataTable['output_type'] = 'display_data';\n",
              "          await google.colab.output.renderOutput(dataTable, element);\n",
              "          const docLink = document.createElement('div');\n",
              "          docLink.innerHTML = docLinkHtml;\n",
              "          element.appendChild(docLink);\n",
              "        }\n",
              "      </script>\n",
              "    </div>\n",
              "  </div>\n",
              "  "
            ]
          },
          "metadata": {},
          "execution_count": 189
        }
      ]
    },
    {
      "cell_type": "code",
      "source": [
        "mascara = data[\"tipo_primario\"].isna()\n",
        "data[mascara]"
      ],
      "metadata": {
        "colab": {
          "base_uri": "https://localhost:8080/",
          "height": 206
        },
        "id": "3GYtl1z_vwq5",
        "outputId": "f1606b2d-d331-4723-a402-22bf3d280580"
      },
      "execution_count": 190,
      "outputs": [
        {
          "output_type": "execute_result",
          "data": {
            "text/plain": [
              "       nombre  resistencia  ataque  defensa tipo_primario tipo_secundario  \\\n",
              "175   Togetic          NaN     NaN      NaN           NaN             NaN   \n",
              "248     Lugia          NaN     NaN      NaN           NaN             NaN   \n",
              "345   Cradily          NaN     NaN      NaN           NaN             NaN   \n",
              "568  Garbodor          NaN     NaN      NaN           NaN             NaN   \n",
              "580    Swanna          NaN     NaN      NaN           NaN             NaN   \n",
              "\n",
              "     salud_maxima  tasa_captura  tasa_escape   peso  altura legendario  \\\n",
              "175           NaN           NaN          NaN    3.2    0.61         No   \n",
              "248           NaN           NaN          NaN  216.0    5.21         Sí   \n",
              "345           NaN           NaN          NaN   60.4    1.50         No   \n",
              "568           NaN           NaN          NaN  107.3    1.90         No   \n",
              "580           NaN           NaN          NaN   24.2    1.30         No   \n",
              "\n",
              "     generacion  fuerza_combate  \n",
              "175           2            1708  \n",
              "248           2            3703  \n",
              "345           3            2211  \n",
              "568           5            2345  \n",
              "580           5            2088  "
            ],
            "text/html": [
              "\n",
              "  <div id=\"df-cc09acca-4593-4ae6-a757-8cedf345ebec\">\n",
              "    <div class=\"colab-df-container\">\n",
              "      <div>\n",
              "<style scoped>\n",
              "    .dataframe tbody tr th:only-of-type {\n",
              "        vertical-align: middle;\n",
              "    }\n",
              "\n",
              "    .dataframe tbody tr th {\n",
              "        vertical-align: top;\n",
              "    }\n",
              "\n",
              "    .dataframe thead th {\n",
              "        text-align: right;\n",
              "    }\n",
              "</style>\n",
              "<table border=\"1\" class=\"dataframe\">\n",
              "  <thead>\n",
              "    <tr style=\"text-align: right;\">\n",
              "      <th></th>\n",
              "      <th>nombre</th>\n",
              "      <th>resistencia</th>\n",
              "      <th>ataque</th>\n",
              "      <th>defensa</th>\n",
              "      <th>tipo_primario</th>\n",
              "      <th>tipo_secundario</th>\n",
              "      <th>salud_maxima</th>\n",
              "      <th>tasa_captura</th>\n",
              "      <th>tasa_escape</th>\n",
              "      <th>peso</th>\n",
              "      <th>altura</th>\n",
              "      <th>legendario</th>\n",
              "      <th>generacion</th>\n",
              "      <th>fuerza_combate</th>\n",
              "    </tr>\n",
              "  </thead>\n",
              "  <tbody>\n",
              "    <tr>\n",
              "      <th>175</th>\n",
              "      <td>Togetic</td>\n",
              "      <td>NaN</td>\n",
              "      <td>NaN</td>\n",
              "      <td>NaN</td>\n",
              "      <td>NaN</td>\n",
              "      <td>NaN</td>\n",
              "      <td>NaN</td>\n",
              "      <td>NaN</td>\n",
              "      <td>NaN</td>\n",
              "      <td>3.2</td>\n",
              "      <td>0.61</td>\n",
              "      <td>No</td>\n",
              "      <td>2</td>\n",
              "      <td>1708</td>\n",
              "    </tr>\n",
              "    <tr>\n",
              "      <th>248</th>\n",
              "      <td>Lugia</td>\n",
              "      <td>NaN</td>\n",
              "      <td>NaN</td>\n",
              "      <td>NaN</td>\n",
              "      <td>NaN</td>\n",
              "      <td>NaN</td>\n",
              "      <td>NaN</td>\n",
              "      <td>NaN</td>\n",
              "      <td>NaN</td>\n",
              "      <td>216.0</td>\n",
              "      <td>5.21</td>\n",
              "      <td>Sí</td>\n",
              "      <td>2</td>\n",
              "      <td>3703</td>\n",
              "    </tr>\n",
              "    <tr>\n",
              "      <th>345</th>\n",
              "      <td>Cradily</td>\n",
              "      <td>NaN</td>\n",
              "      <td>NaN</td>\n",
              "      <td>NaN</td>\n",
              "      <td>NaN</td>\n",
              "      <td>NaN</td>\n",
              "      <td>NaN</td>\n",
              "      <td>NaN</td>\n",
              "      <td>NaN</td>\n",
              "      <td>60.4</td>\n",
              "      <td>1.50</td>\n",
              "      <td>No</td>\n",
              "      <td>3</td>\n",
              "      <td>2211</td>\n",
              "    </tr>\n",
              "    <tr>\n",
              "      <th>568</th>\n",
              "      <td>Garbodor</td>\n",
              "      <td>NaN</td>\n",
              "      <td>NaN</td>\n",
              "      <td>NaN</td>\n",
              "      <td>NaN</td>\n",
              "      <td>NaN</td>\n",
              "      <td>NaN</td>\n",
              "      <td>NaN</td>\n",
              "      <td>NaN</td>\n",
              "      <td>107.3</td>\n",
              "      <td>1.90</td>\n",
              "      <td>No</td>\n",
              "      <td>5</td>\n",
              "      <td>2345</td>\n",
              "    </tr>\n",
              "    <tr>\n",
              "      <th>580</th>\n",
              "      <td>Swanna</td>\n",
              "      <td>NaN</td>\n",
              "      <td>NaN</td>\n",
              "      <td>NaN</td>\n",
              "      <td>NaN</td>\n",
              "      <td>NaN</td>\n",
              "      <td>NaN</td>\n",
              "      <td>NaN</td>\n",
              "      <td>NaN</td>\n",
              "      <td>24.2</td>\n",
              "      <td>1.30</td>\n",
              "      <td>No</td>\n",
              "      <td>5</td>\n",
              "      <td>2088</td>\n",
              "    </tr>\n",
              "  </tbody>\n",
              "</table>\n",
              "</div>\n",
              "      <button class=\"colab-df-convert\" onclick=\"convertToInteractive('df-cc09acca-4593-4ae6-a757-8cedf345ebec')\"\n",
              "              title=\"Convert this dataframe to an interactive table.\"\n",
              "              style=\"display:none;\">\n",
              "        \n",
              "  <svg xmlns=\"http://www.w3.org/2000/svg\" height=\"24px\"viewBox=\"0 0 24 24\"\n",
              "       width=\"24px\">\n",
              "    <path d=\"M0 0h24v24H0V0z\" fill=\"none\"/>\n",
              "    <path d=\"M18.56 5.44l.94 2.06.94-2.06 2.06-.94-2.06-.94-.94-2.06-.94 2.06-2.06.94zm-11 1L8.5 8.5l.94-2.06 2.06-.94-2.06-.94L8.5 2.5l-.94 2.06-2.06.94zm10 10l.94 2.06.94-2.06 2.06-.94-2.06-.94-.94-2.06-.94 2.06-2.06.94z\"/><path d=\"M17.41 7.96l-1.37-1.37c-.4-.4-.92-.59-1.43-.59-.52 0-1.04.2-1.43.59L10.3 9.45l-7.72 7.72c-.78.78-.78 2.05 0 2.83L4 21.41c.39.39.9.59 1.41.59.51 0 1.02-.2 1.41-.59l7.78-7.78 2.81-2.81c.8-.78.8-2.07 0-2.86zM5.41 20L4 18.59l7.72-7.72 1.47 1.35L5.41 20z\"/>\n",
              "  </svg>\n",
              "      </button>\n",
              "      \n",
              "  <style>\n",
              "    .colab-df-container {\n",
              "      display:flex;\n",
              "      flex-wrap:wrap;\n",
              "      gap: 12px;\n",
              "    }\n",
              "\n",
              "    .colab-df-convert {\n",
              "      background-color: #E8F0FE;\n",
              "      border: none;\n",
              "      border-radius: 50%;\n",
              "      cursor: pointer;\n",
              "      display: none;\n",
              "      fill: #1967D2;\n",
              "      height: 32px;\n",
              "      padding: 0 0 0 0;\n",
              "      width: 32px;\n",
              "    }\n",
              "\n",
              "    .colab-df-convert:hover {\n",
              "      background-color: #E2EBFA;\n",
              "      box-shadow: 0px 1px 2px rgba(60, 64, 67, 0.3), 0px 1px 3px 1px rgba(60, 64, 67, 0.15);\n",
              "      fill: #174EA6;\n",
              "    }\n",
              "\n",
              "    [theme=dark] .colab-df-convert {\n",
              "      background-color: #3B4455;\n",
              "      fill: #D2E3FC;\n",
              "    }\n",
              "\n",
              "    [theme=dark] .colab-df-convert:hover {\n",
              "      background-color: #434B5C;\n",
              "      box-shadow: 0px 1px 3px 1px rgba(0, 0, 0, 0.15);\n",
              "      filter: drop-shadow(0px 1px 2px rgba(0, 0, 0, 0.3));\n",
              "      fill: #FFFFFF;\n",
              "    }\n",
              "  </style>\n",
              "\n",
              "      <script>\n",
              "        const buttonEl =\n",
              "          document.querySelector('#df-cc09acca-4593-4ae6-a757-8cedf345ebec button.colab-df-convert');\n",
              "        buttonEl.style.display =\n",
              "          google.colab.kernel.accessAllowed ? 'block' : 'none';\n",
              "\n",
              "        async function convertToInteractive(key) {\n",
              "          const element = document.querySelector('#df-cc09acca-4593-4ae6-a757-8cedf345ebec');\n",
              "          const dataTable =\n",
              "            await google.colab.kernel.invokeFunction('convertToInteractive',\n",
              "                                                     [key], {});\n",
              "          if (!dataTable) return;\n",
              "\n",
              "          const docLinkHtml = 'Like what you see? Visit the ' +\n",
              "            '<a target=\"_blank\" href=https://colab.research.google.com/notebooks/data_table.ipynb>data table notebook</a>'\n",
              "            + ' to learn more about interactive tables.';\n",
              "          element.innerHTML = '';\n",
              "          dataTable['output_type'] = 'display_data';\n",
              "          await google.colab.output.renderOutput(dataTable, element);\n",
              "          const docLink = document.createElement('div');\n",
              "          docLink.innerHTML = docLinkHtml;\n",
              "          element.appendChild(docLink);\n",
              "        }\n",
              "      </script>\n",
              "    </div>\n",
              "  </div>\n",
              "  "
            ]
          },
          "metadata": {},
          "execution_count": 190
        }
      ]
    },
    {
      "cell_type": "code",
      "source": [
        "mascara_tasa_escape = data[\"tasa_escape\"].isnull()\n",
        "mascara_tasa_escape"
      ],
      "metadata": {
        "colab": {
          "base_uri": "https://localhost:8080/"
        },
        "id": "cEtf0qqMwEEX",
        "outputId": "a1e26423-4599-4a09-c1cc-b4b6e45f8e17"
      },
      "execution_count": 191,
      "outputs": [
        {
          "output_type": "execute_result",
          "data": {
            "text/plain": [
              "0      False\n",
              "1      False\n",
              "2      False\n",
              "3      False\n",
              "4      False\n",
              "       ...  \n",
              "644    False\n",
              "645    False\n",
              "646    False\n",
              "647    False\n",
              "648    False\n",
              "Name: tasa_escape, Length: 649, dtype: bool"
            ]
          },
          "metadata": {},
          "execution_count": 191
        }
      ]
    },
    {
      "cell_type": "code",
      "source": [
        "data.loc[mascara_tasa_escape]"
      ],
      "metadata": {
        "colab": {
          "base_uri": "https://localhost:8080/",
          "height": 206
        },
        "id": "c5W_i2QlwXFs",
        "outputId": "dad11b35-821b-40c4-9a33-65d967607fa3"
      },
      "execution_count": 192,
      "outputs": [
        {
          "output_type": "execute_result",
          "data": {
            "text/plain": [
              "       nombre  resistencia  ataque  defensa tipo_primario tipo_secundario  \\\n",
              "175   Togetic          NaN     NaN      NaN           NaN             NaN   \n",
              "248     Lugia          NaN     NaN      NaN           NaN             NaN   \n",
              "345   Cradily          NaN     NaN      NaN           NaN             NaN   \n",
              "568  Garbodor          NaN     NaN      NaN           NaN             NaN   \n",
              "580    Swanna          NaN     NaN      NaN           NaN             NaN   \n",
              "\n",
              "     salud_maxima  tasa_captura  tasa_escape   peso  altura legendario  \\\n",
              "175           NaN           NaN          NaN    3.2    0.61         No   \n",
              "248           NaN           NaN          NaN  216.0    5.21         Sí   \n",
              "345           NaN           NaN          NaN   60.4    1.50         No   \n",
              "568           NaN           NaN          NaN  107.3    1.90         No   \n",
              "580           NaN           NaN          NaN   24.2    1.30         No   \n",
              "\n",
              "     generacion  fuerza_combate  \n",
              "175           2            1708  \n",
              "248           2            3703  \n",
              "345           3            2211  \n",
              "568           5            2345  \n",
              "580           5            2088  "
            ],
            "text/html": [
              "\n",
              "  <div id=\"df-f13fb89a-1196-4bc1-abfa-f46ccaeadb74\">\n",
              "    <div class=\"colab-df-container\">\n",
              "      <div>\n",
              "<style scoped>\n",
              "    .dataframe tbody tr th:only-of-type {\n",
              "        vertical-align: middle;\n",
              "    }\n",
              "\n",
              "    .dataframe tbody tr th {\n",
              "        vertical-align: top;\n",
              "    }\n",
              "\n",
              "    .dataframe thead th {\n",
              "        text-align: right;\n",
              "    }\n",
              "</style>\n",
              "<table border=\"1\" class=\"dataframe\">\n",
              "  <thead>\n",
              "    <tr style=\"text-align: right;\">\n",
              "      <th></th>\n",
              "      <th>nombre</th>\n",
              "      <th>resistencia</th>\n",
              "      <th>ataque</th>\n",
              "      <th>defensa</th>\n",
              "      <th>tipo_primario</th>\n",
              "      <th>tipo_secundario</th>\n",
              "      <th>salud_maxima</th>\n",
              "      <th>tasa_captura</th>\n",
              "      <th>tasa_escape</th>\n",
              "      <th>peso</th>\n",
              "      <th>altura</th>\n",
              "      <th>legendario</th>\n",
              "      <th>generacion</th>\n",
              "      <th>fuerza_combate</th>\n",
              "    </tr>\n",
              "  </thead>\n",
              "  <tbody>\n",
              "    <tr>\n",
              "      <th>175</th>\n",
              "      <td>Togetic</td>\n",
              "      <td>NaN</td>\n",
              "      <td>NaN</td>\n",
              "      <td>NaN</td>\n",
              "      <td>NaN</td>\n",
              "      <td>NaN</td>\n",
              "      <td>NaN</td>\n",
              "      <td>NaN</td>\n",
              "      <td>NaN</td>\n",
              "      <td>3.2</td>\n",
              "      <td>0.61</td>\n",
              "      <td>No</td>\n",
              "      <td>2</td>\n",
              "      <td>1708</td>\n",
              "    </tr>\n",
              "    <tr>\n",
              "      <th>248</th>\n",
              "      <td>Lugia</td>\n",
              "      <td>NaN</td>\n",
              "      <td>NaN</td>\n",
              "      <td>NaN</td>\n",
              "      <td>NaN</td>\n",
              "      <td>NaN</td>\n",
              "      <td>NaN</td>\n",
              "      <td>NaN</td>\n",
              "      <td>NaN</td>\n",
              "      <td>216.0</td>\n",
              "      <td>5.21</td>\n",
              "      <td>Sí</td>\n",
              "      <td>2</td>\n",
              "      <td>3703</td>\n",
              "    </tr>\n",
              "    <tr>\n",
              "      <th>345</th>\n",
              "      <td>Cradily</td>\n",
              "      <td>NaN</td>\n",
              "      <td>NaN</td>\n",
              "      <td>NaN</td>\n",
              "      <td>NaN</td>\n",
              "      <td>NaN</td>\n",
              "      <td>NaN</td>\n",
              "      <td>NaN</td>\n",
              "      <td>NaN</td>\n",
              "      <td>60.4</td>\n",
              "      <td>1.50</td>\n",
              "      <td>No</td>\n",
              "      <td>3</td>\n",
              "      <td>2211</td>\n",
              "    </tr>\n",
              "    <tr>\n",
              "      <th>568</th>\n",
              "      <td>Garbodor</td>\n",
              "      <td>NaN</td>\n",
              "      <td>NaN</td>\n",
              "      <td>NaN</td>\n",
              "      <td>NaN</td>\n",
              "      <td>NaN</td>\n",
              "      <td>NaN</td>\n",
              "      <td>NaN</td>\n",
              "      <td>NaN</td>\n",
              "      <td>107.3</td>\n",
              "      <td>1.90</td>\n",
              "      <td>No</td>\n",
              "      <td>5</td>\n",
              "      <td>2345</td>\n",
              "    </tr>\n",
              "    <tr>\n",
              "      <th>580</th>\n",
              "      <td>Swanna</td>\n",
              "      <td>NaN</td>\n",
              "      <td>NaN</td>\n",
              "      <td>NaN</td>\n",
              "      <td>NaN</td>\n",
              "      <td>NaN</td>\n",
              "      <td>NaN</td>\n",
              "      <td>NaN</td>\n",
              "      <td>NaN</td>\n",
              "      <td>24.2</td>\n",
              "      <td>1.30</td>\n",
              "      <td>No</td>\n",
              "      <td>5</td>\n",
              "      <td>2088</td>\n",
              "    </tr>\n",
              "  </tbody>\n",
              "</table>\n",
              "</div>\n",
              "      <button class=\"colab-df-convert\" onclick=\"convertToInteractive('df-f13fb89a-1196-4bc1-abfa-f46ccaeadb74')\"\n",
              "              title=\"Convert this dataframe to an interactive table.\"\n",
              "              style=\"display:none;\">\n",
              "        \n",
              "  <svg xmlns=\"http://www.w3.org/2000/svg\" height=\"24px\"viewBox=\"0 0 24 24\"\n",
              "       width=\"24px\">\n",
              "    <path d=\"M0 0h24v24H0V0z\" fill=\"none\"/>\n",
              "    <path d=\"M18.56 5.44l.94 2.06.94-2.06 2.06-.94-2.06-.94-.94-2.06-.94 2.06-2.06.94zm-11 1L8.5 8.5l.94-2.06 2.06-.94-2.06-.94L8.5 2.5l-.94 2.06-2.06.94zm10 10l.94 2.06.94-2.06 2.06-.94-2.06-.94-.94-2.06-.94 2.06-2.06.94z\"/><path d=\"M17.41 7.96l-1.37-1.37c-.4-.4-.92-.59-1.43-.59-.52 0-1.04.2-1.43.59L10.3 9.45l-7.72 7.72c-.78.78-.78 2.05 0 2.83L4 21.41c.39.39.9.59 1.41.59.51 0 1.02-.2 1.41-.59l7.78-7.78 2.81-2.81c.8-.78.8-2.07 0-2.86zM5.41 20L4 18.59l7.72-7.72 1.47 1.35L5.41 20z\"/>\n",
              "  </svg>\n",
              "      </button>\n",
              "      \n",
              "  <style>\n",
              "    .colab-df-container {\n",
              "      display:flex;\n",
              "      flex-wrap:wrap;\n",
              "      gap: 12px;\n",
              "    }\n",
              "\n",
              "    .colab-df-convert {\n",
              "      background-color: #E8F0FE;\n",
              "      border: none;\n",
              "      border-radius: 50%;\n",
              "      cursor: pointer;\n",
              "      display: none;\n",
              "      fill: #1967D2;\n",
              "      height: 32px;\n",
              "      padding: 0 0 0 0;\n",
              "      width: 32px;\n",
              "    }\n",
              "\n",
              "    .colab-df-convert:hover {\n",
              "      background-color: #E2EBFA;\n",
              "      box-shadow: 0px 1px 2px rgba(60, 64, 67, 0.3), 0px 1px 3px 1px rgba(60, 64, 67, 0.15);\n",
              "      fill: #174EA6;\n",
              "    }\n",
              "\n",
              "    [theme=dark] .colab-df-convert {\n",
              "      background-color: #3B4455;\n",
              "      fill: #D2E3FC;\n",
              "    }\n",
              "\n",
              "    [theme=dark] .colab-df-convert:hover {\n",
              "      background-color: #434B5C;\n",
              "      box-shadow: 0px 1px 3px 1px rgba(0, 0, 0, 0.15);\n",
              "      filter: drop-shadow(0px 1px 2px rgba(0, 0, 0, 0.3));\n",
              "      fill: #FFFFFF;\n",
              "    }\n",
              "  </style>\n",
              "\n",
              "      <script>\n",
              "        const buttonEl =\n",
              "          document.querySelector('#df-f13fb89a-1196-4bc1-abfa-f46ccaeadb74 button.colab-df-convert');\n",
              "        buttonEl.style.display =\n",
              "          google.colab.kernel.accessAllowed ? 'block' : 'none';\n",
              "\n",
              "        async function convertToInteractive(key) {\n",
              "          const element = document.querySelector('#df-f13fb89a-1196-4bc1-abfa-f46ccaeadb74');\n",
              "          const dataTable =\n",
              "            await google.colab.kernel.invokeFunction('convertToInteractive',\n",
              "                                                     [key], {});\n",
              "          if (!dataTable) return;\n",
              "\n",
              "          const docLinkHtml = 'Like what you see? Visit the ' +\n",
              "            '<a target=\"_blank\" href=https://colab.research.google.com/notebooks/data_table.ipynb>data table notebook</a>'\n",
              "            + ' to learn more about interactive tables.';\n",
              "          element.innerHTML = '';\n",
              "          dataTable['output_type'] = 'display_data';\n",
              "          await google.colab.output.renderOutput(dataTable, element);\n",
              "          const docLink = document.createElement('div');\n",
              "          docLink.innerHTML = docLinkHtml;\n",
              "          element.appendChild(docLink);\n",
              "        }\n",
              "      </script>\n",
              "    </div>\n",
              "  </div>\n",
              "  "
            ]
          },
          "metadata": {},
          "execution_count": 192
        }
      ]
    },
    {
      "cell_type": "code",
      "source": [
        "data_modificada = data.dropna(axis=0, thresh=7)\n",
        "data_modificada.isna().sum()"
      ],
      "metadata": {
        "colab": {
          "base_uri": "https://localhost:8080/"
        },
        "id": "Azv-MocQw6Kq",
        "outputId": "a6bb7fe0-8c40-4a2f-824a-ed6dba693310"
      },
      "execution_count": 193,
      "outputs": [
        {
          "output_type": "execute_result",
          "data": {
            "text/plain": [
              "nombre             0\n",
              "resistencia        0\n",
              "ataque             0\n",
              "defensa            0\n",
              "tipo_primario      0\n",
              "tipo_secundario    0\n",
              "salud_maxima       0\n",
              "tasa_captura       0\n",
              "tasa_escape        0\n",
              "peso               0\n",
              "altura             4\n",
              "legendario         1\n",
              "generacion         0\n",
              "fuerza_combate     0\n",
              "dtype: int64"
            ]
          },
          "metadata": {},
          "execution_count": 193
        }
      ]
    },
    {
      "cell_type": "code",
      "source": [
        "data.dropna(axis=0, thresh=7, inplace=True)\n",
        "data.isna().sum()\n"
      ],
      "metadata": {
        "colab": {
          "base_uri": "https://localhost:8080/"
        },
        "id": "ZCXTmN1GxikS",
        "outputId": "7fb63909-b0ba-4794-a41f-c29b554f0a17"
      },
      "execution_count": 194,
      "outputs": [
        {
          "output_type": "execute_result",
          "data": {
            "text/plain": [
              "nombre             0\n",
              "resistencia        0\n",
              "ataque             0\n",
              "defensa            0\n",
              "tipo_primario      0\n",
              "tipo_secundario    0\n",
              "salud_maxima       0\n",
              "tasa_captura       0\n",
              "tasa_escape        0\n",
              "peso               0\n",
              "altura             4\n",
              "legendario         1\n",
              "generacion         0\n",
              "fuerza_combate     0\n",
              "dtype: int64"
            ]
          },
          "metadata": {},
          "execution_count": 194
        }
      ]
    },
    {
      "cell_type": "code",
      "source": [
        "data.loc[mascara_tasa_escape]\n",
        "print(data.shape)\n",
        "data.isnull().sum()"
      ],
      "metadata": {
        "colab": {
          "base_uri": "https://localhost:8080/"
        },
        "id": "dAEy_Dycxr7p",
        "outputId": "5b67c89f-df0f-4067-c563-89814d538489"
      },
      "execution_count": 195,
      "outputs": [
        {
          "output_type": "stream",
          "name": "stdout",
          "text": [
            "(644, 14)\n"
          ]
        },
        {
          "output_type": "execute_result",
          "data": {
            "text/plain": [
              "nombre             0\n",
              "resistencia        0\n",
              "ataque             0\n",
              "defensa            0\n",
              "tipo_primario      0\n",
              "tipo_secundario    0\n",
              "salud_maxima       0\n",
              "tasa_captura       0\n",
              "tasa_escape        0\n",
              "peso               0\n",
              "altura             4\n",
              "legendario         1\n",
              "generacion         0\n",
              "fuerza_combate     0\n",
              "dtype: int64"
            ]
          },
          "metadata": {},
          "execution_count": 195
        }
      ]
    },
    {
      "cell_type": "code",
      "source": [
        "data_legendario = data[\"legendario\"].isnull()\n",
        "data_legendario\n"
      ],
      "metadata": {
        "colab": {
          "base_uri": "https://localhost:8080/"
        },
        "id": "vhe8lcxyx8kl",
        "outputId": "48c49876-9404-41ec-c1c2-2812eb447157"
      },
      "execution_count": 196,
      "outputs": [
        {
          "output_type": "execute_result",
          "data": {
            "text/plain": [
              "0      False\n",
              "1      False\n",
              "2      False\n",
              "3      False\n",
              "4      False\n",
              "       ...  \n",
              "644    False\n",
              "645    False\n",
              "646    False\n",
              "647    False\n",
              "648    False\n",
              "Name: legendario, Length: 644, dtype: bool"
            ]
          },
          "metadata": {},
          "execution_count": 196
        }
      ]
    },
    {
      "cell_type": "code",
      "source": [
        "data.loc[data_legendario]\n",
        "data[\"legendario\"].value_counts()"
      ],
      "metadata": {
        "colab": {
          "base_uri": "https://localhost:8080/"
        },
        "id": "_cx5Sr2pzEtr",
        "outputId": "d48a5f07-9e80-4a3c-e474-ee30f81899f6"
      },
      "execution_count": 197,
      "outputs": [
        {
          "output_type": "execute_result",
          "data": {
            "text/plain": [
              "No    605\n",
              "Sí     38\n",
              "Name: legendario, dtype: int64"
            ]
          },
          "metadata": {},
          "execution_count": 197
        }
      ]
    },
    {
      "cell_type": "code",
      "source": [
        "data.loc[data_legendario, \"legendario\"] = \"No\""
      ],
      "metadata": {
        "id": "cMPKIRoezJ5j"
      },
      "execution_count": 198,
      "outputs": []
    },
    {
      "cell_type": "code",
      "source": [
        "data.loc[data_legendario]"
      ],
      "metadata": {
        "colab": {
          "base_uri": "https://localhost:8080/",
          "height": 81
        },
        "id": "eFe9Y56hzghQ",
        "outputId": "b09ba0b8-7d66-4d6d-cfc2-928272ac2179"
      },
      "execution_count": 199,
      "outputs": [
        {
          "output_type": "execute_result",
          "data": {
            "text/plain": [
              "       nombre  resistencia  ataque  defensa tipo_primario tipo_secundario  \\\n",
              "162  Hoothoot        155.0    67.0     88.0        Normal          Flying   \n",
              "\n",
              "     salud_maxima  tasa_captura  tasa_escape  peso  altura legendario  \\\n",
              "162         134.0           0.5         0.15  21.2    0.71         No   \n",
              "\n",
              "     generacion  fuerza_combate  \n",
              "162           2             677  "
            ],
            "text/html": [
              "\n",
              "  <div id=\"df-f89bb2b2-0fde-45d3-80e7-93aadd93229a\">\n",
              "    <div class=\"colab-df-container\">\n",
              "      <div>\n",
              "<style scoped>\n",
              "    .dataframe tbody tr th:only-of-type {\n",
              "        vertical-align: middle;\n",
              "    }\n",
              "\n",
              "    .dataframe tbody tr th {\n",
              "        vertical-align: top;\n",
              "    }\n",
              "\n",
              "    .dataframe thead th {\n",
              "        text-align: right;\n",
              "    }\n",
              "</style>\n",
              "<table border=\"1\" class=\"dataframe\">\n",
              "  <thead>\n",
              "    <tr style=\"text-align: right;\">\n",
              "      <th></th>\n",
              "      <th>nombre</th>\n",
              "      <th>resistencia</th>\n",
              "      <th>ataque</th>\n",
              "      <th>defensa</th>\n",
              "      <th>tipo_primario</th>\n",
              "      <th>tipo_secundario</th>\n",
              "      <th>salud_maxima</th>\n",
              "      <th>tasa_captura</th>\n",
              "      <th>tasa_escape</th>\n",
              "      <th>peso</th>\n",
              "      <th>altura</th>\n",
              "      <th>legendario</th>\n",
              "      <th>generacion</th>\n",
              "      <th>fuerza_combate</th>\n",
              "    </tr>\n",
              "  </thead>\n",
              "  <tbody>\n",
              "    <tr>\n",
              "      <th>162</th>\n",
              "      <td>Hoothoot</td>\n",
              "      <td>155.0</td>\n",
              "      <td>67.0</td>\n",
              "      <td>88.0</td>\n",
              "      <td>Normal</td>\n",
              "      <td>Flying</td>\n",
              "      <td>134.0</td>\n",
              "      <td>0.5</td>\n",
              "      <td>0.15</td>\n",
              "      <td>21.2</td>\n",
              "      <td>0.71</td>\n",
              "      <td>No</td>\n",
              "      <td>2</td>\n",
              "      <td>677</td>\n",
              "    </tr>\n",
              "  </tbody>\n",
              "</table>\n",
              "</div>\n",
              "      <button class=\"colab-df-convert\" onclick=\"convertToInteractive('df-f89bb2b2-0fde-45d3-80e7-93aadd93229a')\"\n",
              "              title=\"Convert this dataframe to an interactive table.\"\n",
              "              style=\"display:none;\">\n",
              "        \n",
              "  <svg xmlns=\"http://www.w3.org/2000/svg\" height=\"24px\"viewBox=\"0 0 24 24\"\n",
              "       width=\"24px\">\n",
              "    <path d=\"M0 0h24v24H0V0z\" fill=\"none\"/>\n",
              "    <path d=\"M18.56 5.44l.94 2.06.94-2.06 2.06-.94-2.06-.94-.94-2.06-.94 2.06-2.06.94zm-11 1L8.5 8.5l.94-2.06 2.06-.94-2.06-.94L8.5 2.5l-.94 2.06-2.06.94zm10 10l.94 2.06.94-2.06 2.06-.94-2.06-.94-.94-2.06-.94 2.06-2.06.94z\"/><path d=\"M17.41 7.96l-1.37-1.37c-.4-.4-.92-.59-1.43-.59-.52 0-1.04.2-1.43.59L10.3 9.45l-7.72 7.72c-.78.78-.78 2.05 0 2.83L4 21.41c.39.39.9.59 1.41.59.51 0 1.02-.2 1.41-.59l7.78-7.78 2.81-2.81c.8-.78.8-2.07 0-2.86zM5.41 20L4 18.59l7.72-7.72 1.47 1.35L5.41 20z\"/>\n",
              "  </svg>\n",
              "      </button>\n",
              "      \n",
              "  <style>\n",
              "    .colab-df-container {\n",
              "      display:flex;\n",
              "      flex-wrap:wrap;\n",
              "      gap: 12px;\n",
              "    }\n",
              "\n",
              "    .colab-df-convert {\n",
              "      background-color: #E8F0FE;\n",
              "      border: none;\n",
              "      border-radius: 50%;\n",
              "      cursor: pointer;\n",
              "      display: none;\n",
              "      fill: #1967D2;\n",
              "      height: 32px;\n",
              "      padding: 0 0 0 0;\n",
              "      width: 32px;\n",
              "    }\n",
              "\n",
              "    .colab-df-convert:hover {\n",
              "      background-color: #E2EBFA;\n",
              "      box-shadow: 0px 1px 2px rgba(60, 64, 67, 0.3), 0px 1px 3px 1px rgba(60, 64, 67, 0.15);\n",
              "      fill: #174EA6;\n",
              "    }\n",
              "\n",
              "    [theme=dark] .colab-df-convert {\n",
              "      background-color: #3B4455;\n",
              "      fill: #D2E3FC;\n",
              "    }\n",
              "\n",
              "    [theme=dark] .colab-df-convert:hover {\n",
              "      background-color: #434B5C;\n",
              "      box-shadow: 0px 1px 3px 1px rgba(0, 0, 0, 0.15);\n",
              "      filter: drop-shadow(0px 1px 2px rgba(0, 0, 0, 0.3));\n",
              "      fill: #FFFFFF;\n",
              "    }\n",
              "  </style>\n",
              "\n",
              "      <script>\n",
              "        const buttonEl =\n",
              "          document.querySelector('#df-f89bb2b2-0fde-45d3-80e7-93aadd93229a button.colab-df-convert');\n",
              "        buttonEl.style.display =\n",
              "          google.colab.kernel.accessAllowed ? 'block' : 'none';\n",
              "\n",
              "        async function convertToInteractive(key) {\n",
              "          const element = document.querySelector('#df-f89bb2b2-0fde-45d3-80e7-93aadd93229a');\n",
              "          const dataTable =\n",
              "            await google.colab.kernel.invokeFunction('convertToInteractive',\n",
              "                                                     [key], {});\n",
              "          if (!dataTable) return;\n",
              "\n",
              "          const docLinkHtml = 'Like what you see? Visit the ' +\n",
              "            '<a target=\"_blank\" href=https://colab.research.google.com/notebooks/data_table.ipynb>data table notebook</a>'\n",
              "            + ' to learn more about interactive tables.';\n",
              "          element.innerHTML = '';\n",
              "          dataTable['output_type'] = 'display_data';\n",
              "          await google.colab.output.renderOutput(dataTable, element);\n",
              "          const docLink = document.createElement('div');\n",
              "          docLink.innerHTML = docLinkHtml;\n",
              "          element.appendChild(docLink);\n",
              "        }\n",
              "      </script>\n",
              "    </div>\n",
              "  </div>\n",
              "  "
            ]
          },
          "metadata": {},
          "execution_count": 199
        }
      ]
    },
    {
      "cell_type": "code",
      "source": [
        "print(data[\"legendario\"].value_counts())\n",
        "data.isnull().sum()"
      ],
      "metadata": {
        "colab": {
          "base_uri": "https://localhost:8080/"
        },
        "id": "OEE4ccqezpNy",
        "outputId": "011c3b0e-809e-4ca3-cc58-58ed12e1a458"
      },
      "execution_count": 200,
      "outputs": [
        {
          "output_type": "stream",
          "name": "stdout",
          "text": [
            "No    606\n",
            "Sí     38\n",
            "Name: legendario, dtype: int64\n"
          ]
        },
        {
          "output_type": "execute_result",
          "data": {
            "text/plain": [
              "nombre             0\n",
              "resistencia        0\n",
              "ataque             0\n",
              "defensa            0\n",
              "tipo_primario      0\n",
              "tipo_secundario    0\n",
              "salud_maxima       0\n",
              "tasa_captura       0\n",
              "tasa_escape        0\n",
              "peso               0\n",
              "altura             4\n",
              "legendario         0\n",
              "generacion         0\n",
              "fuerza_combate     0\n",
              "dtype: int64"
            ]
          },
          "metadata": {},
          "execution_count": 200
        }
      ]
    },
    {
      "cell_type": "code",
      "source": [
        "data_altura = data[\"altura\"].isnull()\n",
        "data_altura"
      ],
      "metadata": {
        "colab": {
          "base_uri": "https://localhost:8080/"
        },
        "id": "xsprCd1Sz0yK",
        "outputId": "72cb674b-0368-4295-a613-e56abae1dfa0"
      },
      "execution_count": 201,
      "outputs": [
        {
          "output_type": "execute_result",
          "data": {
            "text/plain": [
              "0      False\n",
              "1      False\n",
              "2      False\n",
              "3      False\n",
              "4      False\n",
              "       ...  \n",
              "644    False\n",
              "645    False\n",
              "646    False\n",
              "647    False\n",
              "648    False\n",
              "Name: altura, Length: 644, dtype: bool"
            ]
          },
          "metadata": {},
          "execution_count": 201
        }
      ]
    },
    {
      "cell_type": "code",
      "source": [
        "data.loc[data_altura]"
      ],
      "metadata": {
        "colab": {
          "base_uri": "https://localhost:8080/",
          "height": 175
        },
        "id": "tLi_650m0FKe",
        "outputId": "4275a36d-1f4c-4c07-d8ca-3a0b616dc888"
      },
      "execution_count": 202,
      "outputs": [
        {
          "output_type": "execute_result",
          "data": {
            "text/plain": [
              "       nombre  resistencia  ataque  defensa tipo_primario tipo_secundario  \\\n",
              "123      Jynx        163.0   223.0    151.0           Ice         Psychic   \n",
              "128  Magikarp         85.0    29.0     85.0         Water            None   \n",
              "352   Shuppet        127.0   138.0     65.0         Ghost            None   \n",
              "435   Bronzor        149.0    43.0    154.0         Steel         Psychic   \n",
              "\n",
              "     salud_maxima  tasa_captura  tasa_escape  peso  altura legendario  \\\n",
              "123         140.0           0.3         0.09  40.6     NaN         No   \n",
              "128          79.0           0.7         0.15  10.0     NaN         No   \n",
              "352         112.0           0.4         0.10   2.3     NaN         No   \n",
              "435         129.0           0.5         0.10  60.5     NaN         No   \n",
              "\n",
              "     generacion  fuerza_combate  \n",
              "123           1            2555  \n",
              "128           1             274  \n",
              "352           3            1018  \n",
              "435           4             603  "
            ],
            "text/html": [
              "\n",
              "  <div id=\"df-52678e2c-c2df-442a-adb5-2ea4c57c85de\">\n",
              "    <div class=\"colab-df-container\">\n",
              "      <div>\n",
              "<style scoped>\n",
              "    .dataframe tbody tr th:only-of-type {\n",
              "        vertical-align: middle;\n",
              "    }\n",
              "\n",
              "    .dataframe tbody tr th {\n",
              "        vertical-align: top;\n",
              "    }\n",
              "\n",
              "    .dataframe thead th {\n",
              "        text-align: right;\n",
              "    }\n",
              "</style>\n",
              "<table border=\"1\" class=\"dataframe\">\n",
              "  <thead>\n",
              "    <tr style=\"text-align: right;\">\n",
              "      <th></th>\n",
              "      <th>nombre</th>\n",
              "      <th>resistencia</th>\n",
              "      <th>ataque</th>\n",
              "      <th>defensa</th>\n",
              "      <th>tipo_primario</th>\n",
              "      <th>tipo_secundario</th>\n",
              "      <th>salud_maxima</th>\n",
              "      <th>tasa_captura</th>\n",
              "      <th>tasa_escape</th>\n",
              "      <th>peso</th>\n",
              "      <th>altura</th>\n",
              "      <th>legendario</th>\n",
              "      <th>generacion</th>\n",
              "      <th>fuerza_combate</th>\n",
              "    </tr>\n",
              "  </thead>\n",
              "  <tbody>\n",
              "    <tr>\n",
              "      <th>123</th>\n",
              "      <td>Jynx</td>\n",
              "      <td>163.0</td>\n",
              "      <td>223.0</td>\n",
              "      <td>151.0</td>\n",
              "      <td>Ice</td>\n",
              "      <td>Psychic</td>\n",
              "      <td>140.0</td>\n",
              "      <td>0.3</td>\n",
              "      <td>0.09</td>\n",
              "      <td>40.6</td>\n",
              "      <td>NaN</td>\n",
              "      <td>No</td>\n",
              "      <td>1</td>\n",
              "      <td>2555</td>\n",
              "    </tr>\n",
              "    <tr>\n",
              "      <th>128</th>\n",
              "      <td>Magikarp</td>\n",
              "      <td>85.0</td>\n",
              "      <td>29.0</td>\n",
              "      <td>85.0</td>\n",
              "      <td>Water</td>\n",
              "      <td>None</td>\n",
              "      <td>79.0</td>\n",
              "      <td>0.7</td>\n",
              "      <td>0.15</td>\n",
              "      <td>10.0</td>\n",
              "      <td>NaN</td>\n",
              "      <td>No</td>\n",
              "      <td>1</td>\n",
              "      <td>274</td>\n",
              "    </tr>\n",
              "    <tr>\n",
              "      <th>352</th>\n",
              "      <td>Shuppet</td>\n",
              "      <td>127.0</td>\n",
              "      <td>138.0</td>\n",
              "      <td>65.0</td>\n",
              "      <td>Ghost</td>\n",
              "      <td>None</td>\n",
              "      <td>112.0</td>\n",
              "      <td>0.4</td>\n",
              "      <td>0.10</td>\n",
              "      <td>2.3</td>\n",
              "      <td>NaN</td>\n",
              "      <td>No</td>\n",
              "      <td>3</td>\n",
              "      <td>1018</td>\n",
              "    </tr>\n",
              "    <tr>\n",
              "      <th>435</th>\n",
              "      <td>Bronzor</td>\n",
              "      <td>149.0</td>\n",
              "      <td>43.0</td>\n",
              "      <td>154.0</td>\n",
              "      <td>Steel</td>\n",
              "      <td>Psychic</td>\n",
              "      <td>129.0</td>\n",
              "      <td>0.5</td>\n",
              "      <td>0.10</td>\n",
              "      <td>60.5</td>\n",
              "      <td>NaN</td>\n",
              "      <td>No</td>\n",
              "      <td>4</td>\n",
              "      <td>603</td>\n",
              "    </tr>\n",
              "  </tbody>\n",
              "</table>\n",
              "</div>\n",
              "      <button class=\"colab-df-convert\" onclick=\"convertToInteractive('df-52678e2c-c2df-442a-adb5-2ea4c57c85de')\"\n",
              "              title=\"Convert this dataframe to an interactive table.\"\n",
              "              style=\"display:none;\">\n",
              "        \n",
              "  <svg xmlns=\"http://www.w3.org/2000/svg\" height=\"24px\"viewBox=\"0 0 24 24\"\n",
              "       width=\"24px\">\n",
              "    <path d=\"M0 0h24v24H0V0z\" fill=\"none\"/>\n",
              "    <path d=\"M18.56 5.44l.94 2.06.94-2.06 2.06-.94-2.06-.94-.94-2.06-.94 2.06-2.06.94zm-11 1L8.5 8.5l.94-2.06 2.06-.94-2.06-.94L8.5 2.5l-.94 2.06-2.06.94zm10 10l.94 2.06.94-2.06 2.06-.94-2.06-.94-.94-2.06-.94 2.06-2.06.94z\"/><path d=\"M17.41 7.96l-1.37-1.37c-.4-.4-.92-.59-1.43-.59-.52 0-1.04.2-1.43.59L10.3 9.45l-7.72 7.72c-.78.78-.78 2.05 0 2.83L4 21.41c.39.39.9.59 1.41.59.51 0 1.02-.2 1.41-.59l7.78-7.78 2.81-2.81c.8-.78.8-2.07 0-2.86zM5.41 20L4 18.59l7.72-7.72 1.47 1.35L5.41 20z\"/>\n",
              "  </svg>\n",
              "      </button>\n",
              "      \n",
              "  <style>\n",
              "    .colab-df-container {\n",
              "      display:flex;\n",
              "      flex-wrap:wrap;\n",
              "      gap: 12px;\n",
              "    }\n",
              "\n",
              "    .colab-df-convert {\n",
              "      background-color: #E8F0FE;\n",
              "      border: none;\n",
              "      border-radius: 50%;\n",
              "      cursor: pointer;\n",
              "      display: none;\n",
              "      fill: #1967D2;\n",
              "      height: 32px;\n",
              "      padding: 0 0 0 0;\n",
              "      width: 32px;\n",
              "    }\n",
              "\n",
              "    .colab-df-convert:hover {\n",
              "      background-color: #E2EBFA;\n",
              "      box-shadow: 0px 1px 2px rgba(60, 64, 67, 0.3), 0px 1px 3px 1px rgba(60, 64, 67, 0.15);\n",
              "      fill: #174EA6;\n",
              "    }\n",
              "\n",
              "    [theme=dark] .colab-df-convert {\n",
              "      background-color: #3B4455;\n",
              "      fill: #D2E3FC;\n",
              "    }\n",
              "\n",
              "    [theme=dark] .colab-df-convert:hover {\n",
              "      background-color: #434B5C;\n",
              "      box-shadow: 0px 1px 3px 1px rgba(0, 0, 0, 0.15);\n",
              "      filter: drop-shadow(0px 1px 2px rgba(0, 0, 0, 0.3));\n",
              "      fill: #FFFFFF;\n",
              "    }\n",
              "  </style>\n",
              "\n",
              "      <script>\n",
              "        const buttonEl =\n",
              "          document.querySelector('#df-52678e2c-c2df-442a-adb5-2ea4c57c85de button.colab-df-convert');\n",
              "        buttonEl.style.display =\n",
              "          google.colab.kernel.accessAllowed ? 'block' : 'none';\n",
              "\n",
              "        async function convertToInteractive(key) {\n",
              "          const element = document.querySelector('#df-52678e2c-c2df-442a-adb5-2ea4c57c85de');\n",
              "          const dataTable =\n",
              "            await google.colab.kernel.invokeFunction('convertToInteractive',\n",
              "                                                     [key], {});\n",
              "          if (!dataTable) return;\n",
              "\n",
              "          const docLinkHtml = 'Like what you see? Visit the ' +\n",
              "            '<a target=\"_blank\" href=https://colab.research.google.com/notebooks/data_table.ipynb>data table notebook</a>'\n",
              "            + ' to learn more about interactive tables.';\n",
              "          element.innerHTML = '';\n",
              "          dataTable['output_type'] = 'display_data';\n",
              "          await google.colab.output.renderOutput(dataTable, element);\n",
              "          const docLink = document.createElement('div');\n",
              "          docLink.innerHTML = docLinkHtml;\n",
              "          element.appendChild(docLink);\n",
              "        }\n",
              "      </script>\n",
              "    </div>\n",
              "  </div>\n",
              "  "
            ]
          },
          "metadata": {},
          "execution_count": 202
        }
      ]
    },
    {
      "cell_type": "code",
      "source": [
        "promedio_altura = data[\"altura\"].mean()\n",
        "\n",
        "promedio_altura"
      ],
      "metadata": {
        "colab": {
          "base_uri": "https://localhost:8080/"
        },
        "id": "mXi_QNid0PLg",
        "outputId": "aec3323c-3639-4c97-d810-df98ed05de43"
      },
      "execution_count": 203,
      "outputs": [
        {
          "output_type": "execute_result",
          "data": {
            "text/plain": [
              "1.1431406249999998"
            ]
          },
          "metadata": {},
          "execution_count": 203
        }
      ]
    },
    {
      "cell_type": "code",
      "source": [
        "round(promedio_altura, 2)"
      ],
      "metadata": {
        "colab": {
          "base_uri": "https://localhost:8080/"
        },
        "id": "BUMK40LB05iG",
        "outputId": "a3a390d0-50a8-4a63-d9c9-71917fe07e1a"
      },
      "execution_count": 204,
      "outputs": [
        {
          "output_type": "execute_result",
          "data": {
            "text/plain": [
              "1.14"
            ]
          },
          "metadata": {},
          "execution_count": 204
        }
      ]
    },
    {
      "cell_type": "code",
      "source": [
        "data[\"altura\"] = data[\"altura\"].fillna(promedio_altura)"
      ],
      "metadata": {
        "id": "Gf5U-O-g04Ax"
      },
      "execution_count": 205,
      "outputs": []
    },
    {
      "cell_type": "code",
      "source": [
        "data.isnull().sum()"
      ],
      "metadata": {
        "colab": {
          "base_uri": "https://localhost:8080/"
        },
        "id": "x_B70VeP1I1S",
        "outputId": "2ae81cd7-e9ee-423a-f248-014b3f720964"
      },
      "execution_count": 206,
      "outputs": [
        {
          "output_type": "execute_result",
          "data": {
            "text/plain": [
              "nombre             0\n",
              "resistencia        0\n",
              "ataque             0\n",
              "defensa            0\n",
              "tipo_primario      0\n",
              "tipo_secundario    0\n",
              "salud_maxima       0\n",
              "tasa_captura       0\n",
              "tasa_escape        0\n",
              "peso               0\n",
              "altura             0\n",
              "legendario         0\n",
              "generacion         0\n",
              "fuerza_combate     0\n",
              "dtype: int64"
            ]
          },
          "metadata": {},
          "execution_count": 206
        }
      ]
    },
    {
      "cell_type": "code",
      "source": [
        "# 2 REGRESION LINEAL SIMPLE\n",
        "data.head(10)"
      ],
      "metadata": {
        "colab": {
          "base_uri": "https://localhost:8080/",
          "height": 363
        },
        "id": "UVNnHX2r1VDy",
        "outputId": "c9651888-dead-4a5f-fb2d-8848f557188c"
      },
      "execution_count": 207,
      "outputs": [
        {
          "output_type": "execute_result",
          "data": {
            "text/plain": [
              "       nombre  resistencia  ataque  defensa tipo_primario tipo_secundario  \\\n",
              "0   Bulbasaur        128.0   118.0    111.0         Grass          Poison   \n",
              "1     Ivysaur        155.0   151.0    143.0         Grass          Poison   \n",
              "2    Venusaur        190.0   198.0    189.0         Grass          Poison   \n",
              "3  Charmander        118.0   116.0     93.0          Fire            None   \n",
              "4  Charmeleon        151.0   158.0    126.0          Fire            None   \n",
              "5   Charizard        186.0   223.0    173.0          Fire          Flying   \n",
              "6    Squirtle        127.0    94.0    121.0         Water            None   \n",
              "7   Wartortle        153.0   126.0    155.0         Water            None   \n",
              "8   Blastoise        188.0   171.0    207.0         Water            None   \n",
              "9    Caterpie        128.0    55.0     55.0           Bug            None   \n",
              "\n",
              "   salud_maxima  tasa_captura  tasa_escape   peso  altura legendario  \\\n",
              "0         113.0          0.20         0.10    6.9     0.7         No   \n",
              "1         134.0          0.10         0.07   13.0     1.0         No   \n",
              "2         162.0          0.05         0.05  100.0     2.0         No   \n",
              "3         105.0          0.20         0.10    8.5     0.6         No   \n",
              "4         131.0          0.10         0.07   19.0     1.1         No   \n",
              "5         158.0          0.05         0.05   90.5     1.7         No   \n",
              "6         112.0          0.20         0.10    9.0     0.5         No   \n",
              "7         132.0          0.10         0.07   22.5     1.0         No   \n",
              "8         160.0          0.05         0.05   85.5     1.6         No   \n",
              "9         113.0          0.50         0.20    2.9     0.3         No   \n",
              "\n",
              "   generacion  fuerza_combate  \n",
              "0           1            1115  \n",
              "1           1            1699  \n",
              "2           1            2720  \n",
              "3           1             980  \n",
              "4           1            1653  \n",
              "5           1            2889  \n",
              "6           1             946  \n",
              "7           1            1488  \n",
              "8           1            2466  \n",
              "9           1             437  "
            ],
            "text/html": [
              "\n",
              "  <div id=\"df-cc5b09d8-70d7-447a-948d-9c844d6ccb7d\">\n",
              "    <div class=\"colab-df-container\">\n",
              "      <div>\n",
              "<style scoped>\n",
              "    .dataframe tbody tr th:only-of-type {\n",
              "        vertical-align: middle;\n",
              "    }\n",
              "\n",
              "    .dataframe tbody tr th {\n",
              "        vertical-align: top;\n",
              "    }\n",
              "\n",
              "    .dataframe thead th {\n",
              "        text-align: right;\n",
              "    }\n",
              "</style>\n",
              "<table border=\"1\" class=\"dataframe\">\n",
              "  <thead>\n",
              "    <tr style=\"text-align: right;\">\n",
              "      <th></th>\n",
              "      <th>nombre</th>\n",
              "      <th>resistencia</th>\n",
              "      <th>ataque</th>\n",
              "      <th>defensa</th>\n",
              "      <th>tipo_primario</th>\n",
              "      <th>tipo_secundario</th>\n",
              "      <th>salud_maxima</th>\n",
              "      <th>tasa_captura</th>\n",
              "      <th>tasa_escape</th>\n",
              "      <th>peso</th>\n",
              "      <th>altura</th>\n",
              "      <th>legendario</th>\n",
              "      <th>generacion</th>\n",
              "      <th>fuerza_combate</th>\n",
              "    </tr>\n",
              "  </thead>\n",
              "  <tbody>\n",
              "    <tr>\n",
              "      <th>0</th>\n",
              "      <td>Bulbasaur</td>\n",
              "      <td>128.0</td>\n",
              "      <td>118.0</td>\n",
              "      <td>111.0</td>\n",
              "      <td>Grass</td>\n",
              "      <td>Poison</td>\n",
              "      <td>113.0</td>\n",
              "      <td>0.20</td>\n",
              "      <td>0.10</td>\n",
              "      <td>6.9</td>\n",
              "      <td>0.7</td>\n",
              "      <td>No</td>\n",
              "      <td>1</td>\n",
              "      <td>1115</td>\n",
              "    </tr>\n",
              "    <tr>\n",
              "      <th>1</th>\n",
              "      <td>Ivysaur</td>\n",
              "      <td>155.0</td>\n",
              "      <td>151.0</td>\n",
              "      <td>143.0</td>\n",
              "      <td>Grass</td>\n",
              "      <td>Poison</td>\n",
              "      <td>134.0</td>\n",
              "      <td>0.10</td>\n",
              "      <td>0.07</td>\n",
              "      <td>13.0</td>\n",
              "      <td>1.0</td>\n",
              "      <td>No</td>\n",
              "      <td>1</td>\n",
              "      <td>1699</td>\n",
              "    </tr>\n",
              "    <tr>\n",
              "      <th>2</th>\n",
              "      <td>Venusaur</td>\n",
              "      <td>190.0</td>\n",
              "      <td>198.0</td>\n",
              "      <td>189.0</td>\n",
              "      <td>Grass</td>\n",
              "      <td>Poison</td>\n",
              "      <td>162.0</td>\n",
              "      <td>0.05</td>\n",
              "      <td>0.05</td>\n",
              "      <td>100.0</td>\n",
              "      <td>2.0</td>\n",
              "      <td>No</td>\n",
              "      <td>1</td>\n",
              "      <td>2720</td>\n",
              "    </tr>\n",
              "    <tr>\n",
              "      <th>3</th>\n",
              "      <td>Charmander</td>\n",
              "      <td>118.0</td>\n",
              "      <td>116.0</td>\n",
              "      <td>93.0</td>\n",
              "      <td>Fire</td>\n",
              "      <td>None</td>\n",
              "      <td>105.0</td>\n",
              "      <td>0.20</td>\n",
              "      <td>0.10</td>\n",
              "      <td>8.5</td>\n",
              "      <td>0.6</td>\n",
              "      <td>No</td>\n",
              "      <td>1</td>\n",
              "      <td>980</td>\n",
              "    </tr>\n",
              "    <tr>\n",
              "      <th>4</th>\n",
              "      <td>Charmeleon</td>\n",
              "      <td>151.0</td>\n",
              "      <td>158.0</td>\n",
              "      <td>126.0</td>\n",
              "      <td>Fire</td>\n",
              "      <td>None</td>\n",
              "      <td>131.0</td>\n",
              "      <td>0.10</td>\n",
              "      <td>0.07</td>\n",
              "      <td>19.0</td>\n",
              "      <td>1.1</td>\n",
              "      <td>No</td>\n",
              "      <td>1</td>\n",
              "      <td>1653</td>\n",
              "    </tr>\n",
              "    <tr>\n",
              "      <th>5</th>\n",
              "      <td>Charizard</td>\n",
              "      <td>186.0</td>\n",
              "      <td>223.0</td>\n",
              "      <td>173.0</td>\n",
              "      <td>Fire</td>\n",
              "      <td>Flying</td>\n",
              "      <td>158.0</td>\n",
              "      <td>0.05</td>\n",
              "      <td>0.05</td>\n",
              "      <td>90.5</td>\n",
              "      <td>1.7</td>\n",
              "      <td>No</td>\n",
              "      <td>1</td>\n",
              "      <td>2889</td>\n",
              "    </tr>\n",
              "    <tr>\n",
              "      <th>6</th>\n",
              "      <td>Squirtle</td>\n",
              "      <td>127.0</td>\n",
              "      <td>94.0</td>\n",
              "      <td>121.0</td>\n",
              "      <td>Water</td>\n",
              "      <td>None</td>\n",
              "      <td>112.0</td>\n",
              "      <td>0.20</td>\n",
              "      <td>0.10</td>\n",
              "      <td>9.0</td>\n",
              "      <td>0.5</td>\n",
              "      <td>No</td>\n",
              "      <td>1</td>\n",
              "      <td>946</td>\n",
              "    </tr>\n",
              "    <tr>\n",
              "      <th>7</th>\n",
              "      <td>Wartortle</td>\n",
              "      <td>153.0</td>\n",
              "      <td>126.0</td>\n",
              "      <td>155.0</td>\n",
              "      <td>Water</td>\n",
              "      <td>None</td>\n",
              "      <td>132.0</td>\n",
              "      <td>0.10</td>\n",
              "      <td>0.07</td>\n",
              "      <td>22.5</td>\n",
              "      <td>1.0</td>\n",
              "      <td>No</td>\n",
              "      <td>1</td>\n",
              "      <td>1488</td>\n",
              "    </tr>\n",
              "    <tr>\n",
              "      <th>8</th>\n",
              "      <td>Blastoise</td>\n",
              "      <td>188.0</td>\n",
              "      <td>171.0</td>\n",
              "      <td>207.0</td>\n",
              "      <td>Water</td>\n",
              "      <td>None</td>\n",
              "      <td>160.0</td>\n",
              "      <td>0.05</td>\n",
              "      <td>0.05</td>\n",
              "      <td>85.5</td>\n",
              "      <td>1.6</td>\n",
              "      <td>No</td>\n",
              "      <td>1</td>\n",
              "      <td>2466</td>\n",
              "    </tr>\n",
              "    <tr>\n",
              "      <th>9</th>\n",
              "      <td>Caterpie</td>\n",
              "      <td>128.0</td>\n",
              "      <td>55.0</td>\n",
              "      <td>55.0</td>\n",
              "      <td>Bug</td>\n",
              "      <td>None</td>\n",
              "      <td>113.0</td>\n",
              "      <td>0.50</td>\n",
              "      <td>0.20</td>\n",
              "      <td>2.9</td>\n",
              "      <td>0.3</td>\n",
              "      <td>No</td>\n",
              "      <td>1</td>\n",
              "      <td>437</td>\n",
              "    </tr>\n",
              "  </tbody>\n",
              "</table>\n",
              "</div>\n",
              "      <button class=\"colab-df-convert\" onclick=\"convertToInteractive('df-cc5b09d8-70d7-447a-948d-9c844d6ccb7d')\"\n",
              "              title=\"Convert this dataframe to an interactive table.\"\n",
              "              style=\"display:none;\">\n",
              "        \n",
              "  <svg xmlns=\"http://www.w3.org/2000/svg\" height=\"24px\"viewBox=\"0 0 24 24\"\n",
              "       width=\"24px\">\n",
              "    <path d=\"M0 0h24v24H0V0z\" fill=\"none\"/>\n",
              "    <path d=\"M18.56 5.44l.94 2.06.94-2.06 2.06-.94-2.06-.94-.94-2.06-.94 2.06-2.06.94zm-11 1L8.5 8.5l.94-2.06 2.06-.94-2.06-.94L8.5 2.5l-.94 2.06-2.06.94zm10 10l.94 2.06.94-2.06 2.06-.94-2.06-.94-.94-2.06-.94 2.06-2.06.94z\"/><path d=\"M17.41 7.96l-1.37-1.37c-.4-.4-.92-.59-1.43-.59-.52 0-1.04.2-1.43.59L10.3 9.45l-7.72 7.72c-.78.78-.78 2.05 0 2.83L4 21.41c.39.39.9.59 1.41.59.51 0 1.02-.2 1.41-.59l7.78-7.78 2.81-2.81c.8-.78.8-2.07 0-2.86zM5.41 20L4 18.59l7.72-7.72 1.47 1.35L5.41 20z\"/>\n",
              "  </svg>\n",
              "      </button>\n",
              "      \n",
              "  <style>\n",
              "    .colab-df-container {\n",
              "      display:flex;\n",
              "      flex-wrap:wrap;\n",
              "      gap: 12px;\n",
              "    }\n",
              "\n",
              "    .colab-df-convert {\n",
              "      background-color: #E8F0FE;\n",
              "      border: none;\n",
              "      border-radius: 50%;\n",
              "      cursor: pointer;\n",
              "      display: none;\n",
              "      fill: #1967D2;\n",
              "      height: 32px;\n",
              "      padding: 0 0 0 0;\n",
              "      width: 32px;\n",
              "    }\n",
              "\n",
              "    .colab-df-convert:hover {\n",
              "      background-color: #E2EBFA;\n",
              "      box-shadow: 0px 1px 2px rgba(60, 64, 67, 0.3), 0px 1px 3px 1px rgba(60, 64, 67, 0.15);\n",
              "      fill: #174EA6;\n",
              "    }\n",
              "\n",
              "    [theme=dark] .colab-df-convert {\n",
              "      background-color: #3B4455;\n",
              "      fill: #D2E3FC;\n",
              "    }\n",
              "\n",
              "    [theme=dark] .colab-df-convert:hover {\n",
              "      background-color: #434B5C;\n",
              "      box-shadow: 0px 1px 3px 1px rgba(0, 0, 0, 0.15);\n",
              "      filter: drop-shadow(0px 1px 2px rgba(0, 0, 0, 0.3));\n",
              "      fill: #FFFFFF;\n",
              "    }\n",
              "  </style>\n",
              "\n",
              "      <script>\n",
              "        const buttonEl =\n",
              "          document.querySelector('#df-cc5b09d8-70d7-447a-948d-9c844d6ccb7d button.colab-df-convert');\n",
              "        buttonEl.style.display =\n",
              "          google.colab.kernel.accessAllowed ? 'block' : 'none';\n",
              "\n",
              "        async function convertToInteractive(key) {\n",
              "          const element = document.querySelector('#df-cc5b09d8-70d7-447a-948d-9c844d6ccb7d');\n",
              "          const dataTable =\n",
              "            await google.colab.kernel.invokeFunction('convertToInteractive',\n",
              "                                                     [key], {});\n",
              "          if (!dataTable) return;\n",
              "\n",
              "          const docLinkHtml = 'Like what you see? Visit the ' +\n",
              "            '<a target=\"_blank\" href=https://colab.research.google.com/notebooks/data_table.ipynb>data table notebook</a>'\n",
              "            + ' to learn more about interactive tables.';\n",
              "          element.innerHTML = '';\n",
              "          dataTable['output_type'] = 'display_data';\n",
              "          await google.colab.output.renderOutput(dataTable, element);\n",
              "          const docLink = document.createElement('div');\n",
              "          docLink.innerHTML = docLinkHtml;\n",
              "          element.appendChild(docLink);\n",
              "        }\n",
              "      </script>\n",
              "    </div>\n",
              "  </div>\n",
              "  "
            ]
          },
          "metadata": {},
          "execution_count": 207
        }
      ]
    },
    {
      "cell_type": "code",
      "source": [
        "data.info()"
      ],
      "metadata": {
        "colab": {
          "base_uri": "https://localhost:8080/"
        },
        "id": "ZZgvpWaQ3M_O",
        "outputId": "17f6cc80-2054-4647-fa05-c6c8abf84ece"
      },
      "execution_count": 208,
      "outputs": [
        {
          "output_type": "stream",
          "name": "stdout",
          "text": [
            "<class 'pandas.core.frame.DataFrame'>\n",
            "Int64Index: 644 entries, 0 to 648\n",
            "Data columns (total 14 columns):\n",
            " #   Column           Non-Null Count  Dtype  \n",
            "---  ------           --------------  -----  \n",
            " 0   nombre           644 non-null    object \n",
            " 1   resistencia      644 non-null    float64\n",
            " 2   ataque           644 non-null    float64\n",
            " 3   defensa          644 non-null    float64\n",
            " 4   tipo_primario    644 non-null    object \n",
            " 5   tipo_secundario  644 non-null    object \n",
            " 6   salud_maxima     644 non-null    float64\n",
            " 7   tasa_captura     644 non-null    float64\n",
            " 8   tasa_escape      644 non-null    float64\n",
            " 9   peso             644 non-null    float64\n",
            " 10  altura           644 non-null    float64\n",
            " 11  legendario       644 non-null    object \n",
            " 12  generacion       644 non-null    int64  \n",
            " 13  fuerza_combate   644 non-null    int64  \n",
            "dtypes: float64(8), int64(2), object(4)\n",
            "memory usage: 75.5+ KB\n"
          ]
        }
      ]
    },
    {
      "cell_type": "code",
      "source": [
        "data.corr()"
      ],
      "metadata": {
        "colab": {
          "base_uri": "https://localhost:8080/",
          "height": 363
        },
        "id": "RSmX4FkF3dhG",
        "outputId": "ca04f19a-469e-4715-924c-ecc72ee193db"
      },
      "execution_count": 209,
      "outputs": [
        {
          "output_type": "execute_result",
          "data": {
            "text/plain": [
              "                resistencia    ataque   defensa  salud_maxima  tasa_captura  \\\n",
              "resistencia        1.000000  0.409340  0.344523      0.999969     -0.363608   \n",
              "ataque             0.409340  1.000000  0.490581      0.408809     -0.502650   \n",
              "defensa            0.344523  0.490581  1.000000      0.344576     -0.482818   \n",
              "salud_maxima       0.999969  0.408809  0.344576      1.000000     -0.363894   \n",
              "tasa_captura      -0.363608 -0.502650 -0.482818     -0.363894      1.000000   \n",
              "tasa_escape       -0.361307 -0.411624 -0.481946     -0.361581      0.498221   \n",
              "peso               0.383728  0.401336  0.469854      0.384049     -0.360086   \n",
              "altura             0.385654  0.392698  0.391870      0.385767     -0.349262   \n",
              "generacion         0.085182  0.121585  0.045170      0.085383     -0.122518   \n",
              "fuerza_combate     0.598645  0.924768  0.707271      0.598311     -0.568356   \n",
              "\n",
              "                tasa_escape      peso    altura  generacion  fuerza_combate  \n",
              "resistencia       -0.361307  0.383728  0.385654    0.085182        0.598645  \n",
              "ataque            -0.411624  0.401336  0.392698    0.121585        0.924768  \n",
              "defensa           -0.481946  0.469854  0.391870    0.045170        0.707271  \n",
              "salud_maxima      -0.361581  0.384049  0.385767    0.085383        0.598311  \n",
              "tasa_captura       0.498221 -0.360086 -0.349262   -0.122518       -0.568356  \n",
              "tasa_escape        1.000000 -0.268499 -0.253925   -0.120099       -0.506817  \n",
              "peso              -0.268499  1.000000  0.635962    0.083922        0.537642  \n",
              "altura            -0.253925  0.635962  1.000000   -0.037439        0.479250  \n",
              "generacion        -0.120099  0.083922 -0.037439    1.000000        0.124220  \n",
              "fuerza_combate    -0.506817  0.537642  0.479250    0.124220        1.000000  "
            ],
            "text/html": [
              "\n",
              "  <div id=\"df-b276c6bc-5c61-4bad-9a4b-c9fa8a7c3735\">\n",
              "    <div class=\"colab-df-container\">\n",
              "      <div>\n",
              "<style scoped>\n",
              "    .dataframe tbody tr th:only-of-type {\n",
              "        vertical-align: middle;\n",
              "    }\n",
              "\n",
              "    .dataframe tbody tr th {\n",
              "        vertical-align: top;\n",
              "    }\n",
              "\n",
              "    .dataframe thead th {\n",
              "        text-align: right;\n",
              "    }\n",
              "</style>\n",
              "<table border=\"1\" class=\"dataframe\">\n",
              "  <thead>\n",
              "    <tr style=\"text-align: right;\">\n",
              "      <th></th>\n",
              "      <th>resistencia</th>\n",
              "      <th>ataque</th>\n",
              "      <th>defensa</th>\n",
              "      <th>salud_maxima</th>\n",
              "      <th>tasa_captura</th>\n",
              "      <th>tasa_escape</th>\n",
              "      <th>peso</th>\n",
              "      <th>altura</th>\n",
              "      <th>generacion</th>\n",
              "      <th>fuerza_combate</th>\n",
              "    </tr>\n",
              "  </thead>\n",
              "  <tbody>\n",
              "    <tr>\n",
              "      <th>resistencia</th>\n",
              "      <td>1.000000</td>\n",
              "      <td>0.409340</td>\n",
              "      <td>0.344523</td>\n",
              "      <td>0.999969</td>\n",
              "      <td>-0.363608</td>\n",
              "      <td>-0.361307</td>\n",
              "      <td>0.383728</td>\n",
              "      <td>0.385654</td>\n",
              "      <td>0.085182</td>\n",
              "      <td>0.598645</td>\n",
              "    </tr>\n",
              "    <tr>\n",
              "      <th>ataque</th>\n",
              "      <td>0.409340</td>\n",
              "      <td>1.000000</td>\n",
              "      <td>0.490581</td>\n",
              "      <td>0.408809</td>\n",
              "      <td>-0.502650</td>\n",
              "      <td>-0.411624</td>\n",
              "      <td>0.401336</td>\n",
              "      <td>0.392698</td>\n",
              "      <td>0.121585</td>\n",
              "      <td>0.924768</td>\n",
              "    </tr>\n",
              "    <tr>\n",
              "      <th>defensa</th>\n",
              "      <td>0.344523</td>\n",
              "      <td>0.490581</td>\n",
              "      <td>1.000000</td>\n",
              "      <td>0.344576</td>\n",
              "      <td>-0.482818</td>\n",
              "      <td>-0.481946</td>\n",
              "      <td>0.469854</td>\n",
              "      <td>0.391870</td>\n",
              "      <td>0.045170</td>\n",
              "      <td>0.707271</td>\n",
              "    </tr>\n",
              "    <tr>\n",
              "      <th>salud_maxima</th>\n",
              "      <td>0.999969</td>\n",
              "      <td>0.408809</td>\n",
              "      <td>0.344576</td>\n",
              "      <td>1.000000</td>\n",
              "      <td>-0.363894</td>\n",
              "      <td>-0.361581</td>\n",
              "      <td>0.384049</td>\n",
              "      <td>0.385767</td>\n",
              "      <td>0.085383</td>\n",
              "      <td>0.598311</td>\n",
              "    </tr>\n",
              "    <tr>\n",
              "      <th>tasa_captura</th>\n",
              "      <td>-0.363608</td>\n",
              "      <td>-0.502650</td>\n",
              "      <td>-0.482818</td>\n",
              "      <td>-0.363894</td>\n",
              "      <td>1.000000</td>\n",
              "      <td>0.498221</td>\n",
              "      <td>-0.360086</td>\n",
              "      <td>-0.349262</td>\n",
              "      <td>-0.122518</td>\n",
              "      <td>-0.568356</td>\n",
              "    </tr>\n",
              "    <tr>\n",
              "      <th>tasa_escape</th>\n",
              "      <td>-0.361307</td>\n",
              "      <td>-0.411624</td>\n",
              "      <td>-0.481946</td>\n",
              "      <td>-0.361581</td>\n",
              "      <td>0.498221</td>\n",
              "      <td>1.000000</td>\n",
              "      <td>-0.268499</td>\n",
              "      <td>-0.253925</td>\n",
              "      <td>-0.120099</td>\n",
              "      <td>-0.506817</td>\n",
              "    </tr>\n",
              "    <tr>\n",
              "      <th>peso</th>\n",
              "      <td>0.383728</td>\n",
              "      <td>0.401336</td>\n",
              "      <td>0.469854</td>\n",
              "      <td>0.384049</td>\n",
              "      <td>-0.360086</td>\n",
              "      <td>-0.268499</td>\n",
              "      <td>1.000000</td>\n",
              "      <td>0.635962</td>\n",
              "      <td>0.083922</td>\n",
              "      <td>0.537642</td>\n",
              "    </tr>\n",
              "    <tr>\n",
              "      <th>altura</th>\n",
              "      <td>0.385654</td>\n",
              "      <td>0.392698</td>\n",
              "      <td>0.391870</td>\n",
              "      <td>0.385767</td>\n",
              "      <td>-0.349262</td>\n",
              "      <td>-0.253925</td>\n",
              "      <td>0.635962</td>\n",
              "      <td>1.000000</td>\n",
              "      <td>-0.037439</td>\n",
              "      <td>0.479250</td>\n",
              "    </tr>\n",
              "    <tr>\n",
              "      <th>generacion</th>\n",
              "      <td>0.085182</td>\n",
              "      <td>0.121585</td>\n",
              "      <td>0.045170</td>\n",
              "      <td>0.085383</td>\n",
              "      <td>-0.122518</td>\n",
              "      <td>-0.120099</td>\n",
              "      <td>0.083922</td>\n",
              "      <td>-0.037439</td>\n",
              "      <td>1.000000</td>\n",
              "      <td>0.124220</td>\n",
              "    </tr>\n",
              "    <tr>\n",
              "      <th>fuerza_combate</th>\n",
              "      <td>0.598645</td>\n",
              "      <td>0.924768</td>\n",
              "      <td>0.707271</td>\n",
              "      <td>0.598311</td>\n",
              "      <td>-0.568356</td>\n",
              "      <td>-0.506817</td>\n",
              "      <td>0.537642</td>\n",
              "      <td>0.479250</td>\n",
              "      <td>0.124220</td>\n",
              "      <td>1.000000</td>\n",
              "    </tr>\n",
              "  </tbody>\n",
              "</table>\n",
              "</div>\n",
              "      <button class=\"colab-df-convert\" onclick=\"convertToInteractive('df-b276c6bc-5c61-4bad-9a4b-c9fa8a7c3735')\"\n",
              "              title=\"Convert this dataframe to an interactive table.\"\n",
              "              style=\"display:none;\">\n",
              "        \n",
              "  <svg xmlns=\"http://www.w3.org/2000/svg\" height=\"24px\"viewBox=\"0 0 24 24\"\n",
              "       width=\"24px\">\n",
              "    <path d=\"M0 0h24v24H0V0z\" fill=\"none\"/>\n",
              "    <path d=\"M18.56 5.44l.94 2.06.94-2.06 2.06-.94-2.06-.94-.94-2.06-.94 2.06-2.06.94zm-11 1L8.5 8.5l.94-2.06 2.06-.94-2.06-.94L8.5 2.5l-.94 2.06-2.06.94zm10 10l.94 2.06.94-2.06 2.06-.94-2.06-.94-.94-2.06-.94 2.06-2.06.94z\"/><path d=\"M17.41 7.96l-1.37-1.37c-.4-.4-.92-.59-1.43-.59-.52 0-1.04.2-1.43.59L10.3 9.45l-7.72 7.72c-.78.78-.78 2.05 0 2.83L4 21.41c.39.39.9.59 1.41.59.51 0 1.02-.2 1.41-.59l7.78-7.78 2.81-2.81c.8-.78.8-2.07 0-2.86zM5.41 20L4 18.59l7.72-7.72 1.47 1.35L5.41 20z\"/>\n",
              "  </svg>\n",
              "      </button>\n",
              "      \n",
              "  <style>\n",
              "    .colab-df-container {\n",
              "      display:flex;\n",
              "      flex-wrap:wrap;\n",
              "      gap: 12px;\n",
              "    }\n",
              "\n",
              "    .colab-df-convert {\n",
              "      background-color: #E8F0FE;\n",
              "      border: none;\n",
              "      border-radius: 50%;\n",
              "      cursor: pointer;\n",
              "      display: none;\n",
              "      fill: #1967D2;\n",
              "      height: 32px;\n",
              "      padding: 0 0 0 0;\n",
              "      width: 32px;\n",
              "    }\n",
              "\n",
              "    .colab-df-convert:hover {\n",
              "      background-color: #E2EBFA;\n",
              "      box-shadow: 0px 1px 2px rgba(60, 64, 67, 0.3), 0px 1px 3px 1px rgba(60, 64, 67, 0.15);\n",
              "      fill: #174EA6;\n",
              "    }\n",
              "\n",
              "    [theme=dark] .colab-df-convert {\n",
              "      background-color: #3B4455;\n",
              "      fill: #D2E3FC;\n",
              "    }\n",
              "\n",
              "    [theme=dark] .colab-df-convert:hover {\n",
              "      background-color: #434B5C;\n",
              "      box-shadow: 0px 1px 3px 1px rgba(0, 0, 0, 0.15);\n",
              "      filter: drop-shadow(0px 1px 2px rgba(0, 0, 0, 0.3));\n",
              "      fill: #FFFFFF;\n",
              "    }\n",
              "  </style>\n",
              "\n",
              "      <script>\n",
              "        const buttonEl =\n",
              "          document.querySelector('#df-b276c6bc-5c61-4bad-9a4b-c9fa8a7c3735 button.colab-df-convert');\n",
              "        buttonEl.style.display =\n",
              "          google.colab.kernel.accessAllowed ? 'block' : 'none';\n",
              "\n",
              "        async function convertToInteractive(key) {\n",
              "          const element = document.querySelector('#df-b276c6bc-5c61-4bad-9a4b-c9fa8a7c3735');\n",
              "          const dataTable =\n",
              "            await google.colab.kernel.invokeFunction('convertToInteractive',\n",
              "                                                     [key], {});\n",
              "          if (!dataTable) return;\n",
              "\n",
              "          const docLinkHtml = 'Like what you see? Visit the ' +\n",
              "            '<a target=\"_blank\" href=https://colab.research.google.com/notebooks/data_table.ipynb>data table notebook</a>'\n",
              "            + ' to learn more about interactive tables.';\n",
              "          element.innerHTML = '';\n",
              "          dataTable['output_type'] = 'display_data';\n",
              "          await google.colab.output.renderOutput(dataTable, element);\n",
              "          const docLink = document.createElement('div');\n",
              "          docLink.innerHTML = docLinkHtml;\n",
              "          element.appendChild(docLink);\n",
              "        }\n",
              "      </script>\n",
              "    </div>\n",
              "  </div>\n",
              "  "
            ]
          },
          "metadata": {},
          "execution_count": 209
        }
      ]
    },
    {
      "cell_type": "code",
      "source": [
        "# Ataque porque es el mas comodo\n",
        "plt.figure(figsize = (12, 12))\n",
        "sns.scatterplot(data=data, x=\"ataque\", y=\"fuerza_combate\", color = 'b')"
      ],
      "metadata": {
        "colab": {
          "base_uri": "https://localhost:8080/",
          "height": 732
        },
        "id": "W2cx9qtu6-mi",
        "outputId": "6cad34df-a1b0-411a-8459-ae972d3b6085"
      },
      "execution_count": 210,
      "outputs": [
        {
          "output_type": "execute_result",
          "data": {
            "text/plain": [
              "<matplotlib.axes._subplots.AxesSubplot at 0x7f50e6a8d850>"
            ]
          },
          "metadata": {},
          "execution_count": 210
        },
        {
          "output_type": "display_data",
          "data": {
            "text/plain": [
              "<Figure size 864x864 with 1 Axes>"
            ],
            "image/png": "[encoded data removed]"
          },
          "metadata": {
            "needs_background": "light"
          }
        }
      ]
    },
    {
      "cell_type": "code",
      "source": [
        "X = data[\"ataque\"]\n",
        "y = data[\"fuerza_combate\"]"
      ],
      "metadata": {
        "id": "mAB8cg517SXn"
      },
      "execution_count": 211,
      "outputs": []
    },
    {
      "cell_type": "code",
      "source": [
        "print(X.shape)\n",
        "X.head(20)"
      ],
      "metadata": {
        "colab": {
          "base_uri": "https://localhost:8080/"
        },
        "id": "MyT33szp70IB",
        "outputId": "075fb85e-1377-4855-f9ec-1cd2159bf539"
      },
      "execution_count": 212,
      "outputs": [
        {
          "output_type": "stream",
          "name": "stdout",
          "text": [
            "(644,)\n"
          ]
        },
        {
          "output_type": "execute_result",
          "data": {
            "text/plain": [
              "0     118.0\n",
              "1     151.0\n",
              "2     198.0\n",
              "3     116.0\n",
              "4     158.0\n",
              "5     223.0\n",
              "6      94.0\n",
              "7     126.0\n",
              "8     171.0\n",
              "9      55.0\n",
              "10     45.0\n",
              "11    167.0\n",
              "12     63.0\n",
              "13     46.0\n",
              "14    169.0\n",
              "15     85.0\n",
              "16    117.0\n",
              "17    166.0\n",
              "18    103.0\n",
              "19    161.0\n",
              "Name: ataque, dtype: float64"
            ]
          },
          "metadata": {},
          "execution_count": 212
        }
      ]
    },
    {
      "cell_type": "code",
      "source": [
        "print(y.shape)\n",
        "y.head(20)"
      ],
      "metadata": {
        "colab": {
          "base_uri": "https://localhost:8080/"
        },
        "id": "EWH4Zmop779H",
        "outputId": "b42a2cfb-3c6a-46f1-a9de-cb1c22514845"
      },
      "execution_count": 213,
      "outputs": [
        {
          "output_type": "stream",
          "name": "stdout",
          "text": [
            "(644,)\n"
          ]
        },
        {
          "output_type": "execute_result",
          "data": {
            "text/plain": [
              "0     1115\n",
              "1     1699\n",
              "2     2720\n",
              "3      980\n",
              "4     1653\n",
              "5     2889\n",
              "6      946\n",
              "7     1488\n",
              "8     2466\n",
              "9      437\n",
              "10     450\n",
              "11    1827\n",
              "12     456\n",
              "13     432\n",
              "14    1846\n",
              "15     680\n",
              "16    1194\n",
              "17    2129\n",
              "18     734\n",
              "19    1730\n",
              "Name: fuerza_combate, dtype: int64"
            ]
          },
          "metadata": {},
          "execution_count": 213
        }
      ]
    },
    {
      "cell_type": "code",
      "source": [
        "x_train, x_test, y_train, y_test = train_test_split(X,y, random_state=100)"
      ],
      "metadata": {
        "id": "DqkYlWHM3xnc"
      },
      "execution_count": 214,
      "outputs": []
    },
    {
      "cell_type": "code",
      "source": [
        "print(x_train.shape)\n",
        "print(y_train.shape)\n",
        "print(x_test.shape)\n",
        "print(y_test.shape)"
      ],
      "metadata": {
        "colab": {
          "base_uri": "https://localhost:8080/"
        },
        "id": "tU9JbzBA8NOU",
        "outputId": "83923598-817f-4fd0-93bd-7fb87713eb18"
      },
      "execution_count": 215,
      "outputs": [
        {
          "output_type": "stream",
          "name": "stdout",
          "text": [
            "(483,)\n",
            "(483,)\n",
            "(161,)\n",
            "(161,)\n"
          ]
        }
      ]
    },
    {
      "cell_type": "code",
      "source": [
        "grafico_rl = LinearRegression()"
      ],
      "metadata": {
        "id": "BCs9CDwa8Q6_"
      },
      "execution_count": 216,
      "outputs": []
    },
    {
      "cell_type": "code",
      "source": [
        "X_train =x_train.to_numpy()\n",
        "X_train = np.matrix(X_train.reshape(len(X_train),1))\n",
        "X_test =x_test.to_numpy()\n",
        "X_test = np.matrix(X_test.reshape(len(X_test),1))"
      ],
      "metadata": {
        "id": "O2wBflJG8qeg"
      },
      "execution_count": 217,
      "outputs": []
    },
    {
      "cell_type": "code",
      "source": [
        "grafico_rl.fit(X_train, y_train)"
      ],
      "metadata": {
        "colab": {
          "base_uri": "https://localhost:8080/"
        },
        "id": "L0mqUT3T9Ijr",
        "outputId": "b9df9e1e-19d0-467f-b3e8-b0c078d77281"
      },
      "execution_count": 218,
      "outputs": [
        {
          "output_type": "stream",
          "name": "stderr",
          "text": [
            "/usr/local/lib/python3.7/dist-packages/sklearn/utils/validation.py:598: FutureWarning: np.matrix usage is deprecated in 1.0 and will raise a TypeError in 1.2. Please convert to a numpy array with np.asarray. For more information see: https://numpy.org/doc/stable/reference/generated/numpy.matrix.html\n",
            "  FutureWarning,\n"
          ]
        },
        {
          "output_type": "execute_result",
          "data": {
            "text/plain": [
              "LinearRegression()"
            ]
          },
          "metadata": {},
          "execution_count": 218
        }
      ]
    },
    {
      "cell_type": "code",
      "source": [
        "grafico_rl.coef_"
      ],
      "metadata": {
        "colab": {
          "base_uri": "https://localhost:8080/"
        },
        "id": "EhaGgDkZ9QGU",
        "outputId": "2829266d-c503-45b6-cab4-2624538ad8a0"
      },
      "execution_count": 219,
      "outputs": [
        {
          "output_type": "execute_result",
          "data": {
            "text/plain": [
              "array([14.61223607])"
            ]
          },
          "metadata": {},
          "execution_count": 219
        }
      ]
    },
    {
      "cell_type": "code",
      "source": [
        "grafico_rl.intercept_"
      ],
      "metadata": {
        "colab": {
          "base_uri": "https://localhost:8080/"
        },
        "id": "G81mPgOW9W9y",
        "outputId": "c85a87fe-64ca-47c7-e220-9e1db033c4f8"
      },
      "execution_count": 220,
      "outputs": [
        {
          "output_type": "execute_result",
          "data": {
            "text/plain": [
              "-446.14063317679734"
            ]
          },
          "metadata": {},
          "execution_count": 220
        }
      ]
    },
    {
      "cell_type": "code",
      "source": [
        "y_pred = grafico_rl.predict(X_test)\n",
        "y_pred"
      ],
      "metadata": {
        "colab": {
          "base_uri": "https://localhost:8080/"
        },
        "id": "HYCYSVcq9Vql",
        "outputId": "cce06910-fbe0-4f3f-df50-bc0f599eb466"
      },
      "execution_count": 221,
      "outputs": [
        {
          "output_type": "stream",
          "name": "stderr",
          "text": [
            "/usr/local/lib/python3.7/dist-packages/sklearn/utils/validation.py:598: FutureWarning: np.matrix usage is deprecated in 1.0 and will raise a TypeError in 1.2. Please convert to a numpy array with np.asarray. For more information see: https://numpy.org/doc/stable/reference/generated/numpy.matrix.html\n",
            "  FutureWarning,\n"
          ]
        },
        {
          "output_type": "execute_result",
          "data": {
            "text/plain": [
              "array([3937.53018812, 1950.26608247, 2885.44919101, 2593.20446959,\n",
              "       1482.67452819, 2856.22471887, 2359.40869245, 1672.63359712,\n",
              "       1263.49098713, 1847.98042997, 3192.3061485 , 2008.71502675,\n",
              "       1482.67452819, 1906.42937425, 1935.65384639, 1643.40912497,\n",
              "       1234.26651499,  766.67496072, 1818.75595783, 1263.49098713,\n",
              "        -22.38578712, 2622.42894173, 1278.1032232 , 1789.53148568,\n",
              "       3163.08167636, 2783.16353851, 1190.42980677, 2081.7762071 ,\n",
              "       2198.67409567, 2637.0411778 , 2827.00024672, 1292.71545927,\n",
              "       2037.93949889,  942.02179357, 2154.83738746, 1248.87875106,\n",
              "        708.22601643, 2549.36776138, 1278.1032232 , 2198.67409567,\n",
              "       2461.69434495, 2549.36776138, 3075.40825993, 2111.00067925,\n",
              "       1570.34794462, 2081.7762071 , 1716.47030533,  562.10365572,\n",
              "       2374.02092852, 1614.18465283,  752.06272464,  591.32812786,\n",
              "       2169.44962353, 1745.69477747, 1716.47030533,  211.40999002,\n",
              "       3367.65298135,  737.45048857,  722.8382525 , 1088.14415428,\n",
              "       3031.57155172, 1935.65384639, 2651.65341387, 2067.16397103,\n",
              "       3206.91838457, 3016.95931565, 2534.7555253 , 2432.46987281,\n",
              "       2827.00024672, 1994.10279068,  766.67496072, 1424.22558391,\n",
              "       3163.08167636,  868.96061321,  956.63402964, 1219.65427892,\n",
              "       1921.04161032, 1716.47030533, 2476.30658102, 3353.04074528,\n",
              "       2271.73527603, 3104.63273207, 2184.0618596 , 2827.00024672,\n",
              "       1964.87831854, 2315.57198424,  898.18508535, 1672.63359712,\n",
              "       3645.2854667 , 1161.20533463, 1146.59309856, 1351.16440355,\n",
              "       1336.55216748, 1088.14415428, 2637.0411778 , 1833.3681939 ,\n",
              "       1073.53191821, 2563.97999745, 1789.53148568, 1789.53148568,\n",
              "        532.87918358, 2344.79645638, 1658.02136105, 1424.22558391,\n",
              "       3499.16310599, 1409.61334784, 1877.20490211, 1029.69520999,\n",
              "       1278.1032232 , 2680.87788601, 1804.14372176, 2768.55130244,\n",
              "        430.59353108,  664.38930822, 1979.49055461, 2447.08210888,\n",
              "       1438.83781998,  357.53235073, 1804.14372176, 2213.28633174,\n",
              "       3060.79602386, 2563.97999745,  430.59353108, 1248.87875106,\n",
              "        474.4302393 , 2549.36776138,  576.71589179, 2286.3475121 ,\n",
              "       1365.77663963, 2549.36776138, 2797.77577458, 1628.7968889 ,\n",
              "       3469.93863385, 1058.91968214, 1877.20490211, 3572.22428635,\n",
              "       2300.95974817, 2330.18422031, 1862.59266604, 2169.44962353,\n",
              "       1599.57241676, 2549.36776138, 1248.87875106, 2374.02092852,\n",
              "       1643.40912497,  795.89943286, 1833.3681939 , 1833.3681939 ,\n",
              "       2447.08210888, 1555.73570855, 2958.51037136, 2739.3268303 ,\n",
              "        357.53235073, 1541.12347248, 2198.67409567, 2783.16353851,\n",
              "       2315.57198424, 2111.00067925, 2052.55173496, 1833.3681939 ,\n",
              "       2622.42894173])"
            ]
          },
          "metadata": {},
          "execution_count": 221
        }
      ]
    },
    {
      "cell_type": "code",
      "source": [
        "r2 = r2_score(y_test,y_pred)\n",
        "r2"
      ],
      "metadata": {
        "colab": {
          "base_uri": "https://localhost:8080/"
        },
        "id": "7_qrvMOd9kYj",
        "outputId": "b133a571-7579-49cf-df66-6bcf54080e4e"
      },
      "execution_count": 222,
      "outputs": [
        {
          "output_type": "execute_result",
          "data": {
            "text/plain": [
              "0.8449618001692174"
            ]
          },
          "metadata": {},
          "execution_count": 222
        }
      ]
    },
    {
      "cell_type": "code",
      "source": [
        "plt.figure(figsize = (20,20))\n",
        "plt.plot(x_test, y_pred, color = 'b', label = 'Regresión lineal')\n",
        "plt.scatter(x_test, y_test, color = 'g', label = 'Datos de testeo')\n",
        "plt.legend()\n",
        "plt.show()"
      ],
      "metadata": {
        "colab": {
          "base_uri": "https://localhost:8080/",
          "height": 1000
        },
        "id": "SDTkDOoZ9zCk",
        "outputId": "ad1347a3-305b-46d8-e28e-cdafd25bec20"
      },
      "execution_count": 223,
      "outputs": [
        {
          "output_type": "display_data",
          "data": {
            "text/plain": [
              "<Figure size 1440x1440 with 1 Axes>"
            ],
            "image/png": "[encoded data removed]"
          },
          "metadata": {
            "needs_background": "light"
          }
        }
      ]
    },
    {
      "cell_type": "code",
      "source": [
        "plt.figure(figsize = (20,20))\n",
        "plt.plot(x_test, y_pred, color = 'b', label = 'Regresión lineal')\n",
        "plt.scatter(X, y, color = 'g', label = 'Datos totales')\n",
        "plt.legend()\n",
        "plt.show()"
      ],
      "metadata": {
        "colab": {
          "base_uri": "https://localhost:8080/",
          "height": 1000
        },
        "id": "Qc_IC74r-dPO",
        "outputId": "46720723-a0ed-4faa-8e25-768bd08f2bd4"
      },
      "execution_count": 224,
      "outputs": [
        {
          "output_type": "display_data",
          "data": {
            "text/plain": [
              "<Figure size 1440x1440 with 1 Axes>"
            ],
            "image/png": "[encoded data removed]"
          },
          "metadata": {
            "needs_background": "light"
          }
        }
      ]
    },
    {
      "cell_type": "code",
      "source": [
        "modelo_sin_instanciar = LinearRegression(fit_intercept = False)"
      ],
      "metadata": {
        "id": "c9VyCzal-sHD"
      },
      "execution_count": 225,
      "outputs": []
    },
    {
      "cell_type": "code",
      "source": [
        "modelo_sin_instanciar.fit(X_train, y_train)"
      ],
      "metadata": {
        "colab": {
          "base_uri": "https://localhost:8080/"
        },
        "id": "1LEdccal-3Wc",
        "outputId": "2c5c41cb-02a9-424e-e057-907fcb6c5c64"
      },
      "execution_count": 226,
      "outputs": [
        {
          "output_type": "stream",
          "name": "stderr",
          "text": [
            "/usr/local/lib/python3.7/dist-packages/sklearn/utils/validation.py:598: FutureWarning: np.matrix usage is deprecated in 1.0 and will raise a TypeError in 1.2. Please convert to a numpy array with np.asarray. For more information see: https://numpy.org/doc/stable/reference/generated/numpy.matrix.html\n",
            "  FutureWarning,\n"
          ]
        },
        {
          "output_type": "execute_result",
          "data": {
            "text/plain": [
              "LinearRegression(fit_intercept=False)"
            ]
          },
          "metadata": {},
          "execution_count": 226
        }
      ]
    },
    {
      "cell_type": "code",
      "source": [
        "modelo_sin_instanciar.coef_"
      ],
      "metadata": {
        "colab": {
          "base_uri": "https://localhost:8080/"
        },
        "id": "qpZLYG9m-92o",
        "outputId": "e7d34edc-69f8-4ece-e54c-75841b1a606a"
      },
      "execution_count": 227,
      "outputs": [
        {
          "output_type": "execute_result",
          "data": {
            "text/plain": [
              "array([12.15037])"
            ]
          },
          "metadata": {},
          "execution_count": 227
        }
      ]
    },
    {
      "cell_type": "code",
      "source": [
        "modelo_sin_instanciar.intercept_"
      ],
      "metadata": {
        "colab": {
          "base_uri": "https://localhost:8080/"
        },
        "id": "1yp9NIee_DXJ",
        "outputId": "4bb6b83f-6524-4060-9074-7e068f775094"
      },
      "execution_count": 228,
      "outputs": [
        {
          "output_type": "execute_result",
          "data": {
            "text/plain": [
              "0.0"
            ]
          },
          "metadata": {},
          "execution_count": 228
        }
      ]
    },
    {
      "cell_type": "code",
      "source": [
        "y_pred_sin_instanciar = modelo_sin_instanciar.predict(X_test)"
      ],
      "metadata": {
        "colab": {
          "base_uri": "https://localhost:8080/"
        },
        "id": "79BTg0JC_L43",
        "outputId": "53c3cf6e-0f46-4b1e-fb17-7fcd3df19a90"
      },
      "execution_count": 229,
      "outputs": [
        {
          "output_type": "stream",
          "name": "stderr",
          "text": [
            "/usr/local/lib/python3.7/dist-packages/sklearn/utils/validation.py:598: FutureWarning: np.matrix usage is deprecated in 1.0 and will raise a TypeError in 1.2. Please convert to a numpy array with np.asarray. For more information see: https://numpy.org/doc/stable/reference/generated/numpy.matrix.html\n",
            "  FutureWarning,\n"
          ]
        }
      ]
    },
    {
      "cell_type": "code",
      "source": [
        "from sklearn.metrics import r2_score\n",
        "r2_sin_interc = r2_score(y_test,y_pred_sin_instanciar)\n",
        "r2_sin_interc"
      ],
      "metadata": {
        "colab": {
          "base_uri": "https://localhost:8080/"
        },
        "id": "trJm_rKS_hPM",
        "outputId": "6495ef3b-c749-4fd2-eda0-c4649c6dcafa"
      },
      "execution_count": 230,
      "outputs": [
        {
          "output_type": "execute_result",
          "data": {
            "text/plain": [
              "0.8145556120065346"
            ]
          },
          "metadata": {},
          "execution_count": 230
        }
      ]
    },
    {
      "cell_type": "code",
      "source": [
        "print(\"el R2 del modelo CON intercepto es \", round(r2,2))\n",
        "print(\"el R2 del modelo SIN intercepto es \", round(r2_sin_interc,2))"
      ],
      "metadata": {
        "colab": {
          "base_uri": "https://localhost:8080/"
        },
        "id": "AErRmwwG_pR7",
        "outputId": "c600d480-29d3-4491-ad3d-e35d8fedc100"
      },
      "execution_count": 231,
      "outputs": [
        {
          "output_type": "stream",
          "name": "stdout",
          "text": [
            "el R2 del modelo CON intercepto es  0.84\n",
            "el R2 del modelo SIN intercepto es  0.81\n"
          ]
        }
      ]
    },
    {
      "cell_type": "code",
      "source": [
        "plt.figure(figsize = (10,10))\n",
        "plt.plot(x_test, y_pred, color = 'b',linewidth=3.0,  linestyle = \"--\", label = 'Regresión lineal')\n",
        "plt.plot(x_test, y_pred_sin_instanciar, color = 'r',linewidth=3.0,  linestyle = \":\" , label = 'Regresión lineal sin intercepto')\n",
        "plt.scatter(x_test, y_test, color = 'g', label = 'Datos de testeo')\n",
        "plt.legend()\n",
        "plt.show()"
      ],
      "metadata": {
        "colab": {
          "base_uri": "https://localhost:8080/",
          "height": 592
        },
        "id": "pPDNLtejABnV",
        "outputId": "f05c381b-8d1f-4670-ff80-ad51fce71172"
      },
      "execution_count": 232,
      "outputs": [
        {
          "output_type": "display_data",
          "data": {
            "text/plain": [
              "<Figure size 720x720 with 1 Axes>"
            ],
            "image/png": "[encoded data removed]"
          },
          "metadata": {
            "needs_background": "light"
          }
        }
      ]
    },
    {
      "cell_type": "code",
      "source": [
        "plt.figure(figsize = (20,20))\n",
        "plt.plot(x_test, y_pred, color = 'b',linewidth=3.0,  linestyle = \"--\", label = 'Regresión lineal')\n",
        "plt.plot(x_test, y_pred_sin_instanciar, color = 'r',linewidth=3.0,  linestyle = \":\" , label = 'Regresión lineal sin intercepto')\n",
        "plt.scatter(X, y, color = 'g', label = 'Datos totales')\n",
        "plt.legend()\n",
        "plt.show()"
      ],
      "metadata": {
        "colab": {
          "base_uri": "https://localhost:8080/",
          "height": 1000
        },
        "id": "Twj1iyC7AnJG",
        "outputId": "324d84e1-69e8-4f45-947f-ba5db36ee8e5"
      },
      "execution_count": 233,
      "outputs": [
        {
          "output_type": "display_data",
          "data": {
            "text/plain": [
              "<Figure size 1440x1440 with 1 Axes>"
            ],
            "image/png": "[encoded data removed]"
          },
          "metadata": {
            "needs_background": "light"
          }
        }
      ]
    },
    {
      "cell_type": "code",
      "source": [
        "data"
      ],
      "metadata": {
        "colab": {
          "base_uri": "https://localhost:8080/",
          "height": 423
        },
        "id": "N4ugcJYR3amZ",
        "outputId": "8054de14-9fc5-40a6-c0c0-81520cb94570"
      },
      "execution_count": 234,
      "outputs": [
        {
          "output_type": "execute_result",
          "data": {
            "text/plain": [
              "         nombre  resistencia  ataque  defensa tipo_primario tipo_secundario  \\\n",
              "0     Bulbasaur        128.0   118.0    111.0         Grass          Poison   \n",
              "1       Ivysaur        155.0   151.0    143.0         Grass          Poison   \n",
              "2      Venusaur        190.0   198.0    189.0         Grass          Poison   \n",
              "3    Charmander        118.0   116.0     93.0          Fire            None   \n",
              "4    Charmeleon        151.0   158.0    126.0          Fire            None   \n",
              "..          ...          ...     ...      ...           ...             ...   \n",
              "644    Landorus        205.0   261.0    182.0        Ground          Flying   \n",
              "645      Kyurem        245.0   246.0    170.0        Dragon             Ice   \n",
              "646      Keldeo        209.0   260.0    192.0         Water        Fighting   \n",
              "647    Meloetta        225.0   250.0    225.0        Normal         Psychic   \n",
              "648    Genesect        174.0   252.0    199.0           Bug           Steel   \n",
              "\n",
              "     salud_maxima  tasa_captura  tasa_escape   peso  altura legendario  \\\n",
              "0           113.0          0.20         0.10    6.9     0.7         No   \n",
              "1           134.0          0.10         0.07   13.0     1.0         No   \n",
              "2           162.0          0.05         0.05  100.0     2.0         No   \n",
              "3           105.0          0.20         0.10    8.5     0.6         No   \n",
              "4           131.0          0.10         0.07   19.0     1.1         No   \n",
              "..            ...           ...          ...    ...     ...        ...   \n",
              "644         173.0          0.02         0.01   68.0     1.5         Sí   \n",
              "645         205.0          0.02         0.01  325.0     3.0         Sí   \n",
              "646         177.0          0.02         0.01   48.5     1.4         No   \n",
              "647         189.0          0.02         0.01    6.5     0.6         No   \n",
              "648         149.0          0.02         0.01   82.5     1.5         No   \n",
              "\n",
              "     generacion  fuerza_combate  \n",
              "0             1            1115  \n",
              "1             1            1699  \n",
              "2             1            2720  \n",
              "3             1             980  \n",
              "4             1            1653  \n",
              "..          ...             ...  \n",
              "644           5            3588  \n",
              "645           5            3575  \n",
              "646           5            3698  \n",
              "647           5            3972  \n",
              "648           5            3353  \n",
              "\n",
              "[644 rows x 14 columns]"
            ],
            "text/html": [
              "\n",
              "  <div id=\"df-45b010c4-49d9-4a77-b552-17d88864d33b\">\n",
              "    <div class=\"colab-df-container\">\n",
              "      <div>\n",
              "<style scoped>\n",
              "    .dataframe tbody tr th:only-of-type {\n",
              "        vertical-align: middle;\n",
              "    }\n",
              "\n",
              "    .dataframe tbody tr th {\n",
              "        vertical-align: top;\n",
              "    }\n",
              "\n",
              "    .dataframe thead th {\n",
              "        text-align: right;\n",
              "    }\n",
              "</style>\n",
              "<table border=\"1\" class=\"dataframe\">\n",
              "  <thead>\n",
              "    <tr style=\"text-align: right;\">\n",
              "      <th></th>\n",
              "      <th>nombre</th>\n",
              "      <th>resistencia</th>\n",
              "      <th>ataque</th>\n",
              "      <th>defensa</th>\n",
              "      <th>tipo_primario</th>\n",
              "      <th>tipo_secundario</th>\n",
              "      <th>salud_maxima</th>\n",
              "      <th>tasa_captura</th>\n",
              "      <th>tasa_escape</th>\n",
              "      <th>peso</th>\n",
              "      <th>altura</th>\n",
              "      <th>legendario</th>\n",
              "      <th>generacion</th>\n",
              "      <th>fuerza_combate</th>\n",
              "    </tr>\n",
              "  </thead>\n",
              "  <tbody>\n",
              "    <tr>\n",
              "      <th>0</th>\n",
              "      <td>Bulbasaur</td>\n",
              "      <td>128.0</td>\n",
              "      <td>118.0</td>\n",
              "      <td>111.0</td>\n",
              "      <td>Grass</td>\n",
              "      <td>Poison</td>\n",
              "      <td>113.0</td>\n",
              "      <td>0.20</td>\n",
              "      <td>0.10</td>\n",
              "      <td>6.9</td>\n",
              "      <td>0.7</td>\n",
              "      <td>No</td>\n",
              "      <td>1</td>\n",
              "      <td>1115</td>\n",
              "    </tr>\n",
              "    <tr>\n",
              "      <th>1</th>\n",
              "      <td>Ivysaur</td>\n",
              "      <td>155.0</td>\n",
              "      <td>151.0</td>\n",
              "      <td>143.0</td>\n",
              "      <td>Grass</td>\n",
              "      <td>Poison</td>\n",
              "      <td>134.0</td>\n",
              "      <td>0.10</td>\n",
              "      <td>0.07</td>\n",
              "      <td>13.0</td>\n",
              "      <td>1.0</td>\n",
              "      <td>No</td>\n",
              "      <td>1</td>\n",
              "      <td>1699</td>\n",
              "    </tr>\n",
              "    <tr>\n",
              "      <th>2</th>\n",
              "      <td>Venusaur</td>\n",
              "      <td>190.0</td>\n",
              "      <td>198.0</td>\n",
              "      <td>189.0</td>\n",
              "      <td>Grass</td>\n",
              "      <td>Poison</td>\n",
              "      <td>162.0</td>\n",
              "      <td>0.05</td>\n",
              "      <td>0.05</td>\n",
              "      <td>100.0</td>\n",
              "      <td>2.0</td>\n",
              "      <td>No</td>\n",
              "      <td>1</td>\n",
              "      <td>2720</td>\n",
              "    </tr>\n",
              "    <tr>\n",
              "      <th>3</th>\n",
              "      <td>Charmander</td>\n",
              "      <td>118.0</td>\n",
              "      <td>116.0</td>\n",
              "      <td>93.0</td>\n",
              "      <td>Fire</td>\n",
              "      <td>None</td>\n",
              "      <td>105.0</td>\n",
              "      <td>0.20</td>\n",
              "      <td>0.10</td>\n",
              "      <td>8.5</td>\n",
              "      <td>0.6</td>\n",
              "      <td>No</td>\n",
              "      <td>1</td>\n",
              "      <td>980</td>\n",
              "    </tr>\n",
              "    <tr>\n",
              "      <th>4</th>\n",
              "      <td>Charmeleon</td>\n",
              "      <td>151.0</td>\n",
              "      <td>158.0</td>\n",
              "      <td>126.0</td>\n",
              "      <td>Fire</td>\n",
              "      <td>None</td>\n",
              "      <td>131.0</td>\n",
              "      <td>0.10</td>\n",
              "      <td>0.07</td>\n",
              "      <td>19.0</td>\n",
              "      <td>1.1</td>\n",
              "      <td>No</td>\n",
              "      <td>1</td>\n",
              "      <td>1653</td>\n",
              "    </tr>\n",
              "    <tr>\n",
              "      <th>...</th>\n",
              "      <td>...</td>\n",
              "      <td>...</td>\n",
              "      <td>...</td>\n",
              "      <td>...</td>\n",
              "      <td>...</td>\n",
              "      <td>...</td>\n",
              "      <td>...</td>\n",
              "      <td>...</td>\n",
              "      <td>...</td>\n",
              "      <td>...</td>\n",
              "      <td>...</td>\n",
              "      <td>...</td>\n",
              "      <td>...</td>\n",
              "      <td>...</td>\n",
              "    </tr>\n",
              "    <tr>\n",
              "      <th>644</th>\n",
              "      <td>Landorus</td>\n",
              "      <td>205.0</td>\n",
              "      <td>261.0</td>\n",
              "      <td>182.0</td>\n",
              "      <td>Ground</td>\n",
              "      <td>Flying</td>\n",
              "      <td>173.0</td>\n",
              "      <td>0.02</td>\n",
              "      <td>0.01</td>\n",
              "      <td>68.0</td>\n",
              "      <td>1.5</td>\n",
              "      <td>Sí</td>\n",
              "      <td>5</td>\n",
              "      <td>3588</td>\n",
              "    </tr>\n",
              "    <tr>\n",
              "      <th>645</th>\n",
              "      <td>Kyurem</td>\n",
              "      <td>245.0</td>\n",
              "      <td>246.0</td>\n",
              "      <td>170.0</td>\n",
              "      <td>Dragon</td>\n",
              "      <td>Ice</td>\n",
              "      <td>205.0</td>\n",
              "      <td>0.02</td>\n",
              "      <td>0.01</td>\n",
              "      <td>325.0</td>\n",
              "      <td>3.0</td>\n",
              "      <td>Sí</td>\n",
              "      <td>5</td>\n",
              "      <td>3575</td>\n",
              "    </tr>\n",
              "    <tr>\n",
              "      <th>646</th>\n",
              "      <td>Keldeo</td>\n",
              "      <td>209.0</td>\n",
              "      <td>260.0</td>\n",
              "      <td>192.0</td>\n",
              "      <td>Water</td>\n",
              "      <td>Fighting</td>\n",
              "      <td>177.0</td>\n",
              "      <td>0.02</td>\n",
              "      <td>0.01</td>\n",
              "      <td>48.5</td>\n",
              "      <td>1.4</td>\n",
              "      <td>No</td>\n",
              "      <td>5</td>\n",
              "      <td>3698</td>\n",
              "    </tr>\n",
              "    <tr>\n",
              "      <th>647</th>\n",
              "      <td>Meloetta</td>\n",
              "      <td>225.0</td>\n",
              "      <td>250.0</td>\n",
              "      <td>225.0</td>\n",
              "      <td>Normal</td>\n",
              "      <td>Psychic</td>\n",
              "      <td>189.0</td>\n",
              "      <td>0.02</td>\n",
              "      <td>0.01</td>\n",
              "      <td>6.5</td>\n",
              "      <td>0.6</td>\n",
              "      <td>No</td>\n",
              "      <td>5</td>\n",
              "      <td>3972</td>\n",
              "    </tr>\n",
              "    <tr>\n",
              "      <th>648</th>\n",
              "      <td>Genesect</td>\n",
              "      <td>174.0</td>\n",
              "      <td>252.0</td>\n",
              "      <td>199.0</td>\n",
              "      <td>Bug</td>\n",
              "      <td>Steel</td>\n",
              "      <td>149.0</td>\n",
              "      <td>0.02</td>\n",
              "      <td>0.01</td>\n",
              "      <td>82.5</td>\n",
              "      <td>1.5</td>\n",
              "      <td>No</td>\n",
              "      <td>5</td>\n",
              "      <td>3353</td>\n",
              "    </tr>\n",
              "  </tbody>\n",
              "</table>\n",
              "<p>644 rows × 14 columns</p>\n",
              "</div>\n",
              "      <button class=\"colab-df-convert\" onclick=\"convertToInteractive('df-45b010c4-49d9-4a77-b552-17d88864d33b')\"\n",
              "              title=\"Convert this dataframe to an interactive table.\"\n",
              "              style=\"display:none;\">\n",
              "        \n",
              "  <svg xmlns=\"http://www.w3.org/2000/svg\" height=\"24px\"viewBox=\"0 0 24 24\"\n",
              "       width=\"24px\">\n",
              "    <path d=\"M0 0h24v24H0V0z\" fill=\"none\"/>\n",
              "    <path d=\"M18.56 5.44l.94 2.06.94-2.06 2.06-.94-2.06-.94-.94-2.06-.94 2.06-2.06.94zm-11 1L8.5 8.5l.94-2.06 2.06-.94-2.06-.94L8.5 2.5l-.94 2.06-2.06.94zm10 10l.94 2.06.94-2.06 2.06-.94-2.06-.94-.94-2.06-.94 2.06-2.06.94z\"/><path d=\"M17.41 7.96l-1.37-1.37c-.4-.4-.92-.59-1.43-.59-.52 0-1.04.2-1.43.59L10.3 9.45l-7.72 7.72c-.78.78-.78 2.05 0 2.83L4 21.41c.39.39.9.59 1.41.59.51 0 1.02-.2 1.41-.59l7.78-7.78 2.81-2.81c.8-.78.8-2.07 0-2.86zM5.41 20L4 18.59l7.72-7.72 1.47 1.35L5.41 20z\"/>\n",
              "  </svg>\n",
              "      </button>\n",
              "      \n",
              "  <style>\n",
              "    .colab-df-container {\n",
              "      display:flex;\n",
              "      flex-wrap:wrap;\n",
              "      gap: 12px;\n",
              "    }\n",
              "\n",
              "    .colab-df-convert {\n",
              "      background-color: #E8F0FE;\n",
              "      border: none;\n",
              "      border-radius: 50%;\n",
              "      cursor: pointer;\n",
              "      display: none;\n",
              "      fill: #1967D2;\n",
              "      height: 32px;\n",
              "      padding: 0 0 0 0;\n",
              "      width: 32px;\n",
              "    }\n",
              "\n",
              "    .colab-df-convert:hover {\n",
              "      background-color: #E2EBFA;\n",
              "      box-shadow: 0px 1px 2px rgba(60, 64, 67, 0.3), 0px 1px 3px 1px rgba(60, 64, 67, 0.15);\n",
              "      fill: #174EA6;\n",
              "    }\n",
              "\n",
              "    [theme=dark] .colab-df-convert {\n",
              "      background-color: #3B4455;\n",
              "      fill: #D2E3FC;\n",
              "    }\n",
              "\n",
              "    [theme=dark] .colab-df-convert:hover {\n",
              "      background-color: #434B5C;\n",
              "      box-shadow: 0px 1px 3px 1px rgba(0, 0, 0, 0.15);\n",
              "      filter: drop-shadow(0px 1px 2px rgba(0, 0, 0, 0.3));\n",
              "      fill: #FFFFFF;\n",
              "    }\n",
              "  </style>\n",
              "\n",
              "      <script>\n",
              "        const buttonEl =\n",
              "          document.querySelector('#df-45b010c4-49d9-4a77-b552-17d88864d33b button.colab-df-convert');\n",
              "        buttonEl.style.display =\n",
              "          google.colab.kernel.accessAllowed ? 'block' : 'none';\n",
              "\n",
              "        async function convertToInteractive(key) {\n",
              "          const element = document.querySelector('#df-45b010c4-49d9-4a77-b552-17d88864d33b');\n",
              "          const dataTable =\n",
              "            await google.colab.kernel.invokeFunction('convertToInteractive',\n",
              "                                                     [key], {});\n",
              "          if (!dataTable) return;\n",
              "\n",
              "          const docLinkHtml = 'Like what you see? Visit the ' +\n",
              "            '<a target=\"_blank\" href=https://colab.research.google.com/notebooks/data_table.ipynb>data table notebook</a>'\n",
              "            + ' to learn more about interactive tables.';\n",
              "          element.innerHTML = '';\n",
              "          dataTable['output_type'] = 'display_data';\n",
              "          await google.colab.output.renderOutput(dataTable, element);\n",
              "          const docLink = document.createElement('div');\n",
              "          docLink.innerHTML = docLinkHtml;\n",
              "          element.appendChild(docLink);\n",
              "        }\n",
              "      </script>\n",
              "    </div>\n",
              "  </div>\n",
              "  "
            ]
          },
          "metadata": {},
          "execution_count": 234
        }
      ]
    },
    {
      "cell_type": "code",
      "source": [
        "#Regresion lineal multiple "
      ],
      "metadata": {
        "id": "mbUqZSVX_oPA"
      },
      "execution_count": 278,
      "outputs": []
    },
    {
      "cell_type": "code",
      "source": [
        "# Z eje de abcsisas\n",
        "# a eje de ordenadas\n",
        "# Desprecio las columnas que no son variables predictorias\n",
        "Z = data.drop(columns= [\"nombre\", \"tipo_primario\", \"tipo_secundario\", \"legendario\", \"fuerza_combate\"])\n",
        "\n",
        "a = data['fuerza_combate']"
      ],
      "metadata": {
        "id": "zW8gu9_i7dQ1"
      },
      "execution_count": 280,
      "outputs": []
    },
    {
      "cell_type": "code",
      "source": [
        "print(Z.shape)"
      ],
      "metadata": {
        "colab": {
          "base_uri": "https://localhost:8080/"
        },
        "id": "kGP-JF8wK-HL",
        "outputId": "12259862-f8a9-45f1-ea23-cf3642872eaf"
      },
      "execution_count": 281,
      "outputs": [
        {
          "output_type": "stream",
          "name": "stdout",
          "text": [
            "(644, 9)\n"
          ]
        }
      ]
    },
    {
      "cell_type": "code",
      "source": [
        "print(a.shape)\n",
        "a.head(5)"
      ],
      "metadata": {
        "colab": {
          "base_uri": "https://localhost:8080/"
        },
        "id": "xgc7u8q5LaVF",
        "outputId": "95da45d9-23fe-4d21-f8dd-87daec498ee9"
      },
      "execution_count": 282,
      "outputs": [
        {
          "output_type": "stream",
          "name": "stdout",
          "text": [
            "(644,)\n"
          ]
        },
        {
          "output_type": "execute_result",
          "data": {
            "text/plain": [
              "0    1115\n",
              "1    1699\n",
              "2    2720\n",
              "3     980\n",
              "4    1653\n",
              "Name: fuerza_combate, dtype: int64"
            ]
          },
          "metadata": {},
          "execution_count": 282
        }
      ]
    },
    {
      "cell_type": "code",
      "source": [
        " Z_train, Z_test, a_train, a_test = train_test_split(Z, a)"
      ],
      "metadata": {
        "id": "8WOGIHMeLouP"
      },
      "execution_count": 283,
      "outputs": []
    },
    {
      "cell_type": "code",
      "source": [
        "print(Z_train.shape)\n",
        "print(a_train.shape)\n",
        "print(Z_test.shape)\n",
        "print(a_test.shape)\n"
      ],
      "metadata": {
        "colab": {
          "base_uri": "https://localhost:8080/"
        },
        "id": "FPrEc29JL7_p",
        "outputId": "24c23952-099e-4c3f-dd49-f793fa5baed6"
      },
      "execution_count": 284,
      "outputs": [
        {
          "output_type": "stream",
          "name": "stdout",
          "text": [
            "(483, 9)\n",
            "(483,)\n",
            "(161, 9)\n",
            "(161,)\n"
          ]
        }
      ]
    },
    {
      "cell_type": "code",
      "source": [
        "modelo_rl = LinearRegression(fit_intercept=False)"
      ],
      "metadata": {
        "id": "1sjeOXymMb4h"
      },
      "execution_count": 285,
      "outputs": []
    },
    {
      "cell_type": "code",
      "source": [
        "modelo_rl.fit(Z_train, a_train)"
      ],
      "metadata": {
        "colab": {
          "base_uri": "https://localhost:8080/"
        },
        "id": "rOJSTuKv1faC",
        "outputId": "0d786cd3-a9e7-496c-cb15-2372fdde2830"
      },
      "execution_count": 286,
      "outputs": [
        {
          "output_type": "execute_result",
          "data": {
            "text/plain": [
              "LinearRegression(fit_intercept=False)"
            ]
          },
          "metadata": {},
          "execution_count": 286
        }
      ]
    },
    {
      "cell_type": "code",
      "source": [
        "modelo_rl.coef_"
      ],
      "metadata": {
        "colab": {
          "base_uri": "https://localhost:8080/"
        },
        "id": "IsfvCjaJ1y_F",
        "outputId": "6c27b7a1-9857-43b4-c5a4-a7c64287acdc"
      },
      "execution_count": 287,
      "outputs": [
        {
          "output_type": "execute_result",
          "data": {
            "text/plain": [
              "array([  88.07876025,   10.65655966,    4.97999032, -106.40418726,\n",
              "         33.92498824, -187.35222079,    0.60781786,    2.48092382,\n",
              "          3.56924452])"
            ]
          },
          "metadata": {},
          "execution_count": 287
        }
      ]
    },
    {
      "cell_type": "code",
      "source": [
        "modelo_rl.intercept_"
      ],
      "metadata": {
        "colab": {
          "base_uri": "https://localhost:8080/"
        },
        "id": "HEuoE1kX12ip",
        "outputId": "ea40e5e1-7f3f-4c02-8fa9-b2794da52b18"
      },
      "execution_count": 288,
      "outputs": [
        {
          "output_type": "execute_result",
          "data": {
            "text/plain": [
              "0.0"
            ]
          },
          "metadata": {},
          "execution_count": 288
        }
      ]
    },
    {
      "cell_type": "code",
      "source": [
        "a_pred = modelo_rl.predict(Z_test)\n",
        "print (a_pred)\n",
        "print (a_test)"
      ],
      "metadata": {
        "colab": {
          "base_uri": "https://localhost:8080/"
        },
        "id": "B65DZiLP1_4S",
        "outputId": "d3a6fe35-f14f-47fc-acdc-2c4f4f57d8e9"
      },
      "execution_count": 289,
      "outputs": [
        {
          "output_type": "stream",
          "name": "stdout",
          "text": [
            "[2578.09171468 1346.35177047 2271.77825129 2050.55950337  899.59316892\n",
            "  766.14769994  641.56679518 1365.62448675 3481.14649936 3096.24404062\n",
            " 2586.73730943 3863.09636022 1025.26742653  816.71924154 1608.70031922\n",
            "   95.98664396  954.41820813  899.92638402 1483.42046866 1234.14863837\n",
            " 2341.93203893  881.72134566 2571.64632728 2851.06037781 2344.2893325\n",
            " 2759.96959899 2576.58330861 2977.6039546  2333.72402503 2716.82311702\n",
            " 2430.43886591 1863.53482767 1217.65336995 3907.40367144 2378.96978494\n",
            "  247.26288032 2466.15759467 3036.62108985  818.52515748  663.91971322\n",
            " 3264.15263515 2916.31919147  894.38009324 2382.09083476 3004.88858003\n",
            " 1696.03972874 2107.3713302  3351.38705966 4065.5512957  1882.11912347\n",
            " 2717.45277348  707.42493162  944.41130636 2496.53100365  923.27657735\n",
            " 1477.8394588  1156.96232155 1488.39980538 3542.09064915 1956.06981807\n",
            " 2568.41301811 1312.92965607 1792.43164662 1919.60093836 4050.38208292\n",
            " 1205.23393643 2825.60313632 1790.90137362 1477.7256991   644.19215542\n",
            " 1125.8590376   984.4516474   814.5742086  2081.04058643 1370.36351406\n",
            " 1555.32653021 1471.71638658 2389.53696564 1899.66034165 2416.86582565\n",
            " 2429.42619491 2598.71004711 1177.487856   1029.74076669 2904.57360514\n",
            " 3716.53465481   63.93619905 1383.50481401 1512.31776585 1318.41666071\n",
            "  491.28750155 1966.52531774 3865.41227086 2610.34461098  674.85897109\n",
            " 3264.14326142 1111.99865259 2447.76835811 2307.91459051 1923.95539935\n",
            " 1369.57722096  533.82310531 1804.28529357 2880.72105398   43.82110767\n",
            "  938.54751967 2151.95429965 1179.19749992 2241.84049176 1853.08297271\n",
            " 1363.91001691 1786.69301457 3077.4374674  1684.18049176 1805.72295936\n",
            " 2852.37679481 2752.03300368 1004.01100595 2583.30107519 2157.72296445\n",
            " 2341.44598791 2851.93041967 1794.54692023 2680.10740309 2590.82271132\n",
            "  819.76189796  424.57869703 2362.59182519 2000.22825042 1335.28797422\n",
            " 2204.31571132 3473.47373428 3001.99004944 2833.19374454  935.63580827\n",
            " 1873.59403512 1642.25586823 2446.18714137 1043.72997829 1852.65918809\n",
            " 1827.11339859 2714.02585079 2918.85078919 1205.61059839 1187.28078109\n",
            " 1023.25080341 2114.26091435  528.24579301 3456.18467989 3218.4690488\n",
            " 2370.95651965 2718.07383099 1446.85959722 1948.57361661 1406.93905955\n",
            " 1290.43702251 2432.20650295 1406.58467799 2052.38248439 1293.59547492\n",
            "  641.16962023]\n",
            "536    2564\n",
            "273    1227\n",
            "357    2259\n",
            "86     1985\n",
            "22      927\n",
            "       ... \n",
            "511    2350\n",
            "87     1374\n",
            "112    1255\n",
            "227    1234\n",
            "164     728\n",
            "Name: fuerza_combate, Length: 161, dtype: int64\n"
          ]
        }
      ]
    },
    {
      "cell_type": "code",
      "source": [
        "mae = mean_absolute_error(a_test, a_pred)\n",
        "mae"
      ],
      "metadata": {
        "colab": {
          "base_uri": "https://localhost:8080/"
        },
        "id": "H5FNbjfA2Hzo",
        "outputId": "00c0a8b9-b9e7-404b-d50f-7951fc6a56bb"
      },
      "execution_count": 290,
      "outputs": [
        {
          "output_type": "execute_result",
          "data": {
            "text/plain": [
              "104.31180757943477"
            ]
          },
          "metadata": {},
          "execution_count": 290
        }
      ]
    },
    {
      "cell_type": "code",
      "source": [
        "mse= mean_squared_error(a_test, a_pred)\n",
        "mse"
      ],
      "metadata": {
        "colab": {
          "base_uri": "https://localhost:8080/"
        },
        "id": "iGwBNbiy2x_i",
        "outputId": "5a07be4f-d610-4a78-cbf8-c32dc7f30baa"
      },
      "execution_count": 291,
      "outputs": [
        {
          "output_type": "execute_result",
          "data": {
            "text/plain": [
              "23058.172565744484"
            ]
          },
          "metadata": {},
          "execution_count": 291
        }
      ]
    },
    {
      "cell_type": "code",
      "source": [
        "rmse = np.sqrt(mse)"
      ],
      "metadata": {
        "id": "hf0aqRzf3MYa"
      },
      "execution_count": 292,
      "outputs": []
    },
    {
      "cell_type": "code",
      "source": [
        "r2 = r2_score(a_test, a_pred)\n",
        "r2"
      ],
      "metadata": {
        "colab": {
          "base_uri": "https://localhost:8080/"
        },
        "id": "0f01vTep3VSM",
        "outputId": "b8ca48a5-a7d5-4cd1-cd37-33375f92c09d"
      },
      "execution_count": 293,
      "outputs": [
        {
          "output_type": "execute_result",
          "data": {
            "text/plain": [
              "0.973035676772763"
            ]
          },
          "metadata": {},
          "execution_count": 293
        }
      ]
    },
    {
      "cell_type": "code",
      "source": [
        "print(\"La Media del Error Absoluto  del modelo es\", round(mae))\n",
        "print(\"La Media del Error cuadrático del modelo es\", round(mse))\n",
        "print(\"La raíz del error cuadrático medio del modelo es\", round(rmse))\n",
        "print(\"El R2 del modelo es\", round(r2,2))"
      ],
      "metadata": {
        "colab": {
          "base_uri": "https://localhost:8080/"
        },
        "id": "kiNAIPLy3rJQ",
        "outputId": "2f413400-6e17-41fd-88a0-429af01b62c6"
      },
      "execution_count": 294,
      "outputs": [
        {
          "output_type": "stream",
          "name": "stdout",
          "text": [
            "La Media del Error Absoluto  del modelo es 104\n",
            "La Media del Error cuadrático del modelo es 23058\n",
            "La raíz del error cuadrático medio del modelo es 152\n",
            "El R2 del modelo es 0.97\n"
          ]
        }
      ]
    },
    {
      "cell_type": "code",
      "source": [
        "modelo_sin_inter = LinearRegression(fit_intercept = False)"
      ],
      "metadata": {
        "id": "kRaU_UMp6CBh"
      },
      "execution_count": 295,
      "outputs": []
    },
    {
      "cell_type": "code",
      "source": [
        "modelo_sin_inter.fit(Z_train, a_train)"
      ],
      "metadata": {
        "colab": {
          "base_uri": "https://localhost:8080/"
        },
        "id": "Pn8ayZOI6J_L",
        "outputId": "6a61fbe0-10a7-4bb1-ff96-f57b8ce6713d"
      },
      "execution_count": 296,
      "outputs": [
        {
          "output_type": "execute_result",
          "data": {
            "text/plain": [
              "LinearRegression(fit_intercept=False)"
            ]
          },
          "metadata": {},
          "execution_count": 296
        }
      ]
    },
    {
      "cell_type": "code",
      "source": [
        "modelo_sin_inter.coef_"
      ],
      "metadata": {
        "colab": {
          "base_uri": "https://localhost:8080/"
        },
        "id": "Kl7TdUCy6QIe",
        "outputId": "1aa82066-1ca1-4fa7-f76d-cecc757ce4a4"
      },
      "execution_count": 297,
      "outputs": [
        {
          "output_type": "execute_result",
          "data": {
            "text/plain": [
              "array([  88.07876025,   10.65655966,    4.97999032, -106.40418726,\n",
              "         33.92498824, -187.35222079,    0.60781786,    2.48092382,\n",
              "          3.56924452])"
            ]
          },
          "metadata": {},
          "execution_count": 297
        }
      ]
    },
    {
      "cell_type": "code",
      "source": [
        "modelo_sin_inter.intercept_"
      ],
      "metadata": {
        "colab": {
          "base_uri": "https://localhost:8080/"
        },
        "id": "YGBa-vvb6Vc5",
        "outputId": "8ec64db1-5ce8-4cd4-81f2-c266f157a240"
      },
      "execution_count": 298,
      "outputs": [
        {
          "output_type": "execute_result",
          "data": {
            "text/plain": [
              "0.0"
            ]
          },
          "metadata": {},
          "execution_count": 298
        }
      ]
    },
    {
      "cell_type": "code",
      "source": [
        "a_pred_sin_inter = modelo_sin_inter.predict(Z_test)"
      ],
      "metadata": {
        "id": "I7c_n_Jv6ak9"
      },
      "execution_count": 299,
      "outputs": []
    },
    {
      "cell_type": "code",
      "source": [
        "mae_sin_inter = mean_absolute_error(a_test, a_pred_sin_inter)\n",
        "mse_sin_inter = mean_squared_error(a_test, a_pred_sin_inter)\n",
        "rmse_sin_inter = np.sqrt(mse)\n",
        "r2_sin_inter = r2_score(a_test, a_pred_sin_inter)"
      ],
      "metadata": {
        "id": "Wmi7t65O6zUh"
      },
      "execution_count": 300,
      "outputs": []
    },
    {
      "cell_type": "code",
      "source": [
        "print(\"La Media del Error Absoluto  del modelo sin intercepto es\", round(mae_sin_inter,2))\n",
        "print(\"La Media del Error cuadrático del modelo sin intercepto es\", round(mse_sin_inter,2))\n",
        "print(\"La raíz del error cuadrático medio del modelo sin intercepto es\", round(rmse_sin_inter,2))\n",
        "print(\"El R2 del modelo sin intercepto es\", round(r2_sin_inter,2))"
      ],
      "metadata": {
        "colab": {
          "base_uri": "https://localhost:8080/"
        },
        "id": "i9mYvN-m6-2X",
        "outputId": "896e0eeb-adcf-469b-9229-842206c6056c"
      },
      "execution_count": 301,
      "outputs": [
        {
          "output_type": "stream",
          "name": "stdout",
          "text": [
            "La Media del Error Absoluto  del modelo sin intercepto es 104.31\n",
            "La Media del Error cuadrático del modelo sin intercepto es 23058.17\n",
            "La raíz del error cuadrático medio del modelo sin intercepto es 151.85\n",
            "El R2 del modelo sin intercepto es 0.97\n"
          ]
        }
      ]
    },
    {
      "cell_type": "code",
      "source": [
        "hiperparametros_default = pd.Series({'mae': mae, 'mse': mse,'rmse': rmse, 'r2': r2})\n",
        "sin_intercepto= pd.Series({'mae': mae_sin_inter, 'mse': mse_sin_inter,'rmse': rmse_sin_inter, 'r2': r2_sin_inter})\n",
        "resultados = pd.DataFrame({'hiperparametros_default':hiperparametros_default, 'sin_intercepto':sin_intercepto})\n",
        "resultados"
      ],
      "metadata": {
        "colab": {
          "base_uri": "https://localhost:8080/",
          "height": 175
        },
        "id": "4YloWeYZ7GMS",
        "outputId": "3a60934d-8650-4045-9bb7-389859e17698"
      },
      "execution_count": 302,
      "outputs": [
        {
          "output_type": "execute_result",
          "data": {
            "text/plain": [
              "      hiperparametros_default  sin_intercepto\n",
              "mae                104.311808      104.311808\n",
              "mse              23058.172566    23058.172566\n",
              "rmse               151.849177      151.849177\n",
              "r2                   0.973036        0.973036"
            ],
            "text/html": [
              "\n",
              "  <div id=\"df-6d6737f6-7c96-4a45-8603-85336ee6d3bb\">\n",
              "    <div class=\"colab-df-container\">\n",
              "      <div>\n",
              "<style scoped>\n",
              "    .dataframe tbody tr th:only-of-type {\n",
              "        vertical-align: middle;\n",
              "    }\n",
              "\n",
              "    .dataframe tbody tr th {\n",
              "        vertical-align: top;\n",
              "    }\n",
              "\n",
              "    .dataframe thead th {\n",
              "        text-align: right;\n",
              "    }\n",
              "</style>\n",
              "<table border=\"1\" class=\"dataframe\">\n",
              "  <thead>\n",
              "    <tr style=\"text-align: right;\">\n",
              "      <th></th>\n",
              "      <th>hiperparametros_default</th>\n",
              "      <th>sin_intercepto</th>\n",
              "    </tr>\n",
              "  </thead>\n",
              "  <tbody>\n",
              "    <tr>\n",
              "      <th>mae</th>\n",
              "      <td>104.311808</td>\n",
              "      <td>104.311808</td>\n",
              "    </tr>\n",
              "    <tr>\n",
              "      <th>mse</th>\n",
              "      <td>23058.172566</td>\n",
              "      <td>23058.172566</td>\n",
              "    </tr>\n",
              "    <tr>\n",
              "      <th>rmse</th>\n",
              "      <td>151.849177</td>\n",
              "      <td>151.849177</td>\n",
              "    </tr>\n",
              "    <tr>\n",
              "      <th>r2</th>\n",
              "      <td>0.973036</td>\n",
              "      <td>0.973036</td>\n",
              "    </tr>\n",
              "  </tbody>\n",
              "</table>\n",
              "</div>\n",
              "      <button class=\"colab-df-convert\" onclick=\"convertToInteractive('df-6d6737f6-7c96-4a45-8603-85336ee6d3bb')\"\n",
              "              title=\"Convert this dataframe to an interactive table.\"\n",
              "              style=\"display:none;\">\n",
              "        \n",
              "  <svg xmlns=\"http://www.w3.org/2000/svg\" height=\"24px\"viewBox=\"0 0 24 24\"\n",
              "       width=\"24px\">\n",
              "    <path d=\"M0 0h24v24H0V0z\" fill=\"none\"/>\n",
              "    <path d=\"M18.56 5.44l.94 2.06.94-2.06 2.06-.94-2.06-.94-.94-2.06-.94 2.06-2.06.94zm-11 1L8.5 8.5l.94-2.06 2.06-.94-2.06-.94L8.5 2.5l-.94 2.06-2.06.94zm10 10l.94 2.06.94-2.06 2.06-.94-2.06-.94-.94-2.06-.94 2.06-2.06.94z\"/><path d=\"M17.41 7.96l-1.37-1.37c-.4-.4-.92-.59-1.43-.59-.52 0-1.04.2-1.43.59L10.3 9.45l-7.72 7.72c-.78.78-.78 2.05 0 2.83L4 21.41c.39.39.9.59 1.41.59.51 0 1.02-.2 1.41-.59l7.78-7.78 2.81-2.81c.8-.78.8-2.07 0-2.86zM5.41 20L4 18.59l7.72-7.72 1.47 1.35L5.41 20z\"/>\n",
              "  </svg>\n",
              "      </button>\n",
              "      \n",
              "  <style>\n",
              "    .colab-df-container {\n",
              "      display:flex;\n",
              "      flex-wrap:wrap;\n",
              "      gap: 12px;\n",
              "    }\n",
              "\n",
              "    .colab-df-convert {\n",
              "      background-color: #E8F0FE;\n",
              "      border: none;\n",
              "      border-radius: 50%;\n",
              "      cursor: pointer;\n",
              "      display: none;\n",
              "      fill: #1967D2;\n",
              "      height: 32px;\n",
              "      padding: 0 0 0 0;\n",
              "      width: 32px;\n",
              "    }\n",
              "\n",
              "    .colab-df-convert:hover {\n",
              "      background-color: #E2EBFA;\n",
              "      box-shadow: 0px 1px 2px rgba(60, 64, 67, 0.3), 0px 1px 3px 1px rgba(60, 64, 67, 0.15);\n",
              "      fill: #174EA6;\n",
              "    }\n",
              "\n",
              "    [theme=dark] .colab-df-convert {\n",
              "      background-color: #3B4455;\n",
              "      fill: #D2E3FC;\n",
              "    }\n",
              "\n",
              "    [theme=dark] .colab-df-convert:hover {\n",
              "      background-color: #434B5C;\n",
              "      box-shadow: 0px 1px 3px 1px rgba(0, 0, 0, 0.15);\n",
              "      filter: drop-shadow(0px 1px 2px rgba(0, 0, 0, 0.3));\n",
              "      fill: #FFFFFF;\n",
              "    }\n",
              "  </style>\n",
              "\n",
              "      <script>\n",
              "        const buttonEl =\n",
              "          document.querySelector('#df-6d6737f6-7c96-4a45-8603-85336ee6d3bb button.colab-df-convert');\n",
              "        buttonEl.style.display =\n",
              "          google.colab.kernel.accessAllowed ? 'block' : 'none';\n",
              "\n",
              "        async function convertToInteractive(key) {\n",
              "          const element = document.querySelector('#df-6d6737f6-7c96-4a45-8603-85336ee6d3bb');\n",
              "          const dataTable =\n",
              "            await google.colab.kernel.invokeFunction('convertToInteractive',\n",
              "                                                     [key], {});\n",
              "          if (!dataTable) return;\n",
              "\n",
              "          const docLinkHtml = 'Like what you see? Visit the ' +\n",
              "            '<a target=\"_blank\" href=https://colab.research.google.com/notebooks/data_table.ipynb>data table notebook</a>'\n",
              "            + ' to learn more about interactive tables.';\n",
              "          element.innerHTML = '';\n",
              "          dataTable['output_type'] = 'display_data';\n",
              "          await google.colab.output.renderOutput(dataTable, element);\n",
              "          const docLink = document.createElement('div');\n",
              "          docLink.innerHTML = docLinkHtml;\n",
              "          element.appendChild(docLink);\n",
              "        }\n",
              "      </script>\n",
              "    </div>\n",
              "  </div>\n",
              "  "
            ]
          },
          "metadata": {},
          "execution_count": 302
        }
      ]
    }
  ]
}