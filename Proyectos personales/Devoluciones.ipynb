{
 "cells": [
  {
   "cell_type": "markdown",
   "metadata": {},
   "source": [
    "# Adolfo Rojas\n",
    "\n",
    "## 13/05 \n",
    "\n",
    "### https://github.com/IonatanPerez/AprenderProgramando_cursos_2022/blob/cdb8348d4573fdb1a2fd6dcbfa6bfe7285642a07/Proyectos%20personales/Adolfo%20Rojas%20-%20Martes/Copia%20de%20Tarea%201%20CIENCIAS.ipynb\n",
    "\n",
    "Bien. \n",
    "\n",
    "### https://github.com/IonatanPerez/AprenderProgramando_cursos_2022/blob/cdb8348d4573fdb1a2fd6dcbfa6bfe7285642a07/Proyectos%20personales/Adolfo%20Rojas%20-%20Martes/Copia%20de%20Tarea%202%20CIENCIAS.ipynb\n",
    "\n",
    "Bien, pero ojo que cuando pones grupo_1[2:] lo que hace es armarte una lista con el ultimo elemento dentro. Fijate que cuando haces un print de todos los elementos que agregaste asi aparecen dentro de un corchete extra. Eso significa que tenes una lista (con un elemento) dentro de la lista de afuera.\n",
    "\n",
    "## Conclusion\n",
    "\n",
    "Venis bien, los ejercicios de manejo de tipos de datos lista y diccionario venis bien. Te falta completar estructuras de control y funciones, y lo de pandas que estamos viendo las ultimas clases del modulo 1.\n"
   ]
  },
  {
   "cell_type": "markdown",
   "metadata": {},
   "source": [
    "\n",
    "# Agustina Campos\n",
    "\n",
    "## 13/05\n",
    "\n",
    "### https://github.com/IonatanPerez/AprenderProgramando_cursos_2022/blob/cdb8348d4573fdb1a2fd6dcbfa6bfe7285642a07/Proyectos%20personales/Agustina%20Campos%20-%20MARTES/Ciencia%20de%20Datos%20(Martes)%20-%20Clase%2012%2004%20-%20Campos%20Agustina.ipynb\n",
    "\n",
    "Son notas de clase, bien\n",
    "\n",
    "### https://github.com/IonatanPerez/AprenderProgramando_cursos_2022/blob/cdb8348d4573fdb1a2fd6dcbfa6bfe7285642a07/Proyectos%20personales/Agustina%20Campos%20-%20MARTES/Ciencia%20de%20Datos%20(Martes)%20-%20Clase%2019%2004%20-%20Campos%20Agustina.ipynb\n",
    "\n",
    "Bien, cuando haces la lista completa, esta bien hacerlo asi:\n",
    "\n",
    "```\n",
    "#Punto 3\n",
    "\n",
    "grupo_1 = [\"Agustina\", \"Cristian\", \"Tomas\"]\n",
    "grupo_2 = [\"Gabriel\", \"Samuel\", \"Delfina\"]\n",
    "grupo_3 = []\n",
    "\n",
    "for i in range(len(grupo_1)):\n",
    "  grupo_3.append(grupo_1[i])\n",
    "\n",
    "grupo_1.clear\n",
    "\n",
    "for i in range(len(grupo_2)):\n",
    "  grupo_3.append(grupo_2[i])\n",
    "\n",
    "grupo_2.clear\n",
    "\n",
    "print(\"Grupo: \" + str(grupo_3))\n",
    "```\n",
    "\n",
    "pero era mas facil hacerlo asi:\n",
    "\n",
    "```\n",
    "grupo_3 = grupo_1 + grupo_2\n",
    "```\n",
    "\n",
    "En el punto 8 apuntaba a que podes agregar un elemento a un diccionario directamente poniendo:\n",
    "\n",
    "```\n",
    "diccionario[\"Perú\"] = \"Lima\"\n",
    "```\n",
    "\n",
    "## Conclusion\n",
    "\n",
    "Venis bien con manejo de tipos de datos, falta completar estructuras de control tipo if y funciones y las cosas del final de Pandas"
   ]
  },
  {
   "cell_type": "markdown",
   "metadata": {},
   "source": [
    "# Alan Alarcon\n",
    "\n",
    "## 13/05\n",
    "https://github.com/IonatanPerez/AprenderProgramando_cursos_2022/blob/cdb8348d4573fdb1a2fd6dcbfa6bfe7285642a07/Proyectos%20personales/Alan%20Alcon%20-%20jueves/ejercicios%20principales.ipynb\n",
    "\n",
    "Venis muy bien, solo dos sutilezas:\n",
    "\n",
    "- En el ejercicio 4 de pandas apuntaba a que uses value_counts() para saber cuantas de cada tipo hay\n",
    "- En el ejercicio 5 preguntaba cual es el registro (que podrias buscar donde el valor es maximo y despues sacar el registro donde se cumple esa funcion)\n",
    "\n",
    "Igual venis super bien!"
   ]
  },
  {
   "cell_type": "markdown",
   "metadata": {},
   "source": [
    "# Alexis Romero\n",
    "\n",
    "## 13/05\n",
    "\n",
    "https://github.com/IonatanPerez/AprenderProgramando_cursos_2022/blob/cdb8348d4573fdb1a2fd6dcbfa6bfe7285642a07/Proyectos%20personales/Alexis%20Romero%20-%20martes/clase1.ipynb\n",
    "\n",
    "Arrancaste bien la primer clase pero te falta hacer las actividades que siguen.\n",
    "\n"
   ]
  },
  {
   "cell_type": "markdown",
   "metadata": {},
   "source": []
  }
 ],
 "metadata": {
  "language_info": {
   "name": "python"
  },
  "orig_nbformat": 4
 },
 "nbformat": 4,
 "nbformat_minor": 2
}
