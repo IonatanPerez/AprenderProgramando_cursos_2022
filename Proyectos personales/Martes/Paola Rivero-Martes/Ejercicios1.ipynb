{
  "nbformat": 4,
  "nbformat_minor": 0,
  "metadata": {
    "colab": {
      "name": "Ejercicios1.ipynb",
      "provenance": []
    },
    "kernelspec": {
      "name": "python3",
      "display_name": "Python 3"
    },
    "language_info": {
      "name": "python"
    }
  },
  "cells": [
    {
      "cell_type": "code",
      "execution_count": null,
      "metadata": {
        "colab": {
          "base_uri": "https://localhost:8080/"
        },
        "id": "YBX7s_WwlrAF",
        "outputId": "2afa1762-16bf-4a1a-b331-fe92b7d69b30"
      },
      "outputs": [
        {
          "output_type": "stream",
          "name": "stdout",
          "text": [
            "PaolaPaolaPaolaPaolaPaolaPaolaPaolaPaolaPaolaPaolaPaolaPaolaPaolaPaolaPaolaPaolaPaolaPaolaPaolaPaolaPaolaPaolaPaolaPaolaPaolaPaolaPaolaPaolaPaolaPaolaPaolaPaolaPaolaPaolaPaolaPaolaPaolaPaolaPaolaPaolaPaolaPaolaPaolaPaolaPaolaPaolaPaolaPaolaPaolaPaolaPaolaPaolaPaolaPaolaPaolaPaolaPaolaPaolaPaolaPaolaPaolaPaolaPaolaPaolaPaolaPaolaPaolaPaolaPaolaPaolaPaolaPaolaPaolaPaolaPaolaPaolaPaolaPaolaPaolaPaolaPaolaPaolaPaolaPaolaPaolaPaolaPaolaPaolaPaolaPaolaPaolaPaolaPaolaPaolaPaolaPaolaPaolaPaolaPaolaPaola\n"
          ]
        }
      ],
      "source": [
        "print (\"Paola\"*100)\n",
        "\n"
      ]
    },
    {
      "cell_type": "code",
      "source": [
        "15*250\n",
        "#Es un int"
      ],
      "metadata": {
        "colab": {
          "base_uri": "https://localhost:8080/"
        },
        "id": "_qexcWfemTPC",
        "outputId": "2940913f-b9d9-41a3-8766-f9a20dbf3751"
      },
      "execution_count": null,
      "outputs": [
        {
          "output_type": "execute_result",
          "data": {
            "text/plain": [
              "3750"
            ]
          },
          "metadata": {},
          "execution_count": 4
        }
      ]
    }
  ]
}