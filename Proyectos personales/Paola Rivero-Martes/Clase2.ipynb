{
  "nbformat": 4,
  "nbformat_minor": 0,
  "metadata": {
    "colab": {
      "name": " Clase2.ipynb",
      "provenance": []
    },
    "kernelspec": {
      "name": "python3",
      "display_name": "Python 3"
    },
    "language_info": {
      "name": "python"
    }
  },
  "cells": [
    {
      "cell_type": "code",
      "execution_count": null,
      "metadata": {
        "colab": {
          "base_uri": "https://localhost:8080/"
        },
        "id": "XHpuqAxYH_k6",
        "outputId": "753e6c69-6578-4484-bc58-aa6056e7cec2"
      },
      "outputs": [
        {
          "output_type": "stream",
          "name": "stdout",
          "text": [
            "40\n",
            "-20\n",
            "300\n",
            "0.3333333333333333\n"
          ]
        }
      ],
      "source": [
        "Número1=10\n",
        "Número2=30\n",
        "print(Número1+Número2)\n",
        "print(Número1-Número2)\n",
        "print(Número1*Número2)\n",
        "print(Número1/Número2)"
      ]
    },
    {
      "cell_type": "code",
      "source": [
        "Grupo1=[\"Mario\",\"Roberto\"]\n",
        "print(Grupo1)\n",
        "Grupo2=[\"Susana\",\"Maria\"]\n",
        "print(Grupo2)\n",
        "Grupo3=[\"Claudio\",\"Andrea\"]\n",
        "print(Grupo3)\n",
        "Todos=[Grupo1+Grupo2+Grupo3]\n",
        "print(Todos)"
      ],
      "metadata": {
        "colab": {
          "base_uri": "https://localhost:8080/"
        },
        "id": "3z_3XaVCIAMW",
        "outputId": "dbc8ea28-361a-4201-833d-8523c188d7b9"
      },
      "execution_count": null,
      "outputs": [
        {
          "output_type": "stream",
          "name": "stdout",
          "text": [
            "['Mario', 'Roberto']\n",
            "['Susana', 'Maria']\n",
            "['Claudio', 'Andrea']\n",
            "[['Mario', 'Roberto', 'Susana', 'Maria', 'Claudio', 'Andrea']]\n"
          ]
        }
      ]
    },
    {
      "cell_type": "code",
      "source": [
        "Diccionario={\"País\": [\"Alemania\",\"Argentina\",\"España\",\"Colombia\"], \"Capital\":[\"Berlín\",\"Buenos Aires\",\"Madrid\",\"Bogotá\"]}\n",
        "print(Diccionario[\"País\"])\n",
        "print(Diccionario[\"Capital\"])\n"
      ],
      "metadata": {
        "colab": {
          "base_uri": "https://localhost:8080/"
        },
        "id": "6o4-GxY2L9fT",
        "outputId": "12c0dc7a-dfdc-41f9-9ef4-96aeb4b11547"
      },
      "execution_count": null,
      "outputs": [
        {
          "output_type": "stream",
          "name": "stdout",
          "text": [
            "['Alemania', 'Argentina', 'España', 'Colombia']\n",
            "['Berlín', 'Buenos Aires', 'Madrid', 'Bogotá']\n"
          ]
        }
      ]
    }
  ]
}