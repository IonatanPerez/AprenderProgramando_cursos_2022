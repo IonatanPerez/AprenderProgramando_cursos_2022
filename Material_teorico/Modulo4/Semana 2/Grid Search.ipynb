{
 "cells": [
  {
   "cell_type": "markdown",
   "id": "classical-destiny",
   "metadata": {
    "id": "superb-ambassador"
   },
   "source": [
    "## Herramientas para mejorar entrenamiento. \n",
    "\n",
    "En esta Notebook entrenaremos diferentes modelos a fin de comparar su perfomance utilizando Grid Search para encontrar los mejores hiperparámetros\n",
    "\n",
    "Vamos a utilizar como ejemplo un modelo de Aprendizaje Automático Supervisado de Clasificación de Random Forest. Realizaremos los pasos de un Proyecto de Ciencia de Datos:\n",
    "\n",
    "1. Definición del Problema\n",
    "2. Búsqueda de datos \n",
    "3. Exploración y Limpieza de Datos\n",
    "4. Dividir los datos en **X** (variables predictoras) e **y** (variable a predecir). Dividir los datos en entrenamiento y testo con el méodo *train_test_split*\n",
    "5. Entrenamiento del modelo\n",
    "6. Testeo del Modelo \n",
    "\n",
    "### Definición del problema\n",
    "\n",
    "**¿Qué pasajeros sobrevivirían del hundimiento del Titanic en base a sus características?**\n",
    "\n",
    "### Búsqueda de datos\n",
    "\n",
    "El dataset que se utilizará es un listado de los pasajeros del Titanic y se indica si sobrevivieron o no al hundimiento y distintas características de los mismo. Hay varias versiones de este dataset, en este caso utilizaremos uno que tiene realizado una limpieza previa donde se han transformado alguna columnas armando grupos por Edad y dividiendo el dato de grupo familiar (\"SibSp_0\" y \"Parch_0\") y ya están realizadas todas las variables dummies. Fue extraído de [Kaggle](https://www.kaggle.com/datasets/ak1352/titanic-cl?select=train_cl.csv). \n"
   ]
  },
  {
   "cell_type": "code",
   "execution_count": null,
   "id": "stock-scott",
   "metadata": {
    "id": "adopted-trailer"
   },
   "outputs": [],
   "source": [
    "#importamos las librerías que utilizaremos\n",
    "\n",
    "import pandas as pd\n",
    "import matplotlib.pyplot as plt\n",
    "import seaborn as sns"
   ]
  },
  {
   "cell_type": "code",
   "execution_count": null,
   "id": "aware-solomon",
   "metadata": {
    "id": "emerging-obligation"
   },
   "outputs": [],
   "source": [
    "data = pd.read_csv(\"titanic.csv\")"
   ]
  },
  {
   "cell_type": "code",
   "execution_count": null,
   "id": "polish-herald",
   "metadata": {
    "colab": {
     "base_uri": "https://localhost:8080/",
     "height": 141
    },
    "id": "ethical-paper",
    "outputId": "12ab1e16-50f5-43cc-9784-5b2a0bd217ac"
   },
   "outputs": [],
   "source": [
    "#vemos los primeros 3 registros\n",
    "data.head(3)"
   ]
  },
  {
   "cell_type": "code",
   "execution_count": null,
   "id": "played-preliminary",
   "metadata": {
    "colab": {
     "base_uri": "https://localhost:8080/"
    },
    "id": "bound-makeup",
    "outputId": "81c79e1d-a064-476f-fb46-2e63fa17935c"
   },
   "outputs": [],
   "source": [
    "#vemos el tamaño del dataset \n",
    "\n",
    "data.shape"
   ]
  },
  {
   "cell_type": "code",
   "execution_count": null,
   "id": "global-condition",
   "metadata": {
    "colab": {
     "base_uri": "https://localhost:8080/"
    },
    "id": "constant-definition",
    "outputId": "40b68075-8285-4673-fa9c-29aea6cec682"
   },
   "outputs": [],
   "source": [
    "data.columns"
   ]
  },
  {
   "cell_type": "code",
   "execution_count": null,
   "id": "modern-mason",
   "metadata": {
    "colab": {
     "base_uri": "https://localhost:8080/"
    },
    "id": "surface-geology",
    "outputId": "11d796d6-b173-4443-bc0a-f942fc2d0c34"
   },
   "outputs": [],
   "source": [
    "# Vemos si hay datos nulos\n",
    "\n",
    "data.isnull().sum()"
   ]
  },
  {
   "cell_type": "code",
   "execution_count": null,
   "id": "living-vatican",
   "metadata": {
    "colab": {
     "base_uri": "https://localhost:8080/"
    },
    "id": "inclusive-vietnamese",
    "outputId": "572f6455-2856-4592-bd74-af1511b23d2b"
   },
   "outputs": [],
   "source": [
    "data.info()"
   ]
  },
  {
   "cell_type": "code",
   "execution_count": null,
   "id": "brown-annotation",
   "metadata": {
    "colab": {
     "base_uri": "https://localhost:8080/"
    },
    "id": "orange-fruit",
    "outputId": "7dbd5728-668a-4603-cfe7-4fe8b9ac4083"
   },
   "outputs": [],
   "source": [
    "# Vemos la distribución de la variable target\n",
    "\n",
    "data[\"Survived\"].value_counts()"
   ]
  },
  {
   "cell_type": "code",
   "execution_count": null,
   "id": "legendary-compiler",
   "metadata": {
    "colab": {
     "base_uri": "https://localhost:8080/",
     "height": 352
    },
    "id": "controlled-product",
    "outputId": "109b0705-a943-486c-ba4a-6e245b50eb6a"
   },
   "outputs": [],
   "source": [
    "# Visualizamos la variable a predecir\n",
    "\n",
    "sns.countplot(data[\"Survived\"])"
   ]
  },
  {
   "cell_type": "markdown",
   "id": "outstanding-village",
   "metadata": {
    "id": "friendly-optimization"
   },
   "source": [
    "#### Random Forest\n",
    "\n",
    "Ahora entrenaremos distintos modelos de Random Forest modificando los hiperparámetros para intentar lograr mejorar la performance del modelos. Los posibles hiperparámetros que pueden defnirse son los de los Árboles de Decisión y los específicos de los modelos de Random Forest. Pueden verse en la [documentación](https://scikit-learn.org/stable/modules/generated/sklearn.ensemble.RandomForestClassifier.html?highlight=random%20forest#sklearn.ensemble.RandomForestClassifier).\n",
    "\n",
    "Entre los principales están:\n",
    "\n",
    "**n_estimators**: Cantidad de árboles a entrenar. El límite de árboles a elegir generalmente viene dado por la capacidad de cómputo en donde se entrena. Sin embargo, también se debe tener en cuenta el riesgo de sobreajuste.\n",
    "\n",
    "**max_depth**: Máxima profundidad que puede tener cada árbol. La profundidad viene dada por cuantas ramificaciones tiene cada árbol.\n",
    "\n",
    "**max_features**: Cuantas variables, como máximo, puede tener el conjunto de entrenamiento de cada árbol. Recordar que el conjunto de entrenamiento de cada árbol es un subconjunto del conjunto de entrenamiento completo.\n",
    "\n",
    "**bootstrap**: Esta es la técnica usada para generar los subconjuntos de datos de entrenamiento para cada árbol. Si se coloca como falso (False) se pasarán todas las filas del data frame al entrenamiento de todos los árboles.\n",
    "\n",
    "En primer lugar generaremos X e y y dividieremos los datos en entrenamiento y testeo"
   ]
  },
  {
   "cell_type": "code",
   "execution_count": null,
   "id": "rising-stranger",
   "metadata": {
    "id": "corporate-celebration"
   },
   "outputs": [],
   "source": [
    "X = data.drop(columns=\"Survived\")\n",
    "y = data[\"Survived\"]"
   ]
  },
  {
   "cell_type": "code",
   "execution_count": null,
   "id": "nominated-jurisdiction",
   "metadata": {
    "id": "buried-drawing"
   },
   "outputs": [],
   "source": [
    "# Dividimos datos en train y test\n",
    "\n",
    "from sklearn.model_selection import train_test_split\n",
    "\n",
    "X_train, X_test, y_train, y_test = train_test_split(X, y, random_state=48)  #por default 25% de test\n"
   ]
  },
  {
   "cell_type": "code",
   "execution_count": null,
   "id": "furnished-orbit",
   "metadata": {
    "colab": {
     "base_uri": "https://localhost:8080/"
    },
    "id": "liberal-hierarchy",
    "outputId": "63bb252c-3df3-425c-b447-b55f1d469ba4"
   },
   "outputs": [],
   "source": [
    "print(\"El tamaño de X_train es: \", X_train.shape)\n",
    "print(\"El tamaño de X_test es: \",X_test.shape)\n",
    "print(\"El tamaño de y_train es: \",y_train.shape)\n",
    "print(\"El tamaño de y_test es: \",y_test.shape)"
   ]
  },
  {
   "cell_type": "markdown",
   "id": "widespread-simple",
   "metadata": {},
   "source": [
    "##### Modelo con los hiperparámetros por default\n",
    "\n",
    "En primer lugar instanciamos y entrenamos un modelo con los hiperparámetros por default"
   ]
  },
  {
   "cell_type": "code",
   "execution_count": null,
   "id": "lovely-interaction",
   "metadata": {
    "id": "tribal-newark"
   },
   "outputs": [],
   "source": [
    "# Importamos el modelo que utilizaremos\n",
    "\n",
    "from sklearn.ensemble import RandomForestClassifier\n"
   ]
  },
  {
   "cell_type": "code",
   "execution_count": null,
   "id": "australian-hypothesis",
   "metadata": {
    "id": "accessory-specialist"
   },
   "outputs": [],
   "source": [
    "# Instanciamos el modelo que utilizaremos con los hiperparametro por default \n",
    "random_forest = RandomForestClassifier()"
   ]
  },
  {
   "cell_type": "code",
   "execution_count": null,
   "id": "immediate-speech",
   "metadata": {
    "colab": {
     "base_uri": "https://localhost:8080/"
    },
    "id": "atmospheric-third",
    "outputId": "31624f5e-fc53-4ec5-d5bc-71171b7212af"
   },
   "outputs": [],
   "source": [
    "# Entrenamos el modelo\n",
    "\n",
    "random_forest.fit(X_train, y_train)"
   ]
  },
  {
   "cell_type": "code",
   "execution_count": null,
   "id": "inappropriate-frontier",
   "metadata": {
    "id": "impressive-object"
   },
   "outputs": [],
   "source": [
    "# Vemos el resultado de la predicción de nuestro modelos sobre los datos utilizados para el entrenamiento\n",
    "\n",
    "y_pred_train = random_forest.predict(X_train)"
   ]
  },
  {
   "cell_type": "code",
   "execution_count": null,
   "id": "worse-handbook",
   "metadata": {
    "colab": {
     "base_uri": "https://localhost:8080/"
    },
    "id": "saving-fruit",
    "outputId": "34c732d6-6040-436a-db77-1c8c3f70a42f"
   },
   "outputs": [],
   "source": [
    "# Utilizamos la métrica accuracy (extactitud)\n",
    "\n",
    "from sklearn.metrics import accuracy_score\n",
    "\n",
    "exactitud_train_random_forest= accuracy_score(y_train, y_pred_train)\n",
    "exactitud_train_random_forest"
   ]
  },
  {
   "cell_type": "markdown",
   "id": "passing-surname",
   "metadata": {
    "id": "sudden-camping"
   },
   "source": [
    "##### Probamos y evaluamos nuestro modelo\n",
    "\n",
    "Utilizamos el metodo predict para probar nuestro modelo con los datos de test. Luego comparamos la predicciones de nuestro modelo con el resultado real a través de una matriz de confusión y utilizando la métrica accuracy (exactitud)"
   ]
  },
  {
   "cell_type": "code",
   "execution_count": null,
   "id": "incomplete-signature",
   "metadata": {
    "colab": {
     "base_uri": "https://localhost:8080/"
    },
    "id": "raised-disclosure",
    "outputId": "527abe77-f431-4c11-e350-bd670fd2f8b2"
   },
   "outputs": [],
   "source": [
    "# Probamos nuestro modelo con los datos de test\n",
    "\n",
    "y_pred_random_forest = random_forest.predict(X_test)\n",
    "y_pred_random_forest"
   ]
  },
  {
   "cell_type": "code",
   "execution_count": null,
   "id": "tender-shelf",
   "metadata": {
    "colab": {
     "base_uri": "https://localhost:8080/",
     "height": 296
    },
    "id": "diagnostic-kernel",
    "outputId": "97b6dd5e-3543-46d8-d567-196609813074"
   },
   "outputs": [],
   "source": [
    "# Comparamos y_test(datos reales) con y_pred_arbol (datos predichos) para ver si el modelo hizo las predicciones correctas\n",
    "\n",
    "from sklearn.metrics import confusion_matrix\n",
    "matriz_random_forest = confusion_matrix(y_test, y_pred_random_forest)\n",
    "sns.heatmap(matriz_random_forest, annot=True)\n",
    "plt.xlabel(\"Etiquetas predichas\")\n",
    "plt.ylabel(\"Etiquetas reales\")"
   ]
  },
  {
   "cell_type": "code",
   "execution_count": null,
   "id": "increasing-detection",
   "metadata": {
    "colab": {
     "base_uri": "https://localhost:8080/"
    },
    "id": "adapted-latin",
    "outputId": "1607843c-2ee9-4260-f910-6b921ee8dbcb"
   },
   "outputs": [],
   "source": [
    "# Metrica accuracy\n",
    "\n",
    "from sklearn.metrics import accuracy_score\n",
    "\n",
    "exactitud_random_forest = accuracy_score(y_test, y_pred_random_forest)\n",
    "exactitud_random_forest"
   ]
  },
  {
   "cell_type": "markdown",
   "id": "infrared-policy",
   "metadata": {
    "id": "wgwUW5ktt7Sa"
   },
   "source": [
    "#### Grid Search\n",
    "\n",
    "Es la estrategia para encontrar el mejor hiperparámetro dentro de una\n",
    "“grilla” (grid) especificada de forma manual. Se realiza una búsqueda\n",
    "para cada valor de la grilla y se elige el hiperparámetro que\n",
    "minimiza el error (generalmente calculada\n",
    "mediante cross-validation -como vimos en la PPT-)\n",
    "\n",
    "Al utilizar [Grid Search](\n",
    "https://scikit-learn.org/stable/modules/generated/sklearn.model_selection.GridSearchCV.html?highlight=gridsearch#sklearn.model_selection.GridSearchCV) es necesario definir:\n",
    "\n",
    "- Método de búsqueda (en este caso Gridsearch - podría ser Randomsearch)\n",
    "- Estimador: modelo\n",
    "- Hiperparámetros para hacer la búsqueda.\n",
    "- Métrica de evaluación\n"
   ]
  },
  {
   "cell_type": "markdown",
   "id": "comparative-compression",
   "metadata": {
    "id": "BZE6-IEQ2RCE"
   },
   "source": [
    "### Probaremos hiperparámetos de Random Forest\n",
    "\n",
    "Utilizaremos 1 hiperparametro para probar: \n",
    "\n",
    "- n_estimators: cantidad de arboles\n",
    "\n",
    "Para definir la grilla se debe genera un diccionario cuya **clave** va a ser el nombre de los hiperparámetros y el **valor** es una lista que se define de cada hiperparámetro.\n",
    "\n",
    "\n",
    "https://scikit-learn.org/stable/modules/generated/sklearn.neighbors.KNeighborsClassifier.html?highlight=kn#sklearn.neighbors.KNeighborsClassifier\n"
   ]
  },
  {
   "cell_type": "code",
   "execution_count": null,
   "id": "quantitative-ottawa",
   "metadata": {
    "id": "YbRJpfocxvAr"
   },
   "outputs": [],
   "source": [
    "#Importamos GridSearch\n",
    "\n",
    "from sklearn.model_selection import GridSearchCV"
   ]
  },
  {
   "cell_type": "code",
   "execution_count": null,
   "id": "valid-assault",
   "metadata": {
    "id": "zjG37LP04KBH"
   },
   "outputs": [],
   "source": [
    "# definimos el estimador/modelo que utilizaremos\n",
    "\n",
    "random_forest_grid_search = RandomForestClassifier()"
   ]
  },
  {
   "cell_type": "code",
   "execution_count": null,
   "id": "graphic-buffalo",
   "metadata": {
    "id": "Msv54VY34KEq"
   },
   "outputs": [],
   "source": [
    "#Definimos la grilla de hiperparámetros para utilizar generando un diccionario:\n",
    "\n",
    "param_grid = {\"n_estimators\": [100, 200, 300, 400, 500, 600]}\n"
   ]
  },
  {
   "cell_type": "code",
   "execution_count": null,
   "id": "printable-metallic",
   "metadata": {
    "id": "ibv2fW5l4KHr"
   },
   "outputs": [],
   "source": [
    "# Generamos el grid_search definiendo el modelo, los hiperparametros y la métrica que se utilizará para definir el mejor, en este caso \"Accuracy\".\n",
    "\n",
    "grid = GridSearchCV(estimator = random_forest_grid_search, param_grid = param_grid, scoring=\"accuracy\")"
   ]
  },
  {
   "cell_type": "code",
   "execution_count": null,
   "id": "exact-delay",
   "metadata": {
    "colab": {
     "base_uri": "https://localhost:8080/"
    },
    "id": "q4l5RRmp4KKJ",
    "outputId": "3c58f6eb-05c0-4fee-b495-8970417b1dbc"
   },
   "outputs": [],
   "source": [
    "# Entrenamos el modelo de GridSearch con los datos de entrenamiento. Es importante tener en cuenta que puede tardar el entrenamiento\n",
    "\n",
    "grid.fit(X_train, y_train)"
   ]
  },
  {
   "cell_type": "code",
   "execution_count": null,
   "id": "stopped-conviction",
   "metadata": {
    "colab": {
     "base_uri": "https://localhost:8080/"
    },
    "id": "Cv_ReudIN6sQ",
    "outputId": "fd601089-3047-4ae0-8118-598ca48bbfd5"
   },
   "outputs": [],
   "source": [
    "#Probamos el modelo con los datos de train (VER QUE SE USA GRID)\n",
    " \n",
    "y_pred_train = grid.predict(X_train)\n",
    "print(\"La performance del modelo con los datos de entrenamiento:\", round(accuracy_score(y_train, y_pred_train),2))\n",
    "\n",
    "#Probamos el modleo con los datos de test\n",
    "\n",
    "y_pred = grid.predict(X_test)\n",
    "print(\"La performance del modelo con los datos de testo:\", round(accuracy_score(y_test, y_pred),2))\n"
   ]
  },
  {
   "cell_type": "markdown",
   "id": "latest-oxygen",
   "metadata": {
    "id": "hQPXJS5iOlfc"
   },
   "source": [
    "A través de los [atributos de GridSearch](https://scikit-learn.org/stable/modules/generated/sklearn.model_selection.GridSearchCV.html) podemos vemos cuales son las caracerísticas del modelo entrenado, por ejemplo:\n",
    "\n",
    "- best_params_: mejores hiperparámetros\n"
   ]
  },
  {
   "cell_type": "code",
   "execution_count": null,
   "id": "guided-louis",
   "metadata": {
    "colab": {
     "base_uri": "https://localhost:8080/"
    },
    "id": "6IDYakhAO84X",
    "outputId": "a0b25b9f-8e99-4ed3-8812-e5af68996318"
   },
   "outputs": [],
   "source": [
    "grid.best_params_"
   ]
  },
  {
   "cell_type": "markdown",
   "id": "ideal-tolerance",
   "metadata": {
    "id": "79IAlHZR3_gx"
   },
   "source": [
    "### Ahora probaremos otros hiperparámetos\n",
    "\n",
    "Utilizaremos 3 hiperparametros para probar: \n",
    "\n",
    "- n_estimators: cantidad de arboles\n",
    "\n",
    "- max_depth: máxima profundidad del árbol\n",
    " \n",
    "- min_samples_split: mímimo de muestras para hacer una división\n",
    "\n",
    "Para definir la grilla se debe genera un diccionario cuya **clave** va a ser el nombre de los hiperparámetros y el **valor** es una lista que se define de cada hiperparámetro.\n"
   ]
  },
  {
   "cell_type": "code",
   "execution_count": null,
   "id": "representative-enough",
   "metadata": {
    "id": "communist-schema"
   },
   "outputs": [],
   "source": [
    "# Instanciamos el estimador/modelo que utilizaremos\n",
    "random_forest_grid_search2 = RandomForestClassifier()"
   ]
  },
  {
   "cell_type": "code",
   "execution_count": null,
   "id": "negative-merit",
   "metadata": {
    "id": "OH9HA6CC28JZ"
   },
   "outputs": [],
   "source": [
    "# Definimos los hiperparametros para hacer la búsqueda con un diccionario\n",
    "\n",
    "param_grid_rf = {\"n_estimators\": [100,200,300],\n",
    "                    \"max_depth\": [2,3,4,5,6],\n",
    "                    \"min_samples_split\": [2,3,4,5,6]}"
   ]
  },
  {
   "cell_type": "code",
   "execution_count": null,
   "id": "tutorial-exchange",
   "metadata": {
    "id": "H7LZubbXPMH7"
   },
   "outputs": [],
   "source": [
    "# Generamos el grid_search definiendo el modelo, los hiperparametros y la métrica que se utilizará para definir el mejor, en este caso \"Accuracy\".\n",
    "\n",
    "grid_rf = GridSearchCV(estimator = random_forest_grid_search2, param_grid = param_grid_rf, scoring=\"accuracy\")"
   ]
  },
  {
   "cell_type": "code",
   "execution_count": null,
   "id": "earlier-shift",
   "metadata": {
    "colab": {
     "base_uri": "https://localhost:8080/"
    },
    "id": "advisory-column",
    "outputId": "5bc8b2c4-775e-4e38-e72c-b40ff8d40dba"
   },
   "outputs": [],
   "source": [
    "#Entrenamos el modelo. Es importante tener en cuenta que puede tardar el entrenamiento\n",
    "\n",
    "grid_rf.fit(X_train, y_train)"
   ]
  },
  {
   "cell_type": "code",
   "execution_count": null,
   "id": "adjacent-detroit",
   "metadata": {
    "colab": {
     "base_uri": "https://localhost:8080/"
    },
    "id": "Z4gAxXdRPcNG",
    "outputId": "de7d6f64-4522-4912-9724-a24938723c85"
   },
   "outputs": [],
   "source": [
    "#Probamos el modelo con los datos de train (VER QUE SE USA GRID)\n",
    " \n",
    "y_pred_train = grid_rf.predict(X_train)\n",
    "print(\"La performance del modelo con los datos de entrenamiento:\", round(accuracy_score(y_train, y_pred_train),2))\n",
    "\n",
    "#Probamos el modleo con los datos de test\n",
    "\n",
    "y_pred = grid_rf.predict(X_test)\n",
    "print(\"La performance del modelo con los datos de testo:\", round(accuracy_score(y_test, y_pred),2))\n"
   ]
  },
  {
   "cell_type": "code",
   "execution_count": null,
   "id": "parallel-poetry",
   "metadata": {
    "colab": {
     "base_uri": "https://localhost:8080/"
    },
    "id": "WgRQaiMhPlYW",
    "outputId": "7d9496db-22e0-43c8-df26-777afa2f1bcb"
   },
   "outputs": [],
   "source": [
    "grid_rf.best_params_"
   ]
  },
  {
   "cell_type": "code",
   "execution_count": null,
   "id": "binding-fortune",
   "metadata": {
    "colab": {
     "base_uri": "https://localhost:8080/"
    },
    "id": "OgOk3kaMP9aA",
    "outputId": "ac089d5d-ca0d-4236-dc61-dccea19f7bff"
   },
   "outputs": [],
   "source": [
    "modelo_random_forest_entrenado = grid_rf.best_estimator_\n",
    "modelo_random_forest_entrenado"
   ]
  },
  {
   "cell_type": "markdown",
   "id": "upper-damages",
   "metadata": {},
   "source": [
    "### Conclusión\n",
    "\n",
    "Grid-Search es una herramienta que se puede utilizar para probar distintos hiperparámetros es un solo entrenamiento lo que puede resultar muy útil para mejorar el rendimiento de los modelos.\n",
    "\n",
    "Es importante tener en cuenta que la medición del mejor modelo se realiza analizando la performance de los datos de entrenamiento con cross-validation. Luego de seleccionado el mejor modelo es que nosotros/as probamos con los datos de test este modelo para ver su performance.\n",
    "\n",
    "Este proceso puede implicar que la Notebook tarde mucho tiempo en ejecutarse debido a la gran cantidad de modelos que se están probando (por el cross-validation y por la grilla). "
   ]
  }
 ],
 "metadata": {
  "colab": {
   "collapsed_sections": [],
   "name": "Clasificación con Grid Search.ipynb",
   "provenance": []
  },
  "kernelspec": {
   "display_name": "Python 3",
   "language": "python",
   "name": "python3"
  },
  "language_info": {
   "codemirror_mode": {
    "name": "ipython",
    "version": 3
   },
   "file_extension": ".py",
   "mimetype": "text/x-python",
   "name": "python",
   "nbconvert_exporter": "python",
   "pygments_lexer": "ipython3",
   "version": "3.7.10"
  }
 },
 "nbformat": 4,
 "nbformat_minor": 5
}
