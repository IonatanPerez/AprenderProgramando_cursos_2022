{
 "cells": [
  {
   "cell_type": "markdown",
   "metadata": {
    "id": "LrRzjNV29wXV"
   },
   "source": [
    "# Random Forest (Bosques aleatorios)\n",
    " \n",
    "En esta Notebook vamos a entrenar un modelo de Random Forest que es un conjunto de Árboles de Decisión. Este tipo de modelo puede ser utilizado para modelos de Aprendizaje Automático Supervisado de [**Clasificación**](https://scikit-learn.org/stable/modules/generated/sklearn.ensemble.RandomForestClassifier.html?highlight=random#sklearn.ensemble.RandomForestClassifier) o de [**Regresión**](https://scikit-learn.org/stable/modules/generated/sklearn.ensemble.RandomForestRegressor.html?highlight=random#sklearn.ensemble.RandomForestRegressor), en este caso realizaremos una Clasificación.\n",
    "\n",
    "Vamos a realizar cada paso de un Proyecto de Ciencia de Datos:\n",
    "\n",
    "1. Definición del Problema\n",
    "2. Búsqueda de datos \n",
    "3. Exploración y Limpieza de Datos\n",
    "4. Dividir los datos en **X** (variables predictoras) e **y** (variable a predecir). Dividir los datos en entrenamiento y testo con el méodo *train_test_split*\n",
    "5. Entrenamiento del modelo\n",
    "6. Testeo del Modelo \n",
    "\n",
    "### Definición del problema\n",
    "\n",
    "**¿Cuál será el tipo de vidrio en base a determinadas características?**\n",
    "\n",
    "### Búsqueda de datos\n",
    "\n",
    "El dataset que se utilizará es sobre vidrio, consta de distintas características de vidrio y en base a ellas es posible predecir el tipo entre 7 diferentes. \n",
    "El Dataset fue extraído de [Kaggle](https://www.kaggle.com/datasets/uciml/glass). \n"
   ]
  },
  {
   "cell_type": "code",
   "execution_count": null,
   "metadata": {
    "id": "unlike-travel"
   },
   "outputs": [],
   "source": [
    "#importamos las librerías que utilizaremos\n",
    "\n",
    "import pandas as pd\n",
    "import matplotlib.pyplot as plt\n",
    "import seaborn as sns"
   ]
  },
  {
   "cell_type": "code",
   "execution_count": null,
   "metadata": {
    "id": "induced-assignment"
   },
   "outputs": [],
   "source": [
    "data = pd.read_csv(\"glass.csv\")"
   ]
  },
  {
   "cell_type": "code",
   "execution_count": null,
   "metadata": {
    "colab": {
     "base_uri": "https://localhost:8080/",
     "height": 142
    },
    "executionInfo": {
     "elapsed": 546,
     "status": "ok",
     "timestamp": 1634217990278,
     "user": {
      "displayName": "Valeria Bellino",
      "photoUrl": "https://lh3.googleusercontent.com/a/default-user=s64",
      "userId": "05918551666787590515"
     },
     "user_tz": 180
    },
    "id": "unable-mounting",
    "outputId": "b53d1cc8-642f-4f3b-94b9-ee43b8d9fe18"
   },
   "outputs": [],
   "source": [
    "data.head(3)"
   ]
  },
  {
   "cell_type": "code",
   "execution_count": null,
   "metadata": {
    "colab": {
     "base_uri": "https://localhost:8080/"
    },
    "executionInfo": {
     "elapsed": 307,
     "status": "ok",
     "timestamp": 1634218015208,
     "user": {
      "displayName": "Valeria Bellino",
      "photoUrl": "https://lh3.googleusercontent.com/a/default-user=s64",
      "userId": "05918551666787590515"
     },
     "user_tz": 180
    },
    "id": "gross-shareware",
    "outputId": "a1767781-6509-48d5-9e5a-71ba03b15b59"
   },
   "outputs": [],
   "source": [
    "data.info()\n",
    "\n",
    "# Como vemos el dataset no tiene datos nulos y todos las variables son numéricas"
   ]
  },
  {
   "cell_type": "code",
   "execution_count": null,
   "metadata": {
    "colab": {
     "base_uri": "https://localhost:8080/"
    },
    "executionInfo": {
     "elapsed": 271,
     "status": "ok",
     "timestamp": 1634218035591,
     "user": {
      "displayName": "Valeria Bellino",
      "photoUrl": "https://lh3.googleusercontent.com/a/default-user=s64",
      "userId": "05918551666787590515"
     },
     "user_tz": 180
    },
    "id": "rapid-stupid",
    "outputId": "f175bc72-4e46-4a45-9ad9-81aabc87ca3a"
   },
   "outputs": [],
   "source": [
    "# Vemos la distribución de la variable target. Si bien en numérica, cada número se refire a una clase por eso es una Clasificación\n",
    "\n",
    "data[\"Type\"].value_counts()"
   ]
  },
  {
   "cell_type": "markdown",
   "metadata": {},
   "source": [
    "#### Generación de modelo\n",
    "\n",
    "Para poder observar lo realizado en primer lugar entrenaremos un Árbol de Decisión y luego entrenaremos Random Forest."
   ]
  },
  {
   "cell_type": "code",
   "execution_count": null,
   "metadata": {
    "id": "golden-adrian"
   },
   "outputs": [],
   "source": [
    "# Generamos X e y \n",
    "\n",
    "X = data.drop(columns = [\"Type\"])   #variables predictora\n",
    "y = data[\"Type\"]   #variable a predecir"
   ]
  },
  {
   "cell_type": "code",
   "execution_count": null,
   "metadata": {
    "id": "floppy-night"
   },
   "outputs": [],
   "source": [
    "# Dividimos datos en train y test - estudiantes\n",
    "\n",
    "from sklearn.model_selection import train_test_split\n",
    "\n",
    "X_train, X_test, y_train, y_test = train_test_split(X, y)"
   ]
  },
  {
   "cell_type": "markdown",
   "metadata": {
    "id": "ZSnAJbj1VLw-"
   },
   "source": [
    "#### Primero realizaremos un Árbol de decisión \n",
    "\n",
    "##### Instanciar el modelo y definir hiperparámetros\n",
    "\n",
    "En este momento tenemos que instanciar el modelo que utilizaremos y definir sus hiperparámetros. Se puede observar las opciones en la [documentación](https://scikit-learn.org/stable/modules/generated/sklearn.tree.DecisionTreeClassifier.html?highlight=tree#sklearn.tree.DecisionTreeClassifier).\n",
    "\n",
    "En este caso utilizaremos los hiperparámetros por default."
   ]
  },
  {
   "cell_type": "code",
   "execution_count": null,
   "metadata": {
    "id": "RlxVZ_nJVVlH"
   },
   "outputs": [],
   "source": [
    "# Importamos el modelo que utilizaremos\n",
    "\n",
    "from sklearn.tree import DecisionTreeClassifier\n",
    "arbol = DecisionTreeClassifier()"
   ]
  },
  {
   "cell_type": "code",
   "execution_count": null,
   "metadata": {
    "id": "RlxVZ_nJVVlH"
   },
   "outputs": [],
   "source": [
    "# Entrenamos el modelo\n",
    "arbol.fit(X_train, y_train)"
   ]
  },
  {
   "cell_type": "markdown",
   "metadata": {},
   "source": [
    "##### Evaluación de datos de train\n"
   ]
  },
  {
   "cell_type": "code",
   "execution_count": null,
   "metadata": {
    "colab": {
     "base_uri": "https://localhost:8080/"
    },
    "executionInfo": {
     "elapsed": 240,
     "status": "ok",
     "timestamp": 1634218237548,
     "user": {
      "displayName": "Valeria Bellino",
      "photoUrl": "https://lh3.googleusercontent.com/a/default-user=s64",
      "userId": "05918551666787590515"
     },
     "user_tz": 180
    },
    "id": "KBqbtknXVVlJ",
    "outputId": "71e92a50-1160-4776-9cb9-bcd68f6983b7"
   },
   "outputs": [],
   "source": [
    "y_pred_train_arbol = arbol.predict(X_train)\n",
    "\n",
    "# Utilizamos la métrica accuracy (exactitud)\n",
    "from sklearn.metrics import accuracy_score\n",
    "\n",
    "exactitud_train_arbol = accuracy_score(y_train, y_pred_train_arbol)\n",
    "exactitud_train_arbol"
   ]
  },
  {
   "cell_type": "markdown",
   "metadata": {},
   "source": [
    "##### Probamos y evaluamos nuestro modelo\n",
    "\n",
    "Utilizamos el metodo *predict* para probar nuestro modelo con los datos de test. Luego comparamos la predicciones de nuestro modelo con el resultado real a través de una matriz de confusión y utilizando la métrica accuracy (exactitud)"
   ]
  },
  {
   "cell_type": "code",
   "execution_count": null,
   "metadata": {
    "colab": {
     "base_uri": "https://localhost:8080/",
     "height": 296
    },
    "executionInfo": {
     "elapsed": 325,
     "status": "ok",
     "timestamp": 1634218262571,
     "user": {
      "displayName": "Valeria Bellino",
      "photoUrl": "https://lh3.googleusercontent.com/a/default-user=s64",
      "userId": "05918551666787590515"
     },
     "user_tz": 180
    },
    "id": "krp5jh4CVVlK",
    "outputId": "9355a33b-36c4-472c-c8b4-bd4921452847"
   },
   "outputs": [],
   "source": [
    "y_pred_arbol = arbol.predict(X_test)\n",
    "\n",
    "# Matriz de confusión\n",
    "from sklearn.metrics import confusion_matrix\n",
    "\n",
    "matriz_arbol = confusion_matrix(y_test, y_pred_arbol)\n",
    "sns.heatmap(matriz_arbol, annot=True)\n",
    "plt.xlabel(\"Etiquetas predichas\")\n",
    "plt.ylabel(\"Etiquetas reales\")"
   ]
  },
  {
   "cell_type": "code",
   "execution_count": null,
   "metadata": {
    "colab": {
     "base_uri": "https://localhost:8080/"
    },
    "executionInfo": {
     "elapsed": 237,
     "status": "ok",
     "timestamp": 1634218286627,
     "user": {
      "displayName": "Valeria Bellino",
      "photoUrl": "https://lh3.googleusercontent.com/a/default-user=s64",
      "userId": "05918551666787590515"
     },
     "user_tz": 180
    },
    "id": "wabtVmzjVVlL",
    "outputId": "5212a5a6-de91-47b1-f3cb-c120fe47e35a"
   },
   "outputs": [],
   "source": [
    "# Métrica accuracy\n",
    "exactitud_arbol = accuracy_score(y_test, y_pred_arbol)\n",
    "exactitud_arbol"
   ]
  },
  {
   "cell_type": "code",
   "execution_count": null,
   "metadata": {
    "colab": {
     "base_uri": "https://localhost:8080/"
    },
    "executionInfo": {
     "elapsed": 253,
     "status": "ok",
     "timestamp": 1634218294592,
     "user": {
      "displayName": "Valeria Bellino",
      "photoUrl": "https://lh3.googleusercontent.com/a/default-user=s64",
      "userId": "05918551666787590515"
     },
     "user_tz": 180
    },
    "id": "g6mE86F3VVlL",
    "outputId": "88fa7a7c-7100-44f1-e126-e6416fbe1c21"
   },
   "outputs": [],
   "source": [
    "print(\"La exactitud del modelo arbol de decisión con hiperparametros default es\", exactitud_arbol)\n"
   ]
  },
  {
   "cell_type": "markdown",
   "metadata": {
    "id": "z-J4Dti_VVlL"
   },
   "source": [
    "Podemos observar que el resultado de evaluar los datos de entrenamiento es pefecta y los de teseto no es muy buena, por lo cual podemos pensar que el modelo esta sobreajustado."
   ]
  },
  {
   "cell_type": "markdown",
   "metadata": {
    "id": "6kx5nTl3V1rD"
   },
   "source": [
    "#### Random Forest\n",
    "\n",
    "Ahora entrenaremos distintos modelos de Random Forest modificando los hiperparámetros para intentar lograr mejorar la performance del modelos. Los posibles hiperparámetros que pueden definirse son los de los Árboles de Decisión y los específicos de los modelos de Random Forest. Pueden verse en la [documentación](https://scikit-learn.org/stable/modules/generated/sklearn.ensemble.RandomForestClassifier.html?highlight=random%20forest#sklearn.ensemble.RandomForestClassifier).\n",
    "\n",
    "Entre los principales están:\n",
    "\n",
    "**n_estimators**: Cantidad de árboles a entrenar. El límite de árboles a elegir generalmente viene dado por la capacidad de cómputo en donde se entrena. Sin embargo, también se debe tener en cuenta el riesgo de sobreajuste.\n",
    "\n",
    "**max_depth**: Máxima profundidad que puede tener cada árbol. La profundidad viene dada por cuantas ramificaciones tiene cada árbol.\n",
    "\n",
    "**max_features**: Cuantas variables, como máximo, puede tener el conjunto de entrenamiento de cada árbol. Recordar que el conjunto de entrenamiento de cada árbol es un subconjunto del conjunto de entrenamiento completo.\n",
    "\n",
    "**bootstrap**: Esta es la técnica usada para generar los subconjuntos de datos de entrenamiento para cada árbol. Si se coloca como falso (False) se pasarán todas las filas del data frame al entrenamiento de todos los árboles."
   ]
  },
  {
   "cell_type": "code",
   "execution_count": null,
   "metadata": {
    "id": "35lr-wmoA8Ct"
   },
   "outputs": [],
   "source": [
    "# Importamos el modelo que utilizaremos\n",
    "\n",
    "from sklearn.ensemble import RandomForestClassifier\n"
   ]
  },
  {
   "cell_type": "markdown",
   "metadata": {},
   "source": [
    "##### Modelo con los hiperparámetros por default\n",
    "\n",
    "En primer lugar instanciamos y entrenamos un modelo con los hiperparámetros por default"
   ]
  },
  {
   "cell_type": "code",
   "execution_count": null,
   "metadata": {
    "id": "military-nothing"
   },
   "outputs": [],
   "source": [
    "# Instanciamos el modelo que utilizaremos\n",
    "\n",
    "random_forest = RandomForestClassifier()\n"
   ]
  },
  {
   "cell_type": "code",
   "execution_count": null,
   "metadata": {
    "colab": {
     "base_uri": "https://localhost:8080/"
    },
    "executionInfo": {
     "elapsed": 345,
     "status": "ok",
     "timestamp": 1634218352785,
     "user": {
      "displayName": "Valeria Bellino",
      "photoUrl": "https://lh3.googleusercontent.com/a/default-user=s64",
      "userId": "05918551666787590515"
     },
     "user_tz": 180
    },
    "id": "surface-texas",
    "outputId": "eea44db1-2db7-48d9-e3a9-0299fe5a1d74"
   },
   "outputs": [],
   "source": [
    "# Entrenamos el modelo \n",
    "\n",
    "random_forest.fit(X_train, y_train)"
   ]
  },
  {
   "cell_type": "markdown",
   "metadata": {
    "id": "X0rF0mYBBdLK"
   },
   "source": [
    "##### Evaluación de datos de train\n",
    "\n",
    "Podemos utilizar una métrica de evaluación para ver la performance del modelo con los datos de entrenamiento"
   ]
  },
  {
   "cell_type": "code",
   "execution_count": null,
   "metadata": {
    "id": "2BZZwZotBdLY"
   },
   "outputs": [],
   "source": [
    "y_pred_train_rf = random_forest.predict(X_train)"
   ]
  },
  {
   "cell_type": "code",
   "execution_count": null,
   "metadata": {
    "colab": {
     "base_uri": "https://localhost:8080/"
    },
    "executionInfo": {
     "elapsed": 263,
     "status": "ok",
     "timestamp": 1634218403950,
     "user": {
      "displayName": "Valeria Bellino",
      "photoUrl": "https://lh3.googleusercontent.com/a/default-user=s64",
      "userId": "05918551666787590515"
     },
     "user_tz": 180
    },
    "id": "0CVkbDLQBi2x",
    "outputId": "33bee21e-904a-43ea-b406-74002405a0eb"
   },
   "outputs": [],
   "source": [
    "# Utilizaremos la métrica accuracy (exactitud)\n",
    "\n",
    "exactitud_train_rf = accuracy_score(y_train, y_pred_train_rf)\n",
    "exactitud_train_rf"
   ]
  },
  {
   "cell_type": "markdown",
   "metadata": {
    "id": "LiUrprLbWZzG"
   },
   "source": [
    "Podemos observar que el resultado de evaluar los datos de entrenamiento es pefecta, por lo cual podemos pensar que el modelo esta sobreajustado."
   ]
  },
  {
   "cell_type": "markdown",
   "metadata": {
    "id": "assured-tanzania"
   },
   "source": [
    "##### Probamos y evaluamos nuestro modelo\n",
    "\n",
    "Utilizamos el metodo predict para probar nuestro modelo con los datos de test. Luego comparamos la predicciones de nuestro modelo con el resultado real a través de una matrix de confusión y utilizando la métrica accuracy (exactitud)"
   ]
  },
  {
   "cell_type": "code",
   "execution_count": null,
   "metadata": {
    "id": "communist-motivation"
   },
   "outputs": [],
   "source": [
    "# Probamos nuestro modelo con los datos de test\n",
    "\n",
    "y_pred_rf = random_forest.predict(X_test)\n"
   ]
  },
  {
   "cell_type": "code",
   "execution_count": null,
   "metadata": {
    "colab": {
     "base_uri": "https://localhost:8080/",
     "height": 296
    },
    "executionInfo": {
     "elapsed": 555,
     "status": "ok",
     "timestamp": 1634218420330,
     "user": {
      "displayName": "Valeria Bellino",
      "photoUrl": "https://lh3.googleusercontent.com/a/default-user=s64",
      "userId": "05918551666787590515"
     },
     "user_tz": 180
    },
    "id": "qualified-alignment",
    "outputId": "91ba6db3-da50-41ff-f428-1fa1653057f3"
   },
   "outputs": [],
   "source": [
    "# Matriz de confusión:comparando resultado original (y_test) con predicción del modelo (y_pred_arbol_completo)\n",
    "matriz_rf = confusion_matrix(y_test, y_pred_rf)\n",
    "sns.heatmap(matriz_rf, annot=True)\n",
    "plt.xlabel(\"Etiquetas predichas\")\n",
    "plt.ylabel(\"Etiquetas reales\")"
   ]
  },
  {
   "cell_type": "code",
   "execution_count": null,
   "metadata": {
    "colab": {
     "base_uri": "https://localhost:8080/"
    },
    "executionInfo": {
     "elapsed": 5,
     "status": "ok",
     "timestamp": 1634218429503,
     "user": {
      "displayName": "Valeria Bellino",
      "photoUrl": "https://lh3.googleusercontent.com/a/default-user=s64",
      "userId": "05918551666787590515"
     },
     "user_tz": 180
    },
    "id": "consistent-franchise",
    "outputId": "31070db7-e7fb-418c-80d0-c5aabff5680e"
   },
   "outputs": [],
   "source": [
    "# Metrica accuracy\n",
    "exactitud_rf = accuracy_score(y_test, y_pred_rf)\n",
    "exactitud_rf"
   ]
  },
  {
   "cell_type": "code",
   "execution_count": null,
   "metadata": {
    "colab": {
     "base_uri": "https://localhost:8080/"
    },
    "executionInfo": {
     "elapsed": 248,
     "status": "ok",
     "timestamp": 1634218452296,
     "user": {
      "displayName": "Valeria Bellino",
      "photoUrl": "https://lh3.googleusercontent.com/a/default-user=s64",
      "userId": "05918551666787590515"
     },
     "user_tz": 180
    },
    "id": "ancient-wrestling",
    "outputId": "16683bc7-2834-4302-e98c-03c306b131a2"
   },
   "outputs": [],
   "source": [
    "print(\"La exactitud del modelo arbol de decisión es\", round(exactitud_arbol,2))\n",
    "print(\"La exactitud del modelo random forest es\", round(exactitud_rf,2))\n"
   ]
  },
  {
   "cell_type": "markdown",
   "metadata": {
    "id": "billion-gothic"
   },
   "source": [
    "#### Hiperparámetro distintos\n",
    "\n",
    "Ahora instanciamos un modelo definiendo distintos hiperparámetros para intentar mejorar la performance del modelo"
   ]
  },
  {
   "cell_type": "code",
   "execution_count": null,
   "metadata": {
    "id": "favorite-warehouse"
   },
   "outputs": [],
   "source": [
    "# Instanciamos el modelo que utilizaremos\n",
    "\n",
    "random_forest_2 = RandomForestClassifier(n_estimators = 500, max_depth = 2, max_features = 3, bootstrap = True)\n"
   ]
  },
  {
   "cell_type": "code",
   "execution_count": null,
   "metadata": {
    "colab": {
     "base_uri": "https://localhost:8080/"
    },
    "executionInfo": {
     "elapsed": 1085,
     "status": "ok",
     "timestamp": 1634218711251,
     "user": {
      "displayName": "Valeria Bellino",
      "photoUrl": "https://lh3.googleusercontent.com/a/default-user=s64",
      "userId": "05918551666787590515"
     },
     "user_tz": 180
    },
    "id": "intimate-montreal",
    "outputId": "ab8f0464-2a1e-4d5e-a338-f3ad19bd1003"
   },
   "outputs": [],
   "source": [
    "# Entrenamos el modelo\n",
    "\n",
    "random_forest_2.fit(X_train, y_train)"
   ]
  },
  {
   "cell_type": "markdown",
   "metadata": {
    "id": "x2S1BUt8Ctyw"
   },
   "source": [
    "##### Evaluación de datos de train\n",
    "\n",
    "Podemos utilizar una métrica de evaluación para ver la performance del modelo con los datos de entrenamiento"
   ]
  },
  {
   "cell_type": "code",
   "execution_count": null,
   "metadata": {
    "id": "nA32nUHUCty_"
   },
   "outputs": [],
   "source": [
    "y_pred_train_rf2 = random_forest_2.predict(X_train)"
   ]
  },
  {
   "cell_type": "code",
   "execution_count": null,
   "metadata": {
    "colab": {
     "base_uri": "https://localhost:8080/"
    },
    "executionInfo": {
     "elapsed": 242,
     "status": "ok",
     "timestamp": 1634218724797,
     "user": {
      "displayName": "Valeria Bellino",
      "photoUrl": "https://lh3.googleusercontent.com/a/default-user=s64",
      "userId": "05918551666787590515"
     },
     "user_tz": 180
    },
    "id": "6O9y13D0CtzA",
    "outputId": "ebbf9a53-2b32-436c-cd74-6b22b3faa591"
   },
   "outputs": [],
   "source": [
    "# Utilizaremos la métrica accuracy (exactitud)\n",
    "\n",
    "exactitud_train_rf2 = accuracy_score(y_train, y_pred_train_rf2)\n",
    "exactitud_train_rf2"
   ]
  },
  {
   "cell_type": "markdown",
   "metadata": {
    "id": "DfckIbDtCtzA"
   },
   "source": [
    "##### Probamos y evaluamos nuestro modelo\n",
    "\n",
    "Utilizamos el metodo predict para probar nuestro modelo con los datos de test. Luego comparamos la predicciones de nuestro modelo con el resultado real a través de una matrix de confusión y utilizando la métrica accuracy (exactitud)"
   ]
  },
  {
   "cell_type": "code",
   "execution_count": null,
   "metadata": {
    "id": "0UukPezzCtzB"
   },
   "outputs": [],
   "source": [
    "# Probamos nuestro modelo con los datos de test \n",
    "\n",
    "y_pred_rf2 = random_forest_2.predict(X_test)"
   ]
  },
  {
   "cell_type": "code",
   "execution_count": null,
   "metadata": {
    "colab": {
     "base_uri": "https://localhost:8080/",
     "height": 296
    },
    "executionInfo": {
     "elapsed": 856,
     "status": "ok",
     "timestamp": 1634218799813,
     "user": {
      "displayName": "Valeria Bellino",
      "photoUrl": "https://lh3.googleusercontent.com/a/default-user=s64",
      "userId": "05918551666787590515"
     },
     "user_tz": 180
    },
    "id": "5SNfB1WgCtzB",
    "outputId": "f5d7b237-b444-4af2-e98c-5d17b4045f46"
   },
   "outputs": [],
   "source": [
    "# Matriz de confusión:comparando resultado original (y_test) con predicción del modelo (y_pred_arbol_completo)\n",
    "\n",
    "matriz_rf2 = confusion_matrix(y_test, y_pred_rf2)\n",
    "sns.heatmap(matriz_rf2, annot=True)\n",
    "plt.xlabel(\"Etiquetas predichas\")\n",
    "plt.ylabel(\"Etiquetas reales\")"
   ]
  },
  {
   "cell_type": "code",
   "execution_count": null,
   "metadata": {
    "colab": {
     "base_uri": "https://localhost:8080/"
    },
    "executionInfo": {
     "elapsed": 262,
     "status": "ok",
     "timestamp": 1634218853400,
     "user": {
      "displayName": "Valeria Bellino",
      "photoUrl": "https://lh3.googleusercontent.com/a/default-user=s64",
      "userId": "05918551666787590515"
     },
     "user_tz": 180
    },
    "id": "Pze0UIJ5CtzB",
    "outputId": "69ec7e04-0f70-42ca-f858-b3e2aef84a60"
   },
   "outputs": [],
   "source": [
    "# Metrica accuracy\n",
    "\n",
    "exactitud_rf2 = accuracy_score(y_test, y_pred_rf2)\n",
    "exactitud_rf2"
   ]
  },
  {
   "cell_type": "code",
   "execution_count": null,
   "metadata": {
    "colab": {
     "base_uri": "https://localhost:8080/"
    },
    "executionInfo": {
     "elapsed": 253,
     "status": "ok",
     "timestamp": 1634218870338,
     "user": {
      "displayName": "Valeria Bellino",
      "photoUrl": "https://lh3.googleusercontent.com/a/default-user=s64",
      "userId": "05918551666787590515"
     },
     "user_tz": 180
    },
    "id": "rDiMRESSCtzB",
    "outputId": "9d22b0f9-475c-462b-f46b-8e50078b93f4"
   },
   "outputs": [],
   "source": [
    "print(\"La exactitud del modelo arbol de decisión es\", round(exactitud_arbol,2))\n",
    "print(\"La exactitud del modelo random forest es\", round(exactitud_rf,2))\n",
    "print(\"La exactitud del modelo random forest con otros hiperparametros es\", round(exactitud_rf2,2))\n"
   ]
  },
  {
   "cell_type": "markdown",
   "metadata": {
    "id": "IUQyP382UlXs"
   },
   "source": [
    "#### Hiperparámetro distintos\n",
    "\n",
    "En el modelo entrenado, tanto para los datos de entrenamiento como para los datos de teseto, empeoró la performance así que no son correctos estos hiperparámetros.\n",
    "\n",
    "Instanciamos otro modelo con otros hiperparámetros para ver si logramos mejorar la performance (hay que tener cuidado con el tiempo de entrenamiento)"
   ]
  },
  {
   "cell_type": "code",
   "execution_count": null,
   "metadata": {
    "id": "s9D4jfeIUlXx"
   },
   "outputs": [],
   "source": [
    "# Instanciamos el modelo que utilizaremos - estudiantes\n",
    "\n",
    "random_forest_3 = RandomForestClassifier(n_estimators = 500 , max_depth = 6, max_features = 4, bootstrap = True)\n"
   ]
  },
  {
   "cell_type": "code",
   "execution_count": null,
   "metadata": {
    "colab": {
     "base_uri": "https://localhost:8080/",
     "height": 317
    },
    "executionInfo": {
     "elapsed": 1498,
     "status": "ok",
     "timestamp": 1634219068938,
     "user": {
      "displayName": "Valeria Bellino",
      "photoUrl": "https://lh3.googleusercontent.com/a/default-user=s64",
      "userId": "05918551666787590515"
     },
     "user_tz": 180
    },
    "id": "z1iTGngpUlXy",
    "outputId": "f5028856-1905-4902-8adb-a2f2063381a1"
   },
   "outputs": [],
   "source": [
    "# Entrenamos el modelo\n",
    "random_forest_3.fit(X_train, y_train)\n",
    "\n",
    "# Evaluamos los datos de entrenamiento\n",
    "y_pred_train_rf3 = random_forest_3.predict(X_train)\n",
    "exactitud_train_rf3 = accuracy_score(y_train, y_pred_train_rf3)\n",
    "print(\"la exactitud de lo datos de entrenamiento del modelo es\",round(exactitud_train_rf3,2))\n",
    "\n",
    "# Evaluamos el modelo con los datos de testeo\n",
    "y_pred_rf3 = random_forest_3.predict(X_test)\n",
    "#matriz de confusión\n",
    "matriz_rf3 = confusion_matrix(y_test, y_pred_rf3)\n",
    "sns.heatmap(matriz_rf3, annot=True)\n",
    "plt.xlabel(\"Etiquetas predichas\")\n",
    "plt.ylabel(\"Etiquetas reales\")\n",
    "# Métrica accuracy\n",
    "exactitud_rf3 = accuracy_score(y_test, y_pred_rf3)\n",
    "print(\"la exactitud de lo datos de testeo del modelo es\",round(exactitud_rf3,2))\n"
   ]
  },
  {
   "cell_type": "code",
   "execution_count": null,
   "metadata": {
    "colab": {
     "base_uri": "https://localhost:8080/"
    },
    "executionInfo": {
     "elapsed": 239,
     "status": "ok",
     "timestamp": 1634219073905,
     "user": {
      "displayName": "Valeria Bellino",
      "photoUrl": "https://lh3.googleusercontent.com/a/default-user=s64",
      "userId": "05918551666787590515"
     },
     "user_tz": 180
    },
    "id": "4RsfbFG6UlXy",
    "outputId": "0697b743-9228-4cfd-cea3-d1036ae30f86"
   },
   "outputs": [],
   "source": [
    "print(\"La exactitud del modelo arbol de decisión es\", round(exactitud_arbol,2))\n",
    "print(\"La exactitud del modelo random forest es\", round(exactitud_rf,2))\n",
    "print(\"La exactitud del modelo random forest con otros hiperparametros es\", round(exactitud_rf2,2))\n",
    "print(\"La exactitud del modelo random forest con cambio de hiperparametros es\", round(exactitud_rf3,2))\n"
   ]
  },
  {
   "cell_type": "markdown",
   "metadata": {},
   "source": [
    "### Conclusión\n",
    "\n",
    "El primer modelo entrenado era un Árbol de Decisión con excelente performance en entrenamiento y mala en testo por lo que el modelo estaba sobreajustado.\n",
    "\n",
    "Luego entrenamos un modelo de Random Forest con los hiperparámetros por default, continúo siendo perfecto para los datos de entrenamiento pero mejoró notoramiente la performance del modelo medida con los datos de testeo. \n",
    "\n",
    "Posteriormente entrenamos otro modelo con determinados hiperparámetros donde se empeoró el restultado de entrenamiento pero también de testeo con lo cual el modelo resultante estaba subajustado, por lo que no fue la estrategia correcta.\n",
    "\n",
    "Finalmente entreamos un cuarto modelo con otros hiperparámetros con un muy buen resultado en entrenamiento pero también un muy buen resultado en los datos de testo.\n",
    "\n",
    "Vemos como podemos entrenar distintos tipos de modelos y cambiar los hiperparámetros hasta obtener el resultado buscado, mejorando la performance de los modelos y evitando el sobreajuste y subajuste. En este caso el mejor modelo es el último porque el mejor resultado es el segundo y el cuarto pero el cuarto es un modelo más sencillo lo que también es importante en términos de rendimiento.\n"
   ]
  },
  {
   "cell_type": "code",
   "execution_count": null,
   "metadata": {},
   "outputs": [],
   "source": []
  }
 ],
 "metadata": {
  "colab": {
   "collapsed_sections": [],
   "name": "Random Forest.ipynb",
   "provenance": []
  },
  "kernelspec": {
   "display_name": "Python 3",
   "language": "python",
   "name": "python3"
  },
  "language_info": {
   "codemirror_mode": {
    "name": "ipython",
    "version": 3
   },
   "file_extension": ".py",
   "mimetype": "text/x-python",
   "name": "python",
   "nbconvert_exporter": "python",
   "pygments_lexer": "ipython3",
   "version": "3.7.10"
  }
 },
 "nbformat": 4,
 "nbformat_minor": 4
}
