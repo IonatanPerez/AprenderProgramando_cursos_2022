{
 "cells": [
  {
   "cell_type": "markdown",
   "metadata": {},
   "source": [
    "# Proyecto de Ciencia de Datos\n",
    "\n",
    "En este Proyecto deberán seleccionar un conjunto de datos de su interés de cualquier fuente de datos para realizar todos los pasos de un Proyecto de Ciencia de Datos: Pregunta, Selección de datos, Exploración, Limpieza de datos, División de datos, Entrenamiento del modelo, Testeo del Modelo y muestra de resultados."
   ]
  },
  {
   "cell_type": "markdown",
   "metadata": {},
   "source": [
    "## Tema que van a abordar"
   ]
  },
  {
   "cell_type": "markdown",
   "metadata": {
    "id": "dHKns6mEE4q5"
   },
   "source": [
    "### Definición del problema\n",
    " \n",
    "¿Cuál es la pregunta que quiren resolver? Es importante que la misma sea lo más específica posible para usar la misma como guía. Es muy fácil perder el foco y terminar generando otra respuesta.  \n",
    " \n",
    "También es de valor un poco de contexto sobre la pregunta ¿cómo surgió? ¿Por qué escogieron esa pregunta?"
   ]
  },
  {
   "cell_type": "markdown",
   "metadata": {},
   "source": [
    "### Búsqueda de datos \n",
    "\n",
    "¿Qué datos van a usar para resolver tu pregunta? ¿Cómo los conseguieron? ¿Por qué esos datos? ¿Qué información tienen y cual creen que les haga falta o qué podría agregar valor?"
   ]
  },
  {
   "cell_type": "markdown",
   "metadata": {},
   "source": [
    "### Presenten las variables del dataset\n",
    "\n",
    "Describan las variables que componen el dataset"
   ]
  },
  {
   "cell_type": "markdown",
   "metadata": {},
   "source": [
    "### Análisis exploratorio\n",
    "\n",
    "Realicen una exploración de tu dataset e inlcuyan gráficos sobre la distribución de alguna de tus variables."
   ]
  },
  {
   "cell_type": "markdown",
   "metadata": {},
   "source": [
    "### Limpieza del *dataset*\n",
    "\n",
    "Realicen la limpieza los datos según lo aprendido en el módulo 2. Revisen la calidad de los datos, si hay datos nulos, generen variables dummies en el caso que haya columnas categóricas y eliminen las columnas que consideran que no son necesarias."
   ]
  },
  {
   "cell_type": "markdown",
   "metadata": {},
   "source": [
    "### Separación de entrenamiento y testeo\n",
    "\n",
    "Deben separar los datos de entrenamiento y testo con el método *train_test_split* pueden selecionar el porcentaje de datos para testeo"
   ]
  },
  {
   "cell_type": "markdown",
   "metadata": {},
   "source": [
    "### Entrenamiento y Teste de los modelos\n",
    "\n",
    "Deben entrenar el modelo con el método *fit* y los datos de entrenamiento. Luego deben probar los modelos con el método *predict*. Es muy importante seleccionar la métrica a evaluar para tomar la decisión de cuál es el mejor modelo antes de calcularlas. \n",
    "Son libres de elegir los modelos que quieran usar, recomendamos entrenar varios modelos y usar diferentes hiperparámetros dentro de cada uno."
   ]
  },
  {
   "cell_type": "markdown",
   "metadata": {},
   "source": [
    "### Conclusión y presentación de resultados\n",
    "\n",
    "El proyecto finaliza al presentar las conclusiones y resultados de los distintos modelos entrenados y cuál es el que mejor performa. Es de un valor importante poder explicar lo que se hizo y lo que se descubrió de una forma que la persona que lo lea entienda sin importar si conoce algo de ciencia de datos o no."
   ]
  }
 ],
 "metadata": {
  "colab": {
   "name": "Proyecto 3.ipynb",
   "provenance": []
  },
  "kernelspec": {
   "display_name": "Python 3",
   "language": "python",
   "name": "python3"
  },
  "language_info": {
   "codemirror_mode": {
    "name": "ipython",
    "version": 3
   },
   "file_extension": ".py",
   "mimetype": "text/x-python",
   "name": "python",
   "nbconvert_exporter": "python",
   "pygments_lexer": "ipython3",
   "version": "3.7.10"
  }
 },
 "nbformat": 4,
 "nbformat_minor": 4
}
