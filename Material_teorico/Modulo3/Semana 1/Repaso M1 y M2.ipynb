{
 "cells": [
  {
   "cell_type": "markdown",
   "id": "incident-burden",
   "metadata": {
    "id": "equal-officer"
   },
   "source": [
    "# Repaso Módulo 1 y Módulo 2 \n",
    "\n",
    "En esta Notebook vamos a hacer un repaso de lo visto en la primera parte del curso. Vamos a realizar cada paso de un Proyecto de Ciencia de Datos:\n",
    "\n",
    "1. Definición del Problema\n",
    "2. Búsqueda de datos \n",
    "3. Exploración y Limpieza de Datos\n",
    "4. Dividisión de los datos en **X** (variables predictoras) e **y** (variable a predecir). División de los datos en entrenamiento y testo con el méodo *train_test_split*\n",
    "5. Entrenamiento del modelo\n",
    "6. Testeo del Modelo \n",
    "\n",
    "### Definición del problema\n",
    "\n",
    "**¿Cuál será la edad de una zarigüeya en base a determinadas características?**\n",
    "\n",
    "### Búsqueda de datos\n",
    "\n",
    "El dataset que se utilizará es sobre zarigüeyas, consta de nueve medidas morfométricas en 104 zarigüeyas, atrapadas en siete sitios desde el sur de Victoria hasta el centro de Queensland (Australia). En base a estas características es posible predecir la edad.\n",
    "Esta basado en el dataset descargable en [Kaggle](https://www.kaggle.com/abrambeyer/openintro-possum) pero tiene realizadas algunas modificaciones por lo que debe ser tomado desde el archivo csv descargado desde la plataforma. \n",
    "\n",
    "### Regresión\n",
    "\n",
    "Dado que la variable a predecir es numérica, el modelo de aprendizaje supervisado que entrenaremos será un modelo de **Regresión**, en este caso realizaremos una **Regresión Lineal Multiple** como hicimos en el Módulo 2."
   ]
  },
  {
   "cell_type": "code",
   "execution_count": 1,
   "id": "graduate-paper",
   "metadata": {},
   "outputs": [],
   "source": [
    "# Iportamos las librerías que utilizaremos\n",
    "import pandas as pd\n",
    "import matplotlib.pyplot as plt  \n",
    "import seaborn as sns\n"
   ]
  },
  {
   "cell_type": "code",
   "execution_count": 2,
   "id": "mineral-brass",
   "metadata": {},
   "outputs": [],
   "source": [
    "# Definiremos data con el dataset con el método pd.read_csv\n",
    "\n",
    "data = pd.read_csv(\"dataset_zarigueya.csv\")"
   ]
  },
  {
   "cell_type": "markdown",
   "id": "controlling-cylinder",
   "metadata": {
    "id": "318vQ9fVipcw"
   },
   "source": [
    "## Exploración del dataset\n",
    "\n",
    "Realizaremos la primer exploración del dataset utilizando distintos métodos de la librería Pandas:\n",
    "- Los primero registros del Dataset\n",
    "- El tamaño del dataset\n",
    "- Los tipos de datos de las columnas\n",
    "- Las características de las variable numéricas\n",
    "- La correlación de las variables numéricas"
   ]
  },
  {
   "cell_type": "code",
   "execution_count": 3,
   "id": "jewish-harvey",
   "metadata": {},
   "outputs": [
    {
     "data": {
      "text/html": [
       "<div>\n",
       "<style scoped>\n",
       "    .dataframe tbody tr th:only-of-type {\n",
       "        vertical-align: middle;\n",
       "    }\n",
       "\n",
       "    .dataframe tbody tr th {\n",
       "        vertical-align: top;\n",
       "    }\n",
       "\n",
       "    .dataframe thead th {\n",
       "        text-align: right;\n",
       "    }\n",
       "</style>\n",
       "<table border=\"1\" class=\"dataframe\">\n",
       "  <thead>\n",
       "    <tr style=\"text-align: right;\">\n",
       "      <th></th>\n",
       "      <th>id</th>\n",
       "      <th>sitio</th>\n",
       "      <th>populacion</th>\n",
       "      <th>sexo</th>\n",
       "      <th>cabeza</th>\n",
       "      <th>craneo</th>\n",
       "      <th>largo_total</th>\n",
       "      <th>cola</th>\n",
       "      <th>pie</th>\n",
       "      <th>oreja</th>\n",
       "      <th>ojo</th>\n",
       "      <th>torax</th>\n",
       "      <th>vientre</th>\n",
       "      <th>edad</th>\n",
       "    </tr>\n",
       "  </thead>\n",
       "  <tbody>\n",
       "    <tr>\n",
       "      <th>0</th>\n",
       "      <td>1</td>\n",
       "      <td>sitio 1</td>\n",
       "      <td>Vic</td>\n",
       "      <td>m</td>\n",
       "      <td>94.1</td>\n",
       "      <td>60.4</td>\n",
       "      <td>89.0</td>\n",
       "      <td>36.0</td>\n",
       "      <td>74.5</td>\n",
       "      <td>54.5</td>\n",
       "      <td>15.2</td>\n",
       "      <td>28.0</td>\n",
       "      <td>36.0</td>\n",
       "      <td>8.0</td>\n",
       "    </tr>\n",
       "    <tr>\n",
       "      <th>1</th>\n",
       "      <td>2</td>\n",
       "      <td>sitio 1</td>\n",
       "      <td>Vic</td>\n",
       "      <td>f</td>\n",
       "      <td>92.5</td>\n",
       "      <td>57.6</td>\n",
       "      <td>91.5</td>\n",
       "      <td>36.5</td>\n",
       "      <td>72.5</td>\n",
       "      <td>51.2</td>\n",
       "      <td>16.0</td>\n",
       "      <td>28.5</td>\n",
       "      <td>33.0</td>\n",
       "      <td>6.0</td>\n",
       "    </tr>\n",
       "    <tr>\n",
       "      <th>2</th>\n",
       "      <td>3</td>\n",
       "      <td>sitio 1</td>\n",
       "      <td>Vic</td>\n",
       "      <td>f</td>\n",
       "      <td>94.0</td>\n",
       "      <td>60.0</td>\n",
       "      <td>95.5</td>\n",
       "      <td>39.0</td>\n",
       "      <td>75.4</td>\n",
       "      <td>51.9</td>\n",
       "      <td>15.5</td>\n",
       "      <td>30.0</td>\n",
       "      <td>34.0</td>\n",
       "      <td>6.0</td>\n",
       "    </tr>\n",
       "  </tbody>\n",
       "</table>\n",
       "</div>"
      ],
      "text/plain": [
       "   id    sitio populacion sexo  cabeza  craneo  largo_total  cola   pie  \\\n",
       "0   1  sitio 1        Vic    m    94.1    60.4         89.0  36.0  74.5   \n",
       "1   2  sitio 1        Vic    f    92.5    57.6         91.5  36.5  72.5   \n",
       "2   3  sitio 1        Vic    f    94.0    60.0         95.5  39.0  75.4   \n",
       "\n",
       "   oreja   ojo  torax  vientre  edad  \n",
       "0   54.5  15.2   28.0     36.0   8.0  \n",
       "1   51.2  16.0   28.5     33.0   6.0  \n",
       "2   51.9  15.5   30.0     34.0   6.0  "
      ]
     },
     "execution_count": 3,
     "metadata": {},
     "output_type": "execute_result"
    }
   ],
   "source": [
    "data.head(3)"
   ]
  },
  {
   "cell_type": "code",
   "execution_count": 4,
   "id": "adopted-newport",
   "metadata": {
    "id": "advisory-blackjack"
   },
   "outputs": [
    {
     "data": {
      "text/plain": [
       "(102, 14)"
      ]
     },
     "execution_count": 4,
     "metadata": {},
     "output_type": "execute_result"
    }
   ],
   "source": [
    "data.shape"
   ]
  },
  {
   "cell_type": "code",
   "execution_count": 5,
   "id": "controversial-mechanism",
   "metadata": {},
   "outputs": [
    {
     "data": {
      "text/plain": [
       "id               int64\n",
       "sitio           object\n",
       "populacion      object\n",
       "sexo            object\n",
       "cabeza         float64\n",
       "craneo         float64\n",
       "largo_total    float64\n",
       "cola           float64\n",
       "pie            float64\n",
       "oreja          float64\n",
       "ojo            float64\n",
       "torax          float64\n",
       "vientre        float64\n",
       "edad           float64\n",
       "dtype: object"
      ]
     },
     "execution_count": 5,
     "metadata": {},
     "output_type": "execute_result"
    }
   ],
   "source": [
    "data.dtypes"
   ]
  },
  {
   "cell_type": "code",
   "execution_count": 6,
   "id": "reliable-ending",
   "metadata": {},
   "outputs": [
    {
     "data": {
      "text/html": [
       "<div>\n",
       "<style scoped>\n",
       "    .dataframe tbody tr th:only-of-type {\n",
       "        vertical-align: middle;\n",
       "    }\n",
       "\n",
       "    .dataframe tbody tr th {\n",
       "        vertical-align: top;\n",
       "    }\n",
       "\n",
       "    .dataframe thead th {\n",
       "        text-align: right;\n",
       "    }\n",
       "</style>\n",
       "<table border=\"1\" class=\"dataframe\">\n",
       "  <thead>\n",
       "    <tr style=\"text-align: right;\">\n",
       "      <th></th>\n",
       "      <th>id</th>\n",
       "      <th>cabeza</th>\n",
       "      <th>craneo</th>\n",
       "      <th>largo_total</th>\n",
       "      <th>cola</th>\n",
       "      <th>pie</th>\n",
       "      <th>oreja</th>\n",
       "      <th>ojo</th>\n",
       "      <th>torax</th>\n",
       "      <th>vientre</th>\n",
       "      <th>edad</th>\n",
       "    </tr>\n",
       "  </thead>\n",
       "  <tbody>\n",
       "    <tr>\n",
       "      <th>count</th>\n",
       "      <td>102.000000</td>\n",
       "      <td>97.000000</td>\n",
       "      <td>97.000000</td>\n",
       "      <td>97.000000</td>\n",
       "      <td>97.000000</td>\n",
       "      <td>96.000000</td>\n",
       "      <td>97.000000</td>\n",
       "      <td>102.000000</td>\n",
       "      <td>102.000000</td>\n",
       "      <td>102.000000</td>\n",
       "      <td>102.000000</td>\n",
       "    </tr>\n",
       "    <tr>\n",
       "      <th>mean</th>\n",
       "      <td>52.647059</td>\n",
       "      <td>92.712371</td>\n",
       "      <td>56.937113</td>\n",
       "      <td>87.259794</td>\n",
       "      <td>37.072165</td>\n",
       "      <td>68.382292</td>\n",
       "      <td>48.113402</td>\n",
       "      <td>15.058824</td>\n",
       "      <td>27.063725</td>\n",
       "      <td>32.617647</td>\n",
       "      <td>3.833333</td>\n",
       "    </tr>\n",
       "    <tr>\n",
       "      <th>std</th>\n",
       "      <td>30.444446</td>\n",
       "      <td>3.600933</td>\n",
       "      <td>3.152622</td>\n",
       "      <td>4.295823</td>\n",
       "      <td>1.976410</td>\n",
       "      <td>4.427617</td>\n",
       "      <td>4.117838</td>\n",
       "      <td>1.056742</td>\n",
       "      <td>2.010703</td>\n",
       "      <td>2.722456</td>\n",
       "      <td>1.909244</td>\n",
       "    </tr>\n",
       "    <tr>\n",
       "      <th>min</th>\n",
       "      <td>1.000000</td>\n",
       "      <td>82.500000</td>\n",
       "      <td>50.000000</td>\n",
       "      <td>75.000000</td>\n",
       "      <td>32.000000</td>\n",
       "      <td>60.300000</td>\n",
       "      <td>40.300000</td>\n",
       "      <td>12.800000</td>\n",
       "      <td>22.000000</td>\n",
       "      <td>25.000000</td>\n",
       "      <td>1.000000</td>\n",
       "    </tr>\n",
       "    <tr>\n",
       "      <th>25%</th>\n",
       "      <td>26.250000</td>\n",
       "      <td>90.700000</td>\n",
       "      <td>55.000000</td>\n",
       "      <td>84.000000</td>\n",
       "      <td>36.000000</td>\n",
       "      <td>64.475000</td>\n",
       "      <td>44.900000</td>\n",
       "      <td>14.400000</td>\n",
       "      <td>25.500000</td>\n",
       "      <td>31.000000</td>\n",
       "      <td>2.250000</td>\n",
       "    </tr>\n",
       "    <tr>\n",
       "      <th>50%</th>\n",
       "      <td>53.500000</td>\n",
       "      <td>92.800000</td>\n",
       "      <td>56.400000</td>\n",
       "      <td>88.000000</td>\n",
       "      <td>37.000000</td>\n",
       "      <td>67.950000</td>\n",
       "      <td>46.800000</td>\n",
       "      <td>14.950000</td>\n",
       "      <td>27.000000</td>\n",
       "      <td>32.500000</td>\n",
       "      <td>3.000000</td>\n",
       "    </tr>\n",
       "    <tr>\n",
       "      <th>75%</th>\n",
       "      <td>78.750000</td>\n",
       "      <td>94.800000</td>\n",
       "      <td>58.100000</td>\n",
       "      <td>90.500000</td>\n",
       "      <td>38.000000</td>\n",
       "      <td>72.425000</td>\n",
       "      <td>52.000000</td>\n",
       "      <td>15.775000</td>\n",
       "      <td>28.000000</td>\n",
       "      <td>34.000000</td>\n",
       "      <td>5.000000</td>\n",
       "    </tr>\n",
       "    <tr>\n",
       "      <th>max</th>\n",
       "      <td>104.000000</td>\n",
       "      <td>103.100000</td>\n",
       "      <td>68.600000</td>\n",
       "      <td>96.500000</td>\n",
       "      <td>43.000000</td>\n",
       "      <td>77.900000</td>\n",
       "      <td>56.200000</td>\n",
       "      <td>17.800000</td>\n",
       "      <td>32.000000</td>\n",
       "      <td>40.000000</td>\n",
       "      <td>9.000000</td>\n",
       "    </tr>\n",
       "  </tbody>\n",
       "</table>\n",
       "</div>"
      ],
      "text/plain": [
       "               id      cabeza     craneo  largo_total       cola        pie  \\\n",
       "count  102.000000   97.000000  97.000000    97.000000  97.000000  96.000000   \n",
       "mean    52.647059   92.712371  56.937113    87.259794  37.072165  68.382292   \n",
       "std     30.444446    3.600933   3.152622     4.295823   1.976410   4.427617   \n",
       "min      1.000000   82.500000  50.000000    75.000000  32.000000  60.300000   \n",
       "25%     26.250000   90.700000  55.000000    84.000000  36.000000  64.475000   \n",
       "50%     53.500000   92.800000  56.400000    88.000000  37.000000  67.950000   \n",
       "75%     78.750000   94.800000  58.100000    90.500000  38.000000  72.425000   \n",
       "max    104.000000  103.100000  68.600000    96.500000  43.000000  77.900000   \n",
       "\n",
       "           oreja         ojo       torax     vientre        edad  \n",
       "count  97.000000  102.000000  102.000000  102.000000  102.000000  \n",
       "mean   48.113402   15.058824   27.063725   32.617647    3.833333  \n",
       "std     4.117838    1.056742    2.010703    2.722456    1.909244  \n",
       "min    40.300000   12.800000   22.000000   25.000000    1.000000  \n",
       "25%    44.900000   14.400000   25.500000   31.000000    2.250000  \n",
       "50%    46.800000   14.950000   27.000000   32.500000    3.000000  \n",
       "75%    52.000000   15.775000   28.000000   34.000000    5.000000  \n",
       "max    56.200000   17.800000   32.000000   40.000000    9.000000  "
      ]
     },
     "execution_count": 6,
     "metadata": {},
     "output_type": "execute_result"
    }
   ],
   "source": [
    "data.describe()"
   ]
  },
  {
   "cell_type": "code",
   "execution_count": 7,
   "id": "religious-spanking",
   "metadata": {},
   "outputs": [
    {
     "data": {
      "text/html": [
       "<div>\n",
       "<style scoped>\n",
       "    .dataframe tbody tr th:only-of-type {\n",
       "        vertical-align: middle;\n",
       "    }\n",
       "\n",
       "    .dataframe tbody tr th {\n",
       "        vertical-align: top;\n",
       "    }\n",
       "\n",
       "    .dataframe thead th {\n",
       "        text-align: right;\n",
       "    }\n",
       "</style>\n",
       "<table border=\"1\" class=\"dataframe\">\n",
       "  <thead>\n",
       "    <tr style=\"text-align: right;\">\n",
       "      <th></th>\n",
       "      <th>id</th>\n",
       "      <th>cabeza</th>\n",
       "      <th>craneo</th>\n",
       "      <th>largo_total</th>\n",
       "      <th>cola</th>\n",
       "      <th>pie</th>\n",
       "      <th>oreja</th>\n",
       "      <th>ojo</th>\n",
       "      <th>torax</th>\n",
       "      <th>vientre</th>\n",
       "      <th>edad</th>\n",
       "    </tr>\n",
       "  </thead>\n",
       "  <tbody>\n",
       "    <tr>\n",
       "      <th>id</th>\n",
       "      <td>1.000000</td>\n",
       "      <td>-0.224246</td>\n",
       "      <td>-0.139488</td>\n",
       "      <td>-0.365155</td>\n",
       "      <td>0.290807</td>\n",
       "      <td>-0.782654</td>\n",
       "      <td>-0.768261</td>\n",
       "      <td>-0.087489</td>\n",
       "      <td>-0.421856</td>\n",
       "      <td>-0.220847</td>\n",
       "      <td>-0.194525</td>\n",
       "    </tr>\n",
       "    <tr>\n",
       "      <th>cabeza</th>\n",
       "      <td>-0.224246</td>\n",
       "      <td>1.000000</td>\n",
       "      <td>0.707777</td>\n",
       "      <td>0.679504</td>\n",
       "      <td>0.284041</td>\n",
       "      <td>0.427965</td>\n",
       "      <td>0.150070</td>\n",
       "      <td>0.355644</td>\n",
       "      <td>0.619791</td>\n",
       "      <td>0.556589</td>\n",
       "      <td>0.316356</td>\n",
       "    </tr>\n",
       "    <tr>\n",
       "      <th>craneo</th>\n",
       "      <td>-0.139488</td>\n",
       "      <td>0.707777</td>\n",
       "      <td>1.000000</td>\n",
       "      <td>0.505242</td>\n",
       "      <td>0.251253</td>\n",
       "      <td>0.299276</td>\n",
       "      <td>0.023833</td>\n",
       "      <td>0.312093</td>\n",
       "      <td>0.632519</td>\n",
       "      <td>0.449156</td>\n",
       "      <td>0.281542</td>\n",
       "    </tr>\n",
       "    <tr>\n",
       "      <th>largo_total</th>\n",
       "      <td>-0.365155</td>\n",
       "      <td>0.679504</td>\n",
       "      <td>0.505242</td>\n",
       "      <td>1.000000</td>\n",
       "      <td>0.572505</td>\n",
       "      <td>0.490196</td>\n",
       "      <td>0.195592</td>\n",
       "      <td>0.246011</td>\n",
       "      <td>0.564731</td>\n",
       "      <td>0.508036</td>\n",
       "      <td>0.263548</td>\n",
       "    </tr>\n",
       "    <tr>\n",
       "      <th>cola</th>\n",
       "      <td>0.290807</td>\n",
       "      <td>0.284041</td>\n",
       "      <td>0.251253</td>\n",
       "      <td>0.572505</td>\n",
       "      <td>1.000000</td>\n",
       "      <td>-0.085018</td>\n",
       "      <td>-0.360225</td>\n",
       "      <td>0.194197</td>\n",
       "      <td>0.155907</td>\n",
       "      <td>0.311251</td>\n",
       "      <td>0.150201</td>\n",
       "    </tr>\n",
       "    <tr>\n",
       "      <th>pie</th>\n",
       "      <td>-0.782654</td>\n",
       "      <td>0.427965</td>\n",
       "      <td>0.299276</td>\n",
       "      <td>0.490196</td>\n",
       "      <td>-0.085018</td>\n",
       "      <td>1.000000</td>\n",
       "      <td>0.776407</td>\n",
       "      <td>0.030272</td>\n",
       "      <td>0.510143</td>\n",
       "      <td>0.306312</td>\n",
       "      <td>0.100794</td>\n",
       "    </tr>\n",
       "    <tr>\n",
       "      <th>oreja</th>\n",
       "      <td>-0.768261</td>\n",
       "      <td>0.150070</td>\n",
       "      <td>0.023833</td>\n",
       "      <td>0.195592</td>\n",
       "      <td>-0.360225</td>\n",
       "      <td>0.776407</td>\n",
       "      <td>1.000000</td>\n",
       "      <td>-0.143152</td>\n",
       "      <td>0.247523</td>\n",
       "      <td>0.071174</td>\n",
       "      <td>0.023880</td>\n",
       "    </tr>\n",
       "    <tr>\n",
       "      <th>ojo</th>\n",
       "      <td>-0.087489</td>\n",
       "      <td>0.355644</td>\n",
       "      <td>0.312093</td>\n",
       "      <td>0.246011</td>\n",
       "      <td>0.194197</td>\n",
       "      <td>0.030272</td>\n",
       "      <td>-0.143152</td>\n",
       "      <td>1.000000</td>\n",
       "      <td>0.134050</td>\n",
       "      <td>0.235207</td>\n",
       "      <td>0.235553</td>\n",
       "    </tr>\n",
       "    <tr>\n",
       "      <th>torax</th>\n",
       "      <td>-0.421856</td>\n",
       "      <td>0.619791</td>\n",
       "      <td>0.632519</td>\n",
       "      <td>0.564731</td>\n",
       "      <td>0.155907</td>\n",
       "      <td>0.510143</td>\n",
       "      <td>0.247523</td>\n",
       "      <td>0.134050</td>\n",
       "      <td>1.000000</td>\n",
       "      <td>0.608153</td>\n",
       "      <td>0.334209</td>\n",
       "    </tr>\n",
       "    <tr>\n",
       "      <th>vientre</th>\n",
       "      <td>-0.220847</td>\n",
       "      <td>0.556589</td>\n",
       "      <td>0.449156</td>\n",
       "      <td>0.508036</td>\n",
       "      <td>0.311251</td>\n",
       "      <td>0.306312</td>\n",
       "      <td>0.071174</td>\n",
       "      <td>0.235207</td>\n",
       "      <td>0.608153</td>\n",
       "      <td>1.000000</td>\n",
       "      <td>0.354298</td>\n",
       "    </tr>\n",
       "    <tr>\n",
       "      <th>edad</th>\n",
       "      <td>-0.194525</td>\n",
       "      <td>0.316356</td>\n",
       "      <td>0.281542</td>\n",
       "      <td>0.263548</td>\n",
       "      <td>0.150201</td>\n",
       "      <td>0.100794</td>\n",
       "      <td>0.023880</td>\n",
       "      <td>0.235553</td>\n",
       "      <td>0.334209</td>\n",
       "      <td>0.354298</td>\n",
       "      <td>1.000000</td>\n",
       "    </tr>\n",
       "  </tbody>\n",
       "</table>\n",
       "</div>"
      ],
      "text/plain": [
       "                   id    cabeza    craneo  largo_total      cola       pie  \\\n",
       "id           1.000000 -0.224246 -0.139488    -0.365155  0.290807 -0.782654   \n",
       "cabeza      -0.224246  1.000000  0.707777     0.679504  0.284041  0.427965   \n",
       "craneo      -0.139488  0.707777  1.000000     0.505242  0.251253  0.299276   \n",
       "largo_total -0.365155  0.679504  0.505242     1.000000  0.572505  0.490196   \n",
       "cola         0.290807  0.284041  0.251253     0.572505  1.000000 -0.085018   \n",
       "pie         -0.782654  0.427965  0.299276     0.490196 -0.085018  1.000000   \n",
       "oreja       -0.768261  0.150070  0.023833     0.195592 -0.360225  0.776407   \n",
       "ojo         -0.087489  0.355644  0.312093     0.246011  0.194197  0.030272   \n",
       "torax       -0.421856  0.619791  0.632519     0.564731  0.155907  0.510143   \n",
       "vientre     -0.220847  0.556589  0.449156     0.508036  0.311251  0.306312   \n",
       "edad        -0.194525  0.316356  0.281542     0.263548  0.150201  0.100794   \n",
       "\n",
       "                oreja       ojo     torax   vientre      edad  \n",
       "id          -0.768261 -0.087489 -0.421856 -0.220847 -0.194525  \n",
       "cabeza       0.150070  0.355644  0.619791  0.556589  0.316356  \n",
       "craneo       0.023833  0.312093  0.632519  0.449156  0.281542  \n",
       "largo_total  0.195592  0.246011  0.564731  0.508036  0.263548  \n",
       "cola        -0.360225  0.194197  0.155907  0.311251  0.150201  \n",
       "pie          0.776407  0.030272  0.510143  0.306312  0.100794  \n",
       "oreja        1.000000 -0.143152  0.247523  0.071174  0.023880  \n",
       "ojo         -0.143152  1.000000  0.134050  0.235207  0.235553  \n",
       "torax        0.247523  0.134050  1.000000  0.608153  0.334209  \n",
       "vientre      0.071174  0.235207  0.608153  1.000000  0.354298  \n",
       "edad         0.023880  0.235553  0.334209  0.354298  1.000000  "
      ]
     },
     "execution_count": 7,
     "metadata": {},
     "output_type": "execute_result"
    }
   ],
   "source": [
    "data.corr()"
   ]
  },
  {
   "cell_type": "markdown",
   "id": "bulgarian-nylon",
   "metadata": {},
   "source": [
    "#### Variable a predecir\n",
    "\n",
    "La variable a Predecir es *edad* por lo que realizaremos una pequeña exploración de esta variable con librería Pandas y realizando algunas visualizaciones con las librerías Matplotplib y Seaborn.\n",
    "\n",
    "- Mínimo valor de la columna\n",
    "- Máximo valor de la columna\n",
    "- Promedio de los valores de la columna (mean)\n",
    "- Gráfico displot"
   ]
  },
  {
   "cell_type": "code",
   "execution_count": 8,
   "id": "casual-savage",
   "metadata": {
    "id": "advisory-blackjack"
   },
   "outputs": [
    {
     "data": {
      "text/plain": [
       "1.0"
      ]
     },
     "execution_count": 8,
     "metadata": {},
     "output_type": "execute_result"
    }
   ],
   "source": [
    "data[\"edad\"].min()"
   ]
  },
  {
   "cell_type": "code",
   "execution_count": 9,
   "id": "sharp-arkansas",
   "metadata": {},
   "outputs": [
    {
     "data": {
      "text/plain": [
       "9.0"
      ]
     },
     "execution_count": 9,
     "metadata": {},
     "output_type": "execute_result"
    }
   ],
   "source": [
    "data[\"edad\"].max()"
   ]
  },
  {
   "cell_type": "code",
   "execution_count": 10,
   "id": "stopped-preparation",
   "metadata": {},
   "outputs": [
    {
     "data": {
      "text/plain": [
       "3.8333333333333335"
      ]
     },
     "execution_count": 10,
     "metadata": {},
     "output_type": "execute_result"
    }
   ],
   "source": [
    "data[\"edad\"].mean()"
   ]
  },
  {
   "cell_type": "code",
   "execution_count": 11,
   "id": "religious-semester",
   "metadata": {},
   "outputs": [
    {
     "data": {
      "text/plain": [
       "<seaborn.axisgrid.FacetGrid at 0x24fdb95f550>"
      ]
     },
     "execution_count": 11,
     "metadata": {},
     "output_type": "execute_result"
    },
    {
     "data": {
      "image/png": "[encoded data removed]",
      "text/plain": [
       "<Figure size 360x360 with 1 Axes>"
      ]
     },
     "metadata": {
      "needs_background": "light"
     },
     "output_type": "display_data"
    }
   ],
   "source": [
    "sns.displot(data[\"edad\"])"
   ]
  },
  {
   "cell_type": "markdown",
   "id": "equivalent-vehicle",
   "metadata": {},
   "source": [
    "### Limpieza de datos\n",
    "\n",
    "Realizaremos la limpieza de los datos con distintos métodos de la librería Pandas:\n",
    "- ELiminaremos columnas inecesarias para el entrenamiento del modelo\n",
    "- Realizaremos la limpieza de los datos nulos con algunas de las posibles estrategias: marcar, eliminar o imputar\n",
    "- Realizaremos la identificación y modificación de las variables categóricas\n",
    "\n",
    "##### Eliminar columnas"
   ]
  },
  {
   "cell_type": "code",
   "execution_count": 12,
   "id": "agreed-recipient",
   "metadata": {},
   "outputs": [],
   "source": [
    "data.drop(columns=[\"id\", \"populacion\"], inplace=True)"
   ]
  },
  {
   "cell_type": "markdown",
   "id": "enormous-gambling",
   "metadata": {
    "id": "GrnQUEpLoyEh"
   },
   "source": [
    "##### Limpieza de datos - nulos"
   ]
  },
  {
   "cell_type": "code",
   "execution_count": 13,
   "id": "healthy-receipt",
   "metadata": {},
   "outputs": [
    {
     "data": {
      "text/plain": [
       "sitio          0\n",
       "sexo           5\n",
       "cabeza         5\n",
       "craneo         5\n",
       "largo_total    5\n",
       "cola           5\n",
       "pie            6\n",
       "oreja          5\n",
       "ojo            0\n",
       "torax          0\n",
       "vientre        0\n",
       "edad           0\n",
       "dtype: int64"
      ]
     },
     "execution_count": 13,
     "metadata": {},
     "output_type": "execute_result"
    }
   ],
   "source": [
    "data.isnull().sum()"
   ]
  },
  {
   "cell_type": "code",
   "execution_count": 14,
   "id": "heavy-indie",
   "metadata": {
    "colab": {
     "base_uri": "https://localhost:8080/"
    },
    "executionInfo": {
     "elapsed": 273,
     "status": "ok",
     "timestamp": 1646446722972,
     "user": {
      "displayName": "Valeria Bellino",
      "photoUrl": "https://lh3.googleusercontent.com/a/default-user=s64",
      "userId": "05918551666787590515"
     },
     "user_tz": 180
    },
    "id": "eligible-adapter",
    "outputId": "273e57ff-ac60-4219-f211-7a360f513280"
   },
   "outputs": [
    {
     "data": {
      "text/html": [
       "<div>\n",
       "<style scoped>\n",
       "    .dataframe tbody tr th:only-of-type {\n",
       "        vertical-align: middle;\n",
       "    }\n",
       "\n",
       "    .dataframe tbody tr th {\n",
       "        vertical-align: top;\n",
       "    }\n",
       "\n",
       "    .dataframe thead th {\n",
       "        text-align: right;\n",
       "    }\n",
       "</style>\n",
       "<table border=\"1\" class=\"dataframe\">\n",
       "  <thead>\n",
       "    <tr style=\"text-align: right;\">\n",
       "      <th></th>\n",
       "      <th>sitio</th>\n",
       "      <th>sexo</th>\n",
       "      <th>cabeza</th>\n",
       "      <th>craneo</th>\n",
       "      <th>largo_total</th>\n",
       "      <th>cola</th>\n",
       "      <th>pie</th>\n",
       "      <th>oreja</th>\n",
       "      <th>ojo</th>\n",
       "      <th>torax</th>\n",
       "      <th>vientre</th>\n",
       "      <th>edad</th>\n",
       "    </tr>\n",
       "  </thead>\n",
       "  <tbody>\n",
       "    <tr>\n",
       "      <th>15</th>\n",
       "      <td>sitio 1</td>\n",
       "      <td>NaN</td>\n",
       "      <td>NaN</td>\n",
       "      <td>NaN</td>\n",
       "      <td>NaN</td>\n",
       "      <td>NaN</td>\n",
       "      <td>NaN</td>\n",
       "      <td>NaN</td>\n",
       "      <td>14.4</td>\n",
       "      <td>28.0</td>\n",
       "      <td>32.0</td>\n",
       "      <td>4.0</td>\n",
       "    </tr>\n",
       "    <tr>\n",
       "      <th>35</th>\n",
       "      <td>sitio 2</td>\n",
       "      <td>NaN</td>\n",
       "      <td>NaN</td>\n",
       "      <td>NaN</td>\n",
       "      <td>NaN</td>\n",
       "      <td>NaN</td>\n",
       "      <td>NaN</td>\n",
       "      <td>NaN</td>\n",
       "      <td>14.9</td>\n",
       "      <td>25.5</td>\n",
       "      <td>36.0</td>\n",
       "      <td>7.0</td>\n",
       "    </tr>\n",
       "    <tr>\n",
       "      <th>64</th>\n",
       "      <td>sitio 5</td>\n",
       "      <td>NaN</td>\n",
       "      <td>NaN</td>\n",
       "      <td>NaN</td>\n",
       "      <td>NaN</td>\n",
       "      <td>NaN</td>\n",
       "      <td>NaN</td>\n",
       "      <td>NaN</td>\n",
       "      <td>16.5</td>\n",
       "      <td>27.5</td>\n",
       "      <td>29.5</td>\n",
       "      <td>4.0</td>\n",
       "    </tr>\n",
       "    <tr>\n",
       "      <th>85</th>\n",
       "      <td>sitio 7</td>\n",
       "      <td>NaN</td>\n",
       "      <td>NaN</td>\n",
       "      <td>NaN</td>\n",
       "      <td>NaN</td>\n",
       "      <td>NaN</td>\n",
       "      <td>NaN</td>\n",
       "      <td>NaN</td>\n",
       "      <td>16.0</td>\n",
       "      <td>25.5</td>\n",
       "      <td>31.5</td>\n",
       "      <td>2.0</td>\n",
       "    </tr>\n",
       "    <tr>\n",
       "      <th>96</th>\n",
       "      <td>sitio 7</td>\n",
       "      <td>NaN</td>\n",
       "      <td>NaN</td>\n",
       "      <td>NaN</td>\n",
       "      <td>NaN</td>\n",
       "      <td>NaN</td>\n",
       "      <td>NaN</td>\n",
       "      <td>NaN</td>\n",
       "      <td>14.0</td>\n",
       "      <td>28.0</td>\n",
       "      <td>35.0</td>\n",
       "      <td>3.0</td>\n",
       "    </tr>\n",
       "  </tbody>\n",
       "</table>\n",
       "</div>"
      ],
      "text/plain": [
       "      sitio sexo  cabeza  craneo  largo_total  cola  pie  oreja   ojo  torax  \\\n",
       "15  sitio 1  NaN     NaN     NaN          NaN   NaN  NaN    NaN  14.4   28.0   \n",
       "35  sitio 2  NaN     NaN     NaN          NaN   NaN  NaN    NaN  14.9   25.5   \n",
       "64  sitio 5  NaN     NaN     NaN          NaN   NaN  NaN    NaN  16.5   27.5   \n",
       "85  sitio 7  NaN     NaN     NaN          NaN   NaN  NaN    NaN  16.0   25.5   \n",
       "96  sitio 7  NaN     NaN     NaN          NaN   NaN  NaN    NaN  14.0   28.0   \n",
       "\n",
       "    vientre  edad  \n",
       "15     32.0   4.0  \n",
       "35     36.0   7.0  \n",
       "64     29.5   4.0  \n",
       "85     31.5   2.0  \n",
       "96     35.0   3.0  "
      ]
     },
     "execution_count": 14,
     "metadata": {},
     "output_type": "execute_result"
    }
   ],
   "source": [
    "nulo_cabeza = data[\"cabeza\"].isnull()\n",
    "data.loc[nulo_cabeza]"
   ]
  },
  {
   "cell_type": "code",
   "execution_count": 15,
   "id": "exact-ensemble",
   "metadata": {
    "id": "outside-interest"
   },
   "outputs": [],
   "source": [
    "# Qué datos toma la variable\n",
    "\n",
    "data.dropna(axis=0, thresh=7, inplace=True)"
   ]
  },
  {
   "cell_type": "code",
   "execution_count": 16,
   "id": "cutting-warrant",
   "metadata": {
    "colab": {
     "base_uri": "https://localhost:8080/"
    },
    "executionInfo": {
     "elapsed": 5,
     "status": "ok",
     "timestamp": 1646446750012,
     "user": {
      "displayName": "Valeria Bellino",
      "photoUrl": "https://lh3.googleusercontent.com/a/default-user=s64",
      "userId": "05918551666787590515"
     },
     "user_tz": 180
    },
    "id": "trying-australia",
    "outputId": "3206c2f0-33d1-4bd3-b540-9f619640af40"
   },
   "outputs": [
    {
     "name": "stdout",
     "output_type": "stream",
     "text": [
      "(97, 12)\n"
     ]
    },
    {
     "data": {
      "text/plain": [
       "sitio          0\n",
       "sexo           0\n",
       "cabeza         0\n",
       "craneo         0\n",
       "largo_total    0\n",
       "cola           0\n",
       "pie            1\n",
       "oreja          0\n",
       "ojo            0\n",
       "torax          0\n",
       "vientre        0\n",
       "edad           0\n",
       "dtype: int64"
      ]
     },
     "execution_count": 16,
     "metadata": {},
     "output_type": "execute_result"
    }
   ],
   "source": [
    "# Comprobamos el tamaño del dataset y la cantidad de nulos\n",
    "\n",
    "print(data.shape)\n",
    "data.isnull().sum()"
   ]
  },
  {
   "cell_type": "code",
   "execution_count": 17,
   "id": "outstanding-improvement",
   "metadata": {
    "colab": {
     "base_uri": "https://localhost:8080/"
    },
    "executionInfo": {
     "elapsed": 2,
     "status": "ok",
     "timestamp": 1646446869379,
     "user": {
      "displayName": "Valeria Bellino",
      "photoUrl": "https://lh3.googleusercontent.com/a/default-user=s64",
      "userId": "05918551666787590515"
     },
     "user_tz": 180
    },
    "id": "liable-bennett",
    "outputId": "0c56fe7d-1268-4460-d83d-9c4bcee2039a"
   },
   "outputs": [
    {
     "data": {
      "text/html": [
       "<div>\n",
       "<style scoped>\n",
       "    .dataframe tbody tr th:only-of-type {\n",
       "        vertical-align: middle;\n",
       "    }\n",
       "\n",
       "    .dataframe tbody tr th {\n",
       "        vertical-align: top;\n",
       "    }\n",
       "\n",
       "    .dataframe thead th {\n",
       "        text-align: right;\n",
       "    }\n",
       "</style>\n",
       "<table border=\"1\" class=\"dataframe\">\n",
       "  <thead>\n",
       "    <tr style=\"text-align: right;\">\n",
       "      <th></th>\n",
       "      <th>sitio</th>\n",
       "      <th>sexo</th>\n",
       "      <th>cabeza</th>\n",
       "      <th>craneo</th>\n",
       "      <th>largo_total</th>\n",
       "      <th>cola</th>\n",
       "      <th>pie</th>\n",
       "      <th>oreja</th>\n",
       "      <th>ojo</th>\n",
       "      <th>torax</th>\n",
       "      <th>vientre</th>\n",
       "      <th>edad</th>\n",
       "    </tr>\n",
       "  </thead>\n",
       "  <tbody>\n",
       "    <tr>\n",
       "      <th>40</th>\n",
       "      <td>sitio 2</td>\n",
       "      <td>f</td>\n",
       "      <td>88.4</td>\n",
       "      <td>57.0</td>\n",
       "      <td>83.0</td>\n",
       "      <td>36.5</td>\n",
       "      <td>NaN</td>\n",
       "      <td>40.3</td>\n",
       "      <td>15.9</td>\n",
       "      <td>27.0</td>\n",
       "      <td>30.5</td>\n",
       "      <td>5.0</td>\n",
       "    </tr>\n",
       "  </tbody>\n",
       "</table>\n",
       "</div>"
      ],
      "text/plain": [
       "      sitio sexo  cabeza  craneo  largo_total  cola  pie  oreja   ojo  torax  \\\n",
       "40  sitio 2    f    88.4    57.0         83.0  36.5  NaN   40.3  15.9   27.0   \n",
       "\n",
       "    vientre  edad  \n",
       "40     30.5   5.0  "
      ]
     },
     "execution_count": 17,
     "metadata": {},
     "output_type": "execute_result"
    }
   ],
   "source": [
    "nulo_pie = data[\"pie\"].isnull()\n",
    "data.loc[nulo_pie]"
   ]
  },
  {
   "cell_type": "code",
   "execution_count": 18,
   "id": "integrated-frost",
   "metadata": {
    "colab": {
     "base_uri": "https://localhost:8080/",
     "height": 268
    },
    "executionInfo": {
     "elapsed": 259,
     "status": "ok",
     "timestamp": 1646446870622,
     "user": {
      "displayName": "Valeria Bellino",
      "photoUrl": "https://lh3.googleusercontent.com/a/default-user=s64",
      "userId": "05918551666787590515"
     },
     "user_tz": 180
    },
    "id": "increasing-cannon",
    "outputId": "5dd59aae-814b-4ac6-8e9a-edbd7790435e"
   },
   "outputs": [
    {
     "data": {
      "text/plain": [
       "68.38229166666666"
      ]
     },
     "execution_count": 18,
     "metadata": {},
     "output_type": "execute_result"
    }
   ],
   "source": [
    "promedio = data[\"pie\"].mean()\n",
    "promedio"
   ]
  },
  {
   "cell_type": "code",
   "execution_count": 19,
   "id": "improved-jonathan",
   "metadata": {},
   "outputs": [],
   "source": [
    "data.loc[nulo_pie, \"pie\"] = round(promedio,2)"
   ]
  },
  {
   "cell_type": "code",
   "execution_count": 20,
   "id": "sacred-collector",
   "metadata": {
    "colab": {
     "base_uri": "https://localhost:8080/"
    },
    "executionInfo": {
     "elapsed": 252,
     "status": "ok",
     "timestamp": 1646446898158,
     "user": {
      "displayName": "Valeria Bellino",
      "photoUrl": "https://lh3.googleusercontent.com/a/default-user=s64",
      "userId": "05918551666787590515"
     },
     "user_tz": 180
    },
    "id": "exact-portsmouth",
    "outputId": "b2e1f795-3241-4588-faa7-20b1d3c4c9f2"
   },
   "outputs": [
    {
     "data": {
      "text/plain": [
       "sitio          0\n",
       "sexo           0\n",
       "cabeza         0\n",
       "craneo         0\n",
       "largo_total    0\n",
       "cola           0\n",
       "pie            0\n",
       "oreja          0\n",
       "ojo            0\n",
       "torax          0\n",
       "vientre        0\n",
       "edad           0\n",
       "dtype: int64"
      ]
     },
     "execution_count": 20,
     "metadata": {},
     "output_type": "execute_result"
    }
   ],
   "source": [
    "# Comprobamos que este correctamente imputado y que no haya más datos nulos en lluvia\n",
    "\n",
    "data.isnull().sum()"
   ]
  },
  {
   "cell_type": "markdown",
   "id": "engaging-absence",
   "metadata": {
    "id": "RFFxUWo0pu1n"
   },
   "source": [
    "### Variables categóricas y numéricas"
   ]
  },
  {
   "cell_type": "code",
   "execution_count": 21,
   "id": "quantitative-celebrity",
   "metadata": {},
   "outputs": [
    {
     "data": {
      "text/plain": [
       "sitio           object\n",
       "sexo            object\n",
       "cabeza         float64\n",
       "craneo         float64\n",
       "largo_total    float64\n",
       "cola           float64\n",
       "pie            float64\n",
       "oreja          float64\n",
       "ojo            float64\n",
       "torax          float64\n",
       "vientre        float64\n",
       "edad           float64\n",
       "dtype: object"
      ]
     },
     "execution_count": 21,
     "metadata": {},
     "output_type": "execute_result"
    }
   ],
   "source": [
    "data.dtypes"
   ]
  },
  {
   "cell_type": "code",
   "execution_count": 22,
   "id": "atomic-magazine",
   "metadata": {},
   "outputs": [
    {
     "data": {
      "text/html": [
       "<div>\n",
       "<style scoped>\n",
       "    .dataframe tbody tr th:only-of-type {\n",
       "        vertical-align: middle;\n",
       "    }\n",
       "\n",
       "    .dataframe tbody tr th {\n",
       "        vertical-align: top;\n",
       "    }\n",
       "\n",
       "    .dataframe thead th {\n",
       "        text-align: right;\n",
       "    }\n",
       "</style>\n",
       "<table border=\"1\" class=\"dataframe\">\n",
       "  <thead>\n",
       "    <tr style=\"text-align: right;\">\n",
       "      <th></th>\n",
       "      <th>cabeza</th>\n",
       "      <th>craneo</th>\n",
       "      <th>largo_total</th>\n",
       "      <th>cola</th>\n",
       "      <th>pie</th>\n",
       "      <th>oreja</th>\n",
       "      <th>ojo</th>\n",
       "      <th>torax</th>\n",
       "      <th>vientre</th>\n",
       "      <th>edad</th>\n",
       "      <th>sitio_sitio 2</th>\n",
       "      <th>sitio_sitio 3</th>\n",
       "      <th>sitio_sitio 4</th>\n",
       "      <th>sitio_sitio 5</th>\n",
       "      <th>sitio_sitio 6</th>\n",
       "      <th>sitio_sitio 7</th>\n",
       "      <th>sexo_m</th>\n",
       "    </tr>\n",
       "  </thead>\n",
       "  <tbody>\n",
       "    <tr>\n",
       "      <th>0</th>\n",
       "      <td>94.1</td>\n",
       "      <td>60.4</td>\n",
       "      <td>89.0</td>\n",
       "      <td>36.0</td>\n",
       "      <td>74.5</td>\n",
       "      <td>54.5</td>\n",
       "      <td>15.2</td>\n",
       "      <td>28.0</td>\n",
       "      <td>36.0</td>\n",
       "      <td>8.0</td>\n",
       "      <td>0</td>\n",
       "      <td>0</td>\n",
       "      <td>0</td>\n",
       "      <td>0</td>\n",
       "      <td>0</td>\n",
       "      <td>0</td>\n",
       "      <td>1</td>\n",
       "    </tr>\n",
       "    <tr>\n",
       "      <th>1</th>\n",
       "      <td>92.5</td>\n",
       "      <td>57.6</td>\n",
       "      <td>91.5</td>\n",
       "      <td>36.5</td>\n",
       "      <td>72.5</td>\n",
       "      <td>51.2</td>\n",
       "      <td>16.0</td>\n",
       "      <td>28.5</td>\n",
       "      <td>33.0</td>\n",
       "      <td>6.0</td>\n",
       "      <td>0</td>\n",
       "      <td>0</td>\n",
       "      <td>0</td>\n",
       "      <td>0</td>\n",
       "      <td>0</td>\n",
       "      <td>0</td>\n",
       "      <td>0</td>\n",
       "    </tr>\n",
       "    <tr>\n",
       "      <th>2</th>\n",
       "      <td>94.0</td>\n",
       "      <td>60.0</td>\n",
       "      <td>95.5</td>\n",
       "      <td>39.0</td>\n",
       "      <td>75.4</td>\n",
       "      <td>51.9</td>\n",
       "      <td>15.5</td>\n",
       "      <td>30.0</td>\n",
       "      <td>34.0</td>\n",
       "      <td>6.0</td>\n",
       "      <td>0</td>\n",
       "      <td>0</td>\n",
       "      <td>0</td>\n",
       "      <td>0</td>\n",
       "      <td>0</td>\n",
       "      <td>0</td>\n",
       "      <td>0</td>\n",
       "    </tr>\n",
       "    <tr>\n",
       "      <th>3</th>\n",
       "      <td>93.2</td>\n",
       "      <td>57.1</td>\n",
       "      <td>92.0</td>\n",
       "      <td>38.0</td>\n",
       "      <td>76.1</td>\n",
       "      <td>52.2</td>\n",
       "      <td>15.2</td>\n",
       "      <td>28.0</td>\n",
       "      <td>34.0</td>\n",
       "      <td>6.0</td>\n",
       "      <td>0</td>\n",
       "      <td>0</td>\n",
       "      <td>0</td>\n",
       "      <td>0</td>\n",
       "      <td>0</td>\n",
       "      <td>0</td>\n",
       "      <td>0</td>\n",
       "    </tr>\n",
       "    <tr>\n",
       "      <th>4</th>\n",
       "      <td>91.5</td>\n",
       "      <td>56.3</td>\n",
       "      <td>85.5</td>\n",
       "      <td>36.0</td>\n",
       "      <td>71.0</td>\n",
       "      <td>53.2</td>\n",
       "      <td>15.1</td>\n",
       "      <td>28.5</td>\n",
       "      <td>33.0</td>\n",
       "      <td>2.0</td>\n",
       "      <td>0</td>\n",
       "      <td>0</td>\n",
       "      <td>0</td>\n",
       "      <td>0</td>\n",
       "      <td>0</td>\n",
       "      <td>0</td>\n",
       "      <td>0</td>\n",
       "    </tr>\n",
       "    <tr>\n",
       "      <th>...</th>\n",
       "      <td>...</td>\n",
       "      <td>...</td>\n",
       "      <td>...</td>\n",
       "      <td>...</td>\n",
       "      <td>...</td>\n",
       "      <td>...</td>\n",
       "      <td>...</td>\n",
       "      <td>...</td>\n",
       "      <td>...</td>\n",
       "      <td>...</td>\n",
       "      <td>...</td>\n",
       "      <td>...</td>\n",
       "      <td>...</td>\n",
       "      <td>...</td>\n",
       "      <td>...</td>\n",
       "      <td>...</td>\n",
       "      <td>...</td>\n",
       "    </tr>\n",
       "    <tr>\n",
       "      <th>97</th>\n",
       "      <td>89.5</td>\n",
       "      <td>56.0</td>\n",
       "      <td>81.5</td>\n",
       "      <td>36.5</td>\n",
       "      <td>66.0</td>\n",
       "      <td>46.8</td>\n",
       "      <td>14.8</td>\n",
       "      <td>23.0</td>\n",
       "      <td>27.0</td>\n",
       "      <td>1.0</td>\n",
       "      <td>0</td>\n",
       "      <td>0</td>\n",
       "      <td>0</td>\n",
       "      <td>0</td>\n",
       "      <td>0</td>\n",
       "      <td>1</td>\n",
       "      <td>1</td>\n",
       "    </tr>\n",
       "    <tr>\n",
       "      <th>98</th>\n",
       "      <td>88.6</td>\n",
       "      <td>54.7</td>\n",
       "      <td>82.5</td>\n",
       "      <td>39.0</td>\n",
       "      <td>64.4</td>\n",
       "      <td>48.0</td>\n",
       "      <td>14.0</td>\n",
       "      <td>25.0</td>\n",
       "      <td>33.0</td>\n",
       "      <td>1.0</td>\n",
       "      <td>0</td>\n",
       "      <td>0</td>\n",
       "      <td>0</td>\n",
       "      <td>0</td>\n",
       "      <td>0</td>\n",
       "      <td>1</td>\n",
       "      <td>1</td>\n",
       "    </tr>\n",
       "    <tr>\n",
       "      <th>99</th>\n",
       "      <td>92.4</td>\n",
       "      <td>55.0</td>\n",
       "      <td>89.0</td>\n",
       "      <td>38.0</td>\n",
       "      <td>63.5</td>\n",
       "      <td>45.4</td>\n",
       "      <td>13.0</td>\n",
       "      <td>25.0</td>\n",
       "      <td>30.0</td>\n",
       "      <td>6.0</td>\n",
       "      <td>0</td>\n",
       "      <td>0</td>\n",
       "      <td>0</td>\n",
       "      <td>0</td>\n",
       "      <td>0</td>\n",
       "      <td>1</td>\n",
       "      <td>0</td>\n",
       "    </tr>\n",
       "    <tr>\n",
       "      <th>100</th>\n",
       "      <td>91.5</td>\n",
       "      <td>55.2</td>\n",
       "      <td>82.5</td>\n",
       "      <td>36.5</td>\n",
       "      <td>62.9</td>\n",
       "      <td>45.9</td>\n",
       "      <td>15.4</td>\n",
       "      <td>25.0</td>\n",
       "      <td>29.0</td>\n",
       "      <td>4.0</td>\n",
       "      <td>0</td>\n",
       "      <td>0</td>\n",
       "      <td>0</td>\n",
       "      <td>0</td>\n",
       "      <td>0</td>\n",
       "      <td>1</td>\n",
       "      <td>1</td>\n",
       "    </tr>\n",
       "    <tr>\n",
       "      <th>101</th>\n",
       "      <td>93.6</td>\n",
       "      <td>59.9</td>\n",
       "      <td>89.0</td>\n",
       "      <td>40.0</td>\n",
       "      <td>67.6</td>\n",
       "      <td>46.0</td>\n",
       "      <td>14.8</td>\n",
       "      <td>28.5</td>\n",
       "      <td>33.5</td>\n",
       "      <td>3.0</td>\n",
       "      <td>0</td>\n",
       "      <td>0</td>\n",
       "      <td>0</td>\n",
       "      <td>0</td>\n",
       "      <td>0</td>\n",
       "      <td>1</td>\n",
       "      <td>0</td>\n",
       "    </tr>\n",
       "  </tbody>\n",
       "</table>\n",
       "<p>97 rows × 17 columns</p>\n",
       "</div>"
      ],
      "text/plain": [
       "     cabeza  craneo  largo_total  cola   pie  oreja   ojo  torax  vientre  \\\n",
       "0      94.1    60.4         89.0  36.0  74.5   54.5  15.2   28.0     36.0   \n",
       "1      92.5    57.6         91.5  36.5  72.5   51.2  16.0   28.5     33.0   \n",
       "2      94.0    60.0         95.5  39.0  75.4   51.9  15.5   30.0     34.0   \n",
       "3      93.2    57.1         92.0  38.0  76.1   52.2  15.2   28.0     34.0   \n",
       "4      91.5    56.3         85.5  36.0  71.0   53.2  15.1   28.5     33.0   \n",
       "..      ...     ...          ...   ...   ...    ...   ...    ...      ...   \n",
       "97     89.5    56.0         81.5  36.5  66.0   46.8  14.8   23.0     27.0   \n",
       "98     88.6    54.7         82.5  39.0  64.4   48.0  14.0   25.0     33.0   \n",
       "99     92.4    55.0         89.0  38.0  63.5   45.4  13.0   25.0     30.0   \n",
       "100    91.5    55.2         82.5  36.5  62.9   45.9  15.4   25.0     29.0   \n",
       "101    93.6    59.9         89.0  40.0  67.6   46.0  14.8   28.5     33.5   \n",
       "\n",
       "     edad  sitio_sitio 2  sitio_sitio 3  sitio_sitio 4  sitio_sitio 5  \\\n",
       "0     8.0              0              0              0              0   \n",
       "1     6.0              0              0              0              0   \n",
       "2     6.0              0              0              0              0   \n",
       "3     6.0              0              0              0              0   \n",
       "4     2.0              0              0              0              0   \n",
       "..    ...            ...            ...            ...            ...   \n",
       "97    1.0              0              0              0              0   \n",
       "98    1.0              0              0              0              0   \n",
       "99    6.0              0              0              0              0   \n",
       "100   4.0              0              0              0              0   \n",
       "101   3.0              0              0              0              0   \n",
       "\n",
       "     sitio_sitio 6  sitio_sitio 7  sexo_m  \n",
       "0                0              0       1  \n",
       "1                0              0       0  \n",
       "2                0              0       0  \n",
       "3                0              0       0  \n",
       "4                0              0       0  \n",
       "..             ...            ...     ...  \n",
       "97               0              1       1  \n",
       "98               0              1       1  \n",
       "99               0              1       0  \n",
       "100              0              1       1  \n",
       "101              0              1       0  \n",
       "\n",
       "[97 rows x 17 columns]"
      ]
     },
     "execution_count": 22,
     "metadata": {},
     "output_type": "execute_result"
    }
   ],
   "source": [
    "data = pd.get_dummies(data,  drop_first=True)\n",
    "data"
   ]
  },
  {
   "cell_type": "code",
   "execution_count": 23,
   "id": "conservative-feeding",
   "metadata": {},
   "outputs": [
    {
     "data": {
      "text/plain": [
       "Index(['cabeza', 'craneo', 'largo_total', 'cola', 'pie', 'oreja', 'ojo',\n",
       "       'torax', 'vientre', 'edad', 'sitio_sitio 2', 'sitio_sitio 3',\n",
       "       'sitio_sitio 4', 'sitio_sitio 5', 'sitio_sitio 6', 'sitio_sitio 7',\n",
       "       'sexo_m'],\n",
       "      dtype='object')"
      ]
     },
     "execution_count": 23,
     "metadata": {},
     "output_type": "execute_result"
    }
   ],
   "source": [
    "data.columns"
   ]
  },
  {
   "cell_type": "markdown",
   "id": "warming-method",
   "metadata": {
    "id": "5rC_FKtlhLOp"
   },
   "source": [
    "### Regresión Lineal Multiple\n",
    " \n",
    "Ahora que ya hemos realizado la exploración y limpieza del Dataset, vamos a entrenar unaRegresión Lineal Multiple como vimos en la primera parte del año, para poder generar un modelo que sirva para predecir la *edad* de las zarigüeyas.\n",
    "\n",
    "Realizaremos los siguientes pasos:\n",
    "\n",
    "1. Dividir los datos en **X** (variables predictoras) e **y** (variable a predecir)\n",
    "2. Dividir los datos en entrenamiento y testo con el méodo *train_test_split*\n",
    "3. Importar e instanciar el modelo que utilizaremos y definir hiperparámetros\n",
    "4. Entrenar el modelo con el método *fit*\n",
    "5. Testear el modelo con el método *predict*\n",
    "6. Ver la performance con una métrica "
   ]
  },
  {
   "cell_type": "code",
   "execution_count": 24,
   "id": "electoral-salmon",
   "metadata": {
    "id": "XYqF03pmhTWc"
   },
   "outputs": [],
   "source": [
    "# Definimos X e y siendo X las variables predictoras e y la variable a predecir\n",
    "\n",
    "X=data.drop(columns=\"edad\")\n",
    "y=data[\"edad\"]"
   ]
  },
  {
   "cell_type": "code",
   "execution_count": 25,
   "id": "considerable-identity",
   "metadata": {
    "id": "skLvFQRJhTZK"
   },
   "outputs": [],
   "source": [
    "# Importamos train_test_split de la libreria scikit-learn\n",
    "\n",
    "from sklearn.model_selection import train_test_split "
   ]
  },
  {
   "cell_type": "code",
   "execution_count": 26,
   "id": "casual-quantum",
   "metadata": {
    "id": "-5dCQg4-hTcw"
   },
   "outputs": [],
   "source": [
    "# Definimos X de entrenamiento y de testeo e y de entrenamiento y testeo\n",
    "\n",
    "X_train, X_test, y_train, y_test = train_test_split(X,y, random_state=48)"
   ]
  },
  {
   "cell_type": "code",
   "execution_count": 27,
   "id": "welsh-northwest",
   "metadata": {
    "id": "JKRvlAlyht6m"
   },
   "outputs": [
    {
     "name": "stdout",
     "output_type": "stream",
     "text": [
      "(72, 16)\n",
      "(72,)\n",
      "(25, 16)\n",
      "(25,)\n"
     ]
    }
   ],
   "source": [
    "# Revisamos que esté correctamente realizada la operación\n",
    "\n",
    "print(X_train.shape)\n",
    "print(y_train.shape)\n",
    "print(X_test.shape)\n",
    "print(y_test.shape)"
   ]
  },
  {
   "cell_type": "markdown",
   "id": "endless-fields",
   "metadata": {
    "id": "EG0myRVfh0Pn"
   },
   "source": [
    "##### Entrenamiento del modelo\n",
    "\n",
    "Primero vamos a instanciar el modelo definiendo los hiperárametros por default y entrenaremos el modelo con el método *fit*"
   ]
  },
  {
   "cell_type": "code",
   "execution_count": 28,
   "id": "interim-wallace",
   "metadata": {
    "id": "jEwul2-hhx5i"
   },
   "outputs": [],
   "source": [
    "# Importamos el modelo que utilizaremos. Regresión lineal\n",
    "\n",
    "from sklearn.linear_model import LinearRegression"
   ]
  },
  {
   "cell_type": "code",
   "execution_count": 29,
   "id": "amateur-calibration",
   "metadata": {
    "id": "2msLxUbjh6Ue"
   },
   "outputs": [],
   "source": [
    "# Definimos un objeto con el modelo importado, en este caso los hiperparametros son por default por lo que el parentesis está vacio\n",
    "\n",
    "modelo = LinearRegression()\n"
   ]
  },
  {
   "cell_type": "code",
   "execution_count": 30,
   "id": "graduate-acrylic",
   "metadata": {
    "id": "0SzPV4tqh86A"
   },
   "outputs": [
    {
     "data": {
      "text/plain": [
       "LinearRegression()"
      ]
     },
     "execution_count": 30,
     "metadata": {},
     "output_type": "execute_result"
    }
   ],
   "source": [
    "# Realizamos el entrenamiento del modelo con el método fit y los datos de entrenamiento \n",
    "\n",
    "modelo.fit(X_train, y_train)"
   ]
  },
  {
   "cell_type": "code",
   "execution_count": 31,
   "id": "committed-article",
   "metadata": {
    "id": "xzWoWJdRiAJX"
   },
   "outputs": [
    {
     "data": {
      "text/plain": [
       "array([ 0.04759104,  0.01003487, -0.07828252,  0.30667507, -0.18194118,\n",
       "       -0.11570305,  0.53857406,  0.31916911,  0.06240791, -0.33423422,\n",
       "       -2.76161203, -3.86851275, -1.42714719, -3.26998536, -1.74465767,\n",
       "       -0.68721306])"
      ]
     },
     "execution_count": 31,
     "metadata": {},
     "output_type": "execute_result"
    }
   ],
   "source": [
    "# Observamos los parámetros del modelo entrenado\n",
    "# Coeficiente (la pendiente de la recta)\n",
    "\n",
    "modelo.coef_"
   ]
  },
  {
   "cell_type": "code",
   "execution_count": 32,
   "id": "fitting-tyler",
   "metadata": {
    "id": "I_z-2KCCiAQX"
   },
   "outputs": [
    {
     "data": {
      "text/plain": [
       "-4.595101717591511"
      ]
     },
     "execution_count": 32,
     "metadata": {},
     "output_type": "execute_result"
    }
   ],
   "source": [
    "# Intercepto (el punto de comienzo de la recta en el eje y)\n",
    "\n",
    "modelo.intercept_"
   ]
  },
  {
   "cell_type": "markdown",
   "id": "suited-addition",
   "metadata": {
    "id": "HuNAtRzQiJZ9"
   },
   "source": [
    "##### Testeo del modelo\n",
    "\n",
    "Utilizaramos el método *predict* para probar nuestro modelo con los datos de Testeo reservados previamente. Realizaremos la comparación del resultado de la predición de nuestro modelo con los datos conocidos.\n",
    "Utilizaremos la métrica **r2**"
   ]
  },
  {
   "cell_type": "code",
   "execution_count": 33,
   "id": "furnished-writer",
   "metadata": {
    "id": "j86tK68diMfD"
   },
   "outputs": [],
   "source": [
    "# Probamos nuestro modelo con predict y los datos de test\n",
    "\n",
    "y_pred = modelo.predict(X_test)"
   ]
  },
  {
   "cell_type": "code",
   "execution_count": 34,
   "id": "social-presence",
   "metadata": {
    "id": "7u60OzJNiQTQ"
   },
   "outputs": [],
   "source": [
    "# Importamos una métrica para medir la performance modelo de regresión lineal: R2\n",
    "\n",
    "from sklearn.metrics import r2_score\n"
   ]
  },
  {
   "cell_type": "code",
   "execution_count": 35,
   "id": "worldwide-tobacco",
   "metadata": {
    "id": "ei0EFWgOiWfk"
   },
   "outputs": [
    {
     "data": {
      "text/plain": [
       "0.0026532034780353264"
      ]
     },
     "execution_count": 35,
     "metadata": {},
     "output_type": "execute_result"
    }
   ],
   "source": [
    "# Utilizamos R2 para medir la performance del modelo\n",
    "\n",
    "r2 = r2_score(y_test, y_pred)\n",
    "r2"
   ]
  },
  {
   "cell_type": "markdown",
   "id": "blank-gregory",
   "metadata": {
    "id": "EG0myRVfh0Pn"
   },
   "source": [
    "##### Entrenamiento del modelo cambiando el hiperparámetro\n",
    "\n",
    "Vamos a entrenar un segundo modelo de Regresión Lineal Multiple pero en este caso modificaremos el hiperparámetro *fit_intercept* para comparar los resultados con el modelo entrenado previamente."
   ]
  },
  {
   "cell_type": "code",
   "execution_count": 36,
   "id": "intended-folks",
   "metadata": {
    "id": "2msLxUbjh6Ue"
   },
   "outputs": [],
   "source": [
    "# Definimos un objeto con el modelo importado, en este caso los hiperparametros son por default por lo que el parentesis está vacio\n",
    "\n",
    "modelo_sin_inter = LinearRegression(fit_intercept=False)\n"
   ]
  },
  {
   "cell_type": "code",
   "execution_count": 37,
   "id": "cosmetic-upset",
   "metadata": {
    "id": "0SzPV4tqh86A"
   },
   "outputs": [
    {
     "data": {
      "text/plain": [
       "LinearRegression(fit_intercept=False)"
      ]
     },
     "execution_count": 37,
     "metadata": {},
     "output_type": "execute_result"
    }
   ],
   "source": [
    "# Realizamos el entrenamiento del modelo con el método fit y los datos de entrenamiento \n",
    "\n",
    "modelo_sin_inter.fit(X_train, y_train)"
   ]
  },
  {
   "cell_type": "code",
   "execution_count": 38,
   "id": "practical-eagle",
   "metadata": {
    "id": "xzWoWJdRiAJX"
   },
   "outputs": [
    {
     "data": {
      "text/plain": [
       "array([ 0.03416491,  0.00456334, -0.08000923,  0.30766696, -0.18724557,\n",
       "       -0.16299131,  0.53174336,  0.32208156,  0.06181942, -0.46859539,\n",
       "       -3.12644652, -4.12330291, -1.91027571, -3.8145554 , -2.12081391,\n",
       "       -0.66842272])"
      ]
     },
     "execution_count": 38,
     "metadata": {},
     "output_type": "execute_result"
    }
   ],
   "source": [
    "# Observamos los parámetros del modelo entrenado\n",
    "# Coeficiente (la pendiente de la recta)\n",
    "\n",
    "modelo_sin_inter.coef_"
   ]
  },
  {
   "cell_type": "code",
   "execution_count": 39,
   "id": "nearby-progress",
   "metadata": {
    "id": "I_z-2KCCiAQX"
   },
   "outputs": [
    {
     "data": {
      "text/plain": [
       "0.0"
      ]
     },
     "execution_count": 39,
     "metadata": {},
     "output_type": "execute_result"
    }
   ],
   "source": [
    "# Intercepto (el punto de comienzo de la recta en el eje y)\n",
    "\n",
    "modelo_sin_inter.intercept_"
   ]
  },
  {
   "cell_type": "markdown",
   "id": "banned-florida",
   "metadata": {
    "id": "HuNAtRzQiJZ9"
   },
   "source": [
    "##### Testeo del modelo\n",
    "\n",
    "Utilizaramos el método *predict* para probar nuestro modelo con los datos de Testeo reservados previamente. Realizaremos la comparación del resultado de la predición de nuestro modelo con los datos conocidos.\n",
    "Utilizaremos la métrica **r2** para poder comparar el resultado con el modelo entrenado anteriormente (sin intercepto)"
   ]
  },
  {
   "cell_type": "code",
   "execution_count": 40,
   "id": "interpreted-orleans",
   "metadata": {
    "id": "j86tK68diMfD"
   },
   "outputs": [],
   "source": [
    "# Probamos nuestro modelo con predict y los datos de test\n",
    "\n",
    "y_pred_sin_inter = modelo.predict(X_test)"
   ]
  },
  {
   "cell_type": "code",
   "execution_count": 41,
   "id": "through-parish",
   "metadata": {
    "id": "ei0EFWgOiWfk"
   },
   "outputs": [
    {
     "data": {
      "text/plain": [
       "0.0026532034780353264"
      ]
     },
     "execution_count": 41,
     "metadata": {},
     "output_type": "execute_result"
    }
   ],
   "source": [
    "# Utilizamos R2 para medir la performance del modelo\n",
    "\n",
    "r2_sin_inter = r2_score(y_test, y_pred_sin_inter)\n",
    "r2_sin_inter"
   ]
  },
  {
   "cell_type": "code",
   "execution_count": 42,
   "id": "mysterious-skiing",
   "metadata": {},
   "outputs": [
    {
     "name": "stdout",
     "output_type": "stream",
     "text": [
      "El R2 del modelo con hiperparametros por default:  0.0\n",
      "El R2 del modelo con hiperparametros fit_intercept=False:  0.0\n"
     ]
    }
   ],
   "source": [
    "print(\"El R2 del modelo con hiperparametros por default: \", round(r2,2))\n",
    "print(\"El R2 del modelo con hiperparametros fit_intercept=False: \", round(r2_sin_inter,2))"
   ]
  },
  {
   "cell_type": "markdown",
   "id": "suspected-tumor",
   "metadata": {},
   "source": [
    "\n",
    "\n",
    "##### ¿Qué podríamos hacer para mejorar estos resultados?"
   ]
  }
 ],
 "metadata": {
  "colab": {
   "name": "Ejercicios optativos módulo 2.ipynb",
   "provenance": []
  },
  "kernelspec": {
   "display_name": "Python 3.9.12 ('base')",
   "language": "python",
   "name": "python3"
  },
  "language_info": {
   "codemirror_mode": {
    "name": "ipython",
    "version": 3
   },
   "file_extension": ".py",
   "mimetype": "text/x-python",
   "name": "python",
   "nbconvert_exporter": "python",
   "pygments_lexer": "ipython3",
   "version": "3.9.12"
  },
  "vscode": {
   "interpreter": {
    "hash": "499a1cf83386e9cdb50680be6c4b00d5e02a649406be4f417a406efedf754313"
   }
  }
 },
 "nbformat": 4,
 "nbformat_minor": 5
}
